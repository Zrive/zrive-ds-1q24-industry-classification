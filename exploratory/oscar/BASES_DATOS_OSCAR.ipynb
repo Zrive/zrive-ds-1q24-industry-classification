{
 "cells": [
  {
   "cell_type": "markdown",
   "metadata": {},
   "source": [
    "## **Exploratory Data Analysis**"
   ]
  },
  {
   "cell_type": "code",
   "execution_count": null,
   "metadata": {},
   "outputs": [],
   "source": [
    "data_folder = \"../../data/coverwallet\""
   ]
  },
  {
   "cell_type": "code",
   "execution_count": null,
   "metadata": {},
   "outputs": [],
   "source": [
    "import numpy as np\n",
    "import pandas as pd\n",
    "import matplotlib.pyplot as plt\n",
    "import os"
   ]
  },
  {
   "cell_type": "markdown",
   "metadata": {},
   "source": [
    "Coverwallet operates as an intermediary within the insurance sector, facilitating transactions between insurers and clients. Insurers typically require two main sets of information to determine whether to insure an individual:\n",
    "\n",
    "* Client data, encompassing identification details, economic status, employment situation, and related factors.\n",
    "\n",
    "* Industry classification of the client, delineating their business sector, such as startups, bars, or specific industries.\n",
    "\n",
    "The industry classification, often represented by a six-digit **NAICS code**, is hierarchical but notoriously intricate in its categorization. Currently, approximately 30% of clients are classified simply as \"other,\" leading to potential implications and complications in insurance coverage assessment and pricing.\n",
    "\n",
    "\n",
    "**Objective**: To develop a data product capable of classifying clients with a NAICS code based on both free-text descriptions provided by the client and existing client information.\n",
    "\n",
    "**Notes**:\n",
    "\n",
    "* We aim to minimize the number of options provided for classification but we want greater certainty in the classification process.\n",
    "\n",
    "* Primary market: United States - Free-text input in English.\n",
    "\n",
    "* It's important to consider inference; the NAICS table contains various overlaps and complexities. Some industries may share similarities in their codes, while others may not. For example, medical-related entities could be associated with both manufacturing and healthcare sectors."
   ]
  },
  {
   "cell_type": "markdown",
   "metadata": {},
   "source": [
    "## NAICS information"
   ]
  },
  {
   "cell_type": "markdown",
   "metadata": {},
   "source": [
    "The North American Industry Classification System (NAICS) is the standard used by Federal statistical agencies in classifying business establishments for the purpose of collecting, analyzing, and publishing statistical data related to the U.S. business economy.\n",
    "\n",
    "**WHY NAICS?** \n",
    "\n",
    "They are frequently utilized by institutions that offer services to other businesses such as the ability to obtain small business loans from financial institutions. However, lenders don't solely rely on NAICS codes when assessing loan applications. They also take into account various other factors:\n",
    "\n",
    "1. The risks associated with the specific services offered by the company, such as risks to employees, equipment, and consumers.\n",
    "\n",
    "2. The historical, current, and projected future state of the industry to which the company belongs.\n",
    "\n",
    "3. The typical business models employed by companies within a particular industry.\n",
    "\n",
    "**NAICS STRUCTURE**\n",
    "\n",
    "\n",
    "Each number in an NAICS code has a different meaning. The numbering system works as follows:\n",
    "\n",
    "* The first and second numbers designate the economic sector a company operates in : 20 different sectors\n",
    "\n",
    "| Sector | Definition                                                   |\n",
    "|--------|--------------------------------------------------------------|\n",
    "| 11     | Agriculture, Forestry, Fishing and Hunting                   |\n",
    "| 21     | Mining, Quarrying, and Oil and Gas Extraction                |\n",
    "| 22     | Utilities                                                    |\n",
    "| 23     | Construction                                                 |\n",
    "| 31-33  | Manufacturing                                               |\n",
    "| 42     | Wholesale Trade                                              |\n",
    "| 44-45  | Retail Trade                                                 |\n",
    "| 48-49  | Transportation and Warehousing                               |\n",
    "| 51     | Information                                                  |\n",
    "| 52     | Finance and Insurance                                        |\n",
    "| 53     | Real Estate and Rental and Leasing                           |\n",
    "| 54     | Professional, Scientific, and Technical Services             |\n",
    "| 55     | Management of Companies and Enterprises                      |\n",
    "| 56     | Administrative and Support and Waste Management and Remediation Services |\n",
    "| 61     | Educational Services                                         |\n",
    "| 62     | Health Care and Social Assistance                            |\n",
    "| 71     | Arts, Entertainment, and Recreation                          |\n",
    "| 72     | Accommodation and Food Services                              |\n",
    "| 81     | Other Services (except Public Administration)                |\n",
    "| 92     | Public Administration                                        |\n",
    "\n",
    "\n",
    "\n",
    "* The third number designates the sub-sector of the company\n",
    "* The fourth indicates the industry group the company belongs to\n",
    "* The fifth identifies the specific industry of the company\n",
    "* The sixth number identifies the national industry the company belongs to\n",
    "\n",
    "**IMPORTANT ISSUES**  https://www.naics.com/search/\n",
    "\n",
    "* Can a business have more than one NAICS code? Yes, U.S. Census Bureau assigns and maintains only one NAICS code for each establishment based on its primary activity (most revenue one for the establishment).However, other agencies assign more than one NAICS codes to one establishment.\n",
    "\n",
    "* Do NAICS codes change over time? Yes, they are reviewed every five years (in the years ending in 2 and 7). Latest version: 2022\n",
    "\n",
    "* How can I determinate the correct NAICS code for my business? https://www.naics.com/search/"
   ]
  },
  {
   "cell_type": "markdown",
   "metadata": {},
   "source": [
    "## Data provided : Kodiak\n",
    "\n",
    "https://naics.askkodiak.com/naics/2022"
   ]
  },
  {
   "cell_type": "code",
   "execution_count": null,
   "metadata": {},
   "outputs": [],
   "source": [
    "data_kodiak_path = os.path.join(data_folder, \"subsectors_description_Kodiak.csv\")\n",
    "\n",
    "data_kodiak = pd.read_csv(data_kodiak_path)\n",
    "\n",
    "data_kodiak.head()"
   ]
  },
  {
   "cell_type": "markdown",
   "metadata": {},
   "source": [
    "## Data provided : SBA dataset\n",
    "\n",
    "**Dataset information**"
   ]
  },
  {
   "cell_type": "code",
   "execution_count": null,
   "metadata": {},
   "outputs": [],
   "source": [
    "data_sba_path = os.path.join(data_folder,\"sba_dataset.csv\")\n",
    "\n",
    "data_sba = pd.read_csv(data_sba_path)\n",
    "\n",
    "data_sba.head()"
   ]
  },
  {
   "cell_type": "markdown",
   "metadata": {},
   "source": [
    "Insights about data:\n",
    "\n",
    "* Each sector has more than 6 NAICS codes, many of which do not align within the same sector.\n",
    "\n",
    "* The first of these, TALTON COMMUNICATIONS INC, is a mobile company associated with sectors 23 (Construction), 33 (Manufacturing), and 51 (Information)."
   ]
  },
  {
   "cell_type": "code",
   "execution_count": null,
   "metadata": {},
   "outputs": [],
   "source": [
    "data_sba.info()"
   ]
  },
  {
   "cell_type": "code",
   "execution_count": null,
   "metadata": {},
   "outputs": [],
   "source": [
    "def assess_NA(data):\n",
    "\n",
    "    null_sum = data.isnull().sum()\n",
    "    total = null_sum.sort_values(ascending=False)\n",
    "    percent = ( ((null_sum / len(data.index))*100).round(2) ).sort_values(ascending=False)\n",
    "    \n",
    "    df_NA = pd.concat([total, percent], axis=1, sort=True, keys=['Number of NA', 'Percent NA'])\n",
    "\n",
    "    return df_NA\n",
    "\n",
    "\n",
    "nans = assess_NA(data_sba)\n",
    "print(nans)"
   ]
  },
  {
   "cell_type": "markdown",
   "metadata": {},
   "source": [
    "Insights:\n",
    "\n",
    "* Some columns have a high proportion of missing data such as EXPORT_BUSINESS_ACTIVITIES, EXPORT_BUSINESS_RELATIONSHIPS, EXPORT_COUNTRIES, QUALITY_ASSURANCE_STANDARDS, and SPECIAL_EQUIPMENT_MATERIALS. We can't remove them a priori beacuse exporting companies may be subject to specific regulations or may operate in industries distinct from non-exporting companies.Variables such as QUALITY_ASSURANCE_STANDARDS and SPECIAL_EQUIPMENT_MATERIALS could be important indicators of the nature and focus of the business. Maybe companies that adhere to high-quality standars or require specialized equipment may operate in specific sectors reflected in their NAICS classification.\n",
    "\n",
    "\n",
    "* Columns like DESCRIPTION_KEYWORDS and DESCRIPTION_OF_OPERATIONS contain textual descriptions that could contain valuable information for predicting NAICS codes. \n",
    "\n",
    "* Variables such as BUSINESS_OPT_TYPE, LEGAL_STRUCTURE, and WEBPAGE\n",
    "\n",
    "* Columns like CONTACT, EMAIL_ADDRESS, PHONE_NUMBER could provide additional information about the company or individual, which could be relevant for predicting NAICS codes.\n",
    "\n",
    "* The year of establishment (YEAR_ESTABLISHED) can provide information about the longevity and experience of the company"
   ]
  },
  {
   "cell_type": "markdown",
   "metadata": {},
   "source": [
    "**NAICS**"
   ]
  },
  {
   "cell_type": "code",
   "execution_count": null,
   "metadata": {},
   "outputs": [],
   "source": [
    "def extract_list_NAICS(naics_codes):\n",
    "    naics_list = str(naics_codes).split(\",\") \n",
    "    naics_list = [naics.strip() for naics in naics_list]\n",
    "    \n",
    "    return naics_list\n",
    "\n",
    "naics_counts_per_row = data_sba['NAICS'].apply(extract_list_NAICS).apply(lambda x: len(set(x)))\n",
    "\n",
    "naics_counts = naics_counts_per_row.value_counts().sort_index()"
   ]
  },
  {
   "cell_type": "code",
   "execution_count": null,
   "metadata": {},
   "outputs": [],
   "source": [
    "def extract_first_two_digits(naics_codes):\n",
    "    naics_list = str(naics_codes).split(\",\")\n",
    "    first_two_digits = [naics.strip()[:2] for naics in naics_list]\n",
    "    return first_two_digits\n",
    "\n",
    "def extract_first_three_digits(naics_codes):\n",
    "    naics_list = str(naics_codes).split(\",\")\n",
    "    first_three_digits = [naics.strip()[:3] for naics in naics_list]\n",
    "    return first_three_digits\n",
    "\n",
    "# Two digits\n",
    "data_sba['First_Two_Digits_NAICS'] = data_sba['NAICS'].apply(extract_first_two_digits)\n",
    "distinct_naics_counts_per_row_two_digits = data_sba['First_Two_Digits_NAICS'].apply(lambda x: len(set(x)))\n",
    "distinct_naics_counts_two_digits = distinct_naics_counts_per_row_two_digits.value_counts().sort_index()\n",
    "\n",
    "# Three digits\n",
    "data_sba['First_Three_Digits_NAICS'] = data_sba['NAICS'].apply(extract_first_three_digits)\n",
    "distinct_naics_counts_per_row_three_digits = data_sba['First_Three_Digits_NAICS'].apply(lambda x: len(set(x)))\n",
    "distinct_naics_counts_three_digits = distinct_naics_counts_per_row_three_digits.value_counts().sort_index()\n",
    "\n",
    "fig, axs = plt.subplots(3, 1, figsize=(12, 12))\n",
    "\n",
    "axs[0].bar(naics_counts.index, naics_counts.values)\n",
    "axs[0].set_xlabel('Number of Distinct NAICS per Row')\n",
    "axs[0].set_ylabel('Frequency')\n",
    "axs[0].set_title('Frequency of Distinct Number of NAICS per Row')\n",
    "axs[0].set_xlim(left=0, right=10)\n",
    "\n",
    "axs[1].bar(distinct_naics_counts_two_digits.index, distinct_naics_counts_two_digits.values)\n",
    "axs[1].set_xlabel('Number of Distinct NAICS by Sector')\n",
    "axs[1].set_ylabel('Frequency')\n",
    "axs[1].set_title('Frequency of Distinct NAICS by Sector')\n",
    "axs[1].set_xlim(left=0, right=10)\n",
    "\n",
    "axs[2].bar(distinct_naics_counts_three_digits.index, distinct_naics_counts_three_digits.values)\n",
    "axs[2].set_xlabel('Number of Distinct NAICS by 3 first digits')\n",
    "axs[2].set_ylabel('Frequency')\n",
    "axs[2].set_title('Frequency of Distinct NAICS by 3 first digits')\n",
    "axs[2].set_xlim(left=0, right=10)\n",
    "\n",
    "plt.tight_layout()\n",
    "plt.show()"
   ]
  },
  {
   "cell_type": "code",
   "execution_count": null,
   "metadata": {},
   "outputs": [],
   "source": [
    "df_naics_counts = pd.DataFrame({'Number of Distintct NAICS by sector per Row': distinct_naics_counts_two_digits.index[:10], \n",
    "                                'Frequency for six digits' : naics_counts.values[:10],\n",
    "                                'Frequency for two digits': distinct_naics_counts_two_digits.values[:10]\n",
    "                                , 'Frequency for three digits' : distinct_naics_counts_three_digits.values[:10]})\n",
    "\n",
    "df_naics_counts"
   ]
  },
  {
   "cell_type": "markdown",
   "metadata": {},
   "source": [
    "Insights:\n",
    "\n",
    "* The majority of rows have a small number of NAICS codes associated with them. Around 25755 rows have only one NAICS code.\n",
    "\n",
    "* As the number of NAICS codes per row increases, the frequency decreases gradually. For example, there are 10,274 rows with two NAICS codes, 6,880 rows with three NAICS codes, and so on.\n",
    "\n",
    "* The frequency of rows with a high number of NAICS codes (e.g., more than 10) decreases significantly. For instance, there are only 85 rows with 28 NAICS codes, indicating that most businesses are associated with a limited number of industries.\n",
    "\n",
    "* The majority of examples, comprising 38624 instances, are associated with only one distinct sector code per row, and the majority of them are associated with only one 3-digit NAICS code, specifically 34351.\n",
    "\n",
    "**Would it be sufficient to work with these 34351 NAICS codes that present a unique three-digit code?** Let's study this case!"
   ]
  },
  {
   "cell_type": "markdown",
   "metadata": {},
   "source": [
    "## **New Dataset : SBA dataset with only rows with a unique 3-digit code**"
   ]
  },
  {
   "cell_type": "code",
   "execution_count": null,
   "metadata": {},
   "outputs": [],
   "source": [
    "filtered_data_by_unique_3digits_code = data_sba[data_sba['First_Three_Digits_NAICS'].apply(lambda x: len(set(x)) == 1)]\n",
    "\n",
    "filtered_data_by_unique_3digits_code.loc[:,'First_Three_Digits_NAICS'] = filtered_data_by_unique_3digits_code.loc[:,'First_Three_Digits_NAICS'].apply(lambda x : x[0])\n",
    "filtered_data_by_unique_3digits_code.loc[:,'First_Two_Digits_NAICS'] = filtered_data_by_unique_3digits_code.loc[:,'First_Two_Digits_NAICS'].apply(lambda x : x[0])"
   ]
  },
  {
   "cell_type": "code",
   "execution_count": null,
   "metadata": {},
   "outputs": [],
   "source": [
    "filtered_data_by_unique_3digits_code.info()"
   ]
  },
  {
   "cell_type": "markdown",
   "metadata": {},
   "source": [
    "**Problem** : Out of 35,000 existing examples, there are only 8,472 non-null instances in the column 'DESCRIPTION_KEYWORDS' and 5,553 non-null instances in the column 'DESCRIPTION_OF_OPERATIONS'. This significantly reduces the amount of available client data.\n",
    "\n",
    "**Possible Solutions**:\n",
    "\n",
    "* Data Augmentation: Augmenting existing data by generating synthetic examples based on the available text data. Techniques like text synthesis, paraphrasing, or adding noise can help increase the dataset size.\n",
    "\n",
    "* Transfer Learning: Utilizing pre-trained language models (e.g., BERT, GPT) that have been trained on large corpora of text data. Fine-tuning these models on the available data can help improve performance, even with a limited amount of data.\n",
    "\n",
    "* Semi-Supervised Learning: Incorporating unlabeled data along with the labeled data to train the model. Techniques such as self-training or co-training can be used to leverage the additional unlabeled data for improving model performance.\n",
    "\n",
    "* Feature Engineering: Extracting additional features from the available text data that might provide useful information for predicting NAICS codes. This could include linguistic features, topic modeling, or domain-specific features."
   ]
  },
  {
   "cell_type": "markdown",
   "metadata": {},
   "source": [
    "**OTHERS**"
   ]
  },
  {
   "cell_type": "code",
   "execution_count": null,
   "metadata": {},
   "outputs": [],
   "source": [
    "unique_sectors_per_row = data_sba['First_Two_Digits_NAICS'].apply(lambda x: list(set(x)))\n",
    "\n",
    "flat_list = [item for sublist in unique_sectors_per_row for item in sublist]\n",
    "\n",
    "frequency_count = pd.Series(flat_list).value_counts().sort_values(ascending=False)\n",
    "\n",
    "plt.bar(frequency_count.index, frequency_count.values)\n",
    "\n",
    "plt.xlabel('Sector')\n",
    "plt.ylabel('Frequency')\n",
    "plt.title('Frequency of Sectors in Dataset')\n",
    "\n",
    "plt.show()\n"
   ]
  },
  {
   "cell_type": "markdown",
   "metadata": {},
   "source": [
    "* The most common sectors in the dataset are 54, 23, and 56, with approximately 20,000, 15,000, and a significant number of occurrences respectively.\n",
    "\n",
    "* Sector 54, representing professional, scientific, and technical services, stands out as the most prevalent in the dataset, indicating a strong presence of businesses in fields such as consulting, legal services, accounting, and information technology.\n",
    "\n",
    "* Construction, represented by sector 23, is also prominent in the dataset, suggesting significant activity in construction and development projects.\n",
    "\n",
    "* Sector 56, encompassing administrative and support services as well as waste management and environmental remediation, closely follows the construction sector in terms of frequency, indicating a notable presence of companies engaged in business services and environmental management."
   ]
  },
  {
   "cell_type": "code",
   "execution_count": null,
   "metadata": {},
   "outputs": [],
   "source": [
    "def plot_sector_frequency(data_sba, column_name, color):\n",
    "\n",
    "    filtered_data = data_sba.dropna(subset=[column_name])\n",
    "\n",
    "\n",
    "    unique_sectors_per_row = filtered_data['First_Two_Digits_NAICS'].apply(lambda x: list(set(x)))\n",
    "\n",
    "\n",
    "    flat_list = [item for sublist in unique_sectors_per_row for item in sublist]\n",
    "\n",
    "\n",
    "    frequency_count = pd.Series(flat_list).value_counts().sort_values(ascending=False)\n",
    "\n",
    "\n",
    "    plt.figure(figsize=(10, 6))\n",
    "    plt.bar(frequency_count.index, frequency_count.values, color=color)\n",
    "    plt.xlabel('Sector')\n",
    "    plt.ylabel('Frequency')\n",
    "    plt.title(f'Frequency of Sectors in Rows with Non-null Values ({column_name})')\n",
    "    plt.show()\n",
    "\n",
    "\n",
    "plot_sector_frequency(data_sba, 'EXPORT_BUSINESS_ACTIVITIES', 'skyblue')\n",
    "plot_sector_frequency(data_sba, 'EXPORT_BUSINESS_RELATIONSHIPS', 'salmon')\n",
    "plot_sector_frequency(data_sba, 'EXPORT_COUNTRIES', 'lightgreen')\n"
   ]
  },
  {
   "cell_type": "markdown",
   "metadata": {},
   "source": [
    "## **Data provided : SBS dataset** (2017)"
   ]
  },
  {
   "cell_type": "markdown",
   "metadata": {},
   "source": [
    "**Important** : This dataset APPARENTLY includes 2017 NAICS and does not include the changes in the NAICS coding that were implemented in 2022. However, using the 2022 database, we can observe these changes and apply them retroactively to the 2017 dataset."
   ]
  },
  {
   "cell_type": "code",
   "execution_count": null,
   "metadata": {},
   "outputs": [],
   "source": [
    "data_changes_NAICS_2017_2022_path = os.path.join(data_folder, \"2022-2017-NAICS-Code-Concordance-1.csv\")\n",
    "\n",
    "data_changes_NAICS_2017_2022 = pd.read_csv(data_changes_NAICS_2017_2022_path, delimiter = ';', encoding='utf-8')\n",
    "\n",
    "data_changes_NAICS_2017_2022.head()\n",
    "\n",
    "data_changes_NAICS_2017_2022 = data_changes_NAICS_2017_2022.dropna()"
   ]
  },
  {
   "cell_type": "markdown",
   "metadata": {},
   "source": [
    "Let's study the important changes between the NAICS codes!"
   ]
  },
  {
   "cell_type": "code",
   "execution_count": null,
   "metadata": {},
   "outputs": [],
   "source": [
    "data_changes_NAICS_2017_2022 = data_changes_NAICS_2017_2022[data_changes_NAICS_2017_2022.loc[:, 'Change to 2017 Code'] != \"No Change\"]\n",
    "data_changes_NAICS_2017_2022.info()"
   ]
  },
  {
   "cell_type": "code",
   "execution_count": null,
   "metadata": {},
   "outputs": [],
   "source": [
    "data_changes_NAICS_2017_2022[\"2022 NAICS Code\"] = data_changes_NAICS_2017_2022[\"2022 NAICS Code\"].astype(int).astype(str)"
   ]
  },
  {
   "cell_type": "markdown",
   "metadata": {},
   "source": [
    "Do NAICS codes change with very high granularity, or are there also changes in NAICS at the 2-3 digit level?"
   ]
  },
  {
   "cell_type": "code",
   "execution_count": null,
   "metadata": {},
   "outputs": [],
   "source": [
    "data_changes_NAICS_2017_2022_3first_digits_or_less = data_changes_NAICS_2017_2022[data_changes_NAICS_2017_2022[\"2022 NAICS Code\"].apply(lambda x: x[0:3])                                                                              != data_changes_NAICS_2017_2022[\"2017 NAICS Code\"].apply(lambda x: x[0:3])]"
   ]
  },
  {
   "cell_type": "code",
   "execution_count": null,
   "metadata": {},
   "outputs": [],
   "source": [
    "data_changes_NAICS_2017_2022_3first_digits_or_less.info()"
   ]
  },
  {
   "cell_type": "markdown",
   "metadata": {},
   "source": [
    "**Insights:** A total of 139 NAICS codes have undergone changes to their initial three-digit codes between 2017 and 2022. Let's explore this further!"
   ]
  },
  {
   "cell_type": "markdown",
   "metadata": {},
   "source": [
    "We create a single dataset containing unique changes from 2017 to 2022 for three-digit codes."
   ]
  },
  {
   "cell_type": "code",
   "execution_count": null,
   "metadata": {},
   "outputs": [],
   "source": [
    "changes_NAICS = data_changes_NAICS_2017_2022_3first_digits_or_less[[\"2022 NAICS Code\", \"2017 NAICS Code\"]].drop_duplicates()\n",
    "changes_NAICS = changes_NAICS.rename(columns={\"2022 NAICS Code\": \"2022_NAICS_Code\", \"2017 NAICS Code\": \"2017_NAICS_Code\"})\n",
    "changes_NAICS.head()"
   ]
  },
  {
   "cell_type": "markdown",
   "metadata": {},
   "source": [
    "**Insights** : Given the likelihood of needing to merge the 2017 dataset with the 2022 dataset, the aforementioned table could prove highly valuable for implementing changes to NAICS codes that alter their initial three digits."
   ]
  },
  {
   "cell_type": "code",
   "execution_count": null,
   "metadata": {},
   "outputs": [],
   "source": [
    "data_sbs_path = os.path.join(data_folder, \"SBS_Certified_Business_List.csv\")\n",
    "\n",
    "data_sbs = pd.read_csv(data_sbs_path)"
   ]
  },
  {
   "cell_type": "markdown",
   "metadata": {},
   "source": [
    "**INFORMATION**"
   ]
  },
  {
   "cell_type": "markdown",
   "metadata": {},
   "source": [
    "Creation of the dataset : 06/07/2023 !!!!!!!!!!!\n",
    "\n",
    "| Column Name                               | Description                                                       |\n",
    "|-------------------------------------------|-------------------------------------------------------------------|\n",
    "| Account_Number                            | Vendor Number                                                     |\n",
    "| Vendor_Formal_Name                        | Formal Name of the Company                                        |\n",
    "| Vendor_DBA                                | Name the Company goes by                                          |\n",
    "| First_Name                                | First Name of the Company's Contact Person                        |\n",
    "| Last_Name                                 | Last Name of the Company's Contact Person                         |\n",
    "| telephone                                 | Telephone Number                                                  |\n",
    "| Email                                     | Email Address                                                     |\n",
    "| Business_Description                      | A brief description of the type of service provided               |\n",
    "| certification                             | Type of Certification the company qualified for                   |\n",
    "| Certification_Renewal_Date                | Date on which certification was renewed                           |\n",
    "| Ethnicity                                 | Ethnicity of the Company owner(s)                                 |\n",
    "| Address_Line_1                            | Company Address                                                   |\n",
    "| Address_Line_2                            | Company Address                                                   |\n",
    "| City                                      | City in which Company is located                                  |\n",
    "| State                                     | State in which Company is located                                 |\n",
    "| ZIP                                       | ZIP code                                                          |\n",
    "| Mailing_Address_Line_1                   | Company mailing address                                           |\n",
    "| Mailing_Address_Line_2                   | Company mailing address2                                          |\n",
    "| Mailing_City                             | City                                                              |\n",
    "| Mailing_State                            | State                                                             |\n",
    "| Mailing_Zip                              | ZIP code                                                          |\n",
    "| Website                                  | Company Website                                                   |\n",
    "| Date_Of_Establishment                    | Date the Company was Established                                  |\n",
    "| Aggregate_Bonding_Limit                  | Bonding Limit                                                     |\n",
    "| Signatory_to_Union_Contract_s_           | Signatory to Union contracts                                      |\n",
    "| ID6_digit_NAICS_code                     | North American Industry Classification System (NAICS) Code        |\n",
    "| NAICS_Sector                             | NAICS sector (Industry)                                           |\n",
    "| NAICS_Subsector                          | NAICS Subsector                                                   |\n",
    "| NAICS_Title                              | Type of Business                                                  |\n",
    "| Types_of_Construction_Projects_Performed | Type of jobs performed in the construction industry               |\n",
    "| NIGP_codes                               | National Institute of Governmental Purchasing (NIGP) Codes        |\n",
    "| Name_of_Client___Job_Exp_1               | The Business the vendor is working for                            |\n",
    "| Largest_Value_of_Contract                | Value (in dollars) of the contract                                |\n",
    "| Percent_Self_Performed___Job_Exp_1       | Percent of the job performed by the vendor                        |\n",
    "| Date_of_Work___Job_Exp_1                 | Date the work was done                                            |\n",
    "| Description_of_Work___Job_Exp_1          | Description of the work done                                      |\n",
    "| Name_of_Client___Job_Exp_2               | Name of second business the vendor is working for                 |\n",
    "| Value_of_Contract___Job_Exp_2            | Value (in dollars) of the contract                                |\n",
    "| Percent_Self_Performed___Job_Exp_2       | Percent of the job performed by the vendor                        |\n",
    "| Date_of_Work___Job_Exp_2                 | Date the work was done                                            |\n",
    "| Description_of_Work___Job_Exp_2          | Description of the work done                                      |\n",
    "| Name_of_Client___Job_Exp_3               | Name of third business the vendor is working for                  |\n",
    "| Value_of_Contract___Job_Exp_3            | Value (in dollars) of the contract                                |\n",
    "| Percent_Self_Performed___Job_Exp_3       | Percent of the job performed by the vendor                        |\n",
    "| Date_of_Work___Job_Exp_3                 | Date the work was done                                            |\n",
    "| Description_of_Work___Job_Exp_3          | Description of the work done                                      |\n",
    "| Capacity_Building_Programs               |                                                                     |\n",
    "| Enrolled_in_PASSPort                     | Enrollment in the NYC's Procurement and Sourcing Solutions Portal |"
   ]
  },
  {
   "cell_type": "code",
   "execution_count": null,
   "metadata": {},
   "outputs": [],
   "source": [
    "data_sbs.head()"
   ]
  },
  {
   "cell_type": "code",
   "execution_count": null,
   "metadata": {},
   "outputs": [],
   "source": [
    "data_sbs.info()"
   ]
  },
  {
   "cell_type": "code",
   "execution_count": null,
   "metadata": {},
   "outputs": [],
   "source": [
    "data_sbs['ID6_digit_NAICS_code'].head()"
   ]
  },
  {
   "cell_type": "markdown",
   "metadata": {},
   "source": [
    "**Insights**: One unique NAICS code per example, which is an improvement over the previous dataset where most examples had multiple NAICS codes."
   ]
  }
 ],
 "metadata": {
  "kernelspec": {
   "display_name": "Python 3",
   "language": "python",
   "name": "python3"
  },
  "language_info": {
   "codemirror_mode": {
    "name": "ipython",
    "version": 3
   },
   "file_extension": ".py",
   "mimetype": "text/x-python",
   "name": "python",
   "nbconvert_exporter": "python",
   "pygments_lexer": "ipython3",
   "version": "3.11.0"
  }
 },
 "nbformat": 4,
 "nbformat_minor": 2
}
