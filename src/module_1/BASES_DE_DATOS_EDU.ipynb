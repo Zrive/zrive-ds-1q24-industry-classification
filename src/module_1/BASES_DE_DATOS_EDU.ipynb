{
 "cells": [
  {
   "cell_type": "markdown",
   "metadata": {},
   "source": [
    "## VAMOS A PROBAR ESTE DATASET DE GIT QUE HE ENCONTRADO: \n"
   ]
  },
  {
   "cell_type": "code",
   "execution_count": 29,
   "metadata": {},
   "outputs": [
    {
     "name": "stderr",
     "output_type": "stream",
     "text": [
      "2024-04-02 21:55:46,415 - INFO - First row data:\n",
      "2024-04-02 21:55:46,416 - INFO - Account_Number: 311147\n",
      "2024-04-02 21:55:46,418 - INFO - Vendor_Formal_Name: #1Pho Inc\n",
      "2024-04-02 21:55:46,421 - INFO - Vendor_DBA: Zenyai\n",
      "2024-04-02 21:55:46,423 - INFO - First_Name: Albert\n",
      "2024-04-02 21:55:46,424 - INFO - Last_Name: Jethanamest\n",
      "2024-04-02 21:55:46,426 - INFO - telephone: 6463879761\n",
      "2024-04-02 21:55:46,427 - INFO - Business_Description: Zenyai Viet Cajun & Pho Restaurant is dedicated to offering real Vietnamese flavor through distinct seafood boils and pho noodle dishes.\n",
      "2024-04-02 21:55:46,429 - INFO - Certification: MBE\n",
      "2024-04-02 21:55:46,432 - INFO - Certification_Renewal_Date: 10/31/2025\n",
      "2024-04-02 21:55:46,433 - INFO - Ethnicity: ASIAN\n",
      "2024-04-02 21:55:46,436 - INFO - Address_Line_1: 208 Grand Street\n",
      "2024-04-02 21:55:46,439 - INFO - Address_Line_2: nan\n",
      "2024-04-02 21:55:46,443 - INFO - City: Brooklyn\n",
      "2024-04-02 21:55:46,444 - INFO - State: NY\n",
      "2024-04-02 21:55:46,447 - INFO - Postcode: 11211.0\n",
      "2024-04-02 21:55:46,449 - INFO - Mailing_Address_Line_1: 208 Grand Street\n",
      "2024-04-02 21:55:46,452 - INFO - Mailing_Address_Line_2: nan\n",
      "2024-04-02 21:55:46,456 - INFO - Mailing_City: Brooklyn\n",
      "2024-04-02 21:55:46,470 - INFO - Mailing_State: New York\n",
      "2024-04-02 21:55:46,473 - INFO - Mailing_Zip: 11211\n",
      "2024-04-02 21:55:46,475 - INFO - Website: http://Zenyainyc.com\n",
      "2024-04-02 21:55:46,477 - INFO - Date_Of_Establishment: 06/15/2019\n",
      "2024-04-02 21:55:46,479 - INFO - Aggregate_Bonding_Limit: nan\n",
      "2024-04-02 21:55:46,481 - INFO - Signatory_To_Union_Contracts: nan\n",
      "2024-04-02 21:55:46,484 - INFO - ID6_digit_NAICS_code: 722511\n",
      "2024-04-02 21:55:46,487 - INFO - NAICS_Sector: Accommodation and Food Services\n",
      "2024-04-02 21:55:46,491 - INFO - NAICS_Subsector: Restaurants and Other Eating Places\n",
      "2024-04-02 21:55:46,493 - INFO - NAICS_Title: Full-Service Restaurants\n",
      "2024-04-02 21:55:46,495 - INFO - Types_of_Construction_Projects_Performed: nan\n",
      "2024-04-02 21:55:46,497 - INFO - NIGP_codes: 37003\n",
      "2024-04-02 21:55:46,499 - INFO - Name_of_Client_Job_Exp_1: Rethink\n",
      "2024-04-02 21:55:46,501 - INFO - Largest_Value_of_Contract: 50000.0\n",
      "2024-04-02 21:55:46,504 - INFO - Percent_Self_Performed_Job_Exp_1: 100.0\n",
      "2024-04-02 21:55:46,507 - INFO - Date_of_Work_Job_Exp_1: 04/01/2020\n",
      "2024-04-02 21:55:46,510 - INFO - Description_of_Work_Job_Exp_1: Produce Meals for low income and elderly\n",
      "2024-04-02 21:55:46,524 - INFO - Name_of_Client_Job_Exp_2: nan\n",
      "2024-04-02 21:55:46,526 - INFO - Value_of_Contract_Job_Exp_2: nan\n",
      "2024-04-02 21:55:46,529 - INFO - Percent_Self_Performed_Job_Exp_2: nan\n",
      "2024-04-02 21:55:46,531 - INFO - Date_of_Work_Job_Exp_2: nan\n",
      "2024-04-02 21:55:46,533 - INFO - Description_of_Work_Job_Exp_2: nan\n",
      "2024-04-02 21:55:46,537 - INFO - Name_of_Client_Job_Exp_3: nan\n",
      "2024-04-02 21:55:46,539 - INFO - Value_of_Contract_Job_Exp_3: nan\n",
      "2024-04-02 21:55:46,541 - INFO - Percent_Self_Performed_Job_Exp_3: nan\n",
      "2024-04-02 21:55:46,543 - INFO - Date_of_Work_Job_Exp_3: nan\n",
      "2024-04-02 21:55:46,545 - INFO - Description_of_Work_Job_Exp_3: nan\n",
      "2024-04-02 21:55:46,547 - INFO - Capacity_Building_Programs: nan\n",
      "2024-04-02 21:55:46,548 - INFO - Enrolled_in_PASSPort: Yes\n",
      "2024-04-02 21:55:46,550 - INFO - Borough: BROOKLYN\n",
      "2024-04-02 21:55:46,553 - INFO - Latitude: 40.714065\n",
      "2024-04-02 21:55:46,562 - INFO - Longitude: -73.960252\n",
      "2024-04-02 21:55:46,563 - INFO - Community Board: 301.0\n",
      "2024-04-02 21:55:46,565 - INFO - Council District: 34.0\n",
      "2024-04-02 21:55:46,567 - INFO - BIN: 3397699.0\n",
      "2024-04-02 21:55:46,569 - INFO - BBL: 3023937502.0\n",
      "2024-04-02 21:55:46,571 - INFO - Census Tract (2020): 551.0\n",
      "2024-04-02 21:55:46,572 - INFO - Neighborhood Tabulation Area (NTA) (2020): BK0102\n"
     ]
    },
    {
     "name": "stdout",
     "output_type": "stream",
     "text": [
      "(11430, 56)\n"
     ]
    }
   ],
   "source": [
    "import pandas as pd\n",
    "import logging\n",
    "import numpy as np\n",
    "logging.basicConfig(level=logging.INFO, format='%(asctime)s - %(levelname)s - %(message)s')\n",
    "\n",
    "route = '../data/SBS_Certified_Business_List.csv'  \n",
    "\n",
    "try:\n",
    "    df = pd.read_csv(route)\n",
    "    first_row = df.iloc[0].to_dict()\n",
    "    logging.info(\"First row data:\")\n",
    "    for columna, valor in first_row.items():\n",
    "        logging.info(f\"{columna}: {valor}\")\n",
    "except Exception as e:\n",
    "    logging.error(\"Error loading csv: %s\", e)\n",
    "    \n",
    "print(df.shape)\n",
    "\n"
   ]
  },
  {
   "cell_type": "markdown",
   "metadata": {},
   "source": [
    "LET'S MAKE SOME ANALYSIS OF THE DATASET TO UNDERSTAND IT BETTER:\n",
    "\n",
    "Firstly, let's clarify that we are carrying this project as a classification problem; where we are going to procced classifying each digit of the NAICS code one by one.\n",
    "\n",
    "First digit of the NAICS code: Represents the general economic sector.\n",
    "Second digit: Provides subsector information within the economic sector.\n",
    "Third digit: Gives more details on the subsector's subdivision.\n",
    "Fourth digit: Indicates the group industry.\n",
    "Fifth digit: Offers even more specific information, often related to the national industry.\n",
    "Sixth digit: Used for more detailed and specific classifications within a national industry, although not all countries use the sixth digit.\n",
    "\n",
    "\n",
    "This approach results in a separate classification problem for each of the six digits of the NAICS code."
   ]
  },
  {
   "cell_type": "markdown",
   "metadata": {},
   "source": [
    "Before starting to solve any datset trade-offs, let's see how are the bussinesses on it:"
   ]
  },
  {
   "cell_type": "code",
   "execution_count": 41,
   "metadata": {},
   "outputs": [
    {
     "name": "stderr",
     "output_type": "stream",
     "text": [
      "2024-04-03 09:55:17,203 - INFO - Number of unique NAICS codes: 588\n",
      "2024-04-03 09:55:17,208 - INFO - Top 5 most repeated NAICS codes and their counts:\n",
      "2024-04-03 09:55:17,209 - INFO - NAICS code 541990 is repeated 534 times.\n",
      "2024-04-03 09:55:17,210 - INFO - NAICS code 541310 is repeated 363 times.\n",
      "2024-04-03 09:55:17,211 - INFO - NAICS code 541330 is repeated 348 times.\n",
      "2024-04-03 09:55:17,211 - INFO - NAICS code 238990 is repeated 339 times.\n",
      "2024-04-03 09:55:17,212 - INFO - NAICS code 611710 is repeated 337 times.\n",
      "2024-04-03 09:55:17,213 - INFO - NAICS code 325510 is repeated 1 time.\n",
      "2024-04-03 09:55:17,213 - INFO - NAICS code 524114 is repeated 1 time.\n",
      "2024-04-03 09:55:17,214 - INFO - NAICS code 812332 is repeated 1 time.\n",
      "2024-04-03 09:55:17,215 - INFO - NAICS code 522320 is repeated 1 time.\n",
      "2024-04-03 09:55:17,216 - INFO - NAICS code 455110 is repeated 1 time.\n"
     ]
    }
   ],
   "source": [
    "try:\n",
    "    unique_naics_count = df['ID6_digit_NAICS_code'].nunique()\n",
    "    logging.info(f\"Number of unique NAICS codes: {unique_naics_count}\")\n",
    "\n",
    "    top_5_repeated_naics = df['ID6_digit_NAICS_code'].value_counts().head(5)\n",
    "    top_5_less_repeated_naics = df['ID6_digit_NAICS_code'].value_counts().tail(5)\n",
    "    logging.info(\"Top 5 most repeated NAICS codes and their counts:\")\n",
    "    for code, count in top_5_repeated_naics.items():\n",
    "        logging.info(f\"NAICS code {code} is repeated {count} times.\")\n",
    "    for code, count in top_5_less_repeated_naics.items():\n",
    "        logging.info(f\"NAICS code {code} is repeated {count} time.\")\n",
    "\n",
    "except KeyError as e:\n",
    "    logging.error(f\"Column not found in DataFrame: {e}\")\n",
    "except Exception as e:\n",
    "    logging.error(f\"An unexpected error occurred during the analysis: {e}\")"
   ]
  },
  {
   "cell_type": "markdown",
   "metadata": {},
   "source": [
    "As of the latest revision, the American NAICS system defines approximately 1,057 distinct 6-digit codes. As we can see, in this dataset we have only defined 588 different NAICS codes. \n",
    "The range of NAICS codes in our dataset is influenced by the timing of data collection, reflecting economic conditions and industry relevance at that moment. Specific focus on certain industry subsectors or objectives may limit the diversity of NAICS codes captured. Geographic location could play a crucial role, as regional economic activities dictate the presence of particular industries. \n",
    "\n",
    "More precisely, we see that there are some NAICS codes that are repeated a lot of times. This is very important and significant since it probably means that the dataset is skewed towards certain industries or sectors. This skewness could indicate a concentration of economic activity within these sectors or a particular focus of the dataset collection efforts. Understanding this concentration can provide insights into industry dominance, regional economic strengths, or the specific research objectives guiding the data compilation."
   ]
  },
  {
   "cell_type": "code",
   "execution_count": 32,
   "metadata": {},
   "outputs": [
    {
     "name": "stderr",
     "output_type": "stream",
     "text": [
      "2024-04-02 22:12:36,254 - INFO - missing values per feature:\n",
      "Account_Number                                   0\n",
      "Vendor_Formal_Name                               0\n",
      "Vendor_DBA                                    9937\n",
      "First_Name                                      23\n",
      "Last_Name                                       24\n",
      "telephone                                       12\n",
      "Business_Description                             7\n",
      "Certification                                    0\n",
      "Certification_Renewal_Date                    3164\n",
      "Ethnicity                                        3\n",
      "Address_Line_1                                 116\n",
      "Address_Line_2                                6984\n",
      "City                                             0\n",
      "State                                            0\n",
      "Postcode                                         1\n",
      "Mailing_Address_Line_1                           2\n",
      "Mailing_Address_Line_2                        6888\n",
      "Mailing_City                                     2\n",
      "Mailing_State                                    0\n",
      "Mailing_Zip                                      3\n",
      "Website                                       3279\n",
      "Date_Of_Establishment                         1134\n",
      "Aggregate_Bonding_Limit                      10426\n",
      "Signatory_To_Union_Contracts                 10741\n",
      "ID6_digit_NAICS_code                             0\n",
      "NAICS_Sector                                     0\n",
      "NAICS_Subsector                                  0\n",
      "NAICS_Title                                      9\n",
      "NIGP_codes                                       6\n",
      "Name_of_Client_Job_Exp_1                       588\n",
      "Largest_Value_of_Contract                      630\n",
      "Percent_Self_Performed_Job_Exp_1              1002\n",
      "Date_of_Work_Job_Exp_1                         565\n",
      "Description_of_Work_Job_Exp_1                  614\n",
      "Name_of_Client_Job_Exp_2                      2525\n",
      "Value_of_Contract_Job_Exp_2                   2618\n",
      "Percent_Self_Performed_Job_Exp_2              2832\n",
      "Date_of_Work_Job_Exp_2                        2520\n",
      "Description_of_Work_Job_Exp_2                 2549\n",
      "Name_of_Client_Job_Exp_3                      3853\n",
      "Value_of_Contract_Job_Exp_3                   3956\n",
      "Percent_Self_Performed_Job_Exp_3              4245\n",
      "Date_of_Work_Job_Exp_3                        3852\n",
      "Description_of_Work_Job_Exp_3                 3871\n",
      "Enrolled_in_PASSPort                             0\n",
      "Borough                                       4324\n",
      "Latitude                                      4326\n",
      "Longitude                                     4326\n",
      "Community Board                               4326\n",
      "Council District                              4326\n",
      "BIN                                           4360\n",
      "BBL                                           4360\n",
      "Census Tract (2020)                           4326\n",
      "Neighborhood Tabulation Area (NTA) (2020)     4326\n",
      "dtype: int64\n"
     ]
    }
   ],
   "source": [
    "nan_count = df.isna().sum()\n",
    "logging.info(\"missing values per feature:\\n%s\", nan_count)"
   ]
  },
  {
   "cell_type": "markdown",
   "metadata": {},
   "source": [
    "We can get a few conclutions from this approach. \n",
    "As always, one of the reasons for NaNs can be errors in data collection, so I'm going to ommit this in the following explanations: \n",
    "    - vendor_DBA has a lot of Nans. Why? Maybe the formal name is the same as the Vendor_DBA. We can see in the following cell that even from those rows where Vendor_DBA has a value, 51 coincide with the formal name.\n",
    "\n",
    "Let's firstly get rid of those features which are all NANs:"
   ]
  },
  {
   "cell_type": "code",
   "execution_count": 37,
   "metadata": {},
   "outputs": [
    {
     "name": "stderr",
     "output_type": "stream",
     "text": [
      "2024-04-03 09:32:35,293 - INFO - Number of rows where 'Vendor_DBA' is not NaN and matches 'Vendor_Formal_Name': 51\n"
     ]
    },
    {
     "name": "stdout",
     "output_type": "stream",
     "text": [
      "Número de códigos NAICS distintos: 588\n",
      "Máximo número de veces que un código NAICS se repite: 534\n"
     ]
    }
   ],
   "source": [
    "df= df.dropna(axis=1, how='all')\n",
    "matching_rows = df[df['Vendor_DBA'].notna() & (df['Vendor_DBA'] == df['Vendor_Formal_Name'])].shape[0]\n",
    "logging.info(f\"Number of rows where 'Vendor_DBA' is not NaN and matches 'Vendor_Formal_Name': {matching_rows}\")\n",
    "\n",
    "\n"
   ]
  }
 ],
 "metadata": {
  "kernelspec": {
   "display_name": "zrive-ds-J_lydEot-py3.11",
   "language": "python",
   "name": "python3"
  },
  "language_info": {
   "codemirror_mode": {
    "name": "ipython",
    "version": 3
   },
   "file_extension": ".py",
   "mimetype": "text/x-python",
   "name": "python",
   "nbconvert_exporter": "python",
   "pygments_lexer": "ipython3",
   "version": "3.11.0"
  }
 },
 "nbformat": 4,
 "nbformat_minor": 2
}
