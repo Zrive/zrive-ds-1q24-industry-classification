{
 "cells": [
  {
   "cell_type": "markdown",
   "metadata": {},
   "source": [
    "## VAMOS A PROBAR ESTE DATASET DE GIT QUE HE ENCONTRADO: \n"
   ]
  },
  {
   "cell_type": "code",
   "execution_count": 19,
   "metadata": {},
   "outputs": [
    {
     "name": "stderr",
     "output_type": "stream",
     "text": [
      "2024-03-29 21:34:00,819 - INFO - Datos de la primera fila:\n",
      "2024-03-29 21:34:00,819 - INFO - STRNO: 8\n",
      "2024-03-29 21:34:00,820 - INFO - STRDIR: E\n",
      "2024-03-29 21:34:00,822 - INFO - STRNAME: CHARLESTON\n",
      "2024-03-29 21:34:00,823 - INFO - STRTYPE: BL\n",
      "2024-03-29 21:34:00,823 - INFO - SUITE_NUM: nan\n",
      "2024-03-29 21:34:00,824 - INFO - BUS_NAME: NOVUS ARCHITECTURE\n",
      "2024-03-29 21:34:00,825 - INFO - OWNER1: ESHENBAUGH, DWAYNE RUSSELL\n",
      "2024-03-29 21:34:00,825 - INFO - OWNER2: nan\n",
      "2024-03-29 21:34:00,826 - INFO - AREA_CODE: 0\n",
      "2024-03-29 21:34:00,827 - INFO - PHONE_NUM: 5229292\n",
      "2024-03-29 21:34:00,827 - INFO - WARD: 3\n",
      "2024-03-29 21:34:00,828 - INFO - MAIL_ADDR: 8 E CHARLESTON BL\n",
      "2024-03-29 21:34:00,829 - INFO - MAIL_CITY: LAS VEGAS NV\n",
      "2024-03-29 21:34:00,829 - INFO - MAIL_ZIP: 891040000\n",
      "2024-03-29 21:34:00,830 - INFO - INACTIV: nan\n",
      "2024-03-29 21:34:00,831 - INFO - INACDT: 0\n",
      "2024-03-29 21:34:00,832 - INFO - OWNER_TYPE: C\n",
      "2024-03-29 21:34:00,833 - INFO - CORP_NAME: NOVUS ARCHITECTURE LLC\n",
      "2024-03-29 21:34:00,834 - INFO - TITLE1: PRES 100%\n",
      "2024-03-29 21:34:00,835 - INFO - TITLE2: nan\n",
      "2024-03-29 21:34:00,836 - INFO - BUS_TYPE: ARCHITECTURE FIRM\n",
      "2024-03-29 21:34:00,841 - INFO - NAICS: 541310\n",
      "2024-03-29 21:34:00,842 - INFO - CLV_MJBL: nan\n",
      "2024-03-29 21:34:00,843 - INFO - HEN_MJBL: nan\n",
      "2024-03-29 21:34:00,844 - INFO - NLV_MJBL: nan\n",
      "2024-03-29 21:34:00,845 - INFO - CC_MJBL: nan\n",
      "2024-03-29 21:34:00,847 - INFO - CAT_DESC: PROFESSIONAL SERVICES\n",
      "2024-03-29 21:34:00,848 - INFO - STATUS: ACTIVE\n",
      "2024-03-29 21:34:00,848 - INFO - BUS_ADDRESS: 8 E CHARLESTON BL\n",
      "2024-03-29 21:34:00,850 - INFO - ZIP: 89104.0\n",
      "2024-03-29 21:34:00,852 - INFO - LIC_NUM: P50  8631158122\n"
     ]
    }
   ],
   "source": [
    "import pandas as pd\n",
    "import logging\n",
    "\n",
    "# Configurar logging\n",
    "logging.basicConfig(level=logging.INFO, format='%(asctime)s - %(levelname)s - %(message)s')\n",
    "\n",
    "# Asumiendo que el archivo CSV se encuentra en la carpeta 'data' al mismo nivel que tu script\n",
    "ruta_archivo = '../data/bussinesses_licences.csv'  # Corrige el nombre del archivo si es necesario\n",
    "\n",
    "try:\n",
    "    # Cargar el archivo CSV\n",
    "    df = pd.read_csv(ruta_archivo)\n",
    "\n",
    "    # Convertir la primera fila del DataFrame en un diccionario\n",
    "    primera_fila = df.iloc[0].to_dict()\n",
    "\n",
    "    # Usar logging para mostrar todas las columnas de la primera fila del DataFrame\n",
    "    logging.info(\"Datos de la primera fila:\")\n",
    "    for columna, valor in primera_fila.items():\n",
    "        logging.info(f\"{columna}: {valor}\")\n",
    "\n",
    "except Exception as e:\n",
    "    logging.error(\"Error al cargar el archivo CSV: %s\", e)\n",
    "\n"
   ]
  }
 ],
 "metadata": {
  "kernelspec": {
   "display_name": "zrive-ds-J_lydEot-py3.11",
   "language": "python",
   "name": "python3"
  },
  "language_info": {
   "codemirror_mode": {
    "name": "ipython",
    "version": 3
   },
   "file_extension": ".py",
   "mimetype": "text/x-python",
   "name": "python",
   "nbconvert_exporter": "python",
   "pygments_lexer": "ipython3",
   "version": "3.11.0"
  }
 },
 "nbformat": 4,
 "nbformat_minor": 2
}
