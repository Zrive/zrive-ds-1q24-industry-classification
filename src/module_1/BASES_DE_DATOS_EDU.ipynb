{
 "cells": [
  {
   "cell_type": "markdown",
   "metadata": {},
   "source": [
    "## VAMOS A PROBAR ESTE DATASET DE GIT QUE HE ENCONTRADO: \n"
   ]
  },
  {
   "cell_type": "code",
   "execution_count": 58,
   "metadata": {},
   "outputs": [
    {
     "name": "stderr",
     "output_type": "stream",
     "text": [
      "2024-04-03 12:41:28,422 - INFO - First row df1:\n",
      "2024-04-03 12:41:28,424 - INFO - Account_Number: 311147\n",
      "2024-04-03 12:41:28,425 - INFO - Vendor_Formal_Name: #1Pho Inc\n",
      "2024-04-03 12:41:28,426 - INFO - Vendor_DBA: Zenyai\n",
      "2024-04-03 12:41:28,427 - INFO - First_Name: Albert\n",
      "2024-04-03 12:41:28,428 - INFO - Last_Name: Jethanamest\n",
      "2024-04-03 12:41:28,429 - INFO - telephone: 6463879761\n",
      "2024-04-03 12:41:28,430 - INFO - Business_Description: Zenyai Viet Cajun & Pho Restaurant is dedicated to offering real Vietnamese flavor through distinct seafood boils and pho noodle dishes.\n",
      "2024-04-03 12:41:28,431 - INFO - Certification: MBE\n",
      "2024-04-03 12:41:28,432 - INFO - Certification_Renewal_Date: 10/31/2025\n",
      "2024-04-03 12:41:28,433 - INFO - Ethnicity: ASIAN\n",
      "2024-04-03 12:41:28,433 - INFO - Address_Line_1: 208 Grand Street\n",
      "2024-04-03 12:41:28,435 - INFO - Address_Line_2: nan\n",
      "2024-04-03 12:41:28,436 - INFO - City: Brooklyn\n",
      "2024-04-03 12:41:28,440 - INFO - State: NY\n",
      "2024-04-03 12:41:28,441 - INFO - Postcode: 11211.0\n",
      "2024-04-03 12:41:28,442 - INFO - Mailing_Address_Line_1: 208 Grand Street\n",
      "2024-04-03 12:41:28,443 - INFO - Mailing_Address_Line_2: nan\n",
      "2024-04-03 12:41:28,444 - INFO - Mailing_City: Brooklyn\n",
      "2024-04-03 12:41:28,445 - INFO - Mailing_State: New York\n",
      "2024-04-03 12:41:28,446 - INFO - Mailing_Zip: 11211\n",
      "2024-04-03 12:41:28,448 - INFO - Website: http://Zenyainyc.com\n",
      "2024-04-03 12:41:28,449 - INFO - Date_Of_Establishment: 06/15/2019\n",
      "2024-04-03 12:41:28,451 - INFO - Aggregate_Bonding_Limit: nan\n",
      "2024-04-03 12:41:28,453 - INFO - Signatory_To_Union_Contracts: nan\n",
      "2024-04-03 12:41:28,454 - INFO - ID6_digit_NAICS_code: 722511\n",
      "2024-04-03 12:41:28,455 - INFO - NAICS_Sector: Accommodation and Food Services\n",
      "2024-04-03 12:41:28,457 - INFO - NAICS_Subsector: Restaurants and Other Eating Places\n",
      "2024-04-03 12:41:28,458 - INFO - NAICS_Title: Full-Service Restaurants\n",
      "2024-04-03 12:41:28,459 - INFO - Types_of_Construction_Projects_Performed: nan\n",
      "2024-04-03 12:41:28,460 - INFO - NIGP_codes: 37003\n",
      "2024-04-03 12:41:28,461 - INFO - Name_of_Client_Job_Exp_1: Rethink\n",
      "2024-04-03 12:41:28,462 - INFO - Largest_Value_of_Contract: 50000.0\n",
      "2024-04-03 12:41:28,463 - INFO - Percent_Self_Performed_Job_Exp_1: 100.0\n",
      "2024-04-03 12:41:28,464 - INFO - Date_of_Work_Job_Exp_1: 04/01/2020\n",
      "2024-04-03 12:41:28,467 - INFO - Description_of_Work_Job_Exp_1: Produce Meals for low income and elderly\n",
      "2024-04-03 12:41:28,468 - INFO - Name_of_Client_Job_Exp_2: nan\n",
      "2024-04-03 12:41:28,469 - INFO - Value_of_Contract_Job_Exp_2: nan\n",
      "2024-04-03 12:41:28,470 - INFO - Percent_Self_Performed_Job_Exp_2: nan\n",
      "2024-04-03 12:41:28,471 - INFO - Date_of_Work_Job_Exp_2: nan\n",
      "2024-04-03 12:41:28,472 - INFO - Description_of_Work_Job_Exp_2: nan\n",
      "2024-04-03 12:41:28,474 - INFO - Name_of_Client_Job_Exp_3: nan\n",
      "2024-04-03 12:41:28,475 - INFO - Value_of_Contract_Job_Exp_3: nan\n",
      "2024-04-03 12:41:28,476 - INFO - Percent_Self_Performed_Job_Exp_3: nan\n",
      "2024-04-03 12:41:28,477 - INFO - Date_of_Work_Job_Exp_3: nan\n",
      "2024-04-03 12:41:28,478 - INFO - Description_of_Work_Job_Exp_3: nan\n",
      "2024-04-03 12:41:28,479 - INFO - Capacity_Building_Programs: nan\n",
      "2024-04-03 12:41:28,481 - INFO - Enrolled_in_PASSPort: Yes\n",
      "2024-04-03 12:41:28,482 - INFO - Borough: BROOKLYN\n",
      "2024-04-03 12:41:28,483 - INFO - Latitude: 40.714065\n",
      "2024-04-03 12:41:28,484 - INFO - Longitude: -73.960252\n",
      "2024-04-03 12:41:28,485 - INFO - Community Board: 301.0\n",
      "2024-04-03 12:41:28,486 - INFO - Council District: 34.0\n",
      "2024-04-03 12:41:28,487 - INFO - BIN: 3397699.0\n",
      "2024-04-03 12:41:28,488 - INFO - BBL: 3023937502.0\n",
      "2024-04-03 12:41:28,490 - INFO - Census Tract (2020): 551.0\n",
      "2024-04-03 12:41:28,491 - INFO - Neighborhood Tabulation Area (NTA) (2020): BK0102\n"
     ]
    },
    {
     "name": "stdout",
     "output_type": "stream",
     "text": [
      "(11430, 56)\n"
     ]
    },
    {
     "data": {
      "text/plain": [
       "'\\ntry: # 2012\\n    df2 = pd.read_csv(route2)\\n    first_row = df2.iloc[0].to_dict()\\n    logging.info(\"First row df2:\")\\n    for columna, valor in first_row.items():\\n        logging.info(f\"{columna}: {valor}\")\\nexcept Exception as e:\\n    logging.error(\"Error loading csv: %s\", e)\\n    \\nprint(df2.shape)\\n\\ntry: #very unbalanced, a lot of nans in naics\\n    df3 = pd.read_csv(route3)\\n    first_row = df3.iloc[0].to_dict()\\n    logging.info(\"First row df3:\")\\n    for columna, valor in first_row.items():\\n        logging.info(f\"{columna}: {valor}\")\\nexcept Exception as e:\\n    logging.error(\"Error loading csv: %s\", e)\\n    \\nprint(df3.shape)\\n\\n\\nnaics_nan_count = df3[\\'NAICS\\'].isna().sum()\\nprint(f\"Número de filas con NAICS = NaN: {naics_nan_count}\")\\n'"
      ]
     },
     "execution_count": 58,
     "metadata": {},
     "output_type": "execute_result"
    }
   ],
   "source": [
    "import pandas as pd\n",
    "import logging\n",
    "import numpy as np\n",
    "logging.basicConfig(level=logging.INFO, format='%(asctime)s - %(levelname)s - %(message)s')\n",
    "\n",
    "route1 = '../data/SBS_Certified_Business_List.csv'  \n",
    "route2 = '../data/bussinesses_licences.csv'  \n",
    "route3 = '../data/Listing_of_Active_Businesses.csv'\n",
    "\n",
    "\n",
    "\n",
    "try:  #me gusta\n",
    "    df1 = pd.read_csv(route1)\n",
    "    first_row = df1.iloc[0].to_dict()\n",
    "    logging.info(\"First row df1:\")\n",
    "    for columna, valor in first_row.items():\n",
    "        logging.info(f\"{columna}: {valor}\")\n",
    "except Exception as e:\n",
    "    logging.error(\"Error loading csv: %s\", e)\n",
    "    \n",
    "print(df1.shape)\n",
    "'''\n",
    "try: # 2012\n",
    "    df2 = pd.read_csv(route2)\n",
    "    first_row = df2.iloc[0].to_dict()\n",
    "    logging.info(\"First row df2:\")\n",
    "    for columna, valor in first_row.items():\n",
    "        logging.info(f\"{columna}: {valor}\")\n",
    "except Exception as e:\n",
    "    logging.error(\"Error loading csv: %s\", e)\n",
    "    \n",
    "print(df2.shape)\n",
    "\n",
    "try: #very unbalanced, a lot of nans in naics\n",
    "    df3 = pd.read_csv(route3)\n",
    "    first_row = df3.iloc[0].to_dict()\n",
    "    logging.info(\"First row df3:\")\n",
    "    for columna, valor in first_row.items():\n",
    "        logging.info(f\"{columna}: {valor}\")\n",
    "except Exception as e:\n",
    "    logging.error(\"Error loading csv: %s\", e)\n",
    "    \n",
    "print(df3.shape)\n",
    "\n",
    "\n",
    "naics_nan_count = df3['NAICS'].isna().sum()\n",
    "print(f\"Número de filas con NAICS = NaN: {naics_nan_count}\")\n",
    "'''\n"
   ]
  },
  {
   "cell_type": "markdown",
   "metadata": {},
   "source": [
    "LET'S MAKE SOME ANALYSIS OF THE DATASET TO UNDERSTAND IT BETTER:\n",
    "\n",
    "Firstly, let's clarify that we are carrying this project as a classification problem; where we are going to procced classifying each digit of the NAICS code one by one.\n",
    "\n",
    "First digit of the NAICS code: Represents the general economic sector.\n",
    "Second digit: Provides subsector information within the economic sector.\n",
    "Third digit: Gives more details on the subsector's subdivision.\n",
    "Fourth digit: Indicates the group industry.\n",
    "Fifth digit: Offers even more specific information, often related to the national industry.\n",
    "Sixth digit: Used for more detailed and specific classifications within a national industry, although not all countries use the sixth digit.\n",
    "\n",
    "\n",
    "This approach results in a separate classification problem for each of the six digits of the NAICS code."
   ]
  },
  {
   "cell_type": "markdown",
   "metadata": {},
   "source": [
    "Before starting to solve any datset trade-offs, let's see how are the bussinesses on it for df1:"
   ]
  },
  {
   "cell_type": "code",
   "execution_count": 59,
   "metadata": {},
   "outputs": [
    {
     "name": "stderr",
     "output_type": "stream",
     "text": [
      "2024-04-03 12:41:32,204 - INFO - Number of unique NAICS codes: 588\n",
      "2024-04-03 12:41:32,208 - INFO - Top 5 most repeated NAICS codes and their counts:\n",
      "2024-04-03 12:41:32,209 - INFO - NAICS code 541990 is repeated 534 times.\n",
      "2024-04-03 12:41:32,212 - INFO - Number of NAICS codes with occurrences between 1 and 20: 480\n",
      "2024-04-03 12:41:32,214 - INFO - Number of NAICS codes with occurrences between 20 and 50: 57\n",
      "2024-04-03 12:41:32,216 - INFO - Number of NAICS codes with occurrences between 50 and 100: 29\n",
      "2024-04-03 12:41:32,218 - INFO - Number of NAICS codes with occurrences between 100 and 200: 16\n",
      "2024-04-03 12:41:32,220 - INFO - Number of NAICS codes with occurrences between 200 and 300: 3\n",
      "2024-04-03 12:41:32,223 - INFO - Number of NAICS codes with occurrences between 300 and 400: 6\n",
      "2024-04-03 12:41:32,226 - INFO - Number of NAICS codes with occurrences between 400 and 500: 0\n",
      "2024-04-03 12:41:32,228 - INFO - Number of NAICS codes with occurrences between 500 and 600: 1\n"
     ]
    },
    {
     "data": {
      "text/plain": [
       "'\\ntry:\\n    unique_naics_count = df3[\\'NAICS\\'].nunique()\\n    logging.info(f\"Number of unique NAICS codes: {unique_naics_count}\")\\n\\n    top_repeated_naics = df3[\\'NAICS\\'].value_counts().head(1)\\n    logging.info(\"Top 5 most repeated NAICS codes and their counts:\")\\n    for code, count in top_repeated_naics.items():\\n        logging.info(f\"NAICS code {code} is repeated {count} times.\")\\n    naics_counts = df3[\\'NAICS\\'].value_counts()\\n    ranges = [(1,20),(20, 50), (50, 100), (100, 200), (200, 300), (300, 400), (400, 500), (500, 600)]\\n    for r in ranges:\\n        count = naics_counts[(naics_counts >= r[0]) & (naics_counts <= r[1])].count()\\n        logging.info(f\"Number of NAICS codes with occurrences between {r[0]} and {r[1]}: {count}\")\\nexcept KeyError as e:\\n    logging.error(f\"Column not found in DataFrame: {e}\")\\nexcept Exception as e:\\n    logging.error(f\"An unexpected error occurred during the analysis: {e}\")\\n'"
      ]
     },
     "execution_count": 59,
     "metadata": {},
     "output_type": "execute_result"
    }
   ],
   "source": [
    "\n",
    "try:\n",
    "    unique_naics_count = df1['ID6_digit_NAICS_code'].nunique()\n",
    "    logging.info(f\"Number of unique NAICS codes: {unique_naics_count}\")\n",
    "\n",
    "    top_repeated_naics = df1['ID6_digit_NAICS_code'].value_counts().head(1)\n",
    "    logging.info(\"Top 5 most repeated NAICS codes and their counts:\")\n",
    "    for code, count in top_repeated_naics.items():\n",
    "        logging.info(f\"NAICS code {code} is repeated {count} times.\")\n",
    "    naics_counts = df1['ID6_digit_NAICS_code'].value_counts()\n",
    "    ranges = [(1,20),(20, 50), (50, 100), (100, 200), (200, 300), (300, 400), (400, 500), (500, 600)]\n",
    "    for r in ranges:\n",
    "        count = naics_counts[(naics_counts >= r[0]) & (naics_counts <= r[1])].count()\n",
    "        logging.info(f\"Number of NAICS codes with occurrences between {r[0]} and {r[1]}: {count}\")\n",
    "except KeyError as e:\n",
    "    logging.error(f\"Column not found in DataFrame: {e}\")\n",
    "except Exception as e:\n",
    "    logging.error(f\"An unexpected error occurred during the analysis: {e}\")\n",
    "'''\n",
    "try:\n",
    "    unique_naics_count = df3['NAICS'].nunique()\n",
    "    logging.info(f\"Number of unique NAICS codes: {unique_naics_count}\")\n",
    "\n",
    "    top_repeated_naics = df3['NAICS'].value_counts().head(1)\n",
    "    logging.info(\"Top 5 most repeated NAICS codes and their counts:\")\n",
    "    for code, count in top_repeated_naics.items():\n",
    "        logging.info(f\"NAICS code {code} is repeated {count} times.\")\n",
    "    naics_counts = df3['NAICS'].value_counts()\n",
    "    ranges = [(1,20),(20, 50), (50, 100), (100, 200), (200, 300), (300, 400), (400, 500), (500, 600)]\n",
    "    for r in ranges:\n",
    "        count = naics_counts[(naics_counts >= r[0]) & (naics_counts <= r[1])].count()\n",
    "        logging.info(f\"Number of NAICS codes with occurrences between {r[0]} and {r[1]}: {count}\")\n",
    "except KeyError as e:\n",
    "    logging.error(f\"Column not found in DataFrame: {e}\")\n",
    "except Exception as e:\n",
    "    logging.error(f\"An unexpected error occurred during the analysis: {e}\")\n",
    "'''"
   ]
  },
  {
   "cell_type": "markdown",
   "metadata": {},
   "source": [
    "As of the latest revision, the American NAICS system defines approximately 1,057 distinct 6-digit codes. As we can see, in this dataset we have only defined 588 different NAICS codes. \n",
    "The range of NAICS codes in our dataset is influenced by the timing of data collection, reflecting economic conditions and industry relevance at that moment. Specific focus on certain industry subsectors or objectives may limit the diversity of NAICS codes captured. Geographic location could play a crucial role, as regional economic activities dictate the presence of particular industries. \n",
    "\n",
    "More precisely, we see that there are some NAICS codes that are repeated a lot of times. This is very important and significant since it probably means that the dataset is skewed towards certain industries or sectors. This skewness could indicate a concentration of economic activity within these sectors or a particular focus of the dataset collection efforts. Understanding this concentration can provide insights into industry dominance, regional economic strengths, or the specific research objectives guiding the data compilation.\n",
    "\n",
    "\n",
    "\n"
   ]
  },
  {
   "cell_type": "markdown",
   "metadata": {},
   "source": []
  },
  {
   "cell_type": "code",
   "execution_count": 50,
   "metadata": {},
   "outputs": [
    {
     "name": "stderr",
     "output_type": "stream",
     "text": [
      "2024-04-03 12:17:13,563 - INFO - missing values per feature:\n",
      "LOCATION ACCOUNT #                0\n",
      "BUSINESS NAME                     0\n",
      "DBA NAME                     387790\n",
      "STREET ADDRESS                    3\n",
      "CITY                             53\n",
      "ZIP CODE                          0\n",
      "LOCATION DESCRIPTION             25\n",
      "MAILING ADDRESS              285224\n",
      "MAILING CITY                 285220\n",
      "MAILING ZIP CODE             285327\n",
      "NAICS                         64082\n",
      "PRIMARY NAICS DESCRIPTION     64082\n",
      "COUNCIL DISTRICT                  0\n",
      "LOCATION START DATE            3574\n",
      "LOCATION END DATE            585157\n",
      "LOCATION                      29509\n",
      "dtype: int64\n"
     ]
    }
   ],
   "source": [
    "nan_count = df3.isna().sum()\n",
    "logging.info(\"missing values per feature:\\n%s\", nan_count)"
   ]
  },
  {
   "cell_type": "markdown",
   "metadata": {},
   "source": [
    "We can get a few conclutions from this approach. \n",
    "As always, one of the reasons for NaNs can be errors in data collection, so I'm going to ommit this in the following explanations: \n",
    "    - vendor_DBA has a lot of Nans. Why? Maybe the formal name is the same as the Vendor_DBA. We can see in the following cell that even from those rows where Vendor_DBA has a value, 51 coincide with the formal name.\n",
    "\n",
    "Let's firstly get rid of those features which are all NANs:"
   ]
  },
  {
   "cell_type": "code",
   "execution_count": 37,
   "metadata": {},
   "outputs": [
    {
     "name": "stderr",
     "output_type": "stream",
     "text": [
      "2024-04-03 09:32:35,293 - INFO - Number of rows where 'Vendor_DBA' is not NaN and matches 'Vendor_Formal_Name': 51\n"
     ]
    },
    {
     "name": "stdout",
     "output_type": "stream",
     "text": [
      "Número de códigos NAICS distintos: 588\n",
      "Máximo número de veces que un código NAICS se repite: 534\n"
     ]
    }
   ],
   "source": [
    "df= df.dropna(axis=1, how='all')\n",
    "matching_rows = df[df['Vendor_DBA'].notna() & (df['Vendor_DBA'] == df['Vendor_Formal_Name'])].shape[0]\n",
    "logging.info(f\"Number of rows where 'Vendor_DBA' is not NaN and matches 'Vendor_Formal_Name': {matching_rows}\")\n",
    "\n",
    "\n"
   ]
  }
 ],
 "metadata": {
  "kernelspec": {
   "display_name": "zrive-ds-J_lydEot-py3.11",
   "language": "python",
   "name": "python3"
  },
  "language_info": {
   "codemirror_mode": {
    "name": "ipython",
    "version": 3
   },
   "file_extension": ".py",
   "mimetype": "text/x-python",
   "name": "python",
   "nbconvert_exporter": "python",
   "pygments_lexer": "ipython3",
   "version": "3.11.0"
  }
 },
 "nbformat": 4,
 "nbformat_minor": 2
}
