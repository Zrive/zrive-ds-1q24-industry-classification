{
 "cells": [
  {
   "cell_type": "markdown",
   "metadata": {},
   "source": [
    "## approach to obtain the dataset used for the project\n",
    "\n",
    "The code loads, filters, and merges two CSV datasets on of bussinesses with their NAICS codes and their bussinesses descriptions: "
   ]
  },
  {
   "cell_type": "code",
   "execution_count": 17,
   "metadata": {},
   "outputs": [
    {
     "name": "stdout",
     "output_type": "stream",
     "text": [
      "    NAICS                               BUSINESS_DESCRIPTION\n",
      "0  722511  Zenyai Viet Cajun & Pho Restaurant is dedicate...\n",
      "1  541330  Kilduff Underground Engineering, Inc. (KUE) is...\n",
      "2  453998  024™ is a premium home fragrance brand that de...\n",
      "3  561720  Our Services include Office Cleaning Carpet cl...\n",
      "4  621610                    NYS Licensed Home Health Agency\n"
     ]
    }
   ],
   "source": [
    "import pandas as pd\n",
    "import openpyxl \n",
    "import logging\n",
    "import numpy as np\n",
    "import matplotlib.pyplot as plt\n",
    "\n",
    "logging.basicConfig(level=logging.INFO, format='%(asctime)s - %(levelname)s - %(message)s')\n",
    "\n",
    "route1 = '../data/SBS_Certified_Business_List.csv'   \n",
    "\n",
    "route2 = '../data/sba_dataset.csv'\n",
    "\n",
    "try:  \n",
    "    df1 = pd.read_csv(route1)\n",
    "    df2 = pd.read_csv(route2)\n",
    "except Exception as e:\n",
    "    logging.error(\"Error loading csv: %s\", e)\n",
    "\n",
    "#df1\n",
    "df1_filtered = df1.dropna(subset=['Business_Description'])[['ID6_digit_NAICS_code', 'Business_Description']]\n",
    "df1_filtered.columns = ['NAICS', 'BUSINESS_DESCRIPTION']\n",
    "df1_filtered['NAICS'] = df1_filtered['NAICS'].astype(str)\n",
    "\n",
    "#df2\n",
    "df4_filtered = df2[df2['NAICS'].apply(lambda x: ',' not in str(x) and ' ' not in str(x))][['NAICS', 'DESCRIPTION_OF_OPERATIONS']]\n",
    "df4_filtered.columns = ['NAICS', 'BUSINESS_DESCRIPTION']\n",
    "df4_filtered['NAICS'] = df4_filtered['NAICS'].astype(str)\n",
    "\n",
    "#concatenation\n",
    "df_concatenated = pd.concat([df1_filtered, df4_filtered], ignore_index=True)\n",
    "\n",
    "final_df = df_concatenated.dropna(subset=['NAICS', 'BUSINESS_DESCRIPTION'])\n",
    "final_df = final_df[['NAICS', 'BUSINESS_DESCRIPTION']]\n",
    "\n",
    "print(final_df.head())\n"
   ]
  }
 ],
 "metadata": {
  "kernelspec": {
   "display_name": "zrive-ds-J_lydEot-py3.11",
   "language": "python",
   "name": "python3"
  },
  "language_info": {
   "codemirror_mode": {
    "name": "ipython",
    "version": 3
   },
   "file_extension": ".py",
   "mimetype": "text/x-python",
   "name": "python",
   "nbconvert_exporter": "python",
   "pygments_lexer": "ipython3",
   "version": "3.11.0"
  }
 },
 "nbformat": 4,
 "nbformat_minor": 2
}
