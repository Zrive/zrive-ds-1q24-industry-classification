{
 "cells": [
  {
   "cell_type": "code",
   "execution_count": 1,
   "metadata": {},
   "outputs": [
    {
     "name": "stderr",
     "output_type": "stream",
     "text": [
      "/home/oscar/.cache/pypoetry/virtualenvs/zrive-ds-TXjvcAVs-py3.11/lib/python3.11/site-packages/tqdm/auto.py:21: TqdmWarning: IProgress not found. Please update jupyter and ipywidgets. See https://ipywidgets.readthedocs.io/en/stable/user_install.html\n",
      "  from .autonotebook import tqdm as notebook_tqdm\n"
     ]
    }
   ],
   "source": [
    "import pandas as pd\n",
    "import numpy as np\n",
    "import logging\n",
    "import torch\n",
    "from datasets import Dataset, DatasetDict\n",
    "from transformers import DistilBertModel\n",
    "from transformers import AutoTokenizer, DistilBertTokenizer\n",
    "from torch.utils.data import Dataset, DataLoader\n",
    "from datasets import Dataset, DatasetDict\n",
    "from sklearn.model_selection import train_test_split\n",
    "from sklearn.model_selection import KFold\n",
    "\n",
    "logging.basicConfig(level=logging.INFO, format='%(levelname)s: %(message)s')"
   ]
  },
  {
   "cell_type": "code",
   "execution_count": 2,
   "metadata": {},
   "outputs": [
    {
     "name": "stderr",
     "output_type": "stream",
     "text": [
      "/home/oscar/.cache/pypoetry/virtualenvs/zrive-ds-TXjvcAVs-py3.11/lib/python3.11/site-packages/torch/cuda/__init__.py:141: UserWarning: CUDA initialization: The NVIDIA driver on your system is too old (found version 11060). Please update your GPU driver by downloading and installing a new version from the URL: http://www.nvidia.com/Download/index.aspx Alternatively, go to: https://pytorch.org to install a PyTorch version that has been compiled with your version of the CUDA driver. (Triggered internally at ../c10/cuda/CUDAFunctions.cpp:108.)\n",
      "  return torch._C._cuda_getDeviceCount() > 0\n"
     ]
    }
   ],
   "source": [
    "from torch import cuda\n",
    "device = 'cuda' if cuda.is_available() else 'cpu'"
   ]
  },
  {
   "cell_type": "markdown",
   "metadata": {},
   "source": [
    "## Data loading"
   ]
  },
  {
   "cell_type": "code",
   "execution_count": 3,
   "metadata": {},
   "outputs": [
    {
     "name": "stderr",
     "output_type": "stream",
     "text": [
      "INFO: NAICS codes processed successfully. Here's the head of the processed DataFrame:\n",
      "INFO: \n",
      "   NAICS                               BUSINESS_DESCRIPTION  label\n",
      "0     72  Zenyai Viet Cajun & Pho Restaurant is dedicate...      0\n",
      "1     54  Kilduff Underground Engineering, Inc. (KUE) is...      1\n",
      "2     45  024™ is a premium home fragrance brand that de...      2\n",
      "3     56  Our Services include Office Cleaning Carpet cl...      3\n",
      "4     62                    NYS Licensed Home Health Agency      4\n"
     ]
    }
   ],
   "source": [
    "data_path = '../../data/coverwallet/coverwallet.xlsx'\n",
    "df = pd.read_excel(data_path)\n",
    "df = df.dropna()\n",
    "def truncate_naics_and_prepare_data(df, column_name, num_digits):\n",
    "    \"\"\"\n",
    "    Truncates the NAICS codes in the specified column to the desired number of digits.\n",
    "\n",
    "    :param df: pandas DataFrame containing the NAICS codes.\n",
    "    :param column_name: the name of the column with the NAICS codes.\n",
    "    :param num_digits: the number of digits to truncate to.\n",
    "    :return: A copy of the DataFrame with the NAICS codes truncated.\n",
    "    \"\"\"\n",
    "    # Validate the number of digits\n",
    "    if not isinstance(num_digits, int) or num_digits <= 0:\n",
    "        logging.error(\"Number of digits must be a positive integer\")\n",
    "        raise ValueError(\"Number of digits must be a positive integer\")\n",
    "    \n",
    "    # Make a copy of the DataFrame to avoid modifying the original\n",
    "    df_copy = df.copy()\n",
    "    def truncate_code(code):\n",
    "        \"\"\"\n",
    "        Truncates or pads the NAICS code to the specified number of digits.\n",
    "        :param code: the NAICS code to be truncated.\n",
    "        :return: The truncated or original NAICS code as a string.\n",
    "        \"\"\"\n",
    "        try:\n",
    "            # Ensure the code is a string\n",
    "            code_str = str(code)\n",
    "            # Truncate the code if it's longer than num_digits\n",
    "            return code_str[:num_digits].ljust(num_digits, '0')\n",
    "        except Exception as e:\n",
    "            logging.exception(\"Error truncating code: {}\".format(code))\n",
    "            return code\n",
    "        \n",
    "    # Apply the truncation function to the specified column\n",
    "    df_copy[column_name] = df_copy[column_name].apply(truncate_code)\n",
    "    # Try to convert the truncated column to integers\n",
    "    try:\n",
    "        df_copy[column_name] = df_copy[column_name].astype(int)\n",
    "    except ValueError as e:\n",
    "        logging.warning(\"Could not convert truncated codes to integers: {}\".format(e))\n",
    "        # Keep the column as strings if conversion fails\n",
    "        pass\n",
    "    \n",
    "    labels = df_copy['NAICS'].unique().tolist()\n",
    "    id2label = {idx: label for idx, label in enumerate(labels)}\n",
    "    label2id = {label: idx for idx, label in enumerate(labels)}\n",
    "    df_copy['label'] = df_copy['NAICS'].map(label2id)\n",
    "    logging.info(\"NAICS codes processed successfully. Here's the head of the processed DataFrame:\")\n",
    "    logging.info(\"\\n%s\", df_copy.head())\n",
    "    df_copy_train, df_copy_final_val = train_test_split(df_copy, test_size=0.15, shuffle=True, random_state=42)\n",
    "    \n",
    "    dataset_train = Dataset.from_pandas(df_copy_train)\n",
    "    dataset_final_val = Dataset.from_pandas(df_copy_final_val)\n",
    "    \n",
    "    return df_copy,  dataset_train, dataset_final_val\n",
    "'''\n",
    "# Configuration k-fold\n",
    "    num_folds = 3\n",
    "    kf = KFold(n_splits=num_folds, shuffle=True, random_state=42)\n",
    "    kfold_datasets = []\n",
    "\n",
    "    for fold, (train_indices, val_indices) in enumerate(kf.split(dataset_train)):\n",
    "        train_dataset = dataset_train.select(train_indices)\n",
    "        val_dataset = dataset_train.select(val_indices)\n",
    "        \n",
    "        dataset_dict = {\n",
    "            'train': train_dataset,\n",
    "            'validation': val_dataset\n",
    "        }\n",
    "\n",
    "        features_dict = {\n",
    "            \"NAICS\": dataset_train[\"NAICS\"],\n",
    "            \"BUSINESS_DESCRIPTION\": dataset_train[\"BUSINESS_DESCRIPTION\"],\n",
    "        }\n",
    "    \n",
    "        kfold_datasets.append(dataset_dict)\n",
    "        logging.info(f\"Processed fold {fold + 1}\")\n",
    "\n",
    "    for i, dataset_dict in enumerate(kfold_datasets):\n",
    "        for split in dataset_dict.keys():\n",
    "            dataset_dict[split] = dataset_dict[split].map(lambda example: {key: example[key] for key in features_dict.keys()})\n",
    "\n",
    "        logging.info(f\"DatasetDict for Fold {i + 1}:\")\n",
    "        for split, dataset in dataset_dict.items():\n",
    "            logging.info(f\"  {split} split: {dataset}\")\n",
    "            \n",
    "    logging.info(\"NAICS codes truncated successfully. Here's the head of the truncated DataFrame:\")\n",
    "    logging.info(\"\\n%s\", df_copy.head())\n",
    "    logging.info(\"Number of unique NAICS labels: %d\", len(labels))\n",
    "    '''\n",
    "    #return df_copy, kfold_datasets, dataset_train, dataset_final_val\n",
    "\n",
    "    #df_2_digits, kfold_2_digits, dataset_train_2_digits, dataset_final_val_2_digits = truncate_naics_and_prepare_data(df, 'NAICS', 2)\n",
    "df_2_digits, dataset_train_2_digits, dataset_final_val_2_digits = truncate_naics_and_prepare_data(df, 'NAICS', 2)"
   ]
  },
  {
   "cell_type": "markdown",
   "metadata": {},
   "source": [
    "**HYPERPARAMETERS**"
   ]
  },
  {
   "cell_type": "code",
   "execution_count": 4,
   "metadata": {},
   "outputs": [
    {
     "name": "stdout",
     "output_type": "stream",
     "text": [
      "Index(['NAICS', 'BUSINESS_DESCRIPTION', 'label'], dtype='object')\n",
      "[0, 1, 2, 3, 4, 5, 6, 7, 8, 9, 10, 11, 12, 13, 14, 15, 16, 17, 18, 19, 20, 21, 22, 23]\n"
     ]
    }
   ],
   "source": [
    "# Defining some key variables that will be used later on in the training\n",
    "MAX_LEN = 128\n",
    "TRAIN_BATCH_SIZE = 4\n",
    "VALID_BATCH_SIZE = 4\n",
    "EPOCHS = 3\n",
    "LEARNING_RATE = 1e-05\n",
    "tokenizer = DistilBertTokenizer.from_pretrained('distilbert-base-uncased', truncation=True, do_lower_case=True)\n",
    "print(df_2_digits.columns)\n",
    "print(sorted(df_2_digits['label'].unique()))\n",
    "df_2_digits['BUSINESS_DESCRIPTION'] = df_2_digits['BUSINESS_DESCRIPTION'].apply(lambda x: ' '.join(x) if isinstance(x, np.ndarray) else x)"
   ]
  },
  {
   "cell_type": "code",
   "execution_count": 5,
   "metadata": {},
   "outputs": [
    {
     "name": "stdout",
     "output_type": "stream",
     "text": [
      "FULL Dataset: (14175, 3)\n",
      "TRAIN Dataset: (11340, 3)\n",
      "VALIDATION Dataset: (2835, 3)\n"
     ]
    }
   ],
   "source": [
    "train_size = 0.8\n",
    "train_data=df_2_digits.sample(frac=train_size,random_state=200)\n",
    "val_data=df_2_digits.drop(train_data.index).reset_index(drop=True)\n",
    "train_data = train_data.reset_index(drop=True)\n",
    "\n",
    "\n",
    "print(\"FULL Dataset: {}\".format(df_2_digits.shape))\n",
    "print(\"TRAIN Dataset: {}\".format(train_data.shape))\n",
    "print(\"VALIDATION Dataset: {}\".format(val_data.shape))"
   ]
  },
  {
   "cell_type": "markdown",
   "metadata": {},
   "source": [
    "## Data loaders generation"
   ]
  },
  {
   "cell_type": "code",
   "execution_count": 30,
   "metadata": {},
   "outputs": [],
   "source": [
    "class CustomDataset(Dataset):\n",
    "    def __init__(self, dataframe, tokenizer, max_len):\n",
    "        self.tokenizer = tokenizer\n",
    "        self.data = dataframe\n",
    "        self.texts = np.array(dataframe['BUSINESS_DESCRIPTION'].astype(str))\n",
    "        self.targets = np.array(dataframe['label'])  \n",
    "        self.max_len = max_len\n",
    "        \n",
    "    def __len__(self):\n",
    "        return len(self.texts)\n",
    "\n",
    "    def __getitem__(self, idx):\n",
    "        texts = (self.texts[idx])\n",
    "        target = self.targets[idx]\n",
    "        inputs_ids= []\n",
    "        attention_masks= []\n",
    "        targets= []\n",
    "        for text in texts:  # Iterar sobre cada texto en el array.\n",
    "            inputs = self.tokenizer.encode_plus(\n",
    "                text,\n",
    "                add_special_tokens=True,\n",
    "                max_length=self.max_len,\n",
    "                padding='max_length',\n",
    "                truncation=True,\n",
    "                return_attention_mask=True,\n",
    "                return_tensors='pt',\n",
    "            )\n",
    "            input_ids = inputs['input_ids'].squeeze()  # Squeeze para remover dimensiones extras\n",
    "            attention_mask = inputs['attention_mask'].squeeze()\n",
    "            targets= torch.tensor(target, dtype=torch.long).squeeze().unsqueeze(1)\n",
    "            inputs_ids.append(input_ids)\n",
    "            attention_masks.append(attention_mask)\n",
    "            #targets.append(target)\n",
    "\n",
    "        return {\n",
    "            \n",
    "            'input_ids': inputs_ids,\n",
    "            'attention_mask': attention_masks,\n",
    "            'labels': targets\n",
    "        }\n",
    "\n",
    "    @property\n",
    "    def data(self):\n",
    "        return self._data\n",
    "\n",
    "    @data.setter\n",
    "    def data(self, new_data):\n",
    "        \"\"\"\n",
    "        Setter para el atributo 'data'. Este método permite cambiar el valor de 'data'.\n",
    "        \"\"\"\n",
    "        self._data = new_data\n",
    "        # Actualizar 'text' y 'targets' si es necesario\n",
    "        #self.text = new_data['BUSINESS_DESCRIPTION']\n",
    "        #self.targets = list(new_data['label'])"
   ]
  },
  {
   "cell_type": "markdown",
   "metadata": {},
   "source": [
    "**Creación de los loaders**"
   ]
  },
  {
   "cell_type": "code",
   "execution_count": 31,
   "metadata": {},
   "outputs": [],
   "source": [
    "tokenizer = DistilBertTokenizer.from_pretrained('distilbert-base-uncased', truncation=True, do_lower_case=True)\n",
    "\n",
    "training_set = CustomDataset(train_data, tokenizer, MAX_LEN)\n",
    "val_set = CustomDataset(val_data, tokenizer, MAX_LEN)\n",
    "set = CustomDataset(df_2_digits, tokenizer, MAX_LEN)\n",
    "\n",
    "training_loader = DataLoader(dataset=training_set, batch_size=TRAIN_BATCH_SIZE, shuffle=True, num_workers=0)\n",
    "val_loader = DataLoader(dataset=val_set, batch_size=VALID_BATCH_SIZE, shuffle=True, num_workers=0)\n",
    "set_loader = DataLoader(dataset=set, batch_size=VALID_BATCH_SIZE, shuffle=True, num_workers=0)"
   ]
  },
  {
   "cell_type": "markdown",
   "metadata": {},
   "source": [
    "**Comprobación de que funcionan los loaders**"
   ]
  },
  {
   "cell_type": "code",
   "execution_count": 32,
   "metadata": {},
   "outputs": [
    {
     "name": "stdout",
     "output_type": "stream",
     "text": [
      "<class 'torch.utils.data.dataloader.DataLoader'>\n",
      "['_DataLoader__initialized', '_DataLoader__multiprocessing_context', '_IterableDataset_len_called', '__annotations__', '__class__', '__class_getitem__', '__delattr__', '__dict__', '__dir__', '__doc__', '__eq__', '__format__', '__ge__', '__getattribute__', '__getstate__', '__gt__', '__hash__', '__init__', '__init_subclass__', '__iter__', '__le__', '__len__', '__lt__', '__module__', '__ne__', '__new__', '__orig_bases__', '__parameters__', '__reduce__', '__reduce_ex__', '__repr__', '__setattr__', '__sizeof__', '__slots__', '__str__', '__subclasshook__', '__weakref__', '_auto_collation', '_dataset_kind', '_get_iterator', '_index_sampler', '_is_protocol', '_iterator', 'batch_sampler', 'batch_size', 'check_worker_number_rationality', 'collate_fn', 'dataset', 'drop_last', 'generator', 'multiprocessing_context', 'num_workers', 'persistent_workers', 'pin_memory', 'pin_memory_device', 'prefetch_factor', 'sampler', 'timeout', 'worker_init_fn']\n",
      "Cantidad de lotes en training_loader: 709\n",
      "Input ids: 4\n",
      "Attention mask: 4\n",
      "labels: tensor([[ 3],\n",
      "        [18],\n",
      "        [ 5],\n",
      "        [ 1]])\n"
     ]
    }
   ],
   "source": [
    "print(type(val_loader))\n",
    "print(dir(val_loader))\n",
    "print(\"Cantidad de lotes en training_loader:\", len(val_loader))\n",
    "\n",
    "for i, batch in enumerate(training_loader):\n",
    "    \n",
    "    print(f\"Input ids: {len(batch['input_ids'])}\")\n",
    "    print(f\"Attention mask: {len(batch['attention_mask'])}\")\n",
    "    print(f\"labels: {batch['labels']}\")\n",
    "\n",
    "    break"
   ]
  },
  {
   "cell_type": "markdown",
   "metadata": {},
   "source": [
    "## Creating the model"
   ]
  },
  {
   "cell_type": "code",
   "execution_count": 33,
   "metadata": {},
   "outputs": [
    {
     "data": {
      "text/plain": [
       "DistilBERTClass(\n",
       "  (l1): DistilBertModel(\n",
       "    (embeddings): Embeddings(\n",
       "      (word_embeddings): Embedding(30522, 768, padding_idx=0)\n",
       "      (position_embeddings): Embedding(512, 768)\n",
       "      (LayerNorm): LayerNorm((768,), eps=1e-12, elementwise_affine=True)\n",
       "      (dropout): Dropout(p=0.1, inplace=False)\n",
       "    )\n",
       "    (transformer): Transformer(\n",
       "      (layer): ModuleList(\n",
       "        (0-5): 6 x TransformerBlock(\n",
       "          (attention): MultiHeadSelfAttention(\n",
       "            (dropout): Dropout(p=0.1, inplace=False)\n",
       "            (q_lin): Linear(in_features=768, out_features=768, bias=True)\n",
       "            (k_lin): Linear(in_features=768, out_features=768, bias=True)\n",
       "            (v_lin): Linear(in_features=768, out_features=768, bias=True)\n",
       "            (out_lin): Linear(in_features=768, out_features=768, bias=True)\n",
       "          )\n",
       "          (sa_layer_norm): LayerNorm((768,), eps=1e-12, elementwise_affine=True)\n",
       "          (ffn): FFN(\n",
       "            (dropout): Dropout(p=0.1, inplace=False)\n",
       "            (lin1): Linear(in_features=768, out_features=3072, bias=True)\n",
       "            (lin2): Linear(in_features=3072, out_features=768, bias=True)\n",
       "            (activation): GELUActivation()\n",
       "          )\n",
       "          (output_layer_norm): LayerNorm((768,), eps=1e-12, elementwise_affine=True)\n",
       "        )\n",
       "      )\n",
       "    )\n",
       "  )\n",
       "  (pre_classifier): Linear(in_features=768, out_features=768, bias=True)\n",
       "  (dropout): Dropout(p=0.1, inplace=False)\n",
       "  (classifier): Linear(in_features=768, out_features=24, bias=True)\n",
       ")"
      ]
     },
     "execution_count": 33,
     "metadata": {},
     "output_type": "execute_result"
    }
   ],
   "source": [
    "class DistilBERTClass(torch.nn.Module):\n",
    "    def __init__(self):\n",
    "        super(DistilBERTClass, self).__init__()\n",
    "        self.l1 = DistilBertModel.from_pretrained(\"distilbert-base-uncased\")\n",
    "        self.pre_classifier = torch.nn.Linear(768, 768)\n",
    "        self.dropout = torch.nn.Dropout(0.1)\n",
    "        self.classifier = torch.nn.Linear(768, 24)\n",
    "\n",
    "    def forward(self, input_ids, attention_mask):\n",
    "        output_1 = self.l1(input_ids=input_ids, attention_mask=attention_mask)\n",
    "        hidden_state = output_1[0]\n",
    "        pooler = hidden_state[:, 0]\n",
    "        pooler = self.pre_classifier(pooler)\n",
    "        pooler = torch.nn.Tanh()(pooler)\n",
    "        pooler = self.dropout(pooler)\n",
    "        output = self.classifier(pooler)\n",
    "        return output\n",
    "    \n",
    "model = DistilBERTClass()\n",
    "model.to(device)"
   ]
  },
  {
   "cell_type": "markdown",
   "metadata": {},
   "source": [
    "Congelamos los parámetros de DistilBERT excepto la última capa"
   ]
  },
  {
   "cell_type": "code",
   "execution_count": 34,
   "metadata": {},
   "outputs": [],
   "source": [
    "def loss_fn(outputs, targets):\n",
    "    return torch.nn.CrossEntropyLoss()(outputs, targets)\n",
    "\n",
    "optimizer = torch.optim.Adam(params =  model.parameters(), lr=LEARNING_RATE)"
   ]
  },
  {
   "cell_type": "code",
   "execution_count": 35,
   "metadata": {},
   "outputs": [],
   "source": [
    "def calcuate_accu(big_idx, targets):\n",
    "    n_correct = (big_idx==targets).sum().item()\n",
    "    return n_correct"
   ]
  },
  {
   "cell_type": "code",
   "execution_count": 37,
   "metadata": {},
   "outputs": [],
   "source": [
    "def train(epoch):\n",
    "    tr_loss = 0\n",
    "    n_correct = 0\n",
    "    nb_tr_steps = 0\n",
    "    nb_tr_examples = 0\n",
    "    model.train()\n",
    "    for _,data in enumerate(training_loader, 0):\n",
    "        ids = data['input_ids'].to(device, dtype = torch.long)\n",
    "        mask = data['attention_mask'].to(device, dtype = torch.long)\n",
    "        targets = data['labels'].to(device, dtype = torch.long).squeeze(1)\n",
    "\n",
    "        outputs = model(ids, mask)\n",
    "        loss = loss_fn(outputs, targets)\n",
    "        tr_loss += loss.item()\n",
    "        big_val, big_idx = torch.max(outputs.data, dim=1)\n",
    "        n_correct += calcuate_accu(big_idx, targets)\n",
    "\n",
    "        nb_tr_steps += 1\n",
    "        nb_tr_examples+=targets.size(0)\n",
    "        \n",
    "        if _%5000==0:\n",
    "            loss_step = tr_loss/nb_tr_steps\n",
    "            accu_step = (n_correct*100)/nb_tr_examples \n",
    "            print(f\"Training Loss per 5000 steps: {loss_step}\")\n",
    "            print(f\"Training Accuracy per 5000 steps: {accu_step}\")\n",
    "\n",
    "        optimizer.zero_grad()\n",
    "        loss.backward()\n",
    "        # # When using GPU\n",
    "        optimizer.step()\n",
    "\n",
    "    print(f'The Total Accuracy for Epoch {epoch}: {(n_correct*100)/nb_tr_examples}')\n",
    "    epoch_loss = tr_loss/nb_tr_steps\n",
    "    epoch_accu = (n_correct*100)/nb_tr_examples\n",
    "    print(f\"Training Loss Epoch: {epoch_loss}\")\n",
    "    print(f\"Training Accuracy Epoch: {epoch_accu}\")\n",
    "\n",
    "    return "
   ]
  },
  {
   "cell_type": "code",
   "execution_count": 38,
   "metadata": {},
   "outputs": [
    {
     "name": "stdout",
     "output_type": "stream",
     "text": [
      "Training Loss per 5000 steps: 3.145608901977539\n",
      "Training Accuracy per 5000 steps: 0.0\n"
     ]
    },
    {
     "ename": "KeyboardInterrupt",
     "evalue": "",
     "output_type": "error",
     "traceback": [
      "\u001b[0;31m---------------------------------------------------------------------------\u001b[0m",
      "\u001b[0;31mKeyboardInterrupt\u001b[0m                         Traceback (most recent call last)",
      "Cell \u001b[0;32mIn[38], line 2\u001b[0m\n\u001b[1;32m      1\u001b[0m \u001b[38;5;28;01mfor\u001b[39;00m epoch \u001b[38;5;129;01min\u001b[39;00m \u001b[38;5;28mrange\u001b[39m(EPOCHS):\n\u001b[0;32m----> 2\u001b[0m     \u001b[43mtrain\u001b[49m\u001b[43m(\u001b[49m\u001b[43mepoch\u001b[49m\u001b[43m)\u001b[49m\n",
      "Cell \u001b[0;32mIn[37], line 28\u001b[0m, in \u001b[0;36mtrain\u001b[0;34m(epoch)\u001b[0m\n\u001b[1;32m     25\u001b[0m     \u001b[38;5;28mprint\u001b[39m(\u001b[38;5;124mf\u001b[39m\u001b[38;5;124m\"\u001b[39m\u001b[38;5;124mTraining Accuracy per 5000 steps: \u001b[39m\u001b[38;5;132;01m{\u001b[39;00maccu_step\u001b[38;5;132;01m}\u001b[39;00m\u001b[38;5;124m\"\u001b[39m)\n\u001b[1;32m     27\u001b[0m optimizer\u001b[38;5;241m.\u001b[39mzero_grad()\n\u001b[0;32m---> 28\u001b[0m \u001b[43mloss\u001b[49m\u001b[38;5;241;43m.\u001b[39;49m\u001b[43mbackward\u001b[49m\u001b[43m(\u001b[49m\u001b[43m)\u001b[49m\n\u001b[1;32m     29\u001b[0m \u001b[38;5;66;03m# # When using GPU\u001b[39;00m\n\u001b[1;32m     30\u001b[0m optimizer\u001b[38;5;241m.\u001b[39mstep()\n",
      "File \u001b[0;32m~/.cache/pypoetry/virtualenvs/zrive-ds-TXjvcAVs-py3.11/lib/python3.11/site-packages/torch/_tensor.py:522\u001b[0m, in \u001b[0;36mTensor.backward\u001b[0;34m(self, gradient, retain_graph, create_graph, inputs)\u001b[0m\n\u001b[1;32m    512\u001b[0m \u001b[38;5;28;01mif\u001b[39;00m has_torch_function_unary(\u001b[38;5;28mself\u001b[39m):\n\u001b[1;32m    513\u001b[0m     \u001b[38;5;28;01mreturn\u001b[39;00m handle_torch_function(\n\u001b[1;32m    514\u001b[0m         Tensor\u001b[38;5;241m.\u001b[39mbackward,\n\u001b[1;32m    515\u001b[0m         (\u001b[38;5;28mself\u001b[39m,),\n\u001b[0;32m   (...)\u001b[0m\n\u001b[1;32m    520\u001b[0m         inputs\u001b[38;5;241m=\u001b[39minputs,\n\u001b[1;32m    521\u001b[0m     )\n\u001b[0;32m--> 522\u001b[0m \u001b[43mtorch\u001b[49m\u001b[38;5;241;43m.\u001b[39;49m\u001b[43mautograd\u001b[49m\u001b[38;5;241;43m.\u001b[39;49m\u001b[43mbackward\u001b[49m\u001b[43m(\u001b[49m\n\u001b[1;32m    523\u001b[0m \u001b[43m    \u001b[49m\u001b[38;5;28;43mself\u001b[39;49m\u001b[43m,\u001b[49m\u001b[43m \u001b[49m\u001b[43mgradient\u001b[49m\u001b[43m,\u001b[49m\u001b[43m \u001b[49m\u001b[43mretain_graph\u001b[49m\u001b[43m,\u001b[49m\u001b[43m \u001b[49m\u001b[43mcreate_graph\u001b[49m\u001b[43m,\u001b[49m\u001b[43m \u001b[49m\u001b[43minputs\u001b[49m\u001b[38;5;241;43m=\u001b[39;49m\u001b[43minputs\u001b[49m\n\u001b[1;32m    524\u001b[0m \u001b[43m\u001b[49m\u001b[43m)\u001b[49m\n",
      "File \u001b[0;32m~/.cache/pypoetry/virtualenvs/zrive-ds-TXjvcAVs-py3.11/lib/python3.11/site-packages/torch/autograd/__init__.py:266\u001b[0m, in \u001b[0;36mbackward\u001b[0;34m(tensors, grad_tensors, retain_graph, create_graph, grad_variables, inputs)\u001b[0m\n\u001b[1;32m    261\u001b[0m     retain_graph \u001b[38;5;241m=\u001b[39m create_graph\n\u001b[1;32m    263\u001b[0m \u001b[38;5;66;03m# The reason we repeat the same comment below is that\u001b[39;00m\n\u001b[1;32m    264\u001b[0m \u001b[38;5;66;03m# some Python versions print out the first line of a multi-line function\u001b[39;00m\n\u001b[1;32m    265\u001b[0m \u001b[38;5;66;03m# calls in the traceback and some print out the last line\u001b[39;00m\n\u001b[0;32m--> 266\u001b[0m \u001b[43mVariable\u001b[49m\u001b[38;5;241;43m.\u001b[39;49m\u001b[43m_execution_engine\u001b[49m\u001b[38;5;241;43m.\u001b[39;49m\u001b[43mrun_backward\u001b[49m\u001b[43m(\u001b[49m\u001b[43m  \u001b[49m\u001b[38;5;66;43;03m# Calls into the C++ engine to run the backward pass\u001b[39;49;00m\n\u001b[1;32m    267\u001b[0m \u001b[43m    \u001b[49m\u001b[43mtensors\u001b[49m\u001b[43m,\u001b[49m\n\u001b[1;32m    268\u001b[0m \u001b[43m    \u001b[49m\u001b[43mgrad_tensors_\u001b[49m\u001b[43m,\u001b[49m\n\u001b[1;32m    269\u001b[0m \u001b[43m    \u001b[49m\u001b[43mretain_graph\u001b[49m\u001b[43m,\u001b[49m\n\u001b[1;32m    270\u001b[0m \u001b[43m    \u001b[49m\u001b[43mcreate_graph\u001b[49m\u001b[43m,\u001b[49m\n\u001b[1;32m    271\u001b[0m \u001b[43m    \u001b[49m\u001b[43minputs\u001b[49m\u001b[43m,\u001b[49m\n\u001b[1;32m    272\u001b[0m \u001b[43m    \u001b[49m\u001b[43mallow_unreachable\u001b[49m\u001b[38;5;241;43m=\u001b[39;49m\u001b[38;5;28;43;01mTrue\u001b[39;49;00m\u001b[43m,\u001b[49m\n\u001b[1;32m    273\u001b[0m \u001b[43m    \u001b[49m\u001b[43maccumulate_grad\u001b[49m\u001b[38;5;241;43m=\u001b[39;49m\u001b[38;5;28;43;01mTrue\u001b[39;49;00m\u001b[43m,\u001b[49m\n\u001b[1;32m    274\u001b[0m \u001b[43m\u001b[49m\u001b[43m)\u001b[49m\n",
      "\u001b[0;31mKeyboardInterrupt\u001b[0m: "
     ]
    }
   ],
   "source": [
    "for epoch in range(EPOCHS):\n",
    "    train(epoch)"
   ]
  },
  {
   "cell_type": "markdown",
   "metadata": {},
   "source": [
    "**Validation of the model**"
   ]
  },
  {
   "cell_type": "code",
   "execution_count": null,
   "metadata": {},
   "outputs": [],
   "source": [
    "def valid(model, testing_loader):\n",
    "    model.eval()\n",
    "    n_correct = 0; n_wrong = 0; total = 0\n",
    "    with torch.no_grad():\n",
    "        for _, data in enumerate(testing_loader, 0):\n",
    "            ids = data['input_ids'].to(device, dtype = torch.long)\n",
    "            mask = data['attention_mask'].to(device, dtype = torch.long)\n",
    "            targets = data['labels'].to(device, dtype = torch.long).squeeze(1)\n",
    "            outputs = model(ids, mask).squeeze()\n",
    "            loss = loss_fn(outputs, targets)\n",
    "            tr_loss += loss.item()\n",
    "            big_val, big_idx = torch.max(outputs.data, dim=1)\n",
    "            n_correct += calcuate_accu(big_idx, targets)\n",
    "\n",
    "            nb_tr_steps += 1\n",
    "            nb_tr_examples+=targets.size(0)\n",
    "            \n",
    "            if _%5000==0:\n",
    "                loss_step = tr_loss/nb_tr_steps\n",
    "                accu_step = (n_correct*100)/nb_tr_examples\n",
    "                print(f\"Validation Loss per 100 steps: {loss_step}\")\n",
    "                print(f\"Validation Accuracy per 100 steps: {accu_step}\")\n",
    "    epoch_loss = tr_loss/nb_tr_steps\n",
    "    epoch_accu = (n_correct*100)/nb_tr_examples\n",
    "    print(f\"Validation Loss Epoch: {epoch_loss}\")\n",
    "    print(f\"Validation Accuracy Epoch: {epoch_accu}\")\n",
    "    \n",
    "    return epoch_accu\n"
   ]
  },
  {
   "cell_type": "code",
   "execution_count": null,
   "metadata": {},
   "outputs": [],
   "source": [
    "print('This is the validation section to print the accuracy and see how it performs')\n",
    "print('Here we are leveraging on the dataloader crearted for the validation dataset, the approcah is using more of pytorch')\n",
    "\n",
    "acc = valid(model, val_loader)\n",
    "print(\"Accuracy on val data = %0.2f%%\" % acc)"
   ]
  },
  {
   "cell_type": "markdown",
   "metadata": {},
   "source": [
    "**Saving the model**"
   ]
  },
  {
   "cell_type": "markdown",
   "metadata": {},
   "source": [
    "## SEPARATE GET EMBEDDINGS AND MLP"
   ]
  },
  {
   "cell_type": "code",
   "execution_count": 6,
   "metadata": {},
   "outputs": [],
   "source": [
    "import torch\n",
    "import numpy as np\n",
    "from torch.utils.data import Dataset\n",
    "from transformers import DistilBertTokenizer, DistilBertModel\n",
    "\n",
    "class CustomDataset(Dataset):\n",
    "    def __init__(self, dataframe, max_len):\n",
    "        self.tokenizer = DistilBertTokenizer.from_pretrained(\"distilbert-base-uncased\")\n",
    "        self.texts = np.array(dataframe['BUSINESS_DESCRIPTION'].astype(str))\n",
    "        self.targets = np.array(dataframe['label'])\n",
    "        self.max_len = max_len\n",
    "        self.model = DistilBertModel.from_pretrained(\"distilbert-base-uncased\")\n",
    "\n",
    "        for name, param in self.model.named_parameters():\n",
    "            if 'classifier' not in name:  # No congelar las capas de la clasificación\n",
    "                param.requires_grad = False\n",
    "\n",
    "    def __len__(self):\n",
    "        return len(self.texts)\n",
    "\n",
    "    def __getitem__(self, idx):\n",
    "        text = self.texts[idx]\n",
    "        target = self.targets[idx]\n",
    "\n",
    "        # Tokenizar el texto y obtener los embeddings con el modelo DistilBERT\n",
    "        inputs = self.tokenizer(text, return_tensors='pt', padding=True, truncation=True, max_length=self.max_len)\n",
    "        with torch.no_grad():\n",
    "            outputs = self.model(**inputs)\n",
    "\n",
    "        # Obtener los embeddings del token [CLS] (última capa oculta)\n",
    "        embeddings = outputs.last_hidden_state[:, 0, :]  # Embeddings del token [CLS]\n",
    "\n",
    "        label = torch.tensor(target, dtype=torch.long)\n",
    "\n",
    "        return {\n",
    "            'embeddings': embeddings,\n",
    "            'label': label\n",
    "        }\n"
   ]
  },
  {
   "cell_type": "code",
   "execution_count": 7,
   "metadata": {},
   "outputs": [],
   "source": [
    "training_set = CustomDataset(train_data,  MAX_LEN)\n",
    "val_set = CustomDataset(val_data, MAX_LEN)"
   ]
  },
  {
   "cell_type": "code",
   "execution_count": 8,
   "metadata": {},
   "outputs": [
    {
     "data": {
      "text/plain": [
       "tensor([[-3.6866e-01, -2.4259e-01,  2.7092e-01, -2.2263e-01, -5.4276e-02,\n",
       "         -1.2916e-01,  1.3068e-01, -5.0020e-02,  5.1200e-01, -1.8944e-01,\n",
       "         -1.2263e-01, -6.1531e-01,  5.5010e-02,  9.0651e-01, -3.2812e-01,\n",
       "          2.1544e-01,  2.1079e-01,  6.0901e-01,  2.3542e-01,  1.7508e-01,\n",
       "         -1.5660e-01, -8.2471e-01,  3.7596e-01,  3.4826e-01,  4.1232e-01,\n",
       "         -1.6056e-01,  2.0777e-01, -3.3851e-01,  2.6813e-01,  3.3174e-01,\n",
       "          3.8945e-01,  1.7673e-01, -2.9366e-01, -7.1068e-01,  2.4002e-01,\n",
       "          7.5439e-02, -3.4742e-01, -3.9099e-01, -3.7918e-01,  2.6944e-01,\n",
       "         -5.5626e-01,  1.2682e-01,  1.2988e-01,  1.1923e-01, -2.3035e-04,\n",
       "          2.1850e-01, -3.9320e+00, -2.7402e-01, -4.7689e-01, -1.6971e-02,\n",
       "          2.0588e-01, -1.2991e-01, -2.9048e-01,  2.8791e-01,  3.9539e-01,\n",
       "          6.3620e-01, -5.0006e-01,  2.4987e-01, -5.6855e-02, -2.7368e-01,\n",
       "         -3.1014e-01,  3.6571e-01, -2.9348e-01, -1.0452e-01,  2.1938e-02,\n",
       "         -1.3353e-01, -4.6497e-01,  1.6365e-01, -7.1220e-01,  7.3425e-01,\n",
       "         -2.3617e-01,  1.2856e-01,  2.0806e-02, -3.3409e-02, -3.0907e-01,\n",
       "          3.2035e-01, -2.7054e-01,  2.1405e-01, -1.1132e-01,  4.5193e-01,\n",
       "         -1.7335e-01,  5.7509e-01,  3.8576e-01,  5.2667e-01, -2.5573e-01,\n",
       "          6.3511e-01,  4.5555e-02,  8.1584e-02,  5.2277e-01,  3.1773e-01,\n",
       "         -4.1854e-01, -1.3217e-01,  6.0685e-01,  1.8641e-01,  3.5699e-01,\n",
       "         -5.1796e-01,  3.1259e-01,  2.0773e-02,  1.4267e-01,  2.9490e-01,\n",
       "          2.7736e-01, -1.7225e-02,  1.1641e-04, -5.6028e-01,  3.0103e-03,\n",
       "          9.6295e-02, -4.5295e-01, -3.1606e-01, -2.1989e-01, -1.6402e+00,\n",
       "          5.9901e-01,  1.5039e-01, -1.2126e-01, -2.4296e-01,  3.1135e-02,\n",
       "          1.6354e-01,  9.8516e-02,  4.7244e-01, -2.4825e-02, -2.4614e-01,\n",
       "          4.3908e-01,  3.6700e-01,  1.2674e-02, -1.6787e-01, -1.7958e-01,\n",
       "          3.1369e-01, -7.2617e-02,  1.2221e-01,  3.0236e-01,  3.8784e-01,\n",
       "          3.2838e-01,  1.1141e-01, -1.0025e-01, -1.5160e-01, -2.4149e-01,\n",
       "          5.5766e-01,  1.4931e-01, -3.2541e-01,  3.7261e-01,  3.0722e-01,\n",
       "         -3.7238e-01, -1.9662e-01, -2.4480e+00, -1.2846e-01,  5.1269e-01,\n",
       "         -2.5841e-02,  2.3875e-01, -1.9028e-01, -4.8782e-01,  1.1614e-01,\n",
       "          1.6117e-01,  6.2326e-03, -2.0082e-01, -2.5374e-01, -9.2507e-02,\n",
       "         -2.0432e-01, -3.1597e-01,  1.1097e-01,  3.2417e-01, -4.2009e-01,\n",
       "         -3.2623e-01, -6.1349e-02, -1.4039e-01, -3.4659e-02, -4.6146e-01,\n",
       "          2.7232e-01,  3.6096e-01,  3.8018e-02, -1.9485e-01, -1.6359e-01,\n",
       "          2.5948e-01, -9.2108e-02,  4.8908e-01, -5.2527e-02,  5.9441e-01,\n",
       "          2.6097e-01,  1.3885e-02, -9.6332e-02,  1.3980e-01,  3.4634e-02,\n",
       "         -7.7464e-01,  8.1431e-01,  2.4278e-01, -2.9493e-03,  1.5848e-01,\n",
       "         -2.9447e-01,  5.2147e-01, -3.6099e-01, -1.9199e-01, -8.2526e-02,\n",
       "         -2.6132e-01, -1.7090e-01, -3.5030e-01,  7.8924e-02, -7.8539e-02,\n",
       "         -1.7432e-02, -2.1462e-01,  5.7163e-02, -3.6156e-01, -1.1216e-01,\n",
       "         -1.4883e-01,  2.6755e-01, -3.3316e-01,  6.1756e-02, -2.1445e-01,\n",
       "          2.8312e+00,  7.5656e-02, -4.7566e-01,  3.5340e-01,  2.8489e-01,\n",
       "          7.8317e-02, -4.4545e-01,  1.4191e-01, -6.2562e-02,  5.2292e-01,\n",
       "         -4.5417e-02,  9.2043e-02,  2.3894e-01, -5.5460e-02,  4.1734e-02,\n",
       "          4.5566e-01,  1.3084e-01, -1.9841e-01,  2.9022e-01, -2.9565e-01,\n",
       "          2.1152e-01, -2.0418e-01, -3.7691e-01,  2.3999e-01, -9.0819e-01,\n",
       "          9.6046e-02, -2.7183e-01, -1.0615e-01, -3.6515e-01, -2.3239e-01,\n",
       "         -1.9414e-01,  1.8626e-01,  1.3992e-01,  4.5552e-01, -2.8364e-01,\n",
       "          8.3463e-02, -1.1982e-01,  1.5332e-01,  1.2837e-01,  1.7531e-01,\n",
       "          1.8388e-01,  1.1489e-01, -9.8029e-02, -3.5254e-02, -1.5962e-01,\n",
       "          1.3134e-01,  1.8132e-01, -3.2902e-01,  2.2178e-01,  5.0674e-01,\n",
       "         -1.5779e-01,  8.3020e-02,  8.5276e-02, -2.2513e-01, -9.2283e-02,\n",
       "          1.6247e-02, -1.2295e-01,  2.3171e-01,  1.2495e-01, -4.5495e-01,\n",
       "         -2.1898e-01,  1.0023e-01,  2.1723e-01, -1.8939e-02, -3.4272e-02,\n",
       "          4.2834e-02, -8.6010e-02, -5.4401e-01, -2.2597e+00, -1.4960e-01,\n",
       "         -4.6632e-01,  2.7707e-01,  3.6624e-02,  3.1795e-01, -8.7684e-02,\n",
       "          4.8301e-01,  1.0488e-01, -1.4763e-01,  3.1516e-01, -5.0742e-02,\n",
       "          2.8247e-01,  1.3404e-01, -8.0961e-01,  3.6948e-01,  3.5989e-01,\n",
       "         -3.9043e-01, -2.2952e-01, -3.0502e-01,  1.0836e-01, -2.9124e-01,\n",
       "         -2.1042e-01,  3.6352e-01,  1.0370e-03,  4.2617e-02, -1.5755e-01,\n",
       "         -6.0517e-01, -6.3232e-01,  2.0124e-01,  2.2512e-01, -3.2076e-01,\n",
       "          9.4481e-02, -3.6908e-02, -5.4081e-01, -3.2977e+00,  1.4322e-01,\n",
       "          1.0084e-01,  6.1054e-02,  2.4110e-02, -1.8764e-01,  3.0134e-01,\n",
       "          8.2561e-02, -2.3096e-01,  3.8213e-01,  4.5584e-01, -3.4209e-01,\n",
       "          1.6251e-01, -9.5327e-02,  2.4637e-01,  2.0831e-02,  5.7047e-01,\n",
       "         -2.5040e-01,  2.7983e-01,  6.7047e-02,  4.4065e-01, -4.0722e-01,\n",
       "         -1.1908e-01, -8.9822e-02,  2.5322e-01, -3.6254e-01, -4.3663e-01,\n",
       "          9.6340e-02, -4.2799e-02, -2.7522e-01, -2.3295e-01, -6.9703e-01,\n",
       "         -1.5690e-01,  2.8261e-01, -1.5210e-01, -7.9492e-02, -7.0588e-03,\n",
       "          1.4060e-02,  4.7533e-01,  1.6325e-01,  2.8608e-01,  9.2509e-01,\n",
       "          1.2637e-01, -1.3179e-02,  4.2479e-01, -1.9917e-01,  8.4510e-02,\n",
       "         -4.2753e-01, -2.2656e-01,  5.0261e-02,  4.9622e-01, -2.0364e-01,\n",
       "          1.0630e+00, -1.3106e-01,  1.3341e-01, -4.1989e-01,  4.0741e-01,\n",
       "         -3.3379e-01,  7.1632e-02,  8.2802e-01,  3.0315e-01, -1.7485e-01,\n",
       "          4.5526e-06,  1.5570e-01,  1.5295e-01, -3.8821e-01,  6.3542e-02,\n",
       "         -3.0905e-01, -2.9277e-01, -2.1958e-02,  2.7660e-02,  6.6485e-01,\n",
       "         -1.0145e-02, -9.6173e-01, -2.9306e-01, -4.4444e-01,  6.9320e-01,\n",
       "         -6.3572e-01, -2.8132e-01,  7.5846e-02, -5.5571e-01, -2.2770e-01,\n",
       "         -4.1132e-02,  3.1263e-01, -4.2095e-01, -1.3361e-01, -2.9143e-01,\n",
       "          4.2840e-01, -4.7680e-01,  8.6781e-02,  9.6543e-02,  1.4106e-01,\n",
       "          1.4172e-01, -3.5041e-02, -4.3527e-01, -4.5597e-01,  4.6196e-01,\n",
       "         -4.9236e-01,  2.1308e-01, -3.1833e-01,  1.7838e-03,  2.7484e-01,\n",
       "          8.5039e-02, -1.1800e-01, -3.6276e-01, -2.0262e-01, -4.4572e-01,\n",
       "         -2.9354e-01,  4.6690e-01, -1.3431e-01, -4.2904e-01,  3.4807e-01,\n",
       "         -2.1099e-01,  6.1345e-02,  1.1070e+00,  8.8994e-02, -1.0060e-01,\n",
       "          5.5010e-01,  1.4436e-01, -4.2069e-02,  5.1038e-01,  1.2587e-01,\n",
       "         -8.0084e-02,  1.6680e-01, -1.4729e-01, -2.1526e-01, -2.3746e-01,\n",
       "         -4.6052e-02, -7.2865e-01, -3.3776e-03,  1.0523e-01, -9.0988e-02,\n",
       "         -3.9884e-01, -3.2154e-01,  2.6771e-02, -1.4247e-01, -1.7111e-01,\n",
       "          1.3325e-02, -3.9137e-01,  1.0074e-01,  2.7956e-01,  6.0329e-01,\n",
       "          7.8827e-02,  2.6133e-01,  7.0208e-02,  2.5675e-01,  1.7004e-01,\n",
       "         -1.4289e-01, -2.1370e-02,  2.5780e-01,  2.2997e-01,  2.2808e-01,\n",
       "         -1.9670e-01, -5.2484e-01,  5.7150e-01,  8.4290e-03, -5.6403e-02,\n",
       "          2.4078e-01, -2.9307e-01, -5.1329e-01,  1.5205e-01,  4.4151e-01,\n",
       "         -1.7136e+00,  1.6556e-01, -1.6040e-01,  4.3243e-01, -4.1037e-01,\n",
       "         -2.4392e-01, -1.4451e-01,  2.9494e-01,  5.3192e-01, -4.6372e-02,\n",
       "         -2.5271e-01, -3.2657e-01, -1.8965e-01,  3.9673e-01,  9.8691e-02,\n",
       "         -1.6883e-01, -4.7213e-01, -1.7706e-01, -9.5542e-02, -5.4576e-02,\n",
       "         -5.3574e-01,  4.4252e-01,  3.6288e-01,  6.9226e-02, -1.1739e-01,\n",
       "         -4.2459e-01,  8.1811e-02, -2.2164e-02,  3.8501e-02,  2.8829e-01,\n",
       "         -6.4722e-01, -5.4367e-01, -9.7151e-01, -5.7870e-02,  4.4581e-01,\n",
       "          2.0224e-01,  3.4609e-02, -2.9285e-01,  9.5296e-02,  6.6903e-01,\n",
       "         -6.7052e-01,  5.1136e-01,  4.1586e-01, -2.7378e-01,  6.2950e-01,\n",
       "          3.5011e-01, -2.7956e-01,  3.3257e-01, -1.2443e-01, -2.1676e-01,\n",
       "          5.1695e-01, -1.7785e-01, -3.7691e-02,  1.6307e-01, -3.0147e-01,\n",
       "         -1.6615e-01,  1.7139e-01,  1.4409e-01, -1.0938e-01, -3.8747e-01,\n",
       "          2.2776e-01, -1.6746e-01, -1.8996e-01,  2.9668e-01, -2.9793e-01,\n",
       "         -3.1501e-01, -6.7460e-02, -2.1930e-01,  7.8181e-02, -3.4006e-02,\n",
       "          1.9947e-01, -4.4720e-01, -6.0140e-01,  3.6069e-01, -5.1193e-01,\n",
       "          2.8353e-01,  1.8675e-01, -2.1233e-02, -3.2738e-01, -1.4499e-02,\n",
       "         -2.5652e-01, -2.1172e-01, -8.0794e-02,  3.6112e-01, -2.2068e-01,\n",
       "         -2.1861e-01, -6.9115e-01,  1.2973e-01,  1.5272e-03,  8.9612e-02,\n",
       "          1.8955e-01, -3.8897e-01,  9.1866e-02,  3.0751e-01,  4.4769e-01,\n",
       "         -2.0383e-01, -5.1963e-01, -2.2025e-01, -1.1929e-02,  4.9472e-02,\n",
       "          4.8367e-02,  4.5835e-01,  3.8093e-01,  3.9832e-01,  1.3898e-01,\n",
       "         -2.6606e-01, -1.0327e-01, -7.9341e-02, -1.4111e-01,  3.3654e-01,\n",
       "          1.1198e-01,  2.4581e-01,  2.4092e-01,  4.9188e-01,  1.4285e-01,\n",
       "         -7.7028e-01, -3.0237e-01, -2.1878e-01,  1.4180e+00,  3.6332e-02,\n",
       "          1.9418e-02,  2.0679e-01,  3.5843e-01,  3.2009e-03,  8.3658e-02,\n",
       "          1.7249e-01, -3.9182e-01,  5.4219e-01,  1.0514e-01,  8.9119e-02,\n",
       "          7.0875e-02,  1.6147e-01,  3.0280e-01,  2.4067e-01,  1.6939e-01,\n",
       "         -2.4140e-01, -2.7293e-01,  2.0897e-01, -4.1196e-01,  5.4426e-01,\n",
       "          6.1230e-01,  7.5680e-02,  2.2400e-02,  3.0744e-01,  1.8392e-01,\n",
       "         -6.3452e-01,  2.2221e-01, -9.0225e-02, -8.7723e-02,  4.4239e-02,\n",
       "          4.8060e-01,  8.6504e-02, -3.7020e-01,  5.2088e-01,  8.5466e-02,\n",
       "          1.6131e-01,  5.9777e-02,  4.4376e-02,  3.5511e-01, -4.3189e-02,\n",
       "          1.6371e-02, -2.7382e-01,  1.1547e-01,  8.7149e-01, -2.6801e-01,\n",
       "         -4.6773e-01,  4.4169e-01,  4.7654e-01,  1.8439e-01, -5.2917e-02,\n",
       "         -2.8886e-01,  3.2676e-01, -2.5855e-02, -5.5922e-02, -1.1640e-01,\n",
       "         -5.4487e-02, -6.7533e-01,  3.6540e-01,  3.5570e-01,  4.3344e-01,\n",
       "          4.9608e-01,  2.1767e-01, -6.1935e-02,  4.1926e-01,  2.2559e-01,\n",
       "          4.9788e-01,  1.8987e-01, -2.5189e-01,  1.3491e-01,  1.8132e-01,\n",
       "          3.7230e-01,  4.7948e-01,  4.5277e-01,  1.2779e-01,  1.0117e+00,\n",
       "          4.3651e-01, -1.6020e-01, -1.4146e+00, -2.5718e-01,  2.8192e-02,\n",
       "          4.4132e-01, -5.8799e-02, -8.2313e-02,  3.8880e-01, -2.6619e-01,\n",
       "         -3.1530e-01, -2.8481e-01,  5.9798e-01,  2.0028e-01,  8.2721e-01,\n",
       "         -2.7876e-01, -1.0690e-01,  2.8657e-01,  4.3421e-01,  2.9629e-02,\n",
       "         -1.6811e-01, -6.9220e-02,  1.8470e-01,  3.1264e-01,  1.8567e-01,\n",
       "         -3.7040e-01, -3.2216e-01,  7.1867e-02,  2.2490e-01, -3.4111e-01,\n",
       "          7.3300e-02,  4.7844e-01,  1.8096e-02,  4.1308e-01, -1.1420e-01,\n",
       "          1.5080e-01, -1.1911e-01, -2.3656e-01,  2.9884e-01,  4.6171e-01,\n",
       "         -1.4571e-02, -4.2682e-01, -3.7578e-01,  4.2342e-01,  2.1514e-02,\n",
       "          2.1460e-01,  9.6332e-02, -4.3446e-01,  4.1203e-01, -5.4835e-01,\n",
       "          6.1392e-01,  9.0280e-02, -4.7136e-02, -2.3703e-01,  2.6041e-01,\n",
       "          2.3717e-01, -2.5914e-01,  1.3310e-01,  2.1400e-01,  1.6704e-01,\n",
       "          2.8938e-01, -3.7317e-01, -3.9276e-01,  6.5177e-02,  5.5848e-02,\n",
       "         -6.2141e-02,  1.8896e-01, -2.7695e-01,  1.5310e-01,  4.2532e-01,\n",
       "         -1.9353e-01, -7.6641e-02,  5.1162e-02, -1.6822e-01,  5.0946e-02,\n",
       "         -9.9078e-02,  2.5067e-01,  1.6248e-02, -1.3040e-01,  9.2733e-02,\n",
       "          1.8868e-01, -3.9453e-03, -2.5945e-01, -4.4430e-02,  1.2282e-02,\n",
       "         -4.4300e-01,  2.9199e-01, -5.2014e+00, -2.1564e-01, -4.7748e-01,\n",
       "         -1.1843e-01, -1.4982e-01, -6.2288e-01, -6.5332e-02, -3.3045e-01,\n",
       "         -9.2137e-03, -2.1842e-01,  2.7502e-01,  1.0120e-01,  1.3629e-01,\n",
       "         -5.2981e-02,  1.8520e-01,  2.4588e-01]])"
      ]
     },
     "execution_count": 8,
     "metadata": {},
     "output_type": "execute_result"
    }
   ],
   "source": [
    "val_set[0]['embeddings']"
   ]
  },
  {
   "cell_type": "code",
   "execution_count": 9,
   "metadata": {},
   "outputs": [],
   "source": [
    "def collate_fn(batch):\n",
    "    # Procesar el batch para quitar la dimensión intermedia de los embeddings\n",
    "    embeddings = torch.stack([item['embeddings'].squeeze(0) for item in batch])\n",
    "    labels = torch.tensor([item['label'] for item in batch])\n",
    "\n",
    "    return {'embeddings': embeddings, 'label': labels}"
   ]
  },
  {
   "cell_type": "code",
   "execution_count": 10,
   "metadata": {},
   "outputs": [],
   "source": [
    "training_loader = DataLoader(dataset=training_set, batch_size=TRAIN_BATCH_SIZE, shuffle=True, num_workers=0, collate_fn=collate_fn)\n",
    "val_loader = DataLoader(dataset=val_set, batch_size=VALID_BATCH_SIZE, shuffle=True, num_workers=0, collate_fn=collate_fn)"
   ]
  },
  {
   "cell_type": "code",
   "execution_count": 11,
   "metadata": {},
   "outputs": [
    {
     "name": "stdout",
     "output_type": "stream",
     "text": [
      "<class 'torch.utils.data.dataloader.DataLoader'>\n",
      "['_DataLoader__initialized', '_DataLoader__multiprocessing_context', '_IterableDataset_len_called', '__annotations__', '__class__', '__class_getitem__', '__delattr__', '__dict__', '__dir__', '__doc__', '__eq__', '__format__', '__ge__', '__getattribute__', '__getstate__', '__gt__', '__hash__', '__init__', '__init_subclass__', '__iter__', '__le__', '__len__', '__lt__', '__module__', '__ne__', '__new__', '__orig_bases__', '__parameters__', '__reduce__', '__reduce_ex__', '__repr__', '__setattr__', '__sizeof__', '__slots__', '__str__', '__subclasshook__', '__weakref__', '_auto_collation', '_dataset_kind', '_get_iterator', '_index_sampler', '_is_protocol', '_iterator', 'batch_sampler', 'batch_size', 'check_worker_number_rationality', 'collate_fn', 'dataset', 'drop_last', 'generator', 'multiprocessing_context', 'num_workers', 'persistent_workers', 'pin_memory', 'pin_memory_device', 'prefetch_factor', 'sampler', 'timeout', 'worker_init_fn']\n",
      "Cantidad de lotes en training_loader: 709\n",
      "embeddings: torch.Size([4, 768])\n",
      "labels: tensor([ 1, 16,  1,  1])\n"
     ]
    }
   ],
   "source": [
    "print(type(val_loader))\n",
    "print(dir(val_loader))\n",
    "print(\"Cantidad de lotes en training_loader:\", len(val_loader))\n",
    "\n",
    "for i, batch in enumerate(training_loader):\n",
    "    print(f\"embeddings: {batch['embeddings'].shape}\")\n",
    "    print(f\"labels: {batch['label']}\")\n",
    "\n",
    "    break"
   ]
  },
  {
   "cell_type": "code",
   "execution_count": 12,
   "metadata": {},
   "outputs": [],
   "source": [
    "from sklearn.neural_network import MLPClassifier"
   ]
  },
  {
   "cell_type": "code",
   "execution_count": 20,
   "metadata": {},
   "outputs": [],
   "source": [
    "import torch.nn as nn\n",
    "\n",
    "class MLPClassifier(nn.Module):\n",
    "    def __init__(self, input_size, hidden_size, output_size, dropout_prob=0.1):\n",
    "        super(MLPClassifier, self).__init__()\n",
    "        self.fc1 = nn.Linear(input_size, hidden_size)\n",
    "        self.relu = nn.ReLU()\n",
    "        self.dropout = nn.Dropout(dropout_prob)  # Capa de Dropout\n",
    "        self.fc2 = nn.Linear(hidden_size, output_size)\n",
    "\n",
    "    def forward(self, x):\n",
    "        x = self.fc1(x)\n",
    "        x = self.relu(x)\n",
    "        x = self.dropout(x)  # Aplicar Dropout después de la función de activación\n",
    "        x = self.fc2(x)\n",
    "        return x  # La salida será de la forma [batch_size, output_size]\n"
   ]
  },
  {
   "cell_type": "code",
   "execution_count": 21,
   "metadata": {},
   "outputs": [],
   "source": [
    "mlp_model = MLPClassifier(input_size=768, hidden_size=256, output_size=24)\n",
    "mlp_model.to(device)\n",
    "\n",
    "def loss_fn(outputs, targets):\n",
    "    return torch.nn.CrossEntropyLoss()(outputs, targets)\n",
    "\n",
    "optimizer = torch.optim.Adam(params =  mlp_model.parameters(), lr=LEARNING_RATE)\n",
    "\n",
    "for epoch in range(EPOCHS):\n",
    "    mlp_model.train()\n",
    "    total_loss = 0.0\n",
    "    total_correct = 0\n",
    "    total_examples = 0\n",
    "\n",
    "    for batch in training_loader:\n",
    "        embeddings = batch['embeddings']\n",
    "        labels = batch['label']\n",
    "\n",
    "        # Forward pass\n",
    "        outputs = mlp_model(embeddings)\n",
    "        loss = loss_fn(outputs, labels)\n",
    "\n",
    "        # Backward pass and optimization\n",
    "        optimizer.zero_grad()\n",
    "        loss.backward()\n",
    "        optimizer.step()\n",
    "\n",
    "        # Calculate accuracy\n",
    "        _, predicted = torch.max(outputs, 1)\n",
    "        total_correct += torch.sum(predicted == labels).item()\n",
    "        total_examples += labels.size(0)\n",
    "        total_loss += loss.item()\n",
    "\n",
    "    # Calculate epoch-level accuracy and loss\n",
    "    epoch_accuracy = total_correct / total_examples\n",
    "    epoch_loss = total_loss / len(training_loader)\n",
    "\n",
    "    print(f\"Epoch {epoch + 1}:\")\n",
    "    print(f\"  Train Loss: {epoch_loss:.4f} | Train Accuracy: {epoch_accuracy:.4f}\")\n"
   ]
  }
 ],
 "metadata": {
  "kernelspec": {
   "display_name": "zrive-ds-TXjvcAVs-py3.11",
   "language": "python",
   "name": "python3"
  },
  "language_info": {
   "codemirror_mode": {
    "name": "ipython",
    "version": 3
   },
   "file_extension": ".py",
   "mimetype": "text/x-python",
   "name": "python",
   "nbconvert_exporter": "python",
   "pygments_lexer": "ipython3",
   "version": "3.11.0"
  }
 },
 "nbformat": 4,
 "nbformat_minor": 2
}
