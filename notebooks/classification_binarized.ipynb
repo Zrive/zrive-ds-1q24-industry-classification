{
 "cells": [
  {
   "cell_type": "markdown",
   "metadata": {},
   "source": [
    "CLASSIFICATION BINARIZED FOR EACH CLASS."
   ]
  },
  {
   "cell_type": "code",
   "execution_count": 26,
   "metadata": {},
   "outputs": [],
   "source": [
    "import pandas as pd\n",
    "import numpy as np\n",
    "import os\n",
    "from sklearn.svm import SVC\n",
    "from sklearn.discriminant_analysis import LinearDiscriminantAnalysis\n",
    "from sklearn.svm import SVC\n",
    "from sklearn.metrics import classification_report, confusion_matrix, precision_recall_curve,auc, average_precision_score, f1_score,accuracy_score,log_loss\n",
    "from sklearn.preprocessing import label_binarize\n",
    "from itertools import cycle\n",
    "import logging\n",
    "import pandas as pd\n",
    "from typing import Tuple \n",
    "from torch import nn\n",
    "import torch\n",
    "from torch.utils.data import Dataset\n",
    "from sklearn.model_selection import train_test_split\n",
    "from nltk import download\n",
    "from nltk.corpus import wordnet as wn\n",
    "import random\n",
    "import matplotlib.pyplot as plt\n",
    "import nltk\n",
    "from nltk.corpus import stopwords\n",
    "from nltk.tokenize import word_tokenize\n",
    "from gensim.utils import simple_preprocess\n",
    "from typing import List, Set\n",
    "from torch import cuda\n",
    "from transformers import DistilBertTokenizer, DistilBertModel\n",
    "from sklearn.linear_model import LogisticRegression\n",
    "import ast\n"
   ]
  },
  {
   "cell_type": "markdown",
   "metadata": {},
   "source": [
    "# ----------------------------------------------------------------------------------------------------------\n",
    "## CREATION OF EMBBEDINGS\n",
    "# ----------------------------------------------------------------------------------------------------------\n"
   ]
  },
  {
   "cell_type": "code",
   "execution_count": null,
   "metadata": {},
   "outputs": [],
   "source": [
    "ROUTE_BINARIZED_NAICS= '../src/data/DF_NAICS_BINARIZED_BUENO_2.csv'\n",
    "df_naics = pd.read_csv(ROUTE_BINARIZED_NAICS) \n",
    "print(df_naics.head())\n",
    "count_of_ones = df_naics.apply(lambda x: (x == 1).sum())\n",
    "\n",
    "\n",
    "print(count_of_ones)\n",
    "\n",
    "\n",
    "\n",
    "import pandas as pd\n",
    "import nltk\n",
    "from nltk.corpus import stopwords\n",
    "from nltk.tokenize import word_tokenize\n",
    "from nltk.stem import WordNetLemmatizer\n",
    "from nltk import pos_tag\n",
    "\n",
    "# Descargar recursos de NLTK necesarios\n",
    "nltk.download('punkt')\n",
    "nltk.download('stopwords')\n",
    "nltk.download('averaged_perceptron_tagger')\n",
    "nltk.download('wordnet')\n",
    "\n",
    "stop_words = set(stopwords.words('english'))\n",
    "lemmatizer = WordNetLemmatizer()\n",
    "\n",
    "def get_wordnet_pos(treebank_tag):\n",
    "    \"\"\"Convertir el tag de POS de treebank a wordnet tag\"\"\"\n",
    "    if treebank_tag.startswith('J'):\n",
    "        return nltk.corpus.wordnet.ADJ\n",
    "    elif treebank_tag.startswith('V'):\n",
    "        return nltk.corpus.wordnet.VERB\n",
    "    elif treebank_tag.startswith('N'):\n",
    "        return nltk.corpus.wordnet.NOUN\n",
    "    elif treebank_tag.startswith('R'):\n",
    "        return nltk.corpus.wordnet.ADV\n",
    "    else:\n",
    "        return None\n",
    "\n",
    "def preprocess_text(text):\n",
    "    # Tokenizar utilizando NLTK, manteniendo el caso original para el POS tagging\n",
    "    tokens = word_tokenize(text)\n",
    "    # POS tagging\n",
    "    tagged_tokens = pos_tag(tokens)\n",
    "    # Procesamiento basado en POS\n",
    "    processed_tokens = []\n",
    "    for word, tag in tagged_tokens:\n",
    "        # Aplicar lematización solo si no es un nombre propio o un símbolo\n",
    "        if not tag.startswith('NNP') and not tag.startswith('NNPS') and word.isalnum():\n",
    "            wordnet_pos = get_wordnet_pos(tag)  # Obtener el POS compatible con WordNet\n",
    "            if wordnet_pos:\n",
    "                word = lemmatizer.lemmatize(word, pos=wordnet_pos)\n",
    "            else:\n",
    "                word = lemmatizer.lemmatize(word)\n",
    "            word = word.lower()  # Convertir a minúsculas después de lematizar\n",
    "        # Filtrar stopwords y nombres propios, mantener los nombres propios si necesarios\n",
    "        if word.lower() not in stop_words and word.isalnum():\n",
    "            processed_tokens.append(word)\n",
    "    return processed_tokens\n",
    "\n",
    "def preprocess_dataframe(df, column_name):\n",
    "    # Aplicar la función de preprocesamiento al DataFrame\n",
    "    df[column_name] = df[column_name].apply(preprocess_text)\n",
    "    return df\n",
    "\n",
    "\n",
    "\n",
    "df_naics_preprocessed = preprocess_dataframe(df_naics, 'BUSINESS_DESCRIPTION')\n",
    "print(df_naics_preprocessed.head())\n",
    "\n",
    "count_of_ones = df_naics_preprocessed.apply(lambda x: (x == 1).sum())\n",
    "\n",
    "\n",
    "print(count_of_ones)\n",
    "\n",
    "\n",
    "\n",
    "from transformers import DistilBertModel, DistilBertTokenizer\n",
    "import torch\n",
    "from torch.utils.data import Dataset, DataLoader\n",
    "import pandas as pd\n",
    "import numpy as np\n",
    "\n",
    "class CustomDataset(Dataset):\n",
    "    def __init__(self, dataframe, max_len):\n",
    "        self.tokenizer = DistilBertTokenizer.from_pretrained(\"distilbert-base-uncased\")\n",
    "        self.texts = dataframe['BUSINESS_DESCRIPTION'].astype(str).tolist()\n",
    "        self.max_len = max_len\n",
    "        self.model = DistilBertModel.from_pretrained(\"distilbert-base-uncased\")\n",
    "\n",
    "        # Congelar todos los pesos excepto los de la última capa transformer\n",
    "        for name, param in self.model.named_parameters():\n",
    "            if 'transformer.layer.5' not in name:  # Asumiendo que la última capa es la número 5\n",
    "                param.requires_grad = False\n",
    "\n",
    "        self.naics_columns = dataframe.columns[1:].tolist()\n",
    "        self.labels = dataframe[self.naics_columns].values\n",
    "\n",
    "    def __len__(self):\n",
    "        return len(self.texts)\n",
    "\n",
    "    def __getitem__(self, idx):\n",
    "        text = self.texts[idx]\n",
    "        inputs = self.tokenizer(text, return_tensors='pt', padding=True, truncation=True, max_length=self.max_len)\n",
    "        outputs = self.model(**inputs)\n",
    "        embeddings = outputs.last_hidden_state[:, 0, :]  # Obtener solo el primer token (CLS token)\n",
    "\n",
    "        label = self.labels[idx]  # Los labels ya son un array binario para cada fila\n",
    "\n",
    "        return {\n",
    "            'embeddings': embeddings.squeeze().detach().cpu().numpy(),\n",
    "            'labels': label\n",
    "        }\n",
    "\n",
    "def create_dataframe(dataset):\n",
    "    data = []\n",
    "    for i in range(len(dataset)):\n",
    "        item = dataset[i]\n",
    "        row = {'embeddings': item['embeddings']}\n",
    "        row.update({naics: int(label) for naics, label in zip(dataset.naics_columns, item['labels'])})\n",
    "        data.append(row)\n",
    "    df_embeddings = pd.DataFrame(data)\n",
    "    df_embeddings['embeddings'] = df_embeddings['embeddings'].apply(lambda x: list(x))\n",
    "    return df_embeddings\n",
    "\n",
    "dataset = CustomDataset(dataframe=df_naics_preprocessed, max_len=128)\n",
    "df_embeddings_naics = create_dataframe(dataset)\n",
    "print(df_embeddings_naics.head())\n",
    "\n",
    "\n",
    "\n",
    "count_of_ones = df_embeddings_naics.apply(lambda x: (x == 1).sum())\n",
    "\n",
    "\n",
    "print(count_of_ones)"
   ]
  },
  {
   "cell_type": "markdown",
   "metadata": {},
   "source": [
    "# ----------------------------------------------------------------------------------------------------------\n",
    "## LOADING DF EMBBEDINGS AND STARTING WITH MODELS\n",
    "# ----------------------------------------------------------------------------------------------------------"
   ]
  },
  {
   "cell_type": "code",
   "execution_count": 31,
   "metadata": {},
   "outputs": [
    {
     "name": "stdout",
     "output_type": "stream",
     "text": [
      "   Unnamed: 0                                         embeddings  11  21  22  \\\n",
      "0           0  [0.3421159, 0.24559289, 0.003188484, -0.454343...   1   0   1   \n",
      "1           1  [0.37763986, 0.31703675, 0.2015006, -0.1750039...   0   0   0   \n",
      "2           2  [0.3418419, 0.19359905, 0.4428423, -0.11424164...   0   0   0   \n",
      "3           3  [0.19853792, 0.14060616, 0.31806898, -0.309403...   0   0   0   \n",
      "4           4  [0.36185867, 0.218326, 0.29591516, -0.23454015...   0   0   0   \n",
      "\n",
      "   23  31  32  33  42  ...  53  54  55  56  61  62  71  72  81  92  \n",
      "0   1   0   1   0   0  ...   0   0   0   1   0   0   0   0   0   0  \n",
      "1   1   0   1   1   1  ...   0   0   0   0   0   0   0   0   0   0  \n",
      "2   1   0   0   0   0  ...   0   0   0   0   0   0   0   0   0   0  \n",
      "3   1   0   0   0   0  ...   0   0   0   1   0   0   0   0   0   0  \n",
      "4   1   0   0   1   1  ...   1   1   0   1   0   1   0   0   1   0  \n",
      "\n",
      "[5 rows x 26 columns]\n",
      "Unnamed: 0        1\n",
      "embeddings        0\n",
      "11             1162\n",
      "21              706\n",
      "22              930\n",
      "23             7395\n",
      "31              854\n",
      "32             1763\n",
      "33             4819\n",
      "42             3312\n",
      "44              535\n",
      "45              500\n",
      "48             1813\n",
      "49              658\n",
      "51             1346\n",
      "52              423\n",
      "53             1421\n",
      "54            10748\n",
      "55              283\n",
      "56             5631\n",
      "61             2647\n",
      "62             1637\n",
      "71              747\n",
      "72              724\n",
      "81             1996\n",
      "92              230\n",
      "dtype: int64\n"
     ]
    }
   ],
   "source": [
    "ROUTE_BINARIZED_NAICS= '../src/data/BUENO_POR_FIN_2.csv'\n",
    "df_naics = pd.read_csv(ROUTE_BINARIZED_NAICS) \n",
    "print(df_naics.head())\n",
    "count_of_ones = df_naics.apply(lambda x: (x == 1).sum())\n",
    "print(count_of_ones)"
   ]
  },
  {
   "cell_type": "markdown",
   "metadata": {},
   "source": [
    "## balancear clases"
   ]
  },
  {
   "cell_type": "code",
   "execution_count": 28,
   "metadata": {},
   "outputs": [
    {
     "name": "stdout",
     "output_type": "stream",
     "text": [
      "   Unnamed: 0                                         embeddings  11  21  22  \\\n",
      "0           0  [0.3421159, 0.24559289, 0.003188484, -0.454343...   1   0   1   \n",
      "1           1  [0.37763986, 0.31703675, 0.2015006, -0.1750039...   0   0   0   \n",
      "2           2  [0.3418419, 0.19359905, 0.4428423, -0.11424164...   0   0   0   \n",
      "3           3  [0.19853792, 0.14060616, 0.31806898, -0.309403...   0   0   0   \n",
      "4           4  [0.36185867, 0.218326, 0.29591516, -0.23454015...   0   0   0   \n",
      "\n",
      "   23  31  32  33  42  ...  53  54  55  56  61  62  71  72  81  92  \n",
      "0   0   0   0   0   0  ...   0   0   0   0   0   0   0   0   0   0  \n",
      "1   0   0   0   0   0  ...   0   0   0   0   0   0   0   0   0   0  \n",
      "2   0   0   0   0   0  ...   0   0   0   0   0   0   0   0   0   0  \n",
      "3   1   0   0   0   0  ...   0   0   0   1   0   0   0   0   0   0  \n",
      "4   0   0   0   0   0  ...   0   1   0   1   0   1   0   0   0   0  \n",
      "\n",
      "[5 rows x 26 columns]\n",
      "Unnamed: 0       1\n",
      "embeddings       0\n",
      "11            1162\n",
      "21             706\n",
      "22             930\n",
      "23            3623\n",
      "31             854\n",
      "32             878\n",
      "33            2355\n",
      "42            1607\n",
      "44             535\n",
      "45             500\n",
      "48             921\n",
      "49             658\n",
      "51             685\n",
      "52             423\n",
      "53             706\n",
      "54            5363\n",
      "55             283\n",
      "56            2806\n",
      "61            1295\n",
      "62             843\n",
      "71             747\n",
      "72             724\n",
      "81             999\n",
      "92             230\n",
      "dtype: int64\n"
     ]
    },
    {
     "name": "stderr",
     "output_type": "stream",
     "text": [
      "/tmp/ipykernel_18143/2643425263.py:3: FutureWarning: pandas.value_counts is deprecated and will be removed in a future version. Use pd.Series(obj).value_counts() instead.\n",
      "  class_counts = df.iloc[:, 2:].apply(pd.value_counts).loc[1]\n"
     ]
    }
   ],
   "source": [
    "def selectively_reduce_rows(df, threshold=1250, reduction_rate=0.75):\n",
    "    \n",
    "    class_counts = df.iloc[:, 2:].apply(pd.value_counts).loc[1]\n",
    "    classes_to_reduce = class_counts[class_counts > threshold].index.tolist()\n",
    "    keep_prob = 1 - reduction_rate\n",
    "\n",
    "    for class_col in classes_to_reduce:\n",
    "        mask = (df[class_col] == 1)\n",
    "        random_selection = np.random.rand(mask.sum()) > keep_prob \n",
    "        df.loc[mask, class_col] = np.where(random_selection, 0, 1)  \n",
    "\n",
    "    return df\n",
    "\n",
    "df_reduced = selectively_reduce_rows(df_naics, threshold=1250, reduction_rate=0.5)\n",
    "print(df_reduced.head())\n",
    "count_of_ones = df_naics.apply(lambda x: (x == 1).sum())\n",
    "print(count_of_ones)"
   ]
  },
  {
   "cell_type": "code",
   "execution_count": 32,
   "metadata": {},
   "outputs": [
    {
     "name": "stderr",
     "output_type": "stream",
     "text": [
      "/tmp/ipykernel_18143/596625109.py:2: FutureWarning: pandas.value_counts is deprecated and will be removed in a future version. Use pd.Series(obj).value_counts() instead.\n",
      "  counts = df_naics[class_columns].apply(pd.value_counts).loc[1].sort_values()\n"
     ]
    },
    {
     "data": {
      "image/png": "[encoded data removed]",
      "text/plain": [
       "<Figure size 1200x600 with 1 Axes>"
      ]
     },
     "metadata": {},
     "output_type": "display_data"
    },
    {
     "name": "stdout",
     "output_type": "stream",
     "text": [
      "La clase en la posición media del ranking es: 51\n"
     ]
    }
   ],
   "source": [
    "class_columns = df_naics.columns[2:]\n",
    "counts = df_naics[class_columns].apply(pd.value_counts).loc[1].sort_values()\n",
    "\n",
    "middle_class = counts.index[len(counts) // 2]  \n",
    "\n",
    "\n",
    "plt.figure(figsize=(12, 6))\n",
    "counts.sort_values().plot(kind='bar', color='skyblue')\n",
    "plt.title('Cantidad de \"1\" por Clase')\n",
    "plt.xlabel('Clase')\n",
    "plt.ylabel('Cantidad de \"1\"')\n",
    "plt.grid(True)\n",
    "plt.show()\n",
    "\n",
    "print(f\"La clase en la posición media del ranking es: {middle_class}\")\n"
   ]
  },
  {
   "cell_type": "code",
   "execution_count": 50,
   "metadata": {},
   "outputs": [],
   "source": [
    "results = {col: {'unique_ones': 0, 'non_unique_ones': 0} for col in class_columns}\n",
    "\n",
    "# Iterar sobre cada fila y actualizar los conteos\n",
    "for index, row in df_naics.iterrows():\n",
    "    # Contar el número total de '1' en las columnas de clase\n",
    "    total_ones = row[class_columns].sum()\n",
    "    \n",
    "    # Identificar si cada '1' es único o no\n",
    "    for col in class_columns:\n",
    "        if row[col] == 1:\n",
    "            if total_ones == 1:\n",
    "                results[col]['unique_ones'] += 1\n",
    "            else:\n",
    "                results[col]['non_unique_ones'] += 1\n",
    "\n",
    "# Imprimir los resultados\n",
    "for class_name, counts in results.items():\n",
    "    print(f\"Clase {class_name}:\")\n",
    "    print(f\"  '1' únicos: {counts['unique_ones']}\")\n",
    "    print(f\"  '1' no únicos: {counts['non_unique_ones']}\\n\")"
   ]
  },
  {
   "cell_type": "code",
   "execution_count": 33,
   "metadata": {},
   "outputs": [],
   "source": [
    "df_naics['embeddings'] = df_naics['embeddings'].apply(ast.literal_eval)"
   ]
  },
  {
   "cell_type": "markdown",
   "metadata": {},
   "source": [
    "## WITH MORE BALANCED CLASSES, MODELS:"
   ]
  },
  {
   "cell_type": "code",
   "execution_count": 48,
   "metadata": {},
   "outputs": [
    {
     "name": "stdout",
     "output_type": "stream",
     "text": [
      "F1 Score: 0.14038461538461539\n",
      "Matriz de Confusión:\n",
      "[[4964  861]\n",
      " [  33   73]]\n",
      "AUC de la Curva de Precisión-Recall: 0.24\n"
     ]
    },
    {
     "data": {
      "image/png": "[encoded data removed]",
      "text/plain": [
       "<Figure size 640x480 with 1 Axes>"
      ]
     },
     "metadata": {},
     "output_type": "display_data"
    }
   ],
   "source": [
    "\n",
    "# Convertir lista de listas a un array de NumPy para X\n",
    "X = np.array(df_naics['embeddings'].tolist())\n",
    "y = df_naics['44']\n",
    "\n",
    "# Dividir los datos en conjuntos de entrenamiento y prueba\n",
    "X_train, X_test, y_train, y_test = train_test_split(X, y, test_size=0.2, random_state=42)\n",
    "\n",
    "# Entrenar un modelo de regresión logística con balanceo de clase\n",
    "model = LogisticRegression(class_weight='balanced',C=0.3, max_iter=1000)\n",
    "model.fit(X_train, y_train)\n",
    "\n",
    "# Realizar predicciones en el conjunto de prueba\n",
    "y_pred = model.predict(X_test)\n",
    "y_scores = model.predict_proba(X_test)[:, 1]  # probabilidades para la clase positiva\n",
    "\n",
    "# Calcular el F1 score\n",
    "f1 = f1_score(y_test, y_pred)\n",
    "print(f'F1 Score: {f1}')\n",
    "\n",
    "# Calcular y mostrar la matriz de confusión\n",
    "conf_matrix = confusion_matrix(y_test, y_pred)\n",
    "print('Matriz de Confusión:')\n",
    "print(conf_matrix)\n",
    "\n",
    "# Curva de Precisión-Recall y AUC\n",
    "precision, recall, _ = precision_recall_curve(y_test, y_scores)\n",
    "auc_score = auc(recall, precision)\n",
    "print(f'AUC de la Curva de Precisión-Recall: {auc_score:.2f}')\n",
    "\n",
    "plt.figure()\n",
    "plt.plot(recall, precision, marker='.', label=f'AUC = {auc_score:.2f}')\n",
    "plt.title('Curva de Precisión-Recall para la clase 31')\n",
    "plt.xlabel('Recall (Sensibilidad)')\n",
    "plt.ylabel('Precision')\n",
    "plt.legend()\n",
    "plt.grid(True)\n",
    "plt.show()"
   ]
  }
 ],
 "metadata": {
  "kernelspec": {
   "display_name": "zrive-ds-J_lydEot-py3.11",
   "language": "python",
   "name": "python3"
  },
  "language_info": {
   "codemirror_mode": {
    "name": "ipython",
    "version": 3
   },
   "file_extension": ".py",
   "mimetype": "text/x-python",
   "name": "python",
   "nbconvert_exporter": "python",
   "pygments_lexer": "ipython3",
   "version": "3.11.0"
  }
 },
 "nbformat": 4,
 "nbformat_minor": 2
}
