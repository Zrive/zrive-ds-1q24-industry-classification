{
 "cells": [
  {
   "cell_type": "markdown",
   "metadata": {},
   "source": [
    "## same approach, a binarized individual problem for each category.\n",
    "\n",
    "in total, there are  96 types of naics code of 3 digits truncated. In any case, there are some cases where in the step from 2-->3 digits, nothing will change since there is only one subcategory of 3 digits for some of the 2 digits classes.\n",
    "\n",
    "let's start by obtaining such df."
   ]
  },
  {
   "cell_type": "code",
   "execution_count": null,
   "metadata": {
    "vscode": {
     "languageId": "plaintext"
    }
   },
   "outputs": [],
   "source": []
  }
 ],
 "metadata": {
  "language_info": {
   "name": "python"
  }
 },
 "nbformat": 4,
 "nbformat_minor": 2
}
