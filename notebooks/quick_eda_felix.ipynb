{
 "cells": [
  {
   "cell_type": "code",
   "execution_count": 35,
   "metadata": {},
   "outputs": [],
   "source": [
    "%reset -f"
   ]
  },
  {
   "cell_type": "code",
   "execution_count": 92,
   "metadata": {},
   "outputs": [],
   "source": [
    "import pandas as pd\n",
    "import os\n",
    "import numpy as np"
   ]
  },
  {
   "cell_type": "code",
   "execution_count": 39,
   "metadata": {},
   "outputs": [],
   "source": [
    "current_directory = os.getcwd()\n",
    "data_path = current_directory +\"/../../DATA/\"\n",
    "\n",
    "csv1_name = 'sba_dataset.csv'\n",
    "csv2_name = 'SBS_Certified_Business_List.csv'\n",
    "csv3_name = 'subsectors_description_Kodiak.csv'\n",
    "\n",
    "path1 = data_path + csv1_name\n",
    "path2 = data_path + csv2_name\n",
    "path3 = data_path + csv3_name\n",
    "\n",
    "dat1 = pd.read_csv(path1)\n",
    "dat2 = pd.read_csv(path2)\n",
    "dat3 = pd.read_csv(path3)"
   ]
  },
  {
   "cell_type": "code",
   "execution_count": 38,
   "metadata": {},
   "outputs": [],
   "source": [
    "def short_dataframe_by_number_of_nulls(df):\n",
    "\n",
    "    null_counts = df.isnull().sum()\n",
    "    sorted_columns = null_counts.sort_values()\n",
    "    sorted_column_names = sorted_columns.index.tolist()\n",
    "    df_shorted = df[sorted_column_names]\n",
    "    return df_shorted"
   ]
  },
  {
   "cell_type": "code",
   "execution_count": 45,
   "metadata": {},
   "outputs": [],
   "source": [
    "dat1 = short_dataframe_by_number_of_nulls(dat1)\n",
    "dat2 = short_dataframe_by_number_of_nulls(dat2)\n",
    "dat3 = short_dataframe_by_number_of_nulls(dat3)"
   ]
  },
  {
   "cell_type": "code",
   "execution_count": 67,
   "metadata": {},
   "outputs": [
    {
     "name": "stdout",
     "output_type": "stream",
     "text": [
      "<class 'pandas.core.frame.DataFrame'>\n",
      "RangeIndex: 65286 entries, 0 to 65285\n",
      "Data columns (total 22 columns):\n",
      " #   Column                         Non-Null Count  Dtype  \n",
      "---  ------                         --------------  -----  \n",
      " 0   BUSINESS_NAME                  65286 non-null  object \n",
      " 1   FULL_ADDRESS                   65286 non-null  object \n",
      " 2   TS                             65286 non-null  object \n",
      " 3   CONTACT                        65285 non-null  object \n",
      " 4   YEAR_ESTABLISHED               65282 non-null  float64\n",
      " 5   MAIN_OR_BRANCH                 65282 non-null  object \n",
      " 6   EMAIL_ADDRESS                  65281 non-null  object \n",
      " 7   NAICS                          65281 non-null  object \n",
      " 8   PHONE_NUMBER                   65256 non-null  object \n",
      " 9   LEGAL_STRUCTURE                64498 non-null  object \n",
      " 10  WEBPAGE                        27092 non-null  object \n",
      " 11  DESCRIPTION_KEYWORDS           23081 non-null  object \n",
      " 12  IS_EXPORTER                    17740 non-null  object \n",
      " 13  DESCRIPTION_OF_OPERATIONS      16580 non-null  object \n",
      " 14  BUSINESS_OPT_TYPE              12994 non-null  object \n",
      " 15  EMALL_PAGE_URL                 10637 non-null  object \n",
      " 16  SPECIAL_EQUIPMENT_MATERIALS    6200 non-null   object \n",
      " 17  EXPORT_BUSINESS_ACTIVITIES     3658 non-null   object \n",
      " 18  EXPORT_BUSINESS_RELATIONSHIPS  3441 non-null   object \n",
      " 19  EXPORT_OBJECTIVE               3326 non-null   object \n",
      " 20  EXPORT_COUNTRIES               3094 non-null   object \n",
      " 21  QUALITY_ASSURANCE_STANDARDS    2364 non-null   object \n",
      "dtypes: float64(1), object(21)\n",
      "memory usage: 11.0+ MB\n"
     ]
    }
   ],
   "source": [
    "dat1.info()"
   ]
  },
  {
   "cell_type": "markdown",
   "metadata": {},
   "source": [
    "- Some useful columns:\n",
    "\n",
    "BUSINESS_NAME: Name of a the company. Probably the ID of the dataset\n",
    "\n",
    "NAICS: The identification code for the company. This is the variable we want to predict. Note: there are multiple values for each company, and we don't know the reason yet.\n",
    "\n",
    "YEAR_ESTABLISHED: When the company started\n",
    "\n",
    "WEBPAGE*: The website of the company\n",
    "\n",
    "EMALL_PAGE_URL*: Another website\n",
    "\n",
    "DESCRIPTION_KEYWORDS*: Some key words about what the company does. This is not a summary of the column DESCRIPTION_OF_OPERATIONS, since the can have really different \n",
    "\n",
    "IS_EXPORTER*: Possible values: No, Yes, Wants to be\n",
    "\n",
    "DESCRIPTION_OF_OPERATIONS*: This value doesn't match with  DESCRIPTION_KEYWORDS\n",
    "\n",
    "BUSINESS_OPT_TYPE*: A classification of the business\n",
    "\n",
    "SPECIAL_EQUIPMENT_MATERIALS**:  Maybe products or items the sell \n",
    "\n",
    "EXPORT_BUSINESS_ACTIVITIES**: This column has similar information than BUSINESS_OPT_TYPE when they are both not null. \n",
    "\n",
    "EXPORT_BUSINESS_RELATIONSHIPS**: To whom the company sell\n",
    "\n",
    "EXPORT_OBJECTIVE**: A goal of the company     \n",
    "\n",
    "EXPORT_COUNTRIES**: To which countries the company sell\n",
    "\n",
    "QUALITY_ASSURANCE_STANDARDS**: Some  quality guidelines or standards.    \n",
    "\n",
    "\n",
    "- Contact columns\n",
    "\n",
    "FULL_ADDRESS: Address of the company\n",
    "\n",
    "CONTACT: The contact person \n",
    "\n",
    "EMAIL_ADDRESS: The email of the contact person\n",
    "\n",
    "PHONE_NUMBER: The phone number of the contact person \n",
    "\n",
    "- Don't understand columns\n",
    "\n",
    "LEGAL_STRUCTURE: this column have the following values: LL, CP, SC, SL, PS.\n",
    "\n",
    "MAIN_OR_BRANCH\n",
    "\n",
    "\n",
    "\n",
    "NOTE:\n",
    "\n",
    "Size of the dataset: 65286 \n",
    "\n",
    "\\* less than 30000 non_nulls\n",
    "\n",
    "** less than 10000 non_nulls\n",
    "\n"
   ]
  },
  {
   "cell_type": "code",
   "execution_count": 124,
   "metadata": {},
   "outputs": [],
   "source": [
    "df_doo = dat1[['DESCRIPTION_OF_OPERATIONS','NAICS']]\n",
    "df_doo_not_null = df_doo[df_doo['DESCRIPTION_OF_OPERATIONS'].notnull() & df_doo['NAICS'].notnull()]\n"
   ]
  },
  {
   "cell_type": "code",
   "execution_count": 140,
   "metadata": {},
   "outputs": [],
   "source": [
    "n = len(df_doo_not_null['NAICS'])\n",
    "unique_NAICS = np.full(n, False, dtype=bool)\n",
    "\n",
    "for i in range(n):\n",
    "    \n",
    "    if (len(df_doo_not_null['NAICS'].iloc[i]) == 6):\n",
    "        unique_NAICS[i] = True"
   ]
  },
  {
   "cell_type": "code",
   "execution_count": 143,
   "metadata": {},
   "outputs": [
    {
     "data": {
      "text/plain": [
       "(array([False,  True]), array([13821,  2757]))"
      ]
     },
     "execution_count": 143,
     "metadata": {},
     "output_type": "execute_result"
    }
   ],
   "source": [
    "np.unique(unique_NAICS, return_counts=True)"
   ]
  },
  {
   "cell_type": "code",
   "execution_count": 95,
   "metadata": {},
   "outputs": [
    {
     "data": {
      "text/plain": [
       "65286"
      ]
     },
     "execution_count": 95,
     "metadata": {},
     "output_type": "execute_result"
    }
   ],
   "source": [
    "len(dat1['NAICS'])"
   ]
  },
  {
   "cell_type": "markdown",
   "metadata": {},
   "source": [
    "'sba_dataset.csv'\n",
    "- Number of observations: 65286\n",
    "- Number of observations with DESCRIPTION_OF_OPERATIONS=!null and unique NAICS: 2757"
   ]
  },
  {
   "cell_type": "code",
   "execution_count": 151,
   "metadata": {},
   "outputs": [
    {
     "data": {
      "text/plain": [
       "6505"
      ]
     },
     "execution_count": 151,
     "metadata": {},
     "output_type": "execute_result"
    }
   ],
   "source": [
    "df_doo_null_and_dk_not_nulls = dat1[dat1['DESCRIPTION_OF_OPERATIONS'].isnull() & dat1['NAICS'].notnull() & dat1['DESCRIPTION_KEYWORDS'].notnull()]\n",
    "len(df_doo_null_and_dk_not_nulls)"
   ]
  },
  {
   "cell_type": "markdown",
   "metadata": {},
   "source": [
    "Potential new rows to be analyzed with \n",
    "- DESCRIPTION_OF_OPERATIONS==null \n",
    "- DESCRIPTION_KEYWORDS=!null\n",
    "DESCRIPTION_KEYWORDS could ben an interesting value"
   ]
  }
 ],
 "metadata": {
  "kernelspec": {
   "display_name": ".venv",
   "language": "python",
   "name": "python3"
  },
  "language_info": {
   "codemirror_mode": {
    "name": "ipython",
    "version": 3
   },
   "file_extension": ".py",
   "mimetype": "text/x-python",
   "name": "python",
   "nbconvert_exporter": "python",
   "pygments_lexer": "ipython3",
   "version": "3.11.0"
  }
 },
 "nbformat": 4,
 "nbformat_minor": 2
}
