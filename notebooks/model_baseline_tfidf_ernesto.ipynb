{
 "cells": [
  {
   "cell_type": "markdown",
   "metadata": {},
   "source": [
    "# Baseline model to predict the first two digits of NAICS\n",
    "\n",
    "The objective of this notebook is to create a baseline model to predict the first two digits of the NAICS code.\n",
    "\n",
    "The main idea is to use TF-IDF to vectorize the text data and then try some simple models to predict the first two digits of the NAICS code.\n"
   ]
  },
  {
   "cell_type": "code",
   "execution_count": 1,
   "metadata": {},
   "outputs": [],
   "source": [
    "import pandas as pd\n",
    "import numpy as np\n",
    "import os"
   ]
  },
  {
   "cell_type": "code",
   "execution_count": 2,
   "metadata": {},
   "outputs": [],
   "source": [
    "DATA_DIR = os.path.abspath(os.path.join(os.getcwd(), \"../\", \"data\"))\n",
    "NAICS_DATA = os.path.join(DATA_DIR, \"processed/coverwallet.xlsx\")\n",
    "SYNTHETIC_DATA = os.path.join(DATA_DIR, \"processed/total_naics_synthetic.csv\")"
   ]
  },
  {
   "cell_type": "code",
   "execution_count": 20,
   "metadata": {},
   "outputs": [],
   "source": [
    "df = pd.read_excel(NAICS_DATA)"
   ]
  },
  {
   "cell_type": "code",
   "execution_count": 21,
   "metadata": {},
   "outputs": [
    {
     "name": "stdout",
     "output_type": "stream",
     "text": [
      "<class 'pandas.core.frame.DataFrame'>\n",
      "RangeIndex: 14182 entries, 0 to 14181\n",
      "Data columns (total 2 columns):\n",
      " #   Column                Non-Null Count  Dtype  \n",
      "---  ------                --------------  -----  \n",
      " 0   NAICS                 14180 non-null  float64\n",
      " 1   BUSINESS_DESCRIPTION  14177 non-null  object \n",
      "dtypes: float64(1), object(1)\n",
      "memory usage: 221.7+ KB\n"
     ]
    }
   ],
   "source": [
    "df.info()"
   ]
  },
  {
   "cell_type": "code",
   "execution_count": 22,
   "metadata": {},
   "outputs": [
    {
     "data": {
      "text/html": [
       "<div>\n",
       "<style scoped>\n",
       "    .dataframe tbody tr th:only-of-type {\n",
       "        vertical-align: middle;\n",
       "    }\n",
       "\n",
       "    .dataframe tbody tr th {\n",
       "        vertical-align: top;\n",
       "    }\n",
       "\n",
       "    .dataframe thead th {\n",
       "        text-align: right;\n",
       "    }\n",
       "</style>\n",
       "<table border=\"1\" class=\"dataframe\">\n",
       "  <thead>\n",
       "    <tr style=\"text-align: right;\">\n",
       "      <th></th>\n",
       "      <th>NAICS</th>\n",
       "      <th>BUSINESS_DESCRIPTION</th>\n",
       "    </tr>\n",
       "  </thead>\n",
       "  <tbody>\n",
       "    <tr>\n",
       "      <th>0</th>\n",
       "      <td>722511.0</td>\n",
       "      <td>Zenyai Viet Cajun &amp; Pho Restaurant is dedicate...</td>\n",
       "    </tr>\n",
       "    <tr>\n",
       "      <th>1</th>\n",
       "      <td>541330.0</td>\n",
       "      <td>Kilduff Underground Engineering, Inc. (KUE) is...</td>\n",
       "    </tr>\n",
       "    <tr>\n",
       "      <th>2</th>\n",
       "      <td>453998.0</td>\n",
       "      <td>024™ is a premium home fragrance brand that de...</td>\n",
       "    </tr>\n",
       "    <tr>\n",
       "      <th>3</th>\n",
       "      <td>561720.0</td>\n",
       "      <td>Our Services include Office Cleaning Carpet cl...</td>\n",
       "    </tr>\n",
       "    <tr>\n",
       "      <th>4</th>\n",
       "      <td>621610.0</td>\n",
       "      <td>NYS Licensed Home Health Agency</td>\n",
       "    </tr>\n",
       "  </tbody>\n",
       "</table>\n",
       "</div>"
      ],
      "text/plain": [
       "      NAICS                               BUSINESS_DESCRIPTION\n",
       "0  722511.0  Zenyai Viet Cajun & Pho Restaurant is dedicate...\n",
       "1  541330.0  Kilduff Underground Engineering, Inc. (KUE) is...\n",
       "2  453998.0  024™ is a premium home fragrance brand that de...\n",
       "3  561720.0  Our Services include Office Cleaning Carpet cl...\n",
       "4  621610.0                    NYS Licensed Home Health Agency"
      ]
     },
     "execution_count": 22,
     "metadata": {},
     "output_type": "execute_result"
    }
   ],
   "source": [
    "df.head()"
   ]
  },
  {
   "cell_type": "code",
   "execution_count": 23,
   "metadata": {},
   "outputs": [
    {
     "data": {
      "text/html": [
       "<div>\n",
       "<style scoped>\n",
       "    .dataframe tbody tr th:only-of-type {\n",
       "        vertical-align: middle;\n",
       "    }\n",
       "\n",
       "    .dataframe tbody tr th {\n",
       "        vertical-align: top;\n",
       "    }\n",
       "\n",
       "    .dataframe thead th {\n",
       "        text-align: right;\n",
       "    }\n",
       "</style>\n",
       "<table border=\"1\" class=\"dataframe\">\n",
       "  <thead>\n",
       "    <tr style=\"text-align: right;\">\n",
       "      <th></th>\n",
       "      <th>NAICS</th>\n",
       "      <th>BUSINESS_DESCRIPTION</th>\n",
       "    </tr>\n",
       "  </thead>\n",
       "  <tbody>\n",
       "    <tr>\n",
       "      <th>1248</th>\n",
       "      <td>561311.0</td>\n",
       "      <td>NaN</td>\n",
       "    </tr>\n",
       "    <tr>\n",
       "      <th>1492</th>\n",
       "      <td>325992.0</td>\n",
       "      <td>NaN</td>\n",
       "    </tr>\n",
       "    <tr>\n",
       "      <th>1989</th>\n",
       "      <td>811310.0</td>\n",
       "      <td>NaN</td>\n",
       "    </tr>\n",
       "    <tr>\n",
       "      <th>5196</th>\n",
       "      <td>541430.0</td>\n",
       "      <td>NaN</td>\n",
       "    </tr>\n",
       "    <tr>\n",
       "      <th>9149</th>\n",
       "      <td>541990.0</td>\n",
       "      <td>NaN</td>\n",
       "    </tr>\n",
       "    <tr>\n",
       "      <th>11535</th>\n",
       "      <td>NaN</td>\n",
       "      <td>JRC GROUP LLC. Is an ASSET BASED freight broke...</td>\n",
       "    </tr>\n",
       "    <tr>\n",
       "      <th>13486</th>\n",
       "      <td>NaN</td>\n",
       "      <td>Consulting services for Facility Asset Managem...</td>\n",
       "    </tr>\n",
       "  </tbody>\n",
       "</table>\n",
       "</div>"
      ],
      "text/plain": [
       "          NAICS                               BUSINESS_DESCRIPTION\n",
       "1248   561311.0                                                NaN\n",
       "1492   325992.0                                                NaN\n",
       "1989   811310.0                                                NaN\n",
       "5196   541430.0                                                NaN\n",
       "9149   541990.0                                                NaN\n",
       "11535       NaN  JRC GROUP LLC. Is an ASSET BASED freight broke...\n",
       "13486       NaN  Consulting services for Facility Asset Managem..."
      ]
     },
     "execution_count": 23,
     "metadata": {},
     "output_type": "execute_result"
    }
   ],
   "source": [
    "# null data rows\n",
    "df[df.isnull().any(axis=1)]"
   ]
  },
  {
   "cell_type": "code",
   "execution_count": 24,
   "metadata": {},
   "outputs": [],
   "source": [
    "df.dropna(inplace=True)"
   ]
  },
  {
   "cell_type": "code",
   "execution_count": 25,
   "metadata": {},
   "outputs": [],
   "source": [
    "synthetic_df = pd.read_csv(SYNTHETIC_DATA)"
   ]
  },
  {
   "cell_type": "code",
   "execution_count": 26,
   "metadata": {},
   "outputs": [
    {
     "data": {
      "text/html": [
       "<div>\n",
       "<style scoped>\n",
       "    .dataframe tbody tr th:only-of-type {\n",
       "        vertical-align: middle;\n",
       "    }\n",
       "\n",
       "    .dataframe tbody tr th {\n",
       "        vertical-align: top;\n",
       "    }\n",
       "\n",
       "    .dataframe thead th {\n",
       "        text-align: right;\n",
       "    }\n",
       "</style>\n",
       "<table border=\"1\" class=\"dataframe\">\n",
       "  <thead>\n",
       "    <tr style=\"text-align: right;\">\n",
       "      <th></th>\n",
       "      <th>NAICS</th>\n",
       "      <th>BUSINESS_DESCRIPTION</th>\n",
       "      <th>NAICS_2</th>\n",
       "    </tr>\n",
       "  </thead>\n",
       "  <tbody>\n",
       "    <tr>\n",
       "      <th>0</th>\n",
       "      <td>211111</td>\n",
       "      <td>This establishment is engaged in the explorati...</td>\n",
       "      <td>21</td>\n",
       "    </tr>\n",
       "    <tr>\n",
       "      <th>1</th>\n",
       "      <td>212311</td>\n",
       "      <td>This business is involved in the mining and qu...</td>\n",
       "      <td>21</td>\n",
       "    </tr>\n",
       "    <tr>\n",
       "      <th>2</th>\n",
       "      <td>212321</td>\n",
       "      <td>This company specializes in the mining and pro...</td>\n",
       "      <td>21</td>\n",
       "    </tr>\n",
       "    <tr>\n",
       "      <th>3</th>\n",
       "      <td>213112</td>\n",
       "      <td>This establishment is engaged in the explorati...</td>\n",
       "      <td>21</td>\n",
       "    </tr>\n",
       "    <tr>\n",
       "      <th>4</th>\n",
       "      <td>213115</td>\n",
       "      <td>This business provides support services for oi...</td>\n",
       "      <td>21</td>\n",
       "    </tr>\n",
       "  </tbody>\n",
       "</table>\n",
       "</div>"
      ],
      "text/plain": [
       "    NAICS                               BUSINESS_DESCRIPTION  NAICS_2\n",
       "0  211111  This establishment is engaged in the explorati...       21\n",
       "1  212311  This business is involved in the mining and qu...       21\n",
       "2  212321  This company specializes in the mining and pro...       21\n",
       "3  213112  This establishment is engaged in the explorati...       21\n",
       "4  213115  This business provides support services for oi...       21"
      ]
     },
     "execution_count": 26,
     "metadata": {},
     "output_type": "execute_result"
    }
   ],
   "source": [
    "synthetic_df.rename(columns={\"naics_2\": \"NAICS_2\"}, inplace=True)\n",
    "synthetic_df.head()"
   ]
  },
  {
   "cell_type": "markdown",
   "metadata": {},
   "source": [
    "We will use the first two digits of NAICS, so let's create a new column with this information.\n"
   ]
  },
  {
   "cell_type": "code",
   "execution_count": 27,
   "metadata": {},
   "outputs": [
    {
     "data": {
      "text/html": [
       "<div>\n",
       "<style scoped>\n",
       "    .dataframe tbody tr th:only-of-type {\n",
       "        vertical-align: middle;\n",
       "    }\n",
       "\n",
       "    .dataframe tbody tr th {\n",
       "        vertical-align: top;\n",
       "    }\n",
       "\n",
       "    .dataframe thead th {\n",
       "        text-align: right;\n",
       "    }\n",
       "</style>\n",
       "<table border=\"1\" class=\"dataframe\">\n",
       "  <thead>\n",
       "    <tr style=\"text-align: right;\">\n",
       "      <th></th>\n",
       "      <th>NAICS</th>\n",
       "      <th>BUSINESS_DESCRIPTION</th>\n",
       "      <th>NAICS_2</th>\n",
       "    </tr>\n",
       "  </thead>\n",
       "  <tbody>\n",
       "    <tr>\n",
       "      <th>0</th>\n",
       "      <td>722511.0</td>\n",
       "      <td>Zenyai Viet Cajun &amp; Pho Restaurant is dedicate...</td>\n",
       "      <td>72</td>\n",
       "    </tr>\n",
       "    <tr>\n",
       "      <th>1</th>\n",
       "      <td>541330.0</td>\n",
       "      <td>Kilduff Underground Engineering, Inc. (KUE) is...</td>\n",
       "      <td>54</td>\n",
       "    </tr>\n",
       "    <tr>\n",
       "      <th>2</th>\n",
       "      <td>453998.0</td>\n",
       "      <td>024™ is a premium home fragrance brand that de...</td>\n",
       "      <td>45</td>\n",
       "    </tr>\n",
       "    <tr>\n",
       "      <th>3</th>\n",
       "      <td>561720.0</td>\n",
       "      <td>Our Services include Office Cleaning Carpet cl...</td>\n",
       "      <td>56</td>\n",
       "    </tr>\n",
       "    <tr>\n",
       "      <th>4</th>\n",
       "      <td>621610.0</td>\n",
       "      <td>NYS Licensed Home Health Agency</td>\n",
       "      <td>62</td>\n",
       "    </tr>\n",
       "  </tbody>\n",
       "</table>\n",
       "</div>"
      ],
      "text/plain": [
       "      NAICS                               BUSINESS_DESCRIPTION  NAICS_2\n",
       "0  722511.0  Zenyai Viet Cajun & Pho Restaurant is dedicate...       72\n",
       "1  541330.0  Kilduff Underground Engineering, Inc. (KUE) is...       54\n",
       "2  453998.0  024™ is a premium home fragrance brand that de...       45\n",
       "3  561720.0  Our Services include Office Cleaning Carpet cl...       56\n",
       "4  621610.0                    NYS Licensed Home Health Agency       62"
      ]
     },
     "execution_count": 27,
     "metadata": {},
     "output_type": "execute_result"
    }
   ],
   "source": [
    "df[\"NAICS_2\"] = df[\"NAICS\"].astype(str).str[:2].astype(int)\n",
    "df.head()"
   ]
  },
  {
   "cell_type": "code",
   "execution_count": 28,
   "metadata": {},
   "outputs": [
    {
     "data": {
      "text/plain": [
       "NAICS_2\n",
       "54    4202\n",
       "23    2976\n",
       "56    1159\n",
       "61     751\n",
       "33     682\n",
       "42     650\n",
       "62     517\n",
       "81     488\n",
       "51     380\n",
       "72     333\n",
       "53     331\n",
       "71     300\n",
       "48     270\n",
       "32     241\n",
       "45     240\n",
       "31     184\n",
       "52     162\n",
       "44     148\n",
       "49      45\n",
       "22      32\n",
       "92      30\n",
       "11      26\n",
       "55      15\n",
       "21      13\n",
       "Name: count, dtype: int64"
      ]
     },
     "execution_count": 28,
     "metadata": {},
     "output_type": "execute_result"
    }
   ],
   "source": [
    "df[\"NAICS_2\"].value_counts()"
   ]
  },
  {
   "cell_type": "markdown",
   "metadata": {},
   "source": [
    "The dataset is certainly imbalanced, so we will use the `stratify` parameter in the `train_test_split` function to ensure that the distribution of the target variable is the same in the training and test sets.\n"
   ]
  },
  {
   "cell_type": "code",
   "execution_count": 29,
   "metadata": {},
   "outputs": [
    {
     "data": {
      "text/plain": [
       "((11340,), (2835,), (11340,), (2835,))"
      ]
     },
     "execution_count": 29,
     "metadata": {},
     "output_type": "execute_result"
    }
   ],
   "source": [
    "from sklearn.model_selection import train_test_split\n",
    "\n",
    "X = df[\"BUSINESS_DESCRIPTION\"]\n",
    "y = df[\"NAICS_2\"]\n",
    "\n",
    "X_train, X_test, y_train, y_test = train_test_split(\n",
    "    X, y, test_size=0.2, random_state=42, stratify=y\n",
    ")\n",
    "X_train.shape, X_test.shape, y_train.shape, y_test.shape"
   ]
  },
  {
   "cell_type": "code",
   "execution_count": 30,
   "metadata": {},
   "outputs": [],
   "source": [
    "# add synthetic data to training data\n",
    "X_train = pd.concat([X_train, synthetic_df[\"BUSINESS_DESCRIPTION\"]])\n",
    "y_train = pd.concat([y_train, synthetic_df[\"NAICS_2\"]])"
   ]
  },
  {
   "cell_type": "code",
   "execution_count": 31,
   "metadata": {},
   "outputs": [
    {
     "data": {
      "text/plain": [
       "((12990,), (2835,), (12990,), (2835,))"
      ]
     },
     "execution_count": 31,
     "metadata": {},
     "output_type": "execute_result"
    }
   ],
   "source": [
    "X_train.shape, X_test.shape, y_train.shape, y_test.shape"
   ]
  },
  {
   "cell_type": "code",
   "execution_count": 32,
   "metadata": {},
   "outputs": [
    {
     "name": "stdout",
     "output_type": "stream",
     "text": [
      "NAICS_2\n",
      "54    3361\n",
      "23    2381\n",
      "56     927\n",
      "61     601\n",
      "33     552\n",
      "42     520\n",
      "62     414\n",
      "81     390\n",
      "48     307\n",
      "51     304\n",
      "55     272\n",
      "72     266\n",
      "22     266\n",
      "53     265\n",
      "21     250\n",
      "71     240\n",
      "11     231\n",
      "52     230\n",
      "92     224\n",
      "31     223\n",
      "44     218\n",
      "32     211\n",
      "45     192\n",
      "49     145\n",
      "Name: count, dtype: int64\n"
     ]
    }
   ],
   "source": [
    "print(y_train.value_counts())"
   ]
  },
  {
   "cell_type": "code",
   "execution_count": 33,
   "metadata": {},
   "outputs": [
    {
     "name": "stdout",
     "output_type": "stream",
     "text": [
      "NAICS_2\n",
      "54    841\n",
      "23    595\n",
      "56    232\n",
      "61    150\n",
      "33    136\n",
      "42    130\n",
      "62    103\n",
      "81     98\n",
      "51     76\n",
      "72     67\n",
      "53     66\n",
      "71     60\n",
      "48     54\n",
      "45     48\n",
      "32     48\n",
      "31     37\n",
      "52     32\n",
      "44     30\n",
      "49      9\n",
      "92      6\n",
      "22      6\n",
      "11      5\n",
      "55      3\n",
      "21      3\n",
      "Name: count, dtype: int64\n"
     ]
    }
   ],
   "source": [
    "print(y_test.value_counts())"
   ]
  },
  {
   "cell_type": "markdown",
   "metadata": {},
   "source": [
    "## KMeans classifier\n"
   ]
  },
  {
   "cell_type": "code",
   "execution_count": 34,
   "metadata": {},
   "outputs": [],
   "source": [
    "from sklearn.feature_extraction.text import TfidfVectorizer\n",
    "from sklearn.pipeline import Pipeline\n",
    "from sklearn.neighbors import KNeighborsClassifier\n",
    "from sklearn.metrics import classification_report"
   ]
  },
  {
   "cell_type": "code",
   "execution_count": 35,
   "metadata": {},
   "outputs": [
    {
     "name": "stdout",
     "output_type": "stream",
     "text": [
      "              precision    recall  f1-score   support\n",
      "\n",
      "          11       0.09      0.20      0.12         5\n",
      "          21       0.06      0.33      0.10         3\n",
      "          22       0.06      0.17      0.09         6\n",
      "          23       0.70      0.87      0.78       595\n",
      "          31       0.38      0.38      0.38        37\n",
      "          32       0.48      0.33      0.40        48\n",
      "          33       0.60      0.35      0.44       136\n",
      "          42       0.19      0.58      0.29       130\n",
      "          44       0.33      0.17      0.22        30\n",
      "          45       0.64      0.15      0.24        48\n",
      "          48       0.51      0.72      0.60        54\n",
      "          49       0.75      0.33      0.46         9\n",
      "          51       0.45      0.18      0.26        76\n",
      "          52       0.67      0.69      0.68        32\n",
      "          53       0.76      0.68      0.72        66\n",
      "          54       0.79      0.72      0.75       841\n",
      "          55       0.00      0.00      0.00         3\n",
      "          56       0.79      0.63      0.70       232\n",
      "          61       0.66      0.52      0.58       150\n",
      "          62       0.70      0.55      0.62       103\n",
      "          71       0.41      0.18      0.25        60\n",
      "          72       0.83      0.52      0.64        67\n",
      "          81       0.51      0.19      0.28        98\n",
      "          92       0.17      0.17      0.17         6\n",
      "\n",
      "    accuracy                           0.62      2835\n",
      "   macro avg       0.48      0.40      0.41      2835\n",
      "weighted avg       0.67      0.62      0.62      2835\n",
      "\n"
     ]
    }
   ],
   "source": [
    "clf = Pipeline(\n",
    "    [\n",
    "        (\"vectorizer_tfidf\", TfidfVectorizer()),\n",
    "        (\"KNN\", KNeighborsClassifier(n_neighbors=5)),\n",
    "    ]\n",
    ")\n",
    "\n",
    "clf.fit(X_train, y_train)\n",
    "\n",
    "y_pred = clf.predict(X_test)\n",
    "\n",
    "print(classification_report(y_test, y_pred))"
   ]
  },
  {
   "cell_type": "markdown",
   "metadata": {},
   "source": [
    "## Naive Bayes classifier\n"
   ]
  },
  {
   "cell_type": "code",
   "execution_count": 36,
   "metadata": {},
   "outputs": [
    {
     "name": "stdout",
     "output_type": "stream",
     "text": [
      "              precision    recall  f1-score   support\n",
      "\n",
      "          11       1.00      0.20      0.33         5\n",
      "          21       0.00      0.00      0.00         3\n",
      "          22       1.00      0.17      0.29         6\n",
      "          23       0.64      0.84      0.72       595\n",
      "          31       0.00      0.00      0.00        37\n",
      "          32       0.00      0.00      0.00        48\n",
      "          33       0.91      0.07      0.14       136\n",
      "          42       0.77      0.08      0.14       130\n",
      "          44       0.00      0.00      0.00        30\n",
      "          45       0.00      0.00      0.00        48\n",
      "          48       0.00      0.00      0.00        54\n",
      "          49       0.00      0.00      0.00         9\n",
      "          51       0.00      0.00      0.00        76\n",
      "          52       0.00      0.00      0.00        32\n",
      "          53       1.00      0.02      0.03        66\n",
      "          54       0.42      0.97      0.58       841\n",
      "          55       0.00      0.00      0.00         3\n",
      "          56       0.90      0.19      0.31       232\n",
      "          61       0.67      0.04      0.08       150\n",
      "          62       1.00      0.01      0.02       103\n",
      "          71       0.00      0.00      0.00        60\n",
      "          72       1.00      0.03      0.06        67\n",
      "          81       0.00      0.00      0.00        98\n",
      "          92       0.00      0.00      0.00         6\n",
      "\n",
      "    accuracy                           0.49      2835\n",
      "   macro avg       0.39      0.11      0.11      2835\n",
      "weighted avg       0.53      0.49      0.37      2835\n",
      "\n"
     ]
    },
    {
     "name": "stderr",
     "output_type": "stream",
     "text": [
      "/home/ernesto/.cache/pypoetry/virtualenvs/zrive-ds-ZlIsFOKS-py3.11/lib/python3.11/site-packages/sklearn/metrics/_classification.py:1509: UndefinedMetricWarning: Precision is ill-defined and being set to 0.0 in labels with no predicted samples. Use `zero_division` parameter to control this behavior.\n",
      "  _warn_prf(average, modifier, f\"{metric.capitalize()} is\", len(result))\n",
      "/home/ernesto/.cache/pypoetry/virtualenvs/zrive-ds-ZlIsFOKS-py3.11/lib/python3.11/site-packages/sklearn/metrics/_classification.py:1509: UndefinedMetricWarning: Precision is ill-defined and being set to 0.0 in labels with no predicted samples. Use `zero_division` parameter to control this behavior.\n",
      "  _warn_prf(average, modifier, f\"{metric.capitalize()} is\", len(result))\n",
      "/home/ernesto/.cache/pypoetry/virtualenvs/zrive-ds-ZlIsFOKS-py3.11/lib/python3.11/site-packages/sklearn/metrics/_classification.py:1509: UndefinedMetricWarning: Precision is ill-defined and being set to 0.0 in labels with no predicted samples. Use `zero_division` parameter to control this behavior.\n",
      "  _warn_prf(average, modifier, f\"{metric.capitalize()} is\", len(result))\n"
     ]
    }
   ],
   "source": [
    "from sklearn.naive_bayes import MultinomialNB\n",
    "\n",
    "clf = Pipeline(\n",
    "    [\n",
    "        (\"vectorizer_tfidf\", TfidfVectorizer()),\n",
    "        (\"NB\", MultinomialNB()),\n",
    "    ]\n",
    ")\n",
    "\n",
    "clf.fit(X_train, y_train)\n",
    "\n",
    "y_pred = clf.predict(X_test)\n",
    "\n",
    "print(classification_report(y_test, y_pred))"
   ]
  },
  {
   "cell_type": "markdown",
   "metadata": {},
   "source": [
    "## Random Forest classifier\n"
   ]
  },
  {
   "cell_type": "code",
   "execution_count": 37,
   "metadata": {},
   "outputs": [
    {
     "name": "stdout",
     "output_type": "stream",
     "text": [
      "              precision    recall  f1-score   support\n",
      "\n",
      "          11       0.25      0.20      0.22         5\n",
      "          21       0.33      0.33      0.33         3\n",
      "          22       0.33      0.17      0.22         6\n",
      "          23       0.74      0.89      0.80       595\n",
      "          31       0.44      0.11      0.17        37\n",
      "          32       0.64      0.15      0.24        48\n",
      "          33       0.57      0.40      0.47       136\n",
      "          42       0.43      0.45      0.44       130\n",
      "          44       0.17      0.03      0.06        30\n",
      "          45       0.50      0.08      0.14        48\n",
      "          48       0.66      0.43      0.52        54\n",
      "          49       0.50      0.11      0.18         9\n",
      "          51       0.67      0.03      0.05        76\n",
      "          52       0.92      0.34      0.50        32\n",
      "          53       0.79      0.45      0.58        66\n",
      "          54       0.58      0.93      0.71       841\n",
      "          55       0.00      0.00      0.00         3\n",
      "          56       0.78      0.48      0.59       232\n",
      "          61       0.72      0.55      0.62       150\n",
      "          62       0.62      0.43      0.51       103\n",
      "          71       0.20      0.02      0.03        60\n",
      "          72       0.78      0.60      0.68        67\n",
      "          81       0.46      0.06      0.11        98\n",
      "          92       0.00      0.00      0.00         6\n",
      "\n",
      "    accuracy                           0.63      2835\n",
      "   macro avg       0.50      0.30      0.34      2835\n",
      "weighted avg       0.63      0.63      0.58      2835\n",
      "\n"
     ]
    }
   ],
   "source": [
    "from sklearn.ensemble import RandomForestClassifier\n",
    "\n",
    "clf = Pipeline(\n",
    "    [\n",
    "        (\"vectorizer_tfidf\", TfidfVectorizer()),\n",
    "        (\"RF\", RandomForestClassifier(n_estimators=100)),\n",
    "    ]\n",
    ")\n",
    "\n",
    "clf.fit(X_train, y_train)\n",
    "\n",
    "y_pred = clf.predict(X_test)\n",
    "\n",
    "print(classification_report(y_test, y_pred))"
   ]
  },
  {
   "cell_type": "markdown",
   "metadata": {},
   "source": [
    "## First conclusions\n",
    "\n",
    "The KMeans classifier had the best performance, according to the accuracy and F1-score metrics. The Naive Bayes classifier had the worst performance, and the Random Forest classifier had intermediate performance, close to the KMeans classifier.\n",
    "\n",
    "To improve the performance of the models, we can try to preprocess the text data, such as removing stopwords, punctuation, and using lemmatization or stemming.\n"
   ]
  },
  {
   "cell_type": "markdown",
   "metadata": {},
   "source": [
    "## Text preprocessing\n"
   ]
  },
  {
   "cell_type": "markdown",
   "metadata": {},
   "source": [
    "Let's preprocess the data and create the models.\n"
   ]
  },
  {
   "cell_type": "code",
   "execution_count": 37,
   "metadata": {},
   "outputs": [],
   "source": [
    "import spacy"
   ]
  },
  {
   "cell_type": "code",
   "execution_count": 38,
   "metadata": {},
   "outputs": [
    {
     "name": "stderr",
     "output_type": "stream",
     "text": [
      "/home/ernesto/.cache/pypoetry/virtualenvs/zrive-ds-ZlIsFOKS-py3.11/lib/python3.11/site-packages/tqdm/auto.py:21: TqdmWarning: IProgress not found. Please update jupyter and ipywidgets. See https://ipywidgets.readthedocs.io/en/stable/user_install.html\n",
      "  from .autonotebook import tqdm as notebook_tqdm\n"
     ]
    }
   ],
   "source": [
    "nlp = spacy.load(\"en_core_web_trf\")\n",
    "\n",
    "\n",
    "def preprocess(sentence: str):\n",
    "    doc = nlp(sentence)\n",
    "    word_list = [word.lemma_ for word in doc if not (word.is_stop or word.is_punct)]\n",
    "    return \" \".join(word_list)"
   ]
  },
  {
   "cell_type": "code",
   "execution_count": 39,
   "metadata": {},
   "outputs": [],
   "source": [
    "synthetic_df[\"PREPROCESSED_DESCRIPTION\"] = synthetic_df[\"BUSINESS_DESCRIPTION\"].apply(\n",
    "    preprocess\n",
    ")"
   ]
  },
  {
   "cell_type": "code",
   "execution_count": null,
   "metadata": {},
   "outputs": [],
   "source": [
    "df[\"PREPROCESSED_DESCRIPTION\"] = df[\"BUSINESS_DESCRIPTION\"].apply(preprocess)"
   ]
  },
  {
   "cell_type": "markdown",
   "metadata": {},
   "source": [
    "We'll save the dataframe just because it will save time in the preprocessing step in the future.\n"
   ]
  },
  {
   "cell_type": "code",
   "execution_count": null,
   "metadata": {},
   "outputs": [],
   "source": [
    "# df.to_parquet(os.path.join(DATA_DIR, \"processed/coverwallet_preprocessed.parquet\"))"
   ]
  },
  {
   "cell_type": "code",
   "execution_count": 40,
   "metadata": {},
   "outputs": [],
   "source": [
    "# synthetic_df.to_parquet(\n",
    "#    os.path.join(DATA_DIR, \"processed/synthetic_preprocessed.parquet\")\n",
    "# )"
   ]
  },
  {
   "cell_type": "markdown",
   "metadata": {},
   "source": [
    "Let's read the data preprocessed\n"
   ]
  },
  {
   "cell_type": "code",
   "execution_count": 38,
   "metadata": {},
   "outputs": [],
   "source": [
    "synthetic_df = pd.read_parquet(\n",
    "    os.path.join(DATA_DIR, \"processed/synthetic_preprocessed.parquet\")\n",
    ")"
   ]
  },
  {
   "cell_type": "code",
   "execution_count": 3,
   "metadata": {},
   "outputs": [],
   "source": [
    "df = pd.read_parquet(\n",
    "    os.path.join(DATA_DIR, \"processed/coverwallet_preprocessed.parquet\")\n",
    ")"
   ]
  },
  {
   "cell_type": "code",
   "execution_count": 40,
   "metadata": {},
   "outputs": [],
   "source": [
    "X_train, X_test, y_train, y_test = train_test_split(\n",
    "    df[\"PREPROCESSED_DESCRIPTION\"],\n",
    "    df[\"NAICS_2\"],\n",
    "    test_size=0.2,\n",
    "    random_state=42,\n",
    "    stratify=df[\"NAICS_2\"],\n",
    ")"
   ]
  },
  {
   "cell_type": "code",
   "execution_count": 41,
   "metadata": {},
   "outputs": [],
   "source": [
    "# add synthetic data to training data\n",
    "X_train = pd.concat([X_train, synthetic_df[\"PREPROCESSED_DESCRIPTION\"]])\n",
    "y_train = pd.concat([y_train, synthetic_df[\"NAICS_2\"]])"
   ]
  },
  {
   "cell_type": "markdown",
   "metadata": {},
   "source": [
    "## KNN classifier for preprocessed data\n"
   ]
  },
  {
   "cell_type": "code",
   "execution_count": 42,
   "metadata": {},
   "outputs": [
    {
     "name": "stdout",
     "output_type": "stream",
     "text": [
      "              precision    recall  f1-score   support\n",
      "\n",
      "          11       0.13      0.40      0.20         5\n",
      "          21       0.07      0.33      0.11         3\n",
      "          22       0.08      0.33      0.13         6\n",
      "          23       0.70      0.88      0.78       595\n",
      "          31       0.29      0.27      0.28        37\n",
      "          32       0.42      0.29      0.35        48\n",
      "          33       0.60      0.40      0.48       136\n",
      "          42       0.21      0.56      0.30       130\n",
      "          44       0.31      0.17      0.22        30\n",
      "          45       0.56      0.19      0.28        48\n",
      "          48       0.51      0.72      0.60        54\n",
      "          49       0.30      0.33      0.32         9\n",
      "          51       0.40      0.22      0.29        76\n",
      "          52       0.61      0.78      0.68        32\n",
      "          53       0.72      0.74      0.73        66\n",
      "          54       0.80      0.69      0.74       841\n",
      "          55       0.00      0.00      0.00         3\n",
      "          56       0.77      0.64      0.70       232\n",
      "          61       0.66      0.53      0.59       150\n",
      "          62       0.68      0.58      0.63       103\n",
      "          71       0.44      0.20      0.28        60\n",
      "          72       0.82      0.61      0.70        67\n",
      "          81       0.51      0.18      0.27        98\n",
      "          92       0.12      0.17      0.14         6\n",
      "\n",
      "    accuracy                           0.62      2835\n",
      "   macro avg       0.45      0.43      0.41      2835\n",
      "weighted avg       0.66      0.62      0.63      2835\n",
      "\n"
     ]
    }
   ],
   "source": [
    "clf = Pipeline(\n",
    "    [\n",
    "        (\"vectorizer_tfidf\", TfidfVectorizer()),\n",
    "        (\"RF\", KNeighborsClassifier()),\n",
    "    ]\n",
    ")\n",
    "\n",
    "clf.fit(X_train, y_train)\n",
    "\n",
    "y_pred = clf.predict(X_test)\n",
    "\n",
    "print(classification_report(y_test, y_pred))"
   ]
  },
  {
   "cell_type": "markdown",
   "metadata": {},
   "source": [
    "### Hyperparameter tuning\n"
   ]
  },
  {
   "cell_type": "code",
   "execution_count": 44,
   "metadata": {},
   "outputs": [
    {
     "name": "stdout",
     "output_type": "stream",
     "text": [
      "Fitting 5 folds for each of 4 candidates, totalling 20 fits\n"
     ]
    },
    {
     "data": {
      "text/plain": [
       "{'RF__n_neighbors': 20}"
      ]
     },
     "execution_count": 44,
     "metadata": {},
     "output_type": "execute_result"
    }
   ],
   "source": [
    "from sklearn.model_selection import GridSearchCV\n",
    "\n",
    "parameters = {\n",
    "    \"RF__n_neighbors\": [10, 15, 20, 25],\n",
    "}\n",
    "\n",
    "clf = Pipeline(\n",
    "    [\n",
    "        (\"vectorizer_tfidf\", TfidfVectorizer()),\n",
    "        (\"RF\", KNeighborsClassifier()),\n",
    "    ]\n",
    ")\n",
    "\n",
    "grid_search = GridSearchCV(clf, parameters, n_jobs=-1, verbose=1)\n",
    "\n",
    "grid_search.fit(X_train, y_train)\n",
    "\n",
    "y_pred = grid_search.predict(X_test)\n",
    "\n",
    "grid_search.best_params_"
   ]
  },
  {
   "cell_type": "markdown",
   "metadata": {},
   "source": [
    "Let's train the KNN classifier with the preprocessed data and the best hyperparameters found.\n"
   ]
  },
  {
   "cell_type": "code",
   "execution_count": 45,
   "metadata": {},
   "outputs": [
    {
     "name": "stdout",
     "output_type": "stream",
     "text": [
      "              precision    recall  f1-score   support\n",
      "\n",
      "          11       0.19      0.60      0.29         5\n",
      "          21       0.09      0.33      0.14         3\n",
      "          22       0.04      0.17      0.06         6\n",
      "          23       0.72      0.92      0.81       595\n",
      "          31       0.50      0.38      0.43        37\n",
      "          32       0.64      0.33      0.44        48\n",
      "          33       0.66      0.35      0.45       136\n",
      "          42       0.46      0.47      0.47       130\n",
      "          44       0.44      0.27      0.33        30\n",
      "          45       0.62      0.17      0.26        48\n",
      "          48       0.62      0.69      0.65        54\n",
      "          49       0.27      0.44      0.33         9\n",
      "          51       0.50      0.17      0.25        76\n",
      "          52       0.60      0.78      0.68        32\n",
      "          53       0.71      0.82      0.76        66\n",
      "          54       0.75      0.84      0.79       841\n",
      "          55       0.00      0.00      0.00         3\n",
      "          56       0.78      0.69      0.73       232\n",
      "          61       0.68      0.63      0.66       150\n",
      "          62       0.67      0.66      0.66       103\n",
      "          71       0.52      0.25      0.34        60\n",
      "          72       0.79      0.67      0.73        67\n",
      "          81       0.56      0.15      0.24        98\n",
      "          92       0.14      0.33      0.20         6\n",
      "\n",
      "    accuracy                           0.69      2835\n",
      "   macro avg       0.50      0.46      0.45      2835\n",
      "weighted avg       0.68      0.69      0.67      2835\n",
      "\n"
     ]
    }
   ],
   "source": [
    "clf = Pipeline(\n",
    "    [\n",
    "        (\"vectorizer_tfidf\", TfidfVectorizer()),\n",
    "        (\"RF\", KNeighborsClassifier(n_neighbors=20)),\n",
    "    ]\n",
    ")\n",
    "\n",
    "clf.fit(X_train, y_train)\n",
    "\n",
    "y_pred = clf.predict(X_test)\n",
    "\n",
    "print(classification_report(y_test, y_pred))"
   ]
  },
  {
   "cell_type": "markdown",
   "metadata": {},
   "source": [
    "## Other models\n"
   ]
  },
  {
   "cell_type": "markdown",
   "metadata": {},
   "source": [
    "Let's see if we can improve the performance of the models by using other models and try some hyperparameter tuning.\n"
   ]
  },
  {
   "cell_type": "markdown",
   "metadata": {},
   "source": [
    "### Logistic Regression\n"
   ]
  },
  {
   "cell_type": "code",
   "execution_count": null,
   "metadata": {},
   "outputs": [
    {
     "name": "stdout",
     "output_type": "stream",
     "text": [
      "              precision    recall  f1-score   support\n",
      "\n",
      "          11       0.50      0.40      0.44         5\n",
      "          21       0.00      0.00      0.00         3\n",
      "          22       0.25      0.17      0.20         6\n",
      "          23       0.81      0.91      0.86       595\n",
      "          31       0.55      0.32      0.41        37\n",
      "          32       0.68      0.27      0.39        48\n",
      "          33       0.62      0.60      0.61       136\n",
      "          42       0.57      0.57      0.57       130\n",
      "          44       0.78      0.23      0.36        30\n",
      "          45       0.53      0.17      0.25        48\n",
      "          48       0.77      0.63      0.69        54\n",
      "          49       1.00      0.22      0.36         9\n",
      "          51       0.58      0.18      0.28        76\n",
      "          52       0.85      0.72      0.78        32\n",
      "          53       0.83      0.61      0.70        66\n",
      "          54       0.67      0.90      0.77       841\n",
      "          55       0.00      0.00      0.00         3\n",
      "          56       0.79      0.69      0.74       232\n",
      "          61       0.71      0.74      0.72       150\n",
      "          62       0.74      0.60      0.66       103\n",
      "          71       0.78      0.30      0.43        60\n",
      "          72       0.82      0.69      0.75        67\n",
      "          81       0.63      0.24      0.35        98\n",
      "          92       0.00      0.00      0.00         6\n",
      "\n",
      "    accuracy                           0.72      2835\n",
      "   macro avg       0.60      0.42      0.47      2835\n",
      "weighted avg       0.71      0.72      0.69      2835\n",
      "\n"
     ]
    },
    {
     "name": "stderr",
     "output_type": "stream",
     "text": [
      "/home/ernesto/.cache/pypoetry/virtualenvs/zrive-ds-ZlIsFOKS-py3.11/lib/python3.11/site-packages/sklearn/metrics/_classification.py:1509: UndefinedMetricWarning: Precision is ill-defined and being set to 0.0 in labels with no predicted samples. Use `zero_division` parameter to control this behavior.\n",
      "  _warn_prf(average, modifier, f\"{metric.capitalize()} is\", len(result))\n",
      "/home/ernesto/.cache/pypoetry/virtualenvs/zrive-ds-ZlIsFOKS-py3.11/lib/python3.11/site-packages/sklearn/metrics/_classification.py:1509: UndefinedMetricWarning: Precision is ill-defined and being set to 0.0 in labels with no predicted samples. Use `zero_division` parameter to control this behavior.\n",
      "  _warn_prf(average, modifier, f\"{metric.capitalize()} is\", len(result))\n",
      "/home/ernesto/.cache/pypoetry/virtualenvs/zrive-ds-ZlIsFOKS-py3.11/lib/python3.11/site-packages/sklearn/metrics/_classification.py:1509: UndefinedMetricWarning: Precision is ill-defined and being set to 0.0 in labels with no predicted samples. Use `zero_division` parameter to control this behavior.\n",
      "  _warn_prf(average, modifier, f\"{metric.capitalize()} is\", len(result))\n"
     ]
    }
   ],
   "source": [
    "from sklearn.linear_model import LogisticRegression\n",
    "\n",
    "clf = Pipeline(\n",
    "    [\n",
    "        (\"vectorizer_tfidf\", TfidfVectorizer()),\n",
    "        (\"LR\", LogisticRegression()),\n",
    "    ]\n",
    ")\n",
    "\n",
    "clf.fit(X_train, y_train)\n",
    "\n",
    "y_pred = clf.predict(X_test)\n",
    "\n",
    "print(classification_report(y_test, y_pred))"
   ]
  },
  {
   "cell_type": "code",
   "execution_count": null,
   "metadata": {},
   "outputs": [
    {
     "name": "stdout",
     "output_type": "stream",
     "text": [
      "Fitting 5 folds for each of 9 candidates, totalling 45 fits\n"
     ]
    },
    {
     "name": "stderr",
     "output_type": "stream",
     "text": [
      "/home/ernesto/.cache/pypoetry/virtualenvs/zrive-ds-ZlIsFOKS-py3.11/lib/python3.11/site-packages/sklearn/svm/_base.py:1237: ConvergenceWarning: Liblinear failed to converge, increase the number of iterations.\n",
      "  warnings.warn(\n",
      "/home/ernesto/.cache/pypoetry/virtualenvs/zrive-ds-ZlIsFOKS-py3.11/lib/python3.11/site-packages/sklearn/model_selection/_validation.py:547: FitFailedWarning: \n",
      "15 fits failed out of a total of 45.\n",
      "The score on these train-test partitions for these parameters will be set to nan.\n",
      "If these failures are not expected, you can try to debug them by setting error_score='raise'.\n",
      "\n",
      "Below are more details about the failures:\n",
      "--------------------------------------------------------------------------------\n",
      "15 fits failed with the following error:\n",
      "Traceback (most recent call last):\n",
      "  File \"/home/ernesto/.cache/pypoetry/virtualenvs/zrive-ds-ZlIsFOKS-py3.11/lib/python3.11/site-packages/sklearn/model_selection/_validation.py\", line 895, in _fit_and_score\n",
      "    estimator.fit(X_train, y_train, **fit_params)\n",
      "  File \"/home/ernesto/.cache/pypoetry/virtualenvs/zrive-ds-ZlIsFOKS-py3.11/lib/python3.11/site-packages/sklearn/base.py\", line 1474, in wrapper\n",
      "    return fit_method(estimator, *args, **kwargs)\n",
      "           ^^^^^^^^^^^^^^^^^^^^^^^^^^^^^^^^^^^^^^\n",
      "  File \"/home/ernesto/.cache/pypoetry/virtualenvs/zrive-ds-ZlIsFOKS-py3.11/lib/python3.11/site-packages/sklearn/pipeline.py\", line 475, in fit\n",
      "    self._final_estimator.fit(Xt, y, **last_step_params[\"fit\"])\n",
      "  File \"/home/ernesto/.cache/pypoetry/virtualenvs/zrive-ds-ZlIsFOKS-py3.11/lib/python3.11/site-packages/sklearn/base.py\", line 1474, in wrapper\n",
      "    return fit_method(estimator, *args, **kwargs)\n",
      "           ^^^^^^^^^^^^^^^^^^^^^^^^^^^^^^^^^^^^^^\n",
      "  File \"/home/ernesto/.cache/pypoetry/virtualenvs/zrive-ds-ZlIsFOKS-py3.11/lib/python3.11/site-packages/sklearn/linear_model/_logistic.py\", line 1172, in fit\n",
      "    solver = _check_solver(self.solver, self.penalty, self.dual)\n",
      "             ^^^^^^^^^^^^^^^^^^^^^^^^^^^^^^^^^^^^^^^^^^^^^^^^^^^\n",
      "  File \"/home/ernesto/.cache/pypoetry/virtualenvs/zrive-ds-ZlIsFOKS-py3.11/lib/python3.11/site-packages/sklearn/linear_model/_logistic.py\", line 80, in _check_solver\n",
      "    raise ValueError(\"penalty=None is not supported for the liblinear solver\")\n",
      "ValueError: penalty=None is not supported for the liblinear solver\n",
      "\n",
      "  warnings.warn(some_fits_failed_message, FitFailedWarning)\n",
      "/home/ernesto/.cache/pypoetry/virtualenvs/zrive-ds-ZlIsFOKS-py3.11/lib/python3.11/site-packages/sklearn/model_selection/_search.py:1051: UserWarning: One or more of the test scores are non-finite: [0.65185185 0.61269841        nan 0.62566138 0.60167549        nan\n",
      " 0.61975309 0.5984127         nan]\n",
      "  warnings.warn(\n"
     ]
    },
    {
     "name": "stdout",
     "output_type": "stream",
     "text": [
      "              precision    recall  f1-score   support\n",
      "\n",
      "          11       0.25      0.20      0.22         5\n",
      "          21       0.00      0.00      0.00         3\n",
      "          22       0.33      0.17      0.22         6\n",
      "          23       0.79      0.86      0.83       595\n",
      "          31       0.42      0.22      0.29        37\n",
      "          32       0.41      0.33      0.37        48\n",
      "          33       0.55      0.52      0.54       136\n",
      "          42       0.45      0.41      0.43       130\n",
      "          44       0.25      0.17      0.20        30\n",
      "          45       0.31      0.19      0.23        48\n",
      "          48       0.73      0.65      0.69        54\n",
      "          49       0.50      0.22      0.31         9\n",
      "          51       0.43      0.25      0.32        76\n",
      "          52       0.73      0.59      0.66        32\n",
      "          53       0.72      0.62      0.67        66\n",
      "          54       0.70      0.85      0.77       841\n",
      "          55       0.00      0.00      0.00         3\n",
      "          56       0.71      0.65      0.68       232\n",
      "          61       0.64      0.70      0.67       150\n",
      "          62       0.68      0.57      0.62       103\n",
      "          71       0.51      0.38      0.44        60\n",
      "          72       0.78      0.64      0.70        67\n",
      "          81       0.34      0.23      0.28        98\n",
      "          92       0.00      0.00      0.00         6\n",
      "\n",
      "    accuracy                           0.67      2835\n",
      "   macro avg       0.47      0.39      0.42      2835\n",
      "weighted avg       0.65      0.67      0.66      2835\n",
      "\n"
     ]
    },
    {
     "name": "stderr",
     "output_type": "stream",
     "text": [
      "/home/ernesto/.cache/pypoetry/virtualenvs/zrive-ds-ZlIsFOKS-py3.11/lib/python3.11/site-packages/sklearn/svm/_base.py:1237: ConvergenceWarning: Liblinear failed to converge, increase the number of iterations.\n",
      "  warnings.warn(\n",
      "/home/ernesto/.cache/pypoetry/virtualenvs/zrive-ds-ZlIsFOKS-py3.11/lib/python3.11/site-packages/sklearn/metrics/_classification.py:1509: UndefinedMetricWarning: Precision is ill-defined and being set to 0.0 in labels with no predicted samples. Use `zero_division` parameter to control this behavior.\n",
      "  _warn_prf(average, modifier, f\"{metric.capitalize()} is\", len(result))\n",
      "/home/ernesto/.cache/pypoetry/virtualenvs/zrive-ds-ZlIsFOKS-py3.11/lib/python3.11/site-packages/sklearn/metrics/_classification.py:1509: UndefinedMetricWarning: Precision is ill-defined and being set to 0.0 in labels with no predicted samples. Use `zero_division` parameter to control this behavior.\n",
      "  _warn_prf(average, modifier, f\"{metric.capitalize()} is\", len(result))\n",
      "/home/ernesto/.cache/pypoetry/virtualenvs/zrive-ds-ZlIsFOKS-py3.11/lib/python3.11/site-packages/sklearn/metrics/_classification.py:1509: UndefinedMetricWarning: Precision is ill-defined and being set to 0.0 in labels with no predicted samples. Use `zero_division` parameter to control this behavior.\n",
      "  _warn_prf(average, modifier, f\"{metric.capitalize()} is\", len(result))\n"
     ]
    }
   ],
   "source": [
    "# regularization\n",
    "from sklearn.preprocessing import StandardScaler\n",
    "\n",
    "parameters = {\n",
    "    \"LR__penalty\": [\"l1\", \"l2\", None],\n",
    "    \"LR__C\": [0.1, 1, 2],\n",
    "}\n",
    "\n",
    "clf = Pipeline(\n",
    "    [\n",
    "        (\"vectorizer_tfidf\", TfidfVectorizer()),\n",
    "        (\"standard_scaler\", StandardScaler(with_mean=False)),\n",
    "        (\"LR\", LogisticRegression(solver=\"liblinear\")),\n",
    "    ]\n",
    ")\n",
    "\n",
    "grid_search = GridSearchCV(clf, parameters, n_jobs=-1, verbose=1)\n",
    "\n",
    "grid_search.fit(X_train, y_train)\n",
    "\n",
    "y_pred = grid_search.predict(X_test)\n",
    "\n",
    "print(classification_report(y_test, y_pred))"
   ]
  },
  {
   "cell_type": "code",
   "execution_count": null,
   "metadata": {},
   "outputs": [
    {
     "data": {
      "text/plain": [
       "{'LR__penalty': 'l2'}"
      ]
     },
     "execution_count": 43,
     "metadata": {},
     "output_type": "execute_result"
    }
   ],
   "source": [
    "grid_search.best_params_"
   ]
  },
  {
   "cell_type": "markdown",
   "metadata": {},
   "source": [
    "The Logistic Regression model seems to work better with regularization for this data.\n"
   ]
  },
  {
   "cell_type": "markdown",
   "metadata": {},
   "source": [
    "### Support Vector Machine\n"
   ]
  },
  {
   "cell_type": "code",
   "execution_count": 46,
   "metadata": {},
   "outputs": [
    {
     "name": "stdout",
     "output_type": "stream",
     "text": [
      "Fitting 5 folds for each of 6 candidates, totalling 30 fits\n",
      "              precision    recall  f1-score   support\n",
      "\n",
      "          11       0.33      0.20      0.25         5\n",
      "          21       0.00      0.00      0.00         3\n",
      "          22       0.17      0.17      0.17         6\n",
      "          23       0.82      0.89      0.86       595\n",
      "          31       0.40      0.43      0.42        37\n",
      "          32       0.68      0.35      0.47        48\n",
      "          33       0.62      0.59      0.60       136\n",
      "          42       0.57      0.63      0.60       130\n",
      "          44       0.54      0.23      0.33        30\n",
      "          45       0.45      0.27      0.34        48\n",
      "          48       0.80      0.74      0.77        54\n",
      "          49       0.80      0.44      0.57         9\n",
      "          51       0.54      0.26      0.35        76\n",
      "          52       0.77      0.84      0.81        32\n",
      "          53       0.76      0.67      0.71        66\n",
      "          54       0.72      0.88      0.79       841\n",
      "          55       0.00      0.00      0.00         3\n",
      "          56       0.79      0.72      0.75       232\n",
      "          61       0.74      0.74      0.74       150\n",
      "          62       0.71      0.62      0.66       103\n",
      "          71       0.70      0.38      0.49        60\n",
      "          72       0.81      0.70      0.75        67\n",
      "          81       0.55      0.23      0.33        98\n",
      "          92       0.00      0.00      0.00         6\n",
      "\n",
      "    accuracy                           0.73      2835\n",
      "   macro avg       0.55      0.46      0.49      2835\n",
      "weighted avg       0.71      0.73      0.71      2835\n",
      "\n"
     ]
    },
    {
     "data": {
      "text/plain": [
       "{'SVC__C': 1, 'SVC__kernel': 'linear'}"
      ]
     },
     "execution_count": 46,
     "metadata": {},
     "output_type": "execute_result"
    }
   ],
   "source": [
    "from sklearn.svm import SVC\n",
    "\n",
    "parameters = {\n",
    "    \"SVC__C\": [0.1, 1, 2],\n",
    "    \"SVC__kernel\": [\"linear\", \"poly\"],\n",
    "}\n",
    "\n",
    "clf = Pipeline(\n",
    "    [\n",
    "        (\"vectorizer_tfidf\", TfidfVectorizer()),\n",
    "        (\"SVC\", SVC()),\n",
    "    ]\n",
    ")\n",
    "\n",
    "grid_search = GridSearchCV(clf, parameters, n_jobs=-1, verbose=1)\n",
    "\n",
    "grid_search.fit(X_train, y_train)\n",
    "\n",
    "y_pred = grid_search.predict(X_test)\n",
    "\n",
    "print(classification_report(y_test, y_pred))\n",
    "\n",
    "grid_search.best_params_"
   ]
  },
  {
   "cell_type": "code",
   "execution_count": 54,
   "metadata": {},
   "outputs": [
    {
     "data": {
      "text/html": [
       "<style>#sk-container-id-2 {\n",
       "  /* Definition of color scheme common for light and dark mode */\n",
       "  --sklearn-color-text: black;\n",
       "  --sklearn-color-line: gray;\n",
       "  /* Definition of color scheme for unfitted estimators */\n",
       "  --sklearn-color-unfitted-level-0: #fff5e6;\n",
       "  --sklearn-color-unfitted-level-1: #f6e4d2;\n",
       "  --sklearn-color-unfitted-level-2: #ffe0b3;\n",
       "  --sklearn-color-unfitted-level-3: chocolate;\n",
       "  /* Definition of color scheme for fitted estimators */\n",
       "  --sklearn-color-fitted-level-0: #f0f8ff;\n",
       "  --sklearn-color-fitted-level-1: #d4ebff;\n",
       "  --sklearn-color-fitted-level-2: #b3dbfd;\n",
       "  --sklearn-color-fitted-level-3: cornflowerblue;\n",
       "\n",
       "  /* Specific color for light theme */\n",
       "  --sklearn-color-text-on-default-background: var(--sg-text-color, var(--theme-code-foreground, var(--jp-content-font-color1, black)));\n",
       "  --sklearn-color-background: var(--sg-background-color, var(--theme-background, var(--jp-layout-color0, white)));\n",
       "  --sklearn-color-border-box: var(--sg-text-color, var(--theme-code-foreground, var(--jp-content-font-color1, black)));\n",
       "  --sklearn-color-icon: #696969;\n",
       "\n",
       "  @media (prefers-color-scheme: dark) {\n",
       "    /* Redefinition of color scheme for dark theme */\n",
       "    --sklearn-color-text-on-default-background: var(--sg-text-color, var(--theme-code-foreground, var(--jp-content-font-color1, white)));\n",
       "    --sklearn-color-background: var(--sg-background-color, var(--theme-background, var(--jp-layout-color0, #111)));\n",
       "    --sklearn-color-border-box: var(--sg-text-color, var(--theme-code-foreground, var(--jp-content-font-color1, white)));\n",
       "    --sklearn-color-icon: #878787;\n",
       "  }\n",
       "}\n",
       "\n",
       "#sk-container-id-2 {\n",
       "  color: var(--sklearn-color-text);\n",
       "}\n",
       "\n",
       "#sk-container-id-2 pre {\n",
       "  padding: 0;\n",
       "}\n",
       "\n",
       "#sk-container-id-2 input.sk-hidden--visually {\n",
       "  border: 0;\n",
       "  clip: rect(1px 1px 1px 1px);\n",
       "  clip: rect(1px, 1px, 1px, 1px);\n",
       "  height: 1px;\n",
       "  margin: -1px;\n",
       "  overflow: hidden;\n",
       "  padding: 0;\n",
       "  position: absolute;\n",
       "  width: 1px;\n",
       "}\n",
       "\n",
       "#sk-container-id-2 div.sk-dashed-wrapped {\n",
       "  border: 1px dashed var(--sklearn-color-line);\n",
       "  margin: 0 0.4em 0.5em 0.4em;\n",
       "  box-sizing: border-box;\n",
       "  padding-bottom: 0.4em;\n",
       "  background-color: var(--sklearn-color-background);\n",
       "}\n",
       "\n",
       "#sk-container-id-2 div.sk-container {\n",
       "  /* jupyter's `normalize.less` sets `[hidden] { display: none; }`\n",
       "     but bootstrap.min.css set `[hidden] { display: none !important; }`\n",
       "     so we also need the `!important` here to be able to override the\n",
       "     default hidden behavior on the sphinx rendered scikit-learn.org.\n",
       "     See: https://github.com/scikit-learn/scikit-learn/issues/21755 */\n",
       "  display: inline-block !important;\n",
       "  position: relative;\n",
       "}\n",
       "\n",
       "#sk-container-id-2 div.sk-text-repr-fallback {\n",
       "  display: none;\n",
       "}\n",
       "\n",
       "div.sk-parallel-item,\n",
       "div.sk-serial,\n",
       "div.sk-item {\n",
       "  /* draw centered vertical line to link estimators */\n",
       "  background-image: linear-gradient(var(--sklearn-color-text-on-default-background), var(--sklearn-color-text-on-default-background));\n",
       "  background-size: 2px 100%;\n",
       "  background-repeat: no-repeat;\n",
       "  background-position: center center;\n",
       "}\n",
       "\n",
       "/* Parallel-specific style estimator block */\n",
       "\n",
       "#sk-container-id-2 div.sk-parallel-item::after {\n",
       "  content: \"\";\n",
       "  width: 100%;\n",
       "  border-bottom: 2px solid var(--sklearn-color-text-on-default-background);\n",
       "  flex-grow: 1;\n",
       "}\n",
       "\n",
       "#sk-container-id-2 div.sk-parallel {\n",
       "  display: flex;\n",
       "  align-items: stretch;\n",
       "  justify-content: center;\n",
       "  background-color: var(--sklearn-color-background);\n",
       "  position: relative;\n",
       "}\n",
       "\n",
       "#sk-container-id-2 div.sk-parallel-item {\n",
       "  display: flex;\n",
       "  flex-direction: column;\n",
       "}\n",
       "\n",
       "#sk-container-id-2 div.sk-parallel-item:first-child::after {\n",
       "  align-self: flex-end;\n",
       "  width: 50%;\n",
       "}\n",
       "\n",
       "#sk-container-id-2 div.sk-parallel-item:last-child::after {\n",
       "  align-self: flex-start;\n",
       "  width: 50%;\n",
       "}\n",
       "\n",
       "#sk-container-id-2 div.sk-parallel-item:only-child::after {\n",
       "  width: 0;\n",
       "}\n",
       "\n",
       "/* Serial-specific style estimator block */\n",
       "\n",
       "#sk-container-id-2 div.sk-serial {\n",
       "  display: flex;\n",
       "  flex-direction: column;\n",
       "  align-items: center;\n",
       "  background-color: var(--sklearn-color-background);\n",
       "  padding-right: 1em;\n",
       "  padding-left: 1em;\n",
       "}\n",
       "\n",
       "\n",
       "/* Toggleable style: style used for estimator/Pipeline/ColumnTransformer box that is\n",
       "clickable and can be expanded/collapsed.\n",
       "- Pipeline and ColumnTransformer use this feature and define the default style\n",
       "- Estimators will overwrite some part of the style using the `sk-estimator` class\n",
       "*/\n",
       "\n",
       "/* Pipeline and ColumnTransformer style (default) */\n",
       "\n",
       "#sk-container-id-2 div.sk-toggleable {\n",
       "  /* Default theme specific background. It is overwritten whether we have a\n",
       "  specific estimator or a Pipeline/ColumnTransformer */\n",
       "  background-color: var(--sklearn-color-background);\n",
       "}\n",
       "\n",
       "/* Toggleable label */\n",
       "#sk-container-id-2 label.sk-toggleable__label {\n",
       "  cursor: pointer;\n",
       "  display: block;\n",
       "  width: 100%;\n",
       "  margin-bottom: 0;\n",
       "  padding: 0.5em;\n",
       "  box-sizing: border-box;\n",
       "  text-align: center;\n",
       "}\n",
       "\n",
       "#sk-container-id-2 label.sk-toggleable__label-arrow:before {\n",
       "  /* Arrow on the left of the label */\n",
       "  content: \"▸\";\n",
       "  float: left;\n",
       "  margin-right: 0.25em;\n",
       "  color: var(--sklearn-color-icon);\n",
       "}\n",
       "\n",
       "#sk-container-id-2 label.sk-toggleable__label-arrow:hover:before {\n",
       "  color: var(--sklearn-color-text);\n",
       "}\n",
       "\n",
       "/* Toggleable content - dropdown */\n",
       "\n",
       "#sk-container-id-2 div.sk-toggleable__content {\n",
       "  max-height: 0;\n",
       "  max-width: 0;\n",
       "  overflow: hidden;\n",
       "  text-align: left;\n",
       "  /* unfitted */\n",
       "  background-color: var(--sklearn-color-unfitted-level-0);\n",
       "}\n",
       "\n",
       "#sk-container-id-2 div.sk-toggleable__content.fitted {\n",
       "  /* fitted */\n",
       "  background-color: var(--sklearn-color-fitted-level-0);\n",
       "}\n",
       "\n",
       "#sk-container-id-2 div.sk-toggleable__content pre {\n",
       "  margin: 0.2em;\n",
       "  border-radius: 0.25em;\n",
       "  color: var(--sklearn-color-text);\n",
       "  /* unfitted */\n",
       "  background-color: var(--sklearn-color-unfitted-level-0);\n",
       "}\n",
       "\n",
       "#sk-container-id-2 div.sk-toggleable__content.fitted pre {\n",
       "  /* unfitted */\n",
       "  background-color: var(--sklearn-color-fitted-level-0);\n",
       "}\n",
       "\n",
       "#sk-container-id-2 input.sk-toggleable__control:checked~div.sk-toggleable__content {\n",
       "  /* Expand drop-down */\n",
       "  max-height: 200px;\n",
       "  max-width: 100%;\n",
       "  overflow: auto;\n",
       "}\n",
       "\n",
       "#sk-container-id-2 input.sk-toggleable__control:checked~label.sk-toggleable__label-arrow:before {\n",
       "  content: \"▾\";\n",
       "}\n",
       "\n",
       "/* Pipeline/ColumnTransformer-specific style */\n",
       "\n",
       "#sk-container-id-2 div.sk-label input.sk-toggleable__control:checked~label.sk-toggleable__label {\n",
       "  color: var(--sklearn-color-text);\n",
       "  background-color: var(--sklearn-color-unfitted-level-2);\n",
       "}\n",
       "\n",
       "#sk-container-id-2 div.sk-label.fitted input.sk-toggleable__control:checked~label.sk-toggleable__label {\n",
       "  background-color: var(--sklearn-color-fitted-level-2);\n",
       "}\n",
       "\n",
       "/* Estimator-specific style */\n",
       "\n",
       "/* Colorize estimator box */\n",
       "#sk-container-id-2 div.sk-estimator input.sk-toggleable__control:checked~label.sk-toggleable__label {\n",
       "  /* unfitted */\n",
       "  background-color: var(--sklearn-color-unfitted-level-2);\n",
       "}\n",
       "\n",
       "#sk-container-id-2 div.sk-estimator.fitted input.sk-toggleable__control:checked~label.sk-toggleable__label {\n",
       "  /* fitted */\n",
       "  background-color: var(--sklearn-color-fitted-level-2);\n",
       "}\n",
       "\n",
       "#sk-container-id-2 div.sk-label label.sk-toggleable__label,\n",
       "#sk-container-id-2 div.sk-label label {\n",
       "  /* The background is the default theme color */\n",
       "  color: var(--sklearn-color-text-on-default-background);\n",
       "}\n",
       "\n",
       "/* On hover, darken the color of the background */\n",
       "#sk-container-id-2 div.sk-label:hover label.sk-toggleable__label {\n",
       "  color: var(--sklearn-color-text);\n",
       "  background-color: var(--sklearn-color-unfitted-level-2);\n",
       "}\n",
       "\n",
       "/* Label box, darken color on hover, fitted */\n",
       "#sk-container-id-2 div.sk-label.fitted:hover label.sk-toggleable__label.fitted {\n",
       "  color: var(--sklearn-color-text);\n",
       "  background-color: var(--sklearn-color-fitted-level-2);\n",
       "}\n",
       "\n",
       "/* Estimator label */\n",
       "\n",
       "#sk-container-id-2 div.sk-label label {\n",
       "  font-family: monospace;\n",
       "  font-weight: bold;\n",
       "  display: inline-block;\n",
       "  line-height: 1.2em;\n",
       "}\n",
       "\n",
       "#sk-container-id-2 div.sk-label-container {\n",
       "  text-align: center;\n",
       "}\n",
       "\n",
       "/* Estimator-specific */\n",
       "#sk-container-id-2 div.sk-estimator {\n",
       "  font-family: monospace;\n",
       "  border: 1px dotted var(--sklearn-color-border-box);\n",
       "  border-radius: 0.25em;\n",
       "  box-sizing: border-box;\n",
       "  margin-bottom: 0.5em;\n",
       "  /* unfitted */\n",
       "  background-color: var(--sklearn-color-unfitted-level-0);\n",
       "}\n",
       "\n",
       "#sk-container-id-2 div.sk-estimator.fitted {\n",
       "  /* fitted */\n",
       "  background-color: var(--sklearn-color-fitted-level-0);\n",
       "}\n",
       "\n",
       "/* on hover */\n",
       "#sk-container-id-2 div.sk-estimator:hover {\n",
       "  /* unfitted */\n",
       "  background-color: var(--sklearn-color-unfitted-level-2);\n",
       "}\n",
       "\n",
       "#sk-container-id-2 div.sk-estimator.fitted:hover {\n",
       "  /* fitted */\n",
       "  background-color: var(--sklearn-color-fitted-level-2);\n",
       "}\n",
       "\n",
       "/* Specification for estimator info (e.g. \"i\" and \"?\") */\n",
       "\n",
       "/* Common style for \"i\" and \"?\" */\n",
       "\n",
       ".sk-estimator-doc-link,\n",
       "a:link.sk-estimator-doc-link,\n",
       "a:visited.sk-estimator-doc-link {\n",
       "  float: right;\n",
       "  font-size: smaller;\n",
       "  line-height: 1em;\n",
       "  font-family: monospace;\n",
       "  background-color: var(--sklearn-color-background);\n",
       "  border-radius: 1em;\n",
       "  height: 1em;\n",
       "  width: 1em;\n",
       "  text-decoration: none !important;\n",
       "  margin-left: 1ex;\n",
       "  /* unfitted */\n",
       "  border: var(--sklearn-color-unfitted-level-1) 1pt solid;\n",
       "  color: var(--sklearn-color-unfitted-level-1);\n",
       "}\n",
       "\n",
       ".sk-estimator-doc-link.fitted,\n",
       "a:link.sk-estimator-doc-link.fitted,\n",
       "a:visited.sk-estimator-doc-link.fitted {\n",
       "  /* fitted */\n",
       "  border: var(--sklearn-color-fitted-level-1) 1pt solid;\n",
       "  color: var(--sklearn-color-fitted-level-1);\n",
       "}\n",
       "\n",
       "/* On hover */\n",
       "div.sk-estimator:hover .sk-estimator-doc-link:hover,\n",
       ".sk-estimator-doc-link:hover,\n",
       "div.sk-label-container:hover .sk-estimator-doc-link:hover,\n",
       ".sk-estimator-doc-link:hover {\n",
       "  /* unfitted */\n",
       "  background-color: var(--sklearn-color-unfitted-level-3);\n",
       "  color: var(--sklearn-color-background);\n",
       "  text-decoration: none;\n",
       "}\n",
       "\n",
       "div.sk-estimator.fitted:hover .sk-estimator-doc-link.fitted:hover,\n",
       ".sk-estimator-doc-link.fitted:hover,\n",
       "div.sk-label-container:hover .sk-estimator-doc-link.fitted:hover,\n",
       ".sk-estimator-doc-link.fitted:hover {\n",
       "  /* fitted */\n",
       "  background-color: var(--sklearn-color-fitted-level-3);\n",
       "  color: var(--sklearn-color-background);\n",
       "  text-decoration: none;\n",
       "}\n",
       "\n",
       "/* Span, style for the box shown on hovering the info icon */\n",
       ".sk-estimator-doc-link span {\n",
       "  display: none;\n",
       "  z-index: 9999;\n",
       "  position: relative;\n",
       "  font-weight: normal;\n",
       "  right: .2ex;\n",
       "  padding: .5ex;\n",
       "  margin: .5ex;\n",
       "  width: min-content;\n",
       "  min-width: 20ex;\n",
       "  max-width: 50ex;\n",
       "  color: var(--sklearn-color-text);\n",
       "  box-shadow: 2pt 2pt 4pt #999;\n",
       "  /* unfitted */\n",
       "  background: var(--sklearn-color-unfitted-level-0);\n",
       "  border: .5pt solid var(--sklearn-color-unfitted-level-3);\n",
       "}\n",
       "\n",
       ".sk-estimator-doc-link.fitted span {\n",
       "  /* fitted */\n",
       "  background: var(--sklearn-color-fitted-level-0);\n",
       "  border: var(--sklearn-color-fitted-level-3);\n",
       "}\n",
       "\n",
       ".sk-estimator-doc-link:hover span {\n",
       "  display: block;\n",
       "}\n",
       "\n",
       "/* \"?\"-specific style due to the `<a>` HTML tag */\n",
       "\n",
       "#sk-container-id-2 a.estimator_doc_link {\n",
       "  float: right;\n",
       "  font-size: 1rem;\n",
       "  line-height: 1em;\n",
       "  font-family: monospace;\n",
       "  background-color: var(--sklearn-color-background);\n",
       "  border-radius: 1rem;\n",
       "  height: 1rem;\n",
       "  width: 1rem;\n",
       "  text-decoration: none;\n",
       "  /* unfitted */\n",
       "  color: var(--sklearn-color-unfitted-level-1);\n",
       "  border: var(--sklearn-color-unfitted-level-1) 1pt solid;\n",
       "}\n",
       "\n",
       "#sk-container-id-2 a.estimator_doc_link.fitted {\n",
       "  /* fitted */\n",
       "  border: var(--sklearn-color-fitted-level-1) 1pt solid;\n",
       "  color: var(--sklearn-color-fitted-level-1);\n",
       "}\n",
       "\n",
       "/* On hover */\n",
       "#sk-container-id-2 a.estimator_doc_link:hover {\n",
       "  /* unfitted */\n",
       "  background-color: var(--sklearn-color-unfitted-level-3);\n",
       "  color: var(--sklearn-color-background);\n",
       "  text-decoration: none;\n",
       "}\n",
       "\n",
       "#sk-container-id-2 a.estimator_doc_link.fitted:hover {\n",
       "  /* fitted */\n",
       "  background-color: var(--sklearn-color-fitted-level-3);\n",
       "}\n",
       "</style><div id=\"sk-container-id-2\" class=\"sk-top-container\"><div class=\"sk-text-repr-fallback\"><pre>Pipeline(steps=[(&#x27;vectorizer_tfidf&#x27;, TfidfVectorizer()),\n",
       "                (&#x27;SVC&#x27;, SVC(C=1, kernel=&#x27;linear&#x27;))])</pre><b>In a Jupyter environment, please rerun this cell to show the HTML representation or trust the notebook. <br />On GitHub, the HTML representation is unable to render, please try loading this page with nbviewer.org.</b></div><div class=\"sk-container\" hidden><div class=\"sk-item sk-dashed-wrapped\"><div class=\"sk-label-container\"><div class=\"sk-label fitted sk-toggleable\"><input class=\"sk-toggleable__control sk-hidden--visually\" id=\"sk-estimator-id-4\" type=\"checkbox\" ><label for=\"sk-estimator-id-4\" class=\"sk-toggleable__label fitted sk-toggleable__label-arrow fitted\">&nbsp;&nbsp;Pipeline<a class=\"sk-estimator-doc-link fitted\" rel=\"noreferrer\" target=\"_blank\" href=\"https://scikit-learn.org/1.4/modules/generated/sklearn.pipeline.Pipeline.html\">?<span>Documentation for Pipeline</span></a><span class=\"sk-estimator-doc-link fitted\">i<span>Fitted</span></span></label><div class=\"sk-toggleable__content fitted\"><pre>Pipeline(steps=[(&#x27;vectorizer_tfidf&#x27;, TfidfVectorizer()),\n",
       "                (&#x27;SVC&#x27;, SVC(C=1, kernel=&#x27;linear&#x27;))])</pre></div> </div></div><div class=\"sk-serial\"><div class=\"sk-item\"><div class=\"sk-estimator fitted sk-toggleable\"><input class=\"sk-toggleable__control sk-hidden--visually\" id=\"sk-estimator-id-5\" type=\"checkbox\" ><label for=\"sk-estimator-id-5\" class=\"sk-toggleable__label fitted sk-toggleable__label-arrow fitted\">&nbsp;TfidfVectorizer<a class=\"sk-estimator-doc-link fitted\" rel=\"noreferrer\" target=\"_blank\" href=\"https://scikit-learn.org/1.4/modules/generated/sklearn.feature_extraction.text.TfidfVectorizer.html\">?<span>Documentation for TfidfVectorizer</span></a></label><div class=\"sk-toggleable__content fitted\"><pre>TfidfVectorizer()</pre></div> </div></div><div class=\"sk-item\"><div class=\"sk-estimator fitted sk-toggleable\"><input class=\"sk-toggleable__control sk-hidden--visually\" id=\"sk-estimator-id-6\" type=\"checkbox\" ><label for=\"sk-estimator-id-6\" class=\"sk-toggleable__label fitted sk-toggleable__label-arrow fitted\">&nbsp;SVC<a class=\"sk-estimator-doc-link fitted\" rel=\"noreferrer\" target=\"_blank\" href=\"https://scikit-learn.org/1.4/modules/generated/sklearn.svm.SVC.html\">?<span>Documentation for SVC</span></a></label><div class=\"sk-toggleable__content fitted\"><pre>SVC(C=1, kernel=&#x27;linear&#x27;)</pre></div> </div></div></div></div></div></div>"
      ],
      "text/plain": [
       "Pipeline(steps=[('vectorizer_tfidf', TfidfVectorizer()),\n",
       "                ('SVC', SVC(C=1, kernel='linear'))])"
      ]
     },
     "execution_count": 54,
     "metadata": {},
     "output_type": "execute_result"
    }
   ],
   "source": [
    "# train best svm\n",
    "model = Pipeline(\n",
    "    [\n",
    "        (\"vectorizer_tfidf\", TfidfVectorizer()),\n",
    "        (\"SVC\", SVC(C=1, kernel=\"linear\")),\n",
    "    ]\n",
    ")\n",
    "\n",
    "model.fit(X_train, y_train)"
   ]
  },
  {
   "cell_type": "code",
   "execution_count": 55,
   "metadata": {},
   "outputs": [
    {
     "name": "stdout",
     "output_type": "stream",
     "text": [
      "              precision    recall  f1-score   support\n",
      "\n",
      "          11       0.50      0.20      0.29         5\n",
      "          21       0.00      0.00      0.00         3\n",
      "          22       0.20      0.17      0.18         6\n",
      "          23       0.79      0.81      0.80       200\n",
      "          31       0.52      0.43      0.47        37\n",
      "          32       0.67      0.42      0.51        48\n",
      "          33       0.57      0.73      0.64       137\n",
      "          42       0.49      0.68      0.57       130\n",
      "          44       0.73      0.37      0.49        30\n",
      "          45       0.44      0.17      0.24        48\n",
      "          48       0.81      0.65      0.72        54\n",
      "          49       0.80      0.44      0.57         9\n",
      "          51       0.49      0.43      0.46        76\n",
      "          52       0.90      0.84      0.87        32\n",
      "          53       0.93      0.77      0.84        66\n",
      "          54       0.60      0.69      0.64       200\n",
      "          55       0.00      0.00      0.00         3\n",
      "          56       0.73      0.77      0.75       200\n",
      "          61       0.70      0.85      0.77       150\n",
      "          62       0.84      0.74      0.78       103\n",
      "          71       0.66      0.58      0.62        60\n",
      "          72       0.83      0.85      0.84        67\n",
      "          81       0.52      0.33      0.40        98\n",
      "          92       0.50      0.17      0.25         6\n",
      "\n",
      "    accuracy                           0.67      1768\n",
      "   macro avg       0.59      0.50      0.53      1768\n",
      "weighted avg       0.67      0.67      0.66      1768\n",
      "\n"
     ]
    }
   ],
   "source": [
    "# evaluate the model\n",
    "y_pred = model.predict(X_test)\n",
    "\n",
    "print(classification_report(y_test, y_pred))"
   ]
  },
  {
   "cell_type": "markdown",
   "metadata": {},
   "source": [
    "### Gradient Boosting\n"
   ]
  },
  {
   "cell_type": "code",
   "execution_count": null,
   "metadata": {},
   "outputs": [
    {
     "name": "stdout",
     "output_type": "stream",
     "text": [
      "              precision    recall  f1-score   support\n",
      "\n",
      "          11       0.20      0.40      0.27         5\n",
      "          21       0.20      0.33      0.25         3\n",
      "          22       0.09      0.17      0.12         6\n",
      "          23       0.81      0.82      0.81       595\n",
      "          31       0.18      0.11      0.14        37\n",
      "          32       0.38      0.31      0.34        48\n",
      "          33       0.59      0.43      0.50       136\n",
      "          42       0.50      0.45      0.47       130\n",
      "          44       0.10      0.07      0.08        30\n",
      "          45       0.21      0.15      0.17        48\n",
      "          48       0.69      0.50      0.58        54\n",
      "          49       0.27      0.33      0.30         9\n",
      "          51       0.42      0.21      0.28        76\n",
      "          52       0.61      0.72      0.66        32\n",
      "          53       0.76      0.59      0.67        66\n",
      "          54       0.60      0.82      0.70       841\n",
      "          55       0.00      0.00      0.00         3\n",
      "          56       0.75      0.61      0.67       232\n",
      "          61       0.68      0.66      0.67       150\n",
      "          62       0.67      0.50      0.57       103\n",
      "          71       0.43      0.25      0.32        60\n",
      "          72       0.77      0.60      0.67        67\n",
      "          81       0.35      0.13      0.19        98\n",
      "          92       0.00      0.00      0.00         6\n",
      "\n",
      "    accuracy                           0.63      2835\n",
      "   macro avg       0.43      0.38      0.39      2835\n",
      "weighted avg       0.62      0.63      0.62      2835\n",
      "\n"
     ]
    }
   ],
   "source": [
    "from sklearn.ensemble import GradientBoostingClassifier\n",
    "\n",
    "clf = Pipeline(\n",
    "    [\n",
    "        (\"vectorizer_tfidf\", TfidfVectorizer()),\n",
    "        (\"GB\", GradientBoostingClassifier()),\n",
    "    ]\n",
    ")\n",
    "\n",
    "clf.fit(X_train, y_train)\n",
    "\n",
    "y_pred = clf.predict(X_test)\n",
    "\n",
    "print(classification_report(y_test, y_pred))"
   ]
  },
  {
   "cell_type": "markdown",
   "metadata": {},
   "source": [
    "## Model considerations\n",
    "\n",
    "After preprocessing the data, the models had a better performance, being all of them very similar.\n",
    "\n",
    "The one we could use as a baseline model is the SVM model, which had the best performance in terms of accuracy and F1-score.\n"
   ]
  },
  {
   "cell_type": "markdown",
   "metadata": {},
   "source": [
    "No model has improved using synthetic data to balance the classes, let's give a last try reducing the most common classes\n"
   ]
  },
  {
   "cell_type": "code",
   "execution_count": 50,
   "metadata": {},
   "outputs": [],
   "source": [
    "# reduce majority class samples to 1000 (to balance the classes) 54, 23, 56\n",
    "from sklearn.utils import resample\n",
    "\n",
    "df_54 = df[df[\"NAICS_2\"] == 54]\n",
    "df_23 = df[df[\"NAICS_2\"] == 23]\n",
    "df_56 = df[df[\"NAICS_2\"] == 56]\n",
    "\n",
    "df_54_downsampled = resample(df_54, replace=False, n_samples=1000, random_state=42)\n",
    "df_23_downsampled = resample(df_23, replace=False, n_samples=1000, random_state=42)\n",
    "df_56_downsampled = resample(df_56, replace=False, n_samples=1000, random_state=42)\n",
    "\n",
    "df.drop(df[df[\"NAICS_2\"] == 54].index, inplace=True)\n",
    "df.drop(df[df[\"NAICS_2\"] == 23].index, inplace=True)\n",
    "df.drop(df[df[\"NAICS_2\"] == 56].index, inplace=True)\n",
    "\n",
    "df = pd.concat([df, df_54_downsampled, df_23_downsampled, df_56_downsampled])"
   ]
  },
  {
   "cell_type": "code",
   "execution_count": 51,
   "metadata": {},
   "outputs": [
    {
     "data": {
      "text/plain": [
       "NAICS_2\n",
       "54    1000\n",
       "23    1000\n",
       "56    1000\n",
       "61     751\n",
       "33     682\n",
       "42     650\n",
       "62     517\n",
       "81     488\n",
       "51     380\n",
       "72     333\n",
       "53     331\n",
       "71     300\n",
       "48     270\n",
       "32     241\n",
       "45     240\n",
       "31     184\n",
       "52     162\n",
       "44     148\n",
       "49      45\n",
       "22      32\n",
       "92      30\n",
       "11      26\n",
       "55      15\n",
       "21      13\n",
       "Name: count, dtype: int64"
      ]
     },
     "execution_count": 51,
     "metadata": {},
     "output_type": "execute_result"
    }
   ],
   "source": [
    "df[\"NAICS_2\"].value_counts()"
   ]
  },
  {
   "cell_type": "code",
   "execution_count": 52,
   "metadata": {},
   "outputs": [],
   "source": [
    "X_train, X_test, y_train, y_test = train_test_split(\n",
    "    df[\"PREPROCESSED_DESCRIPTION\"],\n",
    "    df[\"NAICS_2\"],\n",
    "    test_size=0.2,\n",
    "    random_state=42,\n",
    "    stratify=df[\"NAICS_2\"],\n",
    ")\n",
    "\n",
    "# add synthetic data to training data\n",
    "X_train = pd.concat([X_train, synthetic_df[\"PREPROCESSED_DESCRIPTION\"]])\n",
    "y_train = pd.concat([y_train, synthetic_df[\"NAICS_2\"]])"
   ]
  },
  {
   "cell_type": "code",
   "execution_count": 53,
   "metadata": {},
   "outputs": [
    {
     "name": "stdout",
     "output_type": "stream",
     "text": [
      "              precision    recall  f1-score   support\n",
      "\n",
      "          11       0.50      0.20      0.29         5\n",
      "          21       0.00      0.00      0.00         3\n",
      "          22       0.20      0.17      0.18         6\n",
      "          23       0.79      0.81      0.80       200\n",
      "          31       0.52      0.43      0.47        37\n",
      "          32       0.67      0.42      0.51        48\n",
      "          33       0.57      0.73      0.64       137\n",
      "          42       0.49      0.68      0.57       130\n",
      "          44       0.73      0.37      0.49        30\n",
      "          45       0.44      0.17      0.24        48\n",
      "          48       0.81      0.65      0.72        54\n",
      "          49       0.80      0.44      0.57         9\n",
      "          51       0.49      0.43      0.46        76\n",
      "          52       0.90      0.84      0.87        32\n",
      "          53       0.93      0.77      0.84        66\n",
      "          54       0.60      0.69      0.64       200\n",
      "          55       0.00      0.00      0.00         3\n",
      "          56       0.73      0.77      0.75       200\n",
      "          61       0.70      0.85      0.77       150\n",
      "          62       0.84      0.74      0.78       103\n",
      "          71       0.66      0.58      0.62        60\n",
      "          72       0.83      0.85      0.84        67\n",
      "          81       0.52      0.33      0.40        98\n",
      "          92       0.50      0.17      0.25         6\n",
      "\n",
      "    accuracy                           0.67      1768\n",
      "   macro avg       0.59      0.50      0.53      1768\n",
      "weighted avg       0.67      0.67      0.66      1768\n",
      "\n"
     ]
    }
   ],
   "source": [
    "clf = Pipeline(\n",
    "    [\n",
    "        (\"vectorizer_tfidf\", TfidfVectorizer()),\n",
    "        (\"SVC\", SVC(C=1, kernel=\"linear\")),\n",
    "    ]\n",
    ")\n",
    "\n",
    "clf.fit(X_train, y_train)\n",
    "\n",
    "y_pred = clf.predict(X_test)\n",
    "\n",
    "print(classification_report(y_test, y_pred))"
   ]
  },
  {
   "cell_type": "markdown",
   "metadata": {},
   "source": [
    "The downsampling technique didn't improve the performance, so we won't apply it.\n"
   ]
  },
  {
   "cell_type": "markdown",
   "metadata": {},
   "source": [
    "Let's make a confussion matrix to see what are the classes that the model is having more trouble with.\n"
   ]
  },
  {
   "cell_type": "code",
   "execution_count": 62,
   "metadata": {},
   "outputs": [
    {
     "data": {
      "image/png": "[encoded data removed]",
      "text/plain": [
       "<Figure size 1000x1000 with 2 Axes>"
      ]
     },
     "metadata": {},
     "output_type": "display_data"
    }
   ],
   "source": [
    "from sklearn.metrics import confusion_matrix\n",
    "import matplotlib.pyplot as plt\n",
    "\n",
    "cm = confusion_matrix(y_test, y_pred)\n",
    "\n",
    "# normalize the confusion matrix\n",
    "cm = cm.astype(\"float\") / cm.sum(axis=1)[:, np.newaxis]\n",
    "\n",
    "plt.figure(figsize=(10, 10))\n",
    "plt.imshow(cm, interpolation=\"nearest\")\n",
    "plt.title(\"Normalized Confusion Matrix\")\n",
    "plt.colorbar()\n",
    "tick_marks = np.arange(len(df[\"NAICS_2\"].unique()))\n",
    "plt.xticks(tick_marks, df[\"NAICS_2\"].unique(), rotation=45)\n",
    "plt.yticks(tick_marks, df[\"NAICS_2\"].unique())\n",
    "\n",
    "plt.ylabel(\"True label\")\n",
    "plt.xlabel(\"Predicted label\")\n",
    "plt.show()"
   ]
  },
  {
   "cell_type": "markdown",
   "metadata": {},
   "source": [
    "There are several classes that are predicted when they should not while there are others that aren't even predicted once.\n",
    "\n",
    "This happens a lot with 81, 52 and 55 classes\n"
   ]
  }
 ],
 "metadata": {
  "kernelspec": {
   "display_name": "zrive-ds-ZlIsFOKS-py3.11",
   "language": "python",
   "name": "python3"
  },
  "language_info": {
   "codemirror_mode": {
    "name": "ipython",
    "version": 3
   },
   "file_extension": ".py",
   "mimetype": "text/x-python",
   "name": "python",
   "nbconvert_exporter": "python",
   "pygments_lexer": "ipython3",
   "version": "3.11.0"
  }
 },
 "nbformat": 4,
 "nbformat_minor": 2
}
