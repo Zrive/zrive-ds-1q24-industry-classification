{
 "cells": [
  {
   "cell_type": "markdown",
   "metadata": {},
   "source": [
    "# Baseline model to predict the first two digits of NAICS\n",
    "\n",
    "The objective of this notebook is to create a baseline model to predict the first two digits of the NAICS code.\n",
    "\n",
    "The main idea is to use TF-IDF to vectorize the text data and then try some simple models to predict the first two digits of the NAICS code.\n"
   ]
  },
  {
   "cell_type": "code",
   "execution_count": 1,
   "metadata": {},
   "outputs": [],
   "source": [
    "import pandas as pd\n",
    "import numpy as np\n",
    "import os"
   ]
  },
  {
   "cell_type": "code",
   "execution_count": 2,
   "metadata": {},
   "outputs": [],
   "source": [
    "DATA_DIR = os.path.abspath(os.path.join(os.getcwd(), \"../\", \"data\"))\n",
    "NAICS_DATA = os.path.join(DATA_DIR, \"processed/coverwallet.xlsx\")"
   ]
  },
  {
   "cell_type": "code",
   "execution_count": 3,
   "metadata": {},
   "outputs": [],
   "source": [
    "df = pd.read_excel(NAICS_DATA)"
   ]
  },
  {
   "cell_type": "code",
   "execution_count": 4,
   "metadata": {},
   "outputs": [
    {
     "name": "stdout",
     "output_type": "stream",
     "text": [
      "<class 'pandas.core.frame.DataFrame'>\n",
      "RangeIndex: 14182 entries, 0 to 14181\n",
      "Data columns (total 2 columns):\n",
      " #   Column                Non-Null Count  Dtype  \n",
      "---  ------                --------------  -----  \n",
      " 0   NAICS                 14180 non-null  float64\n",
      " 1   BUSINESS_DESCRIPTION  14177 non-null  object \n",
      "dtypes: float64(1), object(1)\n",
      "memory usage: 221.7+ KB\n"
     ]
    }
   ],
   "source": [
    "df.info()"
   ]
  },
  {
   "cell_type": "code",
   "execution_count": 5,
   "metadata": {},
   "outputs": [
    {
     "data": {
      "text/html": [
       "<div>\n",
       "<style scoped>\n",
       "    .dataframe tbody tr th:only-of-type {\n",
       "        vertical-align: middle;\n",
       "    }\n",
       "\n",
       "    .dataframe tbody tr th {\n",
       "        vertical-align: top;\n",
       "    }\n",
       "\n",
       "    .dataframe thead th {\n",
       "        text-align: right;\n",
       "    }\n",
       "</style>\n",
       "<table border=\"1\" class=\"dataframe\">\n",
       "  <thead>\n",
       "    <tr style=\"text-align: right;\">\n",
       "      <th></th>\n",
       "      <th>NAICS</th>\n",
       "      <th>BUSINESS_DESCRIPTION</th>\n",
       "    </tr>\n",
       "  </thead>\n",
       "  <tbody>\n",
       "    <tr>\n",
       "      <th>0</th>\n",
       "      <td>722511.0</td>\n",
       "      <td>Zenyai Viet Cajun &amp; Pho Restaurant is dedicate...</td>\n",
       "    </tr>\n",
       "    <tr>\n",
       "      <th>1</th>\n",
       "      <td>541330.0</td>\n",
       "      <td>Kilduff Underground Engineering, Inc. (KUE) is...</td>\n",
       "    </tr>\n",
       "    <tr>\n",
       "      <th>2</th>\n",
       "      <td>453998.0</td>\n",
       "      <td>024™ is a premium home fragrance brand that de...</td>\n",
       "    </tr>\n",
       "    <tr>\n",
       "      <th>3</th>\n",
       "      <td>561720.0</td>\n",
       "      <td>Our Services include Office Cleaning Carpet cl...</td>\n",
       "    </tr>\n",
       "    <tr>\n",
       "      <th>4</th>\n",
       "      <td>621610.0</td>\n",
       "      <td>NYS Licensed Home Health Agency</td>\n",
       "    </tr>\n",
       "  </tbody>\n",
       "</table>\n",
       "</div>"
      ],
      "text/plain": [
       "      NAICS                               BUSINESS_DESCRIPTION\n",
       "0  722511.0  Zenyai Viet Cajun & Pho Restaurant is dedicate...\n",
       "1  541330.0  Kilduff Underground Engineering, Inc. (KUE) is...\n",
       "2  453998.0  024™ is a premium home fragrance brand that de...\n",
       "3  561720.0  Our Services include Office Cleaning Carpet cl...\n",
       "4  621610.0                    NYS Licensed Home Health Agency"
      ]
     },
     "execution_count": 5,
     "metadata": {},
     "output_type": "execute_result"
    }
   ],
   "source": [
    "df.head()"
   ]
  },
  {
   "cell_type": "code",
   "execution_count": 6,
   "metadata": {},
   "outputs": [
    {
     "data": {
      "text/html": [
       "<div>\n",
       "<style scoped>\n",
       "    .dataframe tbody tr th:only-of-type {\n",
       "        vertical-align: middle;\n",
       "    }\n",
       "\n",
       "    .dataframe tbody tr th {\n",
       "        vertical-align: top;\n",
       "    }\n",
       "\n",
       "    .dataframe thead th {\n",
       "        text-align: right;\n",
       "    }\n",
       "</style>\n",
       "<table border=\"1\" class=\"dataframe\">\n",
       "  <thead>\n",
       "    <tr style=\"text-align: right;\">\n",
       "      <th></th>\n",
       "      <th>NAICS</th>\n",
       "      <th>BUSINESS_DESCRIPTION</th>\n",
       "    </tr>\n",
       "  </thead>\n",
       "  <tbody>\n",
       "    <tr>\n",
       "      <th>1248</th>\n",
       "      <td>561311.0</td>\n",
       "      <td>NaN</td>\n",
       "    </tr>\n",
       "    <tr>\n",
       "      <th>1492</th>\n",
       "      <td>325992.0</td>\n",
       "      <td>NaN</td>\n",
       "    </tr>\n",
       "    <tr>\n",
       "      <th>1989</th>\n",
       "      <td>811310.0</td>\n",
       "      <td>NaN</td>\n",
       "    </tr>\n",
       "    <tr>\n",
       "      <th>5196</th>\n",
       "      <td>541430.0</td>\n",
       "      <td>NaN</td>\n",
       "    </tr>\n",
       "    <tr>\n",
       "      <th>9149</th>\n",
       "      <td>541990.0</td>\n",
       "      <td>NaN</td>\n",
       "    </tr>\n",
       "    <tr>\n",
       "      <th>11535</th>\n",
       "      <td>NaN</td>\n",
       "      <td>JRC GROUP LLC. Is an ASSET BASED freight broke...</td>\n",
       "    </tr>\n",
       "    <tr>\n",
       "      <th>13486</th>\n",
       "      <td>NaN</td>\n",
       "      <td>Consulting services for Facility Asset Managem...</td>\n",
       "    </tr>\n",
       "  </tbody>\n",
       "</table>\n",
       "</div>"
      ],
      "text/plain": [
       "          NAICS                               BUSINESS_DESCRIPTION\n",
       "1248   561311.0                                                NaN\n",
       "1492   325992.0                                                NaN\n",
       "1989   811310.0                                                NaN\n",
       "5196   541430.0                                                NaN\n",
       "9149   541990.0                                                NaN\n",
       "11535       NaN  JRC GROUP LLC. Is an ASSET BASED freight broke...\n",
       "13486       NaN  Consulting services for Facility Asset Managem..."
      ]
     },
     "execution_count": 6,
     "metadata": {},
     "output_type": "execute_result"
    }
   ],
   "source": [
    "# null data rows\n",
    "df[df.isnull().any(axis=1)]"
   ]
  },
  {
   "cell_type": "code",
   "execution_count": 7,
   "metadata": {},
   "outputs": [],
   "source": [
    "df.dropna(inplace=True)"
   ]
  },
  {
   "cell_type": "markdown",
   "metadata": {},
   "source": [
    "We will use the first two digits of NAICS, so let's create a new column with this information.\n"
   ]
  },
  {
   "cell_type": "code",
   "execution_count": 8,
   "metadata": {},
   "outputs": [
    {
     "data": {
      "text/html": [
       "<div>\n",
       "<style scoped>\n",
       "    .dataframe tbody tr th:only-of-type {\n",
       "        vertical-align: middle;\n",
       "    }\n",
       "\n",
       "    .dataframe tbody tr th {\n",
       "        vertical-align: top;\n",
       "    }\n",
       "\n",
       "    .dataframe thead th {\n",
       "        text-align: right;\n",
       "    }\n",
       "</style>\n",
       "<table border=\"1\" class=\"dataframe\">\n",
       "  <thead>\n",
       "    <tr style=\"text-align: right;\">\n",
       "      <th></th>\n",
       "      <th>NAICS</th>\n",
       "      <th>BUSINESS_DESCRIPTION</th>\n",
       "      <th>NAICS_2</th>\n",
       "    </tr>\n",
       "  </thead>\n",
       "  <tbody>\n",
       "    <tr>\n",
       "      <th>0</th>\n",
       "      <td>722511.0</td>\n",
       "      <td>Zenyai Viet Cajun &amp; Pho Restaurant is dedicate...</td>\n",
       "      <td>72</td>\n",
       "    </tr>\n",
       "    <tr>\n",
       "      <th>1</th>\n",
       "      <td>541330.0</td>\n",
       "      <td>Kilduff Underground Engineering, Inc. (KUE) is...</td>\n",
       "      <td>54</td>\n",
       "    </tr>\n",
       "    <tr>\n",
       "      <th>2</th>\n",
       "      <td>453998.0</td>\n",
       "      <td>024™ is a premium home fragrance brand that de...</td>\n",
       "      <td>45</td>\n",
       "    </tr>\n",
       "    <tr>\n",
       "      <th>3</th>\n",
       "      <td>561720.0</td>\n",
       "      <td>Our Services include Office Cleaning Carpet cl...</td>\n",
       "      <td>56</td>\n",
       "    </tr>\n",
       "    <tr>\n",
       "      <th>4</th>\n",
       "      <td>621610.0</td>\n",
       "      <td>NYS Licensed Home Health Agency</td>\n",
       "      <td>62</td>\n",
       "    </tr>\n",
       "  </tbody>\n",
       "</table>\n",
       "</div>"
      ],
      "text/plain": [
       "      NAICS                               BUSINESS_DESCRIPTION  NAICS_2\n",
       "0  722511.0  Zenyai Viet Cajun & Pho Restaurant is dedicate...       72\n",
       "1  541330.0  Kilduff Underground Engineering, Inc. (KUE) is...       54\n",
       "2  453998.0  024™ is a premium home fragrance brand that de...       45\n",
       "3  561720.0  Our Services include Office Cleaning Carpet cl...       56\n",
       "4  621610.0                    NYS Licensed Home Health Agency       62"
      ]
     },
     "execution_count": 8,
     "metadata": {},
     "output_type": "execute_result"
    }
   ],
   "source": [
    "df[\"NAICS_2\"] = df[\"NAICS\"].astype(str).str[:2].astype(int)\n",
    "df.head()"
   ]
  },
  {
   "cell_type": "code",
   "execution_count": 9,
   "metadata": {},
   "outputs": [
    {
     "data": {
      "text/plain": [
       "NAICS_2\n",
       "54    4202\n",
       "23    2976\n",
       "56    1159\n",
       "61     751\n",
       "33     682\n",
       "42     650\n",
       "62     517\n",
       "81     488\n",
       "51     380\n",
       "72     333\n",
       "53     331\n",
       "71     300\n",
       "48     270\n",
       "32     241\n",
       "45     240\n",
       "31     184\n",
       "52     162\n",
       "44     148\n",
       "49      45\n",
       "22      32\n",
       "92      30\n",
       "11      26\n",
       "55      15\n",
       "21      13\n",
       "Name: count, dtype: int64"
      ]
     },
     "execution_count": 9,
     "metadata": {},
     "output_type": "execute_result"
    }
   ],
   "source": [
    "df[\"NAICS_2\"].value_counts()"
   ]
  },
  {
   "cell_type": "markdown",
   "metadata": {},
   "source": [
    "The dataset is certainly imbalanced, so we will use the `stratify` parameter in the `train_test_split` function to ensure that the distribution of the target variable is the same in the training and test sets.\n"
   ]
  },
  {
   "cell_type": "code",
   "execution_count": 10,
   "metadata": {},
   "outputs": [
    {
     "data": {
      "text/plain": [
       "((11340,), (2835,), (11340,), (2835,))"
      ]
     },
     "execution_count": 10,
     "metadata": {},
     "output_type": "execute_result"
    }
   ],
   "source": [
    "from sklearn.model_selection import train_test_split\n",
    "\n",
    "X = df[\"BUSINESS_DESCRIPTION\"]\n",
    "y = df[\"NAICS_2\"]\n",
    "\n",
    "X_train, X_test, y_train, y_test = train_test_split(\n",
    "    X, y, test_size=0.2, random_state=42, stratify=y\n",
    ")\n",
    "X_train.shape, X_test.shape, y_train.shape, y_test.shape"
   ]
  },
  {
   "cell_type": "code",
   "execution_count": 11,
   "metadata": {},
   "outputs": [
    {
     "name": "stdout",
     "output_type": "stream",
     "text": [
      "NAICS_2\n",
      "54    3361\n",
      "23    2381\n",
      "56     927\n",
      "61     601\n",
      "33     546\n",
      "42     520\n",
      "62     414\n",
      "81     390\n",
      "51     304\n",
      "72     266\n",
      "53     265\n",
      "71     240\n",
      "48     216\n",
      "32     193\n",
      "45     192\n",
      "31     147\n",
      "52     130\n",
      "44     118\n",
      "49      36\n",
      "22      26\n",
      "92      24\n",
      "11      21\n",
      "55      12\n",
      "21      10\n",
      "Name: count, dtype: int64\n"
     ]
    }
   ],
   "source": [
    "print(y_train.value_counts())"
   ]
  },
  {
   "cell_type": "code",
   "execution_count": 12,
   "metadata": {},
   "outputs": [
    {
     "name": "stdout",
     "output_type": "stream",
     "text": [
      "NAICS_2\n",
      "54    841\n",
      "23    595\n",
      "56    232\n",
      "61    150\n",
      "33    136\n",
      "42    130\n",
      "62    103\n",
      "81     98\n",
      "51     76\n",
      "72     67\n",
      "53     66\n",
      "71     60\n",
      "48     54\n",
      "45     48\n",
      "32     48\n",
      "31     37\n",
      "52     32\n",
      "44     30\n",
      "49      9\n",
      "92      6\n",
      "22      6\n",
      "11      5\n",
      "55      3\n",
      "21      3\n",
      "Name: count, dtype: int64\n"
     ]
    }
   ],
   "source": [
    "print(y_test.value_counts())"
   ]
  },
  {
   "cell_type": "markdown",
   "metadata": {},
   "source": [
    "## KMeans classifier\n"
   ]
  },
  {
   "cell_type": "code",
   "execution_count": 13,
   "metadata": {},
   "outputs": [],
   "source": [
    "from sklearn.feature_extraction.text import TfidfVectorizer\n",
    "from sklearn.pipeline import Pipeline\n",
    "from sklearn.neighbors import KNeighborsClassifier\n",
    "from sklearn.metrics import classification_report"
   ]
  },
  {
   "cell_type": "code",
   "execution_count": 14,
   "metadata": {},
   "outputs": [
    {
     "name": "stdout",
     "output_type": "stream",
     "text": [
      "              precision    recall  f1-score   support\n",
      "\n",
      "          11       0.00      0.00      0.00         5\n",
      "          21       0.00      0.00      0.00         3\n",
      "          22       0.33      0.17      0.22         6\n",
      "          23       0.68      0.87      0.76       595\n",
      "          31       0.36      0.32      0.34        37\n",
      "          32       0.52      0.35      0.42        48\n",
      "          33       0.60      0.35      0.44       136\n",
      "          42       0.20      0.61      0.30       130\n",
      "          44       0.29      0.07      0.11        30\n",
      "          45       0.64      0.15      0.24        48\n",
      "          48       0.46      0.72      0.56        54\n",
      "          49       1.00      0.33      0.50         9\n",
      "          51       0.42      0.17      0.24        76\n",
      "          52       0.67      0.69      0.68        32\n",
      "          53       0.78      0.70      0.74        66\n",
      "          54       0.79      0.73      0.76       841\n",
      "          55       0.00      0.00      0.00         3\n",
      "          56       0.77      0.64      0.70       232\n",
      "          61       0.66      0.53      0.59       150\n",
      "          62       0.69      0.56      0.62       103\n",
      "          71       0.43      0.20      0.27        60\n",
      "          72       0.82      0.54      0.65        67\n",
      "          81       0.50      0.19      0.28        98\n",
      "          92       0.00      0.00      0.00         6\n",
      "\n",
      "    accuracy                           0.63      2835\n",
      "   macro avg       0.48      0.37      0.39      2835\n",
      "weighted avg       0.66      0.63      0.62      2835\n",
      "\n"
     ]
    },
    {
     "name": "stderr",
     "output_type": "stream",
     "text": [
      "/home/ernesto/.cache/pypoetry/virtualenvs/zrive-ds-ZlIsFOKS-py3.11/lib/python3.11/site-packages/sklearn/metrics/_classification.py:1509: UndefinedMetricWarning: Precision is ill-defined and being set to 0.0 in labels with no predicted samples. Use `zero_division` parameter to control this behavior.\n",
      "  _warn_prf(average, modifier, f\"{metric.capitalize()} is\", len(result))\n",
      "/home/ernesto/.cache/pypoetry/virtualenvs/zrive-ds-ZlIsFOKS-py3.11/lib/python3.11/site-packages/sklearn/metrics/_classification.py:1509: UndefinedMetricWarning: Precision is ill-defined and being set to 0.0 in labels with no predicted samples. Use `zero_division` parameter to control this behavior.\n",
      "  _warn_prf(average, modifier, f\"{metric.capitalize()} is\", len(result))\n",
      "/home/ernesto/.cache/pypoetry/virtualenvs/zrive-ds-ZlIsFOKS-py3.11/lib/python3.11/site-packages/sklearn/metrics/_classification.py:1509: UndefinedMetricWarning: Precision is ill-defined and being set to 0.0 in labels with no predicted samples. Use `zero_division` parameter to control this behavior.\n",
      "  _warn_prf(average, modifier, f\"{metric.capitalize()} is\", len(result))\n"
     ]
    }
   ],
   "source": [
    "clf = Pipeline(\n",
    "    [\n",
    "        (\"vectorizer_tfidf\", TfidfVectorizer()),\n",
    "        (\"KNN\", KNeighborsClassifier(n_neighbors=5)),\n",
    "    ]\n",
    ")\n",
    "\n",
    "clf.fit(X_train, y_train)\n",
    "\n",
    "y_pred = clf.predict(X_test)\n",
    "\n",
    "print(classification_report(y_test, y_pred))"
   ]
  },
  {
   "cell_type": "markdown",
   "metadata": {},
   "source": [
    "## Naive Bayes classifier\n"
   ]
  },
  {
   "cell_type": "code",
   "execution_count": 15,
   "metadata": {},
   "outputs": [
    {
     "name": "stdout",
     "output_type": "stream",
     "text": [
      "              precision    recall  f1-score   support\n",
      "\n",
      "          11       0.00      0.00      0.00         5\n",
      "          21       0.00      0.00      0.00         3\n",
      "          22       0.00      0.00      0.00         6\n",
      "          23       0.64      0.84      0.72       595\n",
      "          31       0.00      0.00      0.00        37\n",
      "          32       0.00      0.00      0.00        48\n",
      "          33       0.82      0.07      0.12       136\n",
      "          42       0.77      0.08      0.14       130\n",
      "          44       0.00      0.00      0.00        30\n",
      "          45       0.00      0.00      0.00        48\n",
      "          48       0.00      0.00      0.00        54\n",
      "          49       0.00      0.00      0.00         9\n",
      "          51       0.00      0.00      0.00        76\n",
      "          52       0.00      0.00      0.00        32\n",
      "          53       1.00      0.02      0.03        66\n",
      "          54       0.42      0.97      0.58       841\n",
      "          55       0.00      0.00      0.00         3\n",
      "          56       0.90      0.19      0.31       232\n",
      "          61       0.67      0.04      0.08       150\n",
      "          62       1.00      0.01      0.02       103\n",
      "          71       0.00      0.00      0.00        60\n",
      "          72       1.00      0.03      0.06        67\n",
      "          81       0.00      0.00      0.00        98\n",
      "          92       0.00      0.00      0.00         6\n",
      "\n",
      "    accuracy                           0.49      2835\n",
      "   macro avg       0.30      0.09      0.09      2835\n",
      "weighted avg       0.52      0.49      0.37      2835\n",
      "\n"
     ]
    },
    {
     "name": "stderr",
     "output_type": "stream",
     "text": [
      "/home/ernesto/.cache/pypoetry/virtualenvs/zrive-ds-ZlIsFOKS-py3.11/lib/python3.11/site-packages/sklearn/metrics/_classification.py:1509: UndefinedMetricWarning: Precision is ill-defined and being set to 0.0 in labels with no predicted samples. Use `zero_division` parameter to control this behavior.\n",
      "  _warn_prf(average, modifier, f\"{metric.capitalize()} is\", len(result))\n",
      "/home/ernesto/.cache/pypoetry/virtualenvs/zrive-ds-ZlIsFOKS-py3.11/lib/python3.11/site-packages/sklearn/metrics/_classification.py:1509: UndefinedMetricWarning: Precision is ill-defined and being set to 0.0 in labels with no predicted samples. Use `zero_division` parameter to control this behavior.\n",
      "  _warn_prf(average, modifier, f\"{metric.capitalize()} is\", len(result))\n",
      "/home/ernesto/.cache/pypoetry/virtualenvs/zrive-ds-ZlIsFOKS-py3.11/lib/python3.11/site-packages/sklearn/metrics/_classification.py:1509: UndefinedMetricWarning: Precision is ill-defined and being set to 0.0 in labels with no predicted samples. Use `zero_division` parameter to control this behavior.\n",
      "  _warn_prf(average, modifier, f\"{metric.capitalize()} is\", len(result))\n"
     ]
    }
   ],
   "source": [
    "from sklearn.naive_bayes import MultinomialNB\n",
    "\n",
    "clf = Pipeline(\n",
    "    [\n",
    "        (\"vectorizer_tfidf\", TfidfVectorizer()),\n",
    "        (\"NB\", MultinomialNB()),\n",
    "    ]\n",
    ")\n",
    "\n",
    "clf.fit(X_train, y_train)\n",
    "\n",
    "y_pred = clf.predict(X_test)\n",
    "\n",
    "print(classification_report(y_test, y_pred))"
   ]
  },
  {
   "cell_type": "markdown",
   "metadata": {},
   "source": [
    "## Random Forest classifier\n"
   ]
  },
  {
   "cell_type": "code",
   "execution_count": 16,
   "metadata": {},
   "outputs": [
    {
     "name": "stdout",
     "output_type": "stream",
     "text": [
      "              precision    recall  f1-score   support\n",
      "\n",
      "          11       0.00      0.00      0.00         5\n",
      "          21       0.00      0.00      0.00         3\n",
      "          22       0.00      0.00      0.00         6\n",
      "          23       0.72      0.89      0.80       595\n",
      "          31       0.50      0.05      0.10        37\n",
      "          32       0.73      0.17      0.27        48\n",
      "          33       0.55      0.38      0.45       136\n",
      "          42       0.47      0.43      0.45       130\n",
      "          44       0.33      0.03      0.06        30\n",
      "          45       0.33      0.06      0.11        48\n",
      "          48       0.40      0.31      0.35        54\n",
      "          49       1.00      0.11      0.20         9\n",
      "          51       1.00      0.03      0.05        76\n",
      "          52       0.80      0.25      0.38        32\n",
      "          53       0.85      0.44      0.58        66\n",
      "          54       0.57      0.93      0.71       841\n",
      "          55       0.00      0.00      0.00         3\n",
      "          56       0.78      0.46      0.58       232\n",
      "          61       0.73      0.53      0.62       150\n",
      "          62       0.67      0.43      0.52       103\n",
      "          71       0.20      0.02      0.03        60\n",
      "          72       0.71      0.63      0.67        67\n",
      "          81       0.60      0.09      0.16        98\n",
      "          92       0.00      0.00      0.00         6\n",
      "\n",
      "    accuracy                           0.63      2835\n",
      "   macro avg       0.50      0.26      0.29      2835\n",
      "weighted avg       0.63      0.63      0.57      2835\n",
      "\n"
     ]
    },
    {
     "name": "stderr",
     "output_type": "stream",
     "text": [
      "/home/ernesto/.cache/pypoetry/virtualenvs/zrive-ds-ZlIsFOKS-py3.11/lib/python3.11/site-packages/sklearn/metrics/_classification.py:1509: UndefinedMetricWarning: Precision is ill-defined and being set to 0.0 in labels with no predicted samples. Use `zero_division` parameter to control this behavior.\n",
      "  _warn_prf(average, modifier, f\"{metric.capitalize()} is\", len(result))\n",
      "/home/ernesto/.cache/pypoetry/virtualenvs/zrive-ds-ZlIsFOKS-py3.11/lib/python3.11/site-packages/sklearn/metrics/_classification.py:1509: UndefinedMetricWarning: Precision is ill-defined and being set to 0.0 in labels with no predicted samples. Use `zero_division` parameter to control this behavior.\n",
      "  _warn_prf(average, modifier, f\"{metric.capitalize()} is\", len(result))\n",
      "/home/ernesto/.cache/pypoetry/virtualenvs/zrive-ds-ZlIsFOKS-py3.11/lib/python3.11/site-packages/sklearn/metrics/_classification.py:1509: UndefinedMetricWarning: Precision is ill-defined and being set to 0.0 in labels with no predicted samples. Use `zero_division` parameter to control this behavior.\n",
      "  _warn_prf(average, modifier, f\"{metric.capitalize()} is\", len(result))\n"
     ]
    }
   ],
   "source": [
    "from sklearn.ensemble import RandomForestClassifier\n",
    "\n",
    "clf = Pipeline(\n",
    "    [\n",
    "        (\"vectorizer_tfidf\", TfidfVectorizer()),\n",
    "        (\"RF\", RandomForestClassifier(n_estimators=100)),\n",
    "    ]\n",
    ")\n",
    "\n",
    "clf.fit(X_train, y_train)\n",
    "\n",
    "y_pred = clf.predict(X_test)\n",
    "\n",
    "print(classification_report(y_test, y_pred))"
   ]
  },
  {
   "cell_type": "markdown",
   "metadata": {},
   "source": [
    "## First conclusions\n",
    "\n",
    "The KMeans classifier had the best performance, according to the accuracy and F1-score metrics. The Naive Bayes classifier had the worst performance, and the Random Forest classifier had intermediate performance, close to the KMeans classifier.\n",
    "\n",
    "To improve the performance of the models, we can try to preprocess the text data, such as removing stopwords, punctuation, and using lemmatization or stemming.\n"
   ]
  },
  {
   "cell_type": "markdown",
   "metadata": {},
   "source": [
    "## Text preprocessing\n"
   ]
  },
  {
   "cell_type": "markdown",
   "metadata": {},
   "source": [
    "Let's preprocess the data and create the models.\n"
   ]
  },
  {
   "cell_type": "code",
   "execution_count": 17,
   "metadata": {},
   "outputs": [],
   "source": [
    "import spacy"
   ]
  },
  {
   "cell_type": "code",
   "execution_count": null,
   "metadata": {},
   "outputs": [],
   "source": [
    "nlp = spacy.load(\"en_core_web_trf\")\n",
    "\n",
    "\n",
    "def preprocess(sentence: str):\n",
    "    doc = nlp(sentence)\n",
    "    word_list = [word.lemma_ for word in doc if not (word.is_stop or word.is_punct)]\n",
    "    return \" \".join(word_list)"
   ]
  },
  {
   "cell_type": "code",
   "execution_count": null,
   "metadata": {},
   "outputs": [],
   "source": [
    "df[\"PREPROCESSED_DESCRIPTION\"] = df[\"BUSINESS_DESCRIPTION\"].apply(preprocess)"
   ]
  },
  {
   "cell_type": "markdown",
   "metadata": {},
   "source": [
    "We'll save the dataframe just because it will save time in the preprocessing step in the future.\n"
   ]
  },
  {
   "cell_type": "code",
   "execution_count": null,
   "metadata": {},
   "outputs": [],
   "source": [
    "df.to_parquet(os.path.join(DATA_DIR, \"processed/coverwallet_preprocessed.parquet\"))"
   ]
  },
  {
   "cell_type": "code",
   "execution_count": 18,
   "metadata": {},
   "outputs": [],
   "source": [
    "df = pd.read_parquet(\n",
    "    os.path.join(DATA_DIR, \"processed/coverwallet_preprocessed.parquet\")\n",
    ")"
   ]
  },
  {
   "cell_type": "code",
   "execution_count": 19,
   "metadata": {},
   "outputs": [],
   "source": [
    "X_train, X_test, y_train, y_test = train_test_split(\n",
    "    df[\"PREPROCESSED_DESCRIPTION\"],\n",
    "    df[\"NAICS_2\"],\n",
    "    test_size=0.2,\n",
    "    random_state=42,\n",
    "    stratify=df[\"NAICS_2\"],\n",
    ")"
   ]
  },
  {
   "cell_type": "markdown",
   "metadata": {},
   "source": [
    "## KNN classifier for preprocessed data\n"
   ]
  },
  {
   "cell_type": "code",
   "execution_count": 20,
   "metadata": {},
   "outputs": [
    {
     "name": "stdout",
     "output_type": "stream",
     "text": [
      "              precision    recall  f1-score   support\n",
      "\n",
      "          11       0.33      0.20      0.25         5\n",
      "          21       0.00      0.00      0.00         3\n",
      "          22       0.29      0.33      0.31         6\n",
      "          23       0.69      0.89      0.78       595\n",
      "          31       0.34      0.30      0.32        37\n",
      "          32       0.44      0.33      0.38        48\n",
      "          33       0.63      0.40      0.49       136\n",
      "          42       0.21      0.58      0.31       130\n",
      "          44       0.14      0.03      0.05        30\n",
      "          45       0.56      0.19      0.28        48\n",
      "          48       0.52      0.76      0.62        54\n",
      "          49       0.80      0.44      0.57         9\n",
      "          51       0.39      0.22      0.28        76\n",
      "          52       0.64      0.78      0.70        32\n",
      "          53       0.71      0.74      0.73        66\n",
      "          54       0.80      0.71      0.75       841\n",
      "          55       0.00      0.00      0.00         3\n",
      "          56       0.75      0.65      0.69       232\n",
      "          61       0.63      0.53      0.58       150\n",
      "          62       0.66      0.58      0.62       103\n",
      "          71       0.41      0.20      0.27        60\n",
      "          72       0.83      0.60      0.70        67\n",
      "          81       0.45      0.15      0.23        98\n",
      "          92       0.00      0.00      0.00         6\n",
      "\n",
      "    accuracy                           0.63      2835\n",
      "   macro avg       0.47      0.40      0.41      2835\n",
      "weighted avg       0.65      0.63      0.63      2835\n",
      "\n"
     ]
    },
    {
     "name": "stderr",
     "output_type": "stream",
     "text": [
      "/home/ernesto/.cache/pypoetry/virtualenvs/zrive-ds-ZlIsFOKS-py3.11/lib/python3.11/site-packages/sklearn/metrics/_classification.py:1509: UndefinedMetricWarning: Precision is ill-defined and being set to 0.0 in labels with no predicted samples. Use `zero_division` parameter to control this behavior.\n",
      "  _warn_prf(average, modifier, f\"{metric.capitalize()} is\", len(result))\n",
      "/home/ernesto/.cache/pypoetry/virtualenvs/zrive-ds-ZlIsFOKS-py3.11/lib/python3.11/site-packages/sklearn/metrics/_classification.py:1509: UndefinedMetricWarning: Precision is ill-defined and being set to 0.0 in labels with no predicted samples. Use `zero_division` parameter to control this behavior.\n",
      "  _warn_prf(average, modifier, f\"{metric.capitalize()} is\", len(result))\n",
      "/home/ernesto/.cache/pypoetry/virtualenvs/zrive-ds-ZlIsFOKS-py3.11/lib/python3.11/site-packages/sklearn/metrics/_classification.py:1509: UndefinedMetricWarning: Precision is ill-defined and being set to 0.0 in labels with no predicted samples. Use `zero_division` parameter to control this behavior.\n",
      "  _warn_prf(average, modifier, f\"{metric.capitalize()} is\", len(result))\n"
     ]
    }
   ],
   "source": [
    "clf = Pipeline(\n",
    "    [\n",
    "        (\"vectorizer_tfidf\", TfidfVectorizer()),\n",
    "        (\"RF\", KNeighborsClassifier()),\n",
    "    ]\n",
    ")\n",
    "\n",
    "clf.fit(X_train, y_train)\n",
    "\n",
    "y_pred = clf.predict(X_test)\n",
    "\n",
    "print(classification_report(y_test, y_pred))"
   ]
  },
  {
   "cell_type": "markdown",
   "metadata": {},
   "source": [
    "### Hyperparameter tuning\n"
   ]
  },
  {
   "cell_type": "code",
   "execution_count": 21,
   "metadata": {},
   "outputs": [
    {
     "name": "stdout",
     "output_type": "stream",
     "text": [
      "Fitting 5 folds for each of 4 candidates, totalling 20 fits\n"
     ]
    },
    {
     "data": {
      "text/plain": [
       "{'RF__n_neighbors': 20}"
      ]
     },
     "execution_count": 21,
     "metadata": {},
     "output_type": "execute_result"
    }
   ],
   "source": [
    "from sklearn.model_selection import GridSearchCV\n",
    "\n",
    "parameters = {\n",
    "    \"RF__n_neighbors\": [10, 15, 20, 25],\n",
    "}\n",
    "\n",
    "clf = Pipeline(\n",
    "    [\n",
    "        (\"vectorizer_tfidf\", TfidfVectorizer()),\n",
    "        (\"RF\", KNeighborsClassifier()),\n",
    "    ]\n",
    ")\n",
    "\n",
    "grid_search = GridSearchCV(clf, parameters, n_jobs=-1, verbose=1)\n",
    "\n",
    "grid_search.fit(X_train, y_train)\n",
    "\n",
    "y_pred = grid_search.predict(X_test)\n",
    "\n",
    "grid_search.best_params_"
   ]
  },
  {
   "cell_type": "markdown",
   "metadata": {},
   "source": [
    "Let's train the KNN classifier with the preprocessed data and the best hyperparameters found.\n"
   ]
  },
  {
   "cell_type": "code",
   "execution_count": 23,
   "metadata": {},
   "outputs": [
    {
     "name": "stdout",
     "output_type": "stream",
     "text": [
      "              precision    recall  f1-score   support\n",
      "\n",
      "          11       0.00      0.00      0.00         5\n",
      "          21       0.00      0.00      0.00         3\n",
      "          22       0.00      0.00      0.00         6\n",
      "          23       0.71      0.93      0.80       595\n",
      "          31       0.43      0.27      0.33        37\n",
      "          32       0.62      0.33      0.43        48\n",
      "          33       0.67      0.38      0.48       136\n",
      "          42       0.45      0.51      0.48       130\n",
      "          44       0.40      0.07      0.11        30\n",
      "          45       0.64      0.19      0.29        48\n",
      "          48       0.69      0.69      0.69        54\n",
      "          49       0.67      0.22      0.33         9\n",
      "          51       0.56      0.18      0.28        76\n",
      "          52       0.67      0.69      0.68        32\n",
      "          53       0.71      0.83      0.76        66\n",
      "          54       0.73      0.86      0.79       841\n",
      "          55       0.00      0.00      0.00         3\n",
      "          56       0.78      0.71      0.74       232\n",
      "          61       0.69      0.63      0.66       150\n",
      "          62       0.64      0.66      0.65       103\n",
      "          71       0.52      0.27      0.35        60\n",
      "          72       0.78      0.75      0.76        67\n",
      "          81       0.46      0.13      0.21        98\n",
      "          92       0.00      0.00      0.00         6\n",
      "\n",
      "    accuracy                           0.69      2835\n",
      "   macro avg       0.49      0.39      0.41      2835\n",
      "weighted avg       0.67      0.69      0.67      2835\n",
      "\n"
     ]
    },
    {
     "name": "stderr",
     "output_type": "stream",
     "text": [
      "/home/ernesto/.cache/pypoetry/virtualenvs/zrive-ds-ZlIsFOKS-py3.11/lib/python3.11/site-packages/sklearn/metrics/_classification.py:1509: UndefinedMetricWarning: Precision is ill-defined and being set to 0.0 in labels with no predicted samples. Use `zero_division` parameter to control this behavior.\n",
      "  _warn_prf(average, modifier, f\"{metric.capitalize()} is\", len(result))\n",
      "/home/ernesto/.cache/pypoetry/virtualenvs/zrive-ds-ZlIsFOKS-py3.11/lib/python3.11/site-packages/sklearn/metrics/_classification.py:1509: UndefinedMetricWarning: Precision is ill-defined and being set to 0.0 in labels with no predicted samples. Use `zero_division` parameter to control this behavior.\n",
      "  _warn_prf(average, modifier, f\"{metric.capitalize()} is\", len(result))\n",
      "/home/ernesto/.cache/pypoetry/virtualenvs/zrive-ds-ZlIsFOKS-py3.11/lib/python3.11/site-packages/sklearn/metrics/_classification.py:1509: UndefinedMetricWarning: Precision is ill-defined and being set to 0.0 in labels with no predicted samples. Use `zero_division` parameter to control this behavior.\n",
      "  _warn_prf(average, modifier, f\"{metric.capitalize()} is\", len(result))\n"
     ]
    }
   ],
   "source": [
    "clf = Pipeline(\n",
    "    [\n",
    "        (\"vectorizer_tfidf\", TfidfVectorizer()),\n",
    "        (\"RF\", KNeighborsClassifier(n_neighbors=20)),\n",
    "    ]\n",
    ")\n",
    "\n",
    "clf.fit(X_train, y_train)\n",
    "\n",
    "y_pred = clf.predict(X_test)\n",
    "\n",
    "print(classification_report(y_test, y_pred))"
   ]
  },
  {
   "cell_type": "markdown",
   "metadata": {},
   "source": [
    "## Other models\n"
   ]
  },
  {
   "cell_type": "markdown",
   "metadata": {},
   "source": [
    "Let's see if we can improve the performance of the models by using other models and try some hyperparameter tuning.\n"
   ]
  },
  {
   "cell_type": "markdown",
   "metadata": {},
   "source": [
    "### Logistic Regression\n"
   ]
  },
  {
   "cell_type": "code",
   "execution_count": 24,
   "metadata": {},
   "outputs": [
    {
     "name": "stdout",
     "output_type": "stream",
     "text": [
      "              precision    recall  f1-score   support\n",
      "\n",
      "          11       0.00      0.00      0.00         5\n",
      "          21       0.00      0.00      0.00         3\n",
      "          22       0.00      0.00      0.00         6\n",
      "          23       0.81      0.91      0.86       595\n",
      "          31       0.67      0.16      0.26        37\n",
      "          32       0.72      0.27      0.39        48\n",
      "          33       0.62      0.61      0.61       136\n",
      "          42       0.54      0.56      0.55       130\n",
      "          44       1.00      0.03      0.06        30\n",
      "          45       0.47      0.17      0.25        48\n",
      "          48       0.79      0.63      0.70        54\n",
      "          49       1.00      0.22      0.36         9\n",
      "          51       0.58      0.20      0.29        76\n",
      "          52       0.95      0.59      0.73        32\n",
      "          53       0.86      0.64      0.73        66\n",
      "          54       0.67      0.91      0.77       841\n",
      "          55       0.00      0.00      0.00         3\n",
      "          56       0.79      0.70      0.74       232\n",
      "          61       0.72      0.75      0.73       150\n",
      "          62       0.74      0.59      0.66       103\n",
      "          71       0.77      0.28      0.41        60\n",
      "          72       0.75      0.69      0.72        67\n",
      "          81       0.62      0.24      0.35        98\n",
      "          92       0.00      0.00      0.00         6\n",
      "\n",
      "    accuracy                           0.71      2835\n",
      "   macro avg       0.59      0.38      0.42      2835\n",
      "weighted avg       0.71      0.71      0.69      2835\n",
      "\n"
     ]
    },
    {
     "name": "stderr",
     "output_type": "stream",
     "text": [
      "/home/ernesto/.cache/pypoetry/virtualenvs/zrive-ds-ZlIsFOKS-py3.11/lib/python3.11/site-packages/sklearn/metrics/_classification.py:1509: UndefinedMetricWarning: Precision is ill-defined and being set to 0.0 in labels with no predicted samples. Use `zero_division` parameter to control this behavior.\n",
      "  _warn_prf(average, modifier, f\"{metric.capitalize()} is\", len(result))\n",
      "/home/ernesto/.cache/pypoetry/virtualenvs/zrive-ds-ZlIsFOKS-py3.11/lib/python3.11/site-packages/sklearn/metrics/_classification.py:1509: UndefinedMetricWarning: Precision is ill-defined and being set to 0.0 in labels with no predicted samples. Use `zero_division` parameter to control this behavior.\n",
      "  _warn_prf(average, modifier, f\"{metric.capitalize()} is\", len(result))\n",
      "/home/ernesto/.cache/pypoetry/virtualenvs/zrive-ds-ZlIsFOKS-py3.11/lib/python3.11/site-packages/sklearn/metrics/_classification.py:1509: UndefinedMetricWarning: Precision is ill-defined and being set to 0.0 in labels with no predicted samples. Use `zero_division` parameter to control this behavior.\n",
      "  _warn_prf(average, modifier, f\"{metric.capitalize()} is\", len(result))\n"
     ]
    }
   ],
   "source": [
    "from sklearn.linear_model import LogisticRegression\n",
    "\n",
    "clf = Pipeline(\n",
    "    [\n",
    "        (\"vectorizer_tfidf\", TfidfVectorizer()),\n",
    "        (\"LR\", LogisticRegression()),\n",
    "    ]\n",
    ")\n",
    "\n",
    "clf.fit(X_train, y_train)\n",
    "\n",
    "y_pred = clf.predict(X_test)\n",
    "\n",
    "print(classification_report(y_test, y_pred))"
   ]
  },
  {
   "cell_type": "code",
   "execution_count": 44,
   "metadata": {},
   "outputs": [
    {
     "name": "stdout",
     "output_type": "stream",
     "text": [
      "Fitting 5 folds for each of 9 candidates, totalling 45 fits\n"
     ]
    },
    {
     "name": "stderr",
     "output_type": "stream",
     "text": [
      "/home/ernesto/.cache/pypoetry/virtualenvs/zrive-ds-ZlIsFOKS-py3.11/lib/python3.11/site-packages/sklearn/svm/_base.py:1237: ConvergenceWarning: Liblinear failed to converge, increase the number of iterations.\n",
      "  warnings.warn(\n",
      "/home/ernesto/.cache/pypoetry/virtualenvs/zrive-ds-ZlIsFOKS-py3.11/lib/python3.11/site-packages/sklearn/model_selection/_validation.py:547: FitFailedWarning: \n",
      "15 fits failed out of a total of 45.\n",
      "The score on these train-test partitions for these parameters will be set to nan.\n",
      "If these failures are not expected, you can try to debug them by setting error_score='raise'.\n",
      "\n",
      "Below are more details about the failures:\n",
      "--------------------------------------------------------------------------------\n",
      "15 fits failed with the following error:\n",
      "Traceback (most recent call last):\n",
      "  File \"/home/ernesto/.cache/pypoetry/virtualenvs/zrive-ds-ZlIsFOKS-py3.11/lib/python3.11/site-packages/sklearn/model_selection/_validation.py\", line 895, in _fit_and_score\n",
      "    estimator.fit(X_train, y_train, **fit_params)\n",
      "  File \"/home/ernesto/.cache/pypoetry/virtualenvs/zrive-ds-ZlIsFOKS-py3.11/lib/python3.11/site-packages/sklearn/base.py\", line 1474, in wrapper\n",
      "    return fit_method(estimator, *args, **kwargs)\n",
      "           ^^^^^^^^^^^^^^^^^^^^^^^^^^^^^^^^^^^^^^\n",
      "  File \"/home/ernesto/.cache/pypoetry/virtualenvs/zrive-ds-ZlIsFOKS-py3.11/lib/python3.11/site-packages/sklearn/pipeline.py\", line 475, in fit\n",
      "    self._final_estimator.fit(Xt, y, **last_step_params[\"fit\"])\n",
      "  File \"/home/ernesto/.cache/pypoetry/virtualenvs/zrive-ds-ZlIsFOKS-py3.11/lib/python3.11/site-packages/sklearn/base.py\", line 1474, in wrapper\n",
      "    return fit_method(estimator, *args, **kwargs)\n",
      "           ^^^^^^^^^^^^^^^^^^^^^^^^^^^^^^^^^^^^^^\n",
      "  File \"/home/ernesto/.cache/pypoetry/virtualenvs/zrive-ds-ZlIsFOKS-py3.11/lib/python3.11/site-packages/sklearn/linear_model/_logistic.py\", line 1172, in fit\n",
      "    solver = _check_solver(self.solver, self.penalty, self.dual)\n",
      "             ^^^^^^^^^^^^^^^^^^^^^^^^^^^^^^^^^^^^^^^^^^^^^^^^^^^\n",
      "  File \"/home/ernesto/.cache/pypoetry/virtualenvs/zrive-ds-ZlIsFOKS-py3.11/lib/python3.11/site-packages/sklearn/linear_model/_logistic.py\", line 80, in _check_solver\n",
      "    raise ValueError(\"penalty=None is not supported for the liblinear solver\")\n",
      "ValueError: penalty=None is not supported for the liblinear solver\n",
      "\n",
      "  warnings.warn(some_fits_failed_message, FitFailedWarning)\n",
      "/home/ernesto/.cache/pypoetry/virtualenvs/zrive-ds-ZlIsFOKS-py3.11/lib/python3.11/site-packages/sklearn/model_selection/_search.py:1051: UserWarning: One or more of the test scores are non-finite: [0.65185185 0.61269841        nan 0.62566138 0.60167549        nan\n",
      " 0.61975309 0.5984127         nan]\n",
      "  warnings.warn(\n"
     ]
    },
    {
     "name": "stdout",
     "output_type": "stream",
     "text": [
      "              precision    recall  f1-score   support\n",
      "\n",
      "          11       0.25      0.20      0.22         5\n",
      "          21       0.00      0.00      0.00         3\n",
      "          22       0.33      0.17      0.22         6\n",
      "          23       0.79      0.86      0.83       595\n",
      "          31       0.42      0.22      0.29        37\n",
      "          32       0.41      0.33      0.37        48\n",
      "          33       0.55      0.52      0.54       136\n",
      "          42       0.45      0.41      0.43       130\n",
      "          44       0.25      0.17      0.20        30\n",
      "          45       0.31      0.19      0.23        48\n",
      "          48       0.73      0.65      0.69        54\n",
      "          49       0.50      0.22      0.31         9\n",
      "          51       0.43      0.25      0.32        76\n",
      "          52       0.73      0.59      0.66        32\n",
      "          53       0.72      0.62      0.67        66\n",
      "          54       0.70      0.85      0.77       841\n",
      "          55       0.00      0.00      0.00         3\n",
      "          56       0.71      0.65      0.68       232\n",
      "          61       0.64      0.70      0.67       150\n",
      "          62       0.68      0.57      0.62       103\n",
      "          71       0.51      0.38      0.44        60\n",
      "          72       0.78      0.64      0.70        67\n",
      "          81       0.34      0.23      0.28        98\n",
      "          92       0.00      0.00      0.00         6\n",
      "\n",
      "    accuracy                           0.67      2835\n",
      "   macro avg       0.47      0.39      0.42      2835\n",
      "weighted avg       0.65      0.67      0.66      2835\n",
      "\n"
     ]
    },
    {
     "name": "stderr",
     "output_type": "stream",
     "text": [
      "/home/ernesto/.cache/pypoetry/virtualenvs/zrive-ds-ZlIsFOKS-py3.11/lib/python3.11/site-packages/sklearn/svm/_base.py:1237: ConvergenceWarning: Liblinear failed to converge, increase the number of iterations.\n",
      "  warnings.warn(\n",
      "/home/ernesto/.cache/pypoetry/virtualenvs/zrive-ds-ZlIsFOKS-py3.11/lib/python3.11/site-packages/sklearn/metrics/_classification.py:1509: UndefinedMetricWarning: Precision is ill-defined and being set to 0.0 in labels with no predicted samples. Use `zero_division` parameter to control this behavior.\n",
      "  _warn_prf(average, modifier, f\"{metric.capitalize()} is\", len(result))\n",
      "/home/ernesto/.cache/pypoetry/virtualenvs/zrive-ds-ZlIsFOKS-py3.11/lib/python3.11/site-packages/sklearn/metrics/_classification.py:1509: UndefinedMetricWarning: Precision is ill-defined and being set to 0.0 in labels with no predicted samples. Use `zero_division` parameter to control this behavior.\n",
      "  _warn_prf(average, modifier, f\"{metric.capitalize()} is\", len(result))\n",
      "/home/ernesto/.cache/pypoetry/virtualenvs/zrive-ds-ZlIsFOKS-py3.11/lib/python3.11/site-packages/sklearn/metrics/_classification.py:1509: UndefinedMetricWarning: Precision is ill-defined and being set to 0.0 in labels with no predicted samples. Use `zero_division` parameter to control this behavior.\n",
      "  _warn_prf(average, modifier, f\"{metric.capitalize()} is\", len(result))\n"
     ]
    }
   ],
   "source": [
    "# regularization\n",
    "from sklearn.preprocessing import StandardScaler\n",
    "\n",
    "parameters = {\n",
    "    \"LR__penalty\": [\"l1\", \"l2\", None],\n",
    "    \"LR__C\": [0.1, 1, 2],\n",
    "}\n",
    "\n",
    "clf = Pipeline(\n",
    "    [\n",
    "        (\"vectorizer_tfidf\", TfidfVectorizer()),\n",
    "        (\"standard_scaler\", StandardScaler(with_mean=False)),\n",
    "        (\"LR\", LogisticRegression(solver=\"liblinear\")),\n",
    "    ]\n",
    ")\n",
    "\n",
    "grid_search = GridSearchCV(clf, parameters, n_jobs=-1, verbose=1)\n",
    "\n",
    "grid_search.fit(X_train, y_train)\n",
    "\n",
    "y_pred = grid_search.predict(X_test)\n",
    "\n",
    "print(classification_report(y_test, y_pred))"
   ]
  },
  {
   "cell_type": "code",
   "execution_count": 43,
   "metadata": {},
   "outputs": [
    {
     "data": {
      "text/plain": [
       "{'LR__penalty': 'l2'}"
      ]
     },
     "execution_count": 43,
     "metadata": {},
     "output_type": "execute_result"
    }
   ],
   "source": [
    "grid_search.best_params_"
   ]
  },
  {
   "cell_type": "markdown",
   "metadata": {},
   "source": [
    "The Logistic Regression model seems to work better with regularization for this data.\n"
   ]
  },
  {
   "cell_type": "markdown",
   "metadata": {},
   "source": [
    "### Support Vector Machine\n"
   ]
  },
  {
   "cell_type": "code",
   "execution_count": 45,
   "metadata": {},
   "outputs": [
    {
     "name": "stdout",
     "output_type": "stream",
     "text": [
      "Fitting 5 folds for each of 12 candidates, totalling 60 fits\n",
      "              precision    recall  f1-score   support\n",
      "\n",
      "          11       0.00      0.00      0.00         5\n",
      "          21       0.00      0.00      0.00         3\n",
      "          22       0.00      0.00      0.00         6\n",
      "          23       0.82      0.89      0.85       595\n",
      "          31       0.42      0.35      0.38        37\n",
      "          32       0.62      0.31      0.42        48\n",
      "          33       0.59      0.58      0.59       136\n",
      "          42       0.53      0.63      0.58       130\n",
      "          44       0.33      0.03      0.06        30\n",
      "          45       0.45      0.29      0.35        48\n",
      "          48       0.80      0.74      0.77        54\n",
      "          49       0.67      0.22      0.33         9\n",
      "          51       0.53      0.26      0.35        76\n",
      "          52       0.83      0.78      0.81        32\n",
      "          53       0.76      0.68      0.72        66\n",
      "          54       0.72      0.88      0.79       841\n",
      "          55       0.00      0.00      0.00         3\n",
      "          56       0.78      0.72      0.75       232\n",
      "          61       0.73      0.73      0.73       150\n",
      "          62       0.71      0.63      0.67       103\n",
      "          71       0.70      0.38      0.49        60\n",
      "          72       0.81      0.72      0.76        67\n",
      "          81       0.55      0.23      0.33        98\n",
      "          92       0.00      0.00      0.00         6\n",
      "\n",
      "    accuracy                           0.72      2835\n",
      "   macro avg       0.51      0.42      0.45      2835\n",
      "weighted avg       0.70      0.72      0.70      2835\n",
      "\n"
     ]
    },
    {
     "name": "stderr",
     "output_type": "stream",
     "text": [
      "/home/ernesto/.cache/pypoetry/virtualenvs/zrive-ds-ZlIsFOKS-py3.11/lib/python3.11/site-packages/sklearn/metrics/_classification.py:1509: UndefinedMetricWarning: Precision is ill-defined and being set to 0.0 in labels with no predicted samples. Use `zero_division` parameter to control this behavior.\n",
      "  _warn_prf(average, modifier, f\"{metric.capitalize()} is\", len(result))\n",
      "/home/ernesto/.cache/pypoetry/virtualenvs/zrive-ds-ZlIsFOKS-py3.11/lib/python3.11/site-packages/sklearn/metrics/_classification.py:1509: UndefinedMetricWarning: Precision is ill-defined and being set to 0.0 in labels with no predicted samples. Use `zero_division` parameter to control this behavior.\n",
      "  _warn_prf(average, modifier, f\"{metric.capitalize()} is\", len(result))\n",
      "/home/ernesto/.cache/pypoetry/virtualenvs/zrive-ds-ZlIsFOKS-py3.11/lib/python3.11/site-packages/sklearn/metrics/_classification.py:1509: UndefinedMetricWarning: Precision is ill-defined and being set to 0.0 in labels with no predicted samples. Use `zero_division` parameter to control this behavior.\n",
      "  _warn_prf(average, modifier, f\"{metric.capitalize()} is\", len(result))\n"
     ]
    },
    {
     "data": {
      "text/plain": [
       "{'SVC__C': 1, 'SVC__kernel': 'linear'}"
      ]
     },
     "execution_count": 45,
     "metadata": {},
     "output_type": "execute_result"
    }
   ],
   "source": [
    "from sklearn.svm import SVC\n",
    "\n",
    "parameters = {\n",
    "    \"SVC__C\": [0.1, 1, 2],\n",
    "    \"SVC__kernel\": [\"linear\", \"poly\", \"rbf\", \"sigmoid\"],\n",
    "}\n",
    "\n",
    "clf = Pipeline(\n",
    "    [\n",
    "        (\"vectorizer_tfidf\", TfidfVectorizer()),\n",
    "        (\"SVC\", SVC()),\n",
    "    ]\n",
    ")\n",
    "\n",
    "grid_search = GridSearchCV(clf, parameters, n_jobs=-1, verbose=1)\n",
    "\n",
    "grid_search.fit(X_train, y_train)\n",
    "\n",
    "y_pred = grid_search.predict(X_test)\n",
    "\n",
    "print(classification_report(y_test, y_pred))\n",
    "\n",
    "grid_search.best_params_"
   ]
  },
  {
   "cell_type": "markdown",
   "metadata": {},
   "source": [
    "### Gradient Boosting\n"
   ]
  },
  {
   "cell_type": "code",
   "execution_count": 26,
   "metadata": {},
   "outputs": [
    {
     "name": "stdout",
     "output_type": "stream",
     "text": [
      "              precision    recall  f1-score   support\n",
      "\n",
      "          11       0.17      0.20      0.18         5\n",
      "          21       0.00      0.00      0.00         3\n",
      "          22       0.00      0.00      0.00         6\n",
      "          23       0.80      0.83      0.81       595\n",
      "          31       0.27      0.11      0.15        37\n",
      "          32       0.31      0.25      0.28        48\n",
      "          33       0.59      0.49      0.53       136\n",
      "          42       0.50      0.44      0.47       130\n",
      "          44       0.19      0.13      0.16        30\n",
      "          45       0.25      0.17      0.20        48\n",
      "          48       0.67      0.63      0.65        54\n",
      "          49       0.29      0.22      0.25         9\n",
      "          51       0.48      0.21      0.29        76\n",
      "          52       0.68      0.66      0.67        32\n",
      "          53       0.75      0.65      0.70        66\n",
      "          54       0.60      0.82      0.69       841\n",
      "          55       0.00      0.00      0.00         3\n",
      "          56       0.75      0.61      0.67       232\n",
      "          61       0.66      0.66      0.66       150\n",
      "          62       0.71      0.50      0.58       103\n",
      "          71       0.45      0.23      0.31        60\n",
      "          72       0.74      0.63      0.68        67\n",
      "          81       0.46      0.17      0.25        98\n",
      "          92       0.00      0.00      0.00         6\n",
      "\n",
      "    accuracy                           0.64      2835\n",
      "   macro avg       0.43      0.36      0.38      2835\n",
      "weighted avg       0.63      0.64      0.62      2835\n",
      "\n"
     ]
    }
   ],
   "source": [
    "from sklearn.ensemble import GradientBoostingClassifier\n",
    "\n",
    "clf = Pipeline(\n",
    "    [\n",
    "        (\"vectorizer_tfidf\", TfidfVectorizer()),\n",
    "        (\"GB\", GradientBoostingClassifier()),\n",
    "    ]\n",
    ")\n",
    "\n",
    "clf.fit(X_train, y_train)\n",
    "\n",
    "y_pred = clf.predict(X_test)\n",
    "\n",
    "print(classification_report(y_test, y_pred))"
   ]
  },
  {
   "cell_type": "markdown",
   "metadata": {},
   "source": [
    "## Final considerations\n",
    "\n",
    "After preprocessing the data, the models had a better performance, being all of them very similar.\n",
    "\n",
    "The one we could use as a baseline model is the SVM model, which had the best performance in terms of accuracy and F1-score.\n"
   ]
  }
 ],
 "metadata": {
  "kernelspec": {
   "display_name": "zrive-ds-ZlIsFOKS-py3.11",
   "language": "python",
   "name": "python3"
  },
  "language_info": {
   "codemirror_mode": {
    "name": "ipython",
    "version": 3
   },
   "file_extension": ".py",
   "mimetype": "text/x-python",
   "name": "python",
   "nbconvert_exporter": "python",
   "pygments_lexer": "ipython3",
   "version": "3.11.0"
  }
 },
 "nbformat": 4,
 "nbformat_minor": 2
}
