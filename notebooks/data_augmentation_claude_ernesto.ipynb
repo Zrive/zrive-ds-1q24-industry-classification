{
 "cells": [
  {
   "cell_type": "code",
   "execution_count": 1,
   "metadata": {},
   "outputs": [],
   "source": [
    "import pandas as pd\n",
    "import anthropic\n",
    "import os\n",
    "from dotenv import load_dotenv"
   ]
  },
  {
   "cell_type": "code",
   "execution_count": 2,
   "metadata": {},
   "outputs": [],
   "source": [
    "load_dotenv()\n",
    "ANTRHOPIC_API_KEY = os.environ.get(\"ANTHROPIC_API_KEY\")"
   ]
  },
  {
   "cell_type": "code",
   "execution_count": 218,
   "metadata": {},
   "outputs": [],
   "source": [
    "SYSTEM_PROMPT = \"You are a helpful assistant designed to generate synthetic realistic data. Answer as a list of json\"\n",
    "USER_PROMPT = \"Tell me a description for a business classified in any NAICS code whose first 2 digits are exactly '[NAICS_CODE]' and its corresponding complete (6 digits) NAICS code. Each description must be around 40 words. Repeat it for 20 different business. The output should be a json with the keys naics and description.\""
   ]
  },
  {
   "cell_type": "code",
   "execution_count": 219,
   "metadata": {},
   "outputs": [],
   "source": [
    "client = anthropic.Anthropic(\n",
    "    api_key=ANTRHOPIC_API_KEY,\n",
    ")\n",
    "\n",
    "\n",
    "def make_api_call(naics_code: str) -> list[dict]:\n",
    "    message = client.messages.create(\n",
    "        model=\"claude-3-sonnet-20240229\",\n",
    "        max_tokens=4000,\n",
    "        temperature=0.7,\n",
    "        system=SYSTEM_PROMPT,\n",
    "        messages=[\n",
    "            {\"role\": \"user\", \"content\": USER_PROMPT.replace(\"[NAICS_CODE]\", naics_code)}\n",
    "        ],\n",
    "    )\n",
    "    return message"
   ]
  },
  {
   "cell_type": "code",
   "execution_count": 13,
   "metadata": {},
   "outputs": [],
   "source": [
    "response = make_api_call(\"11\")"
   ]
  },
  {
   "cell_type": "code",
   "execution_count": 14,
   "metadata": {},
   "outputs": [
    {
     "data": {
      "text/plain": [
       "[{'naics': '111998',\n",
       "  'description': 'A diversified agricultural operation that cultivates a variety of crops, including grains, vegetables, and fruits, utilizing sustainable farming practices to promote soil health and biodiversity.'},\n",
       " {'naics': '112990',\n",
       "  'description': 'A livestock farm specializing in raising and breeding cattle, sheep, and goats for meat and dairy production, emphasizing ethical and humane animal husbandry practices.'},\n",
       " {'naics': '113110',\n",
       "  'description': 'A commercial timber harvesting operation that sustainably manages and selectively logs forests, ensuring responsible forest management and environmental conservation.'},\n",
       " {'naics': '114111',\n",
       "  'description': 'A finfish farming enterprise that breeds and cultivates various species of fish in controlled aquaculture environments, adhering to strict quality and sustainability standards.'},\n",
       " {'naics': '114112',\n",
       "  'description': 'A shellfish farming operation that cultivates and harvests oysters, clams, mussels, and other bivalve mollusks in coastal waters, using eco-friendly and sustainable aquaculture methods.'},\n",
       " {'naics': '114119',\n",
       "  'description': 'A diverse aquaculture business that raises and produces a variety of freshwater and saltwater species, including fish, crustaceans, and aquatic plants, for commercial purposes.'},\n",
       " {'naics': '115114',\n",
       "  'description': 'A postharvest crop activity business that provides specialized services such as crop cleaning, sun drying, shelling, fumigating, and curing for agricultural produce.'},\n",
       " {'naics': '115210',\n",
       "  'description': 'A support services company that offers specialized expertise and equipment for animal production, including breeding services, livestock spraying, and other animal-related activities.'},\n",
       " {'naics': '115310',\n",
       "  'description': 'A forestry support services provider that offers specialized services such as forest firefighting, reforestation, and timber evaluation and estimation for sustainable forest management.'},\n",
       " {'naics': '115310',\n",
       "  'description': 'A forestry consulting firm that offers expert advice and guidance on sustainable forest management practices, timber harvesting, and environmental impact assessments.'},\n",
       " {'naics': '115210',\n",
       "  'description': 'A livestock breeding and insemination service that specializes in genetic improvement and selective breeding programs for various livestock species to enhance productivity and quality.'},\n",
       " {'naics': '111335',\n",
       "  'description': 'A tree nut farming operation that cultivates and harvests various types of tree nuts, such as almonds, walnuts, and pistachios, using sustainable agricultural practices.'},\n",
       " {'naics': '111419',\n",
       "  'description': 'A greenhouse and nursery operation that grows and sells a wide variety of ornamental plants, flowers, and seedlings for landscaping and gardening purposes.'},\n",
       " {'naics': '111920',\n",
       "  'description': 'A cotton farming enterprise that cultivates and harvests cotton crops, utilizing modern agricultural techniques and equipment to ensure high-quality fiber production.'},\n",
       " {'naics': '111339',\n",
       "  'description': 'A fruit and tree nut combination farming business that grows and produces a diverse range of fruits and tree nuts for commercial sale and distribution.'},\n",
       " {'naics': '111942',\n",
       "  'description': 'A floriculture production operation that specializes in the cultivation and sale of cut flowers, potted plants, and floral products for various market segments.'},\n",
       " {'naics': '112510',\n",
       "  'description': 'An apiculture business that manages and maintains bee colonies for honey production, pollination services, and the sale of related bee products and byproducts.'},\n",
       " {'naics': '112920',\n",
       "  'description': 'A horse and other equine production farm that breeds, raises, and trains horses for various purposes, such as racing, showing, and recreational activities.'},\n",
       " {'naics': '114210',\n",
       "  'description': 'A hunting and trapping operation that provides guided hunting experiences and sustainable wildlife management services for game species on private or public lands.'},\n",
       " {'naics': '115116',\n",
       "  'description': 'A farm labor contracting and crew management service that provides skilled agricultural workers and oversees labor-intensive farming operations for crop production and harvesting.'}]"
      ]
     },
     "execution_count": 14,
     "metadata": {},
     "output_type": "execute_result"
    }
   ],
   "source": [
    "eval(response.content[0].text)"
   ]
  },
  {
   "cell_type": "code",
   "execution_count": 260,
   "metadata": {},
   "outputs": [],
   "source": [
    "minority_classes = [21, 55, 92, 22, 49, 11]\n",
    "minority_classes = [31, 52, 44]\n",
    "minority_classes = [str(x) for x in minority_classes]"
   ]
  },
  {
   "cell_type": "code",
   "execution_count": 261,
   "metadata": {},
   "outputs": [],
   "source": [
    "data_list = []"
   ]
  },
  {
   "cell_type": "code",
   "execution_count": 262,
   "metadata": {},
   "outputs": [],
   "source": [
    "for code in minority_classes:\n",
    "    for i in range(5):\n",
    "        response = make_api_call(code)\n",
    "        synthetic_data = eval(response.content[0].text)\n",
    "        data_list.append(synthetic_data)"
   ]
  },
  {
   "cell_type": "code",
   "execution_count": 264,
   "metadata": {},
   "outputs": [
    {
     "data": {
      "text/plain": [
       "15"
      ]
     },
     "execution_count": 264,
     "metadata": {},
     "output_type": "execute_result"
    }
   ],
   "source": [
    "len(data_list)"
   ]
  },
  {
   "cell_type": "code",
   "execution_count": 265,
   "metadata": {},
   "outputs": [],
   "source": [
    "df_list = []"
   ]
  },
  {
   "cell_type": "code",
   "execution_count": 266,
   "metadata": {},
   "outputs": [],
   "source": [
    "for data in data_list:\n",
    "    df = pd.DataFrame(data)\n",
    "    df_list.append(df)"
   ]
  },
  {
   "cell_type": "code",
   "execution_count": 267,
   "metadata": {},
   "outputs": [],
   "source": [
    "df_total = pd.concat(df_list)"
   ]
  },
  {
   "cell_type": "code",
   "execution_count": 268,
   "metadata": {},
   "outputs": [
    {
     "data": {
      "text/html": [
       "<div>\n",
       "<style scoped>\n",
       "    .dataframe tbody tr th:only-of-type {\n",
       "        vertical-align: middle;\n",
       "    }\n",
       "\n",
       "    .dataframe tbody tr th {\n",
       "        vertical-align: top;\n",
       "    }\n",
       "\n",
       "    .dataframe thead th {\n",
       "        text-align: right;\n",
       "    }\n",
       "</style>\n",
       "<table border=\"1\" class=\"dataframe\">\n",
       "  <thead>\n",
       "    <tr style=\"text-align: right;\">\n",
       "      <th></th>\n",
       "      <th>naics</th>\n",
       "      <th>description</th>\n",
       "    </tr>\n",
       "  </thead>\n",
       "  <tbody>\n",
       "    <tr>\n",
       "      <th>0</th>\n",
       "      <td>311811</td>\n",
       "      <td>This establishment specializes in the producti...</td>\n",
       "    </tr>\n",
       "    <tr>\n",
       "      <th>1</th>\n",
       "      <td>311920</td>\n",
       "      <td>This company is engaged in the processing and ...</td>\n",
       "    </tr>\n",
       "    <tr>\n",
       "      <th>2</th>\n",
       "      <td>312120</td>\n",
       "      <td>This establishment operates a brewery, produci...</td>\n",
       "    </tr>\n",
       "    <tr>\n",
       "      <th>3</th>\n",
       "      <td>313210</td>\n",
       "      <td>This textile mill is involved in the spinning,...</td>\n",
       "    </tr>\n",
       "    <tr>\n",
       "      <th>4</th>\n",
       "      <td>314110</td>\n",
       "      <td>This manufacturing facility specializes in the...</td>\n",
       "    </tr>\n",
       "  </tbody>\n",
       "</table>\n",
       "</div>"
      ],
      "text/plain": [
       "    naics                                        description\n",
       "0  311811  This establishment specializes in the producti...\n",
       "1  311920  This company is engaged in the processing and ...\n",
       "2  312120  This establishment operates a brewery, produci...\n",
       "3  313210  This textile mill is involved in the spinning,...\n",
       "4  314110  This manufacturing facility specializes in the..."
      ]
     },
     "execution_count": 268,
     "metadata": {},
     "output_type": "execute_result"
    }
   ],
   "source": [
    "df_total.head()"
   ]
  },
  {
   "cell_type": "code",
   "execution_count": 269,
   "metadata": {},
   "outputs": [
    {
     "name": "stdout",
     "output_type": "stream",
     "text": [
      "<class 'pandas.core.frame.DataFrame'>\n",
      "Index: 300 entries, 0 to 19\n",
      "Data columns (total 2 columns):\n",
      " #   Column       Non-Null Count  Dtype \n",
      "---  ------       --------------  ----- \n",
      " 0   naics        300 non-null    object\n",
      " 1   description  300 non-null    object\n",
      "dtypes: object(2)\n",
      "memory usage: 7.0+ KB\n"
     ]
    }
   ],
   "source": [
    "df_total.info()"
   ]
  },
  {
   "cell_type": "code",
   "execution_count": 270,
   "metadata": {},
   "outputs": [],
   "source": [
    "df_total[\"NAICS_2\"] = df_total[\"naics\"].str[:2]"
   ]
  },
  {
   "cell_type": "code",
   "execution_count": 272,
   "metadata": {},
   "outputs": [
    {
     "data": {
      "text/plain": [
       "naics_2\n",
       "44    100\n",
       "52    100\n",
       "31     76\n",
       "32     18\n",
       "33      6\n",
       "Name: count, dtype: int64"
      ]
     },
     "execution_count": 272,
     "metadata": {},
     "output_type": "execute_result"
    }
   ],
   "source": [
    "df_total[\"NAICS_2\"].value_counts()"
   ]
  },
  {
   "cell_type": "code",
   "execution_count": 273,
   "metadata": {},
   "outputs": [],
   "source": [
    "df_total.rename(\n",
    "    columns={\"naics\": \"NAICS\", \"description\": \"BUSINESS_DESCRIPTION\"}, inplace=True\n",
    ")"
   ]
  },
  {
   "cell_type": "code",
   "execution_count": 274,
   "metadata": {},
   "outputs": [],
   "source": [
    "df_total.to_parquet(\"naics_synthetic2.parquet\", index=False)"
   ]
  },
  {
   "cell_type": "code",
   "execution_count": 275,
   "metadata": {},
   "outputs": [],
   "source": [
    "clases_molestas = [11, 21, 22, 55, 92, 81]"
   ]
  },
  {
   "cell_type": "markdown",
   "metadata": {},
   "source": [
    "Join sythetic data\n"
   ]
  },
  {
   "cell_type": "code",
   "execution_count": 276,
   "metadata": {},
   "outputs": [],
   "source": [
    "syn = pd.read_csv(\"naics_synthetic.csv\")\n",
    "syn1 = pd.read_parquet(\"naics_synthetic1.parquet\")\n",
    "syn2 = pd.read_parquet(\"naics_synthetic2.parquet\")"
   ]
  },
  {
   "cell_type": "code",
   "execution_count": 277,
   "metadata": {},
   "outputs": [],
   "source": [
    "total = pd.concat([syn, syn1, syn2])"
   ]
  },
  {
   "cell_type": "code",
   "execution_count": 278,
   "metadata": {},
   "outputs": [],
   "source": [
    "total[\"naics_2\"] = total[\"NAICS\"].astype(str).str[:2].astype(int)"
   ]
  },
  {
   "cell_type": "code",
   "execution_count": 279,
   "metadata": {},
   "outputs": [
    {
     "data": {
      "text/plain": [
       "naics_2\n",
       "55    260\n",
       "21    240\n",
       "22    240\n",
       "11    210\n",
       "92    200\n",
       "49    109\n",
       "52    100\n",
       "44    100\n",
       "48     91\n",
       "31     76\n",
       "32     18\n",
       "33      6\n",
       "Name: count, dtype: int64"
      ]
     },
     "execution_count": 279,
     "metadata": {},
     "output_type": "execute_result"
    }
   ],
   "source": [
    "total[\"naics_2\"].value_counts()"
   ]
  },
  {
   "cell_type": "code",
   "execution_count": 280,
   "metadata": {},
   "outputs": [],
   "source": [
    "total.to_csv(\"total_naics_synthetic.csv\", index=False)"
   ]
  }
 ],
 "metadata": {
  "kernelspec": {
   "display_name": "zrive-ds-ZlIsFOKS-py3.11",
   "language": "python",
   "name": "python3"
  },
  "language_info": {
   "codemirror_mode": {
    "name": "ipython",
    "version": 3
   },
   "file_extension": ".py",
   "mimetype": "text/x-python",
   "name": "python",
   "nbconvert_exporter": "python",
   "pygments_lexer": "ipython3",
   "version": "3.11.0"
  }
 },
 "nbformat": 4,
 "nbformat_minor": 2
}
