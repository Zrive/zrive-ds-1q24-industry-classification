{
 "cells": [
  {
   "cell_type": "markdown",
   "metadata": {},
   "source": [
    "## Model selection"
   ]
  },
  {
   "cell_type": "code",
   "execution_count": 125,
   "metadata": {},
   "outputs": [],
   "source": [
    "import torch\n",
    "from transformers import DistilBertTokenizer, DistilBertModel\n",
    "from torch import nn\n",
    "\n",
    "import pandas as pd\n",
    "import numpy as np\n",
    "import logging\n",
    "from datasets import Dataset, DatasetDict\n",
    "from transformers import DistilBertModel\n",
    "from torch.utils.data import Dataset, DataLoader\n",
    "from datasets import Dataset, DatasetDict\n",
    "from sklearn.model_selection import train_test_split\n",
    "from sklearn.model_selection import KFold\n",
    "from sklearn.pipeline import make_pipeline\n",
    "from sklearn.linear_model import LogisticRegression\n",
    "from sklearn.preprocessing import  StandardScaler\n",
    "from sklearn.metrics import accuracy_score, confusion_matrix, classification_report\n",
    "import matplotlib.pyplot as plt\n",
    "import seaborn as sns\n",
    "from sklearn.metrics import f1_score\n",
    "\n",
    "logging.basicConfig(level=logging.INFO, format='%(levelname)s: %(message)s')\n",
    "\n",
    "from torch import cuda\n",
    "device = 'cuda' if cuda.is_available() else 'cpu'"
   ]
  },
  {
   "cell_type": "code",
   "execution_count": 24,
   "metadata": {},
   "outputs": [],
   "source": [
    "COVERWALLET_DF_PATH = '../../data/coverwallet/coverwallet.xlsx'"
   ]
  },
  {
   "cell_type": "markdown",
   "metadata": {},
   "source": [
    "Prepare data"
   ]
  },
  {
   "cell_type": "code",
   "execution_count": 25,
   "metadata": {},
   "outputs": [
    {
     "data": {
      "text/plain": [
       "'\\n    # Configuration k-fold\\n    num_folds = 3\\n    kf = KFold(n_splits=num_folds, shuffle=True, random_state=42)\\n    kfold_datasets = []\\n\\n    for fold, (train_indices, val_indices) in enumerate(kf.split(dataset_train)):\\n        train_dataset = dataset_train.select(train_indices)\\n        val_dataset = dataset_train.select(val_indices)\\n\\n        dataset_dict = {\\n            \\'train\\': train_dataset,\\n            \\'validation\\': val_dataset\\n        }\\n\\n        features_dict = {\\n            \"NAICS\": dataset_train[\"NAICS\"],\\n            \"BUSINESS_DESCRIPTION\": dataset_train[\"BUSINESS_DESCRIPTION\"],\\n        }\\n\\n        kfold_datasets.append(dataset_dict)\\n        logging.info(f\"Processed fold {fold + 1}\")\\n\\n    for i, dataset_dict in enumerate(kfold_datasets):\\n        for split in dataset_dict.keys():\\n            dataset_dict[split] = dataset_dict[split].map(lambda example: {key: example[key] for key in features_dict.keys()})\\n\\n        logging.info(f\"DatasetDict for Fold {i + 1}:\")\\n        for split, dataset in dataset_dict.items():\\n            logging.info(f\"  {split} split: {dataset}\")\\n\\n    logging.info(\"NAICS codes truncated successfully. Here\\'s the head of the truncated DataFrame:\")\\n    logging.info(\"\\n%s\", df_copy.head())\\n    logging.info(\"Number of unique NAICS labels: %d\", len(labels))\\n    '"
      ]
     },
     "execution_count": 25,
     "metadata": {},
     "output_type": "execute_result"
    }
   ],
   "source": [
    "\n",
    "def truncate_naics_and_prepare_data(df, column_name, num_digits):\n",
    "    \"\"\"\n",
    "    Truncates the NAICS codes in the specified column to the desired number of digits and prepares the data.\n",
    "\n",
    "    :param df: pandas DataFrame containing the NAICS codes.\n",
    "    :param column_name: the name of the column with the NAICS codes.\n",
    "    :param num_digits: the number of digits to truncate to.\n",
    "    :return: A modified DataFrame with truncated NAICS codes, and split datasets for training and validation.\n",
    "    \"\"\"\n",
    "    # Validate the number of digits\n",
    "    if not isinstance(num_digits, int) or num_digits <= 0:\n",
    "        logging.error(\"Number of digits must be a positive integer\")\n",
    "        raise ValueError(\"Number of digits must be a positive integer\")\n",
    "\n",
    "    # Make a copy of the DataFrame to avoid modifying the original\n",
    "    df_copy = df.copy()\n",
    "    \n",
    "    # Function to truncate or pad NAICS codes\n",
    "    def truncate_code(code):\n",
    "        \"\"\"\n",
    "        Truncates the NAICS code to the specified number of digits.\n",
    "        :param code: the NAICS code to be truncated.\n",
    "        :return: The truncated NAICS code as a string.\n",
    "        \"\"\"\n",
    "        try:\n",
    "            # Ensure the code is a string and truncate if longer than num_digits\n",
    "            return str(code)[:num_digits]\n",
    "        except Exception as e:\n",
    "            logging.exception(f\"Error truncating code: {code}\")\n",
    "            return code\n",
    "\n",
    "    # Apply the truncation function to the specified column\n",
    "    df_copy[column_name] = df_copy[column_name].apply(truncate_code)\n",
    "\n",
    "    # Ensure all NAICS codes are still strings\n",
    "    df_copy[column_name] = df_copy[column_name].astype(str)\n",
    "\n",
    "    # Add a logging statement to check the result\n",
    "    logging.info(\"NAICS codes processed successfully. Here's the head of the processed DataFrame:\")\n",
    "    logging.info(df_copy.head())\n",
    "\n",
    "    # Split the data into training and validation sets\n",
    "    df_copy_train, df_copy_val = train_test_split(df_copy, test_size=0.15, shuffle=True, random_state=42)\n",
    "\n",
    "    # Return the processed DataFrame and the split datasets\n",
    "    return df_copy, df_copy_train, df_copy_val\n",
    "'''\n",
    "    # Configuration k-fold\n",
    "    num_folds = 3\n",
    "    kf = KFold(n_splits=num_folds, shuffle=True, random_state=42)\n",
    "    kfold_datasets = []\n",
    "\n",
    "    for fold, (train_indices, val_indices) in enumerate(kf.split(dataset_train)):\n",
    "        train_dataset = dataset_train.select(train_indices)\n",
    "        val_dataset = dataset_train.select(val_indices)\n",
    "\n",
    "        dataset_dict = {\n",
    "            'train': train_dataset,\n",
    "            'validation': val_dataset\n",
    "        }\n",
    "\n",
    "        features_dict = {\n",
    "            \"NAICS\": dataset_train[\"NAICS\"],\n",
    "            \"BUSINESS_DESCRIPTION\": dataset_train[\"BUSINESS_DESCRIPTION\"],\n",
    "        }\n",
    "\n",
    "        kfold_datasets.append(dataset_dict)\n",
    "        logging.info(f\"Processed fold {fold + 1}\")\n",
    "\n",
    "    for i, dataset_dict in enumerate(kfold_datasets):\n",
    "        for split in dataset_dict.keys():\n",
    "            dataset_dict[split] = dataset_dict[split].map(lambda example: {key: example[key] for key in features_dict.keys()})\n",
    "\n",
    "        logging.info(f\"DatasetDict for Fold {i + 1}:\")\n",
    "        for split, dataset in dataset_dict.items():\n",
    "            logging.info(f\"  {split} split: {dataset}\")\n",
    "\n",
    "    logging.info(\"NAICS codes truncated successfully. Here's the head of the truncated DataFrame:\")\n",
    "    logging.info(\"\\n%s\", df_copy.head())\n",
    "    logging.info(\"Number of unique NAICS labels: %d\", len(labels))\n",
    "    '''\n",
    "    #return df_copy, kfold_datasets, dataset_train, dataset_final_val\n",
    "\n",
    "    #df_2_digits, kfold_2_digits, dataset_train_2_digits, dataset_final_val_2_digits = truncate_naics_and_prepare_data(df, 'NAICS', 2)"
   ]
  },
  {
   "cell_type": "code",
   "execution_count": 26,
   "metadata": {},
   "outputs": [
    {
     "name": "stderr",
     "output_type": "stream",
     "text": [
      "INFO: NAICS codes processed successfully. Here's the head of the processed DataFrame:\n",
      "INFO:   NAICS                               BUSINESS_DESCRIPTION\n",
      "0    72  Zenyai Viet Cajun & Pho Restaurant is dedicate...\n",
      "1    54  Kilduff Underground Engineering, Inc. (KUE) is...\n",
      "2    45  024™ is a premium home fragrance brand that de...\n",
      "3    56  Our Services include Office Cleaning Carpet cl...\n",
      "4    62                    NYS Licensed Home Health Agency\n"
     ]
    }
   ],
   "source": [
    "df = pd.read_excel(COVERWALLET_DF_PATH)\n",
    "df = df.dropna()\n",
    "df_2_digits, dataset_train_2_digits, dataset_final_val_2_digits = truncate_naics_and_prepare_data(df, 'NAICS', 2)"
   ]
  },
  {
   "cell_type": "code",
   "execution_count": 50,
   "metadata": {},
   "outputs": [],
   "source": [
    "class CustomDataset(Dataset):\n",
    "    \n",
    "    def __init__(self, dataframe, max_len):\n",
    "        self.tokenizer = DistilBertTokenizer.from_pretrained(\"distilbert-base-uncased\")\n",
    "        self.texts = np.array(dataframe['BUSINESS_DESCRIPTION'].astype(str))\n",
    "        self.targets = np.array(dataframe['NAICS'].astype(int))\n",
    "        self.max_len = max_len\n",
    "        self.model = DistilBertModel.from_pretrained(\"distilbert-base-uncased\")\n",
    "\n",
    "        # Agregar una capa de clasificación que será la única que entrenemos\n",
    "        self.classifier = nn.Linear(self.model.config.dim, len(np.unique(self.targets)))\n",
    "\n",
    "        # Congelar todos los parámetros del modelo DistilBERT\n",
    "        for param in self.model.parameters():\n",
    "            param.requires_grad = False\n",
    "\n",
    "        # Habilitar entrenamiento solo en la capa clasificadora\n",
    "        for param in self.classifier.parameters():\n",
    "            param.requires_grad = True\n",
    "\n",
    "    def __len__(self):\n",
    "        return len(self.texts)\n",
    "\n",
    "    def __getitem__(self, idx):\n",
    "        text = self.texts[idx]\n",
    "        target = self.targets[idx]\n",
    "\n",
    "        # Tokenizar el texto y obtener los embeddings con el modelo DistilBERT\n",
    "        inputs = self.tokenizer(text, return_tensors='pt', padding=True, truncation=True, max_length=self.max_len)\n",
    "        with torch.no_grad():\n",
    "            outputs = self.model(**inputs)\n",
    "\n",
    "        # Obtener los embeddings del token [CLS] (última capa oculta)\n",
    "        embeddings = outputs.last_hidden_state[:, 0, :]  # Embeddings del token [CLS]\n",
    "\n",
    "        # Aplicar la capa clasificadora\n",
    "        logits = self.classifier(embeddings)\n",
    "\n",
    "        label = torch.tensor(target, dtype=torch.long)\n",
    "\n",
    "        return {\n",
    "            'logits': logits,\n",
    "            'label': label,\n",
    "        }"
   ]
  },
  {
   "cell_type": "markdown",
   "metadata": {},
   "source": [
    "Dataset splitting"
   ]
  },
  {
   "cell_type": "code",
   "execution_count": 40,
   "metadata": {},
   "outputs": [],
   "source": [
    "MAX_LEN = 128\n",
    "TRAIN_BATCH_SIZE = 4\n",
    "VALID_BATCH_SIZE = 4\n",
    "EPOCHS = 3\n",
    "LEARNING_RATE = 1e-05\n",
    "train_size = 0.7\n",
    "test_size = 0.2\n",
    "val_size = 0.1 "
   ]
  },
  {
   "cell_type": "code",
   "execution_count": 41,
   "metadata": {},
   "outputs": [],
   "source": [
    "train_data = df_2_digits.sample(frac=train_size, random_state=200)\n",
    "remaining_data = df_2_digits.drop(train_data.index).reset_index(drop=True)\n",
    "test_data = remaining_data.sample(frac=test_size / (test_size + val_size), random_state=200)\n",
    "val_data = remaining_data.drop(test_data.index).reset_index(drop=True)"
   ]
  },
  {
   "cell_type": "code",
   "execution_count": 43,
   "metadata": {},
   "outputs": [
    {
     "data": {
      "text/plain": [
       "4306     54\n",
       "9524     54\n",
       "9446     54\n",
       "12528    42\n",
       "8618     72\n",
       "         ..\n",
       "13482    33\n",
       "6697     56\n",
       "6300     54\n",
       "9225     54\n",
       "4226     71\n",
       "Name: NAICS, Length: 9922, dtype: object"
      ]
     },
     "execution_count": 43,
     "metadata": {},
     "output_type": "execute_result"
    }
   ],
   "source": [
    "train_data['NAICS']"
   ]
  },
  {
   "cell_type": "code",
   "execution_count": 101,
   "metadata": {},
   "outputs": [],
   "source": [
    "def create_dataframe_from_dataset(dataset):\n",
    "    data = []\n",
    "    for i in range(len(dataset)):\n",
    "        item = dataset[i]\n",
    "        # Assume each item returns a dictionary with 'embeddings' and 'label'\n",
    "        embeddings = item['logits'].squeeze().detach().numpy()  # Converting tensor to numpy array\n",
    "        label = item['label'].item()  # Getting the scalar value of the label tensor\n",
    "        # You may want to store more meaningful data depending on your application\n",
    "        # For demonstration, we'll just store the label and the shape of the embeddings\n",
    "        data.append({\n",
    "            'label': label,\n",
    "            'logits': embeddings  # Storing just the shape for simplicity\n",
    "        })\n",
    "    return pd.DataFrame(data)"
   ]
  },
  {
   "cell_type": "code",
   "execution_count": 102,
   "metadata": {},
   "outputs": [],
   "source": [
    "def split_dataframe_in_X_y_arrays(df):\n",
    "    X = np.array(df['logits'].tolist())\n",
    "    y = df['label'].values\n",
    "\n",
    "    return X, y"
   ]
  },
  {
   "cell_type": "code",
   "execution_count": 103,
   "metadata": {},
   "outputs": [],
   "source": [
    "# Assuming the CustomDataset, MAX_LEN, and other variables are set up properly\n",
    "training_set = CustomDataset(train_data, MAX_LEN)\n",
    "test_set = CustomDataset(test_data, MAX_LEN)\n",
    "val_set = CustomDataset(val_data, MAX_LEN)"
   ]
  },
  {
   "cell_type": "markdown",
   "metadata": {},
   "source": [
    "**Train data generation**"
   ]
  },
  {
   "cell_type": "code",
   "execution_count": 108,
   "metadata": {},
   "outputs": [
    {
     "name": "stderr",
     "output_type": "stream",
     "text": [
      "INFO: TRAIN dataframe created:    label                                             logits\n",
      "0     54  [0.21778423, -0.16700274, -0.20851661, 0.18334...\n",
      "1     54  [0.13652816, -0.3233375, -0.28091252, 0.082841...\n",
      "2     54  [0.25230876, -0.28625485, -0.18039289, 0.18934...\n",
      "3     42  [0.088514805, -0.37978044, -0.350471, 0.256224...\n",
      "4     72  [-0.017517237, -0.25390807, -0.110664174, 0.14...\n"
     ]
    }
   ],
   "source": [
    "df_training = create_dataframe_from_dataset(training_set)\n",
    "logging.info(\"TRAIN dataframe created: %s\", df_training.head())"
   ]
  },
  {
   "cell_type": "code",
   "execution_count": 109,
   "metadata": {},
   "outputs": [],
   "source": [
    "X_train, y_train = split_dataframe_in_X_y_arrays(df_training)"
   ]
  },
  {
   "cell_type": "markdown",
   "metadata": {},
   "source": [
    "**Validation data generation**"
   ]
  },
  {
   "cell_type": "code",
   "execution_count": 110,
   "metadata": {},
   "outputs": [
    {
     "name": "stderr",
     "output_type": "stream",
     "text": [
      "INFO: VALIDATION dataframe created:    label                                             logits\n",
      "0     54  [0.036755815, 0.11502451, -0.19476756, 0.08415...\n",
      "1     49  [-0.045142815, 0.32461908, -0.2319279, 0.15624...\n",
      "2     54  [0.032508343, 0.39621365, -0.25745162, 0.16275...\n",
      "3     54  [-0.04316461, 0.54457796, -0.4946604, 0.101370...\n",
      "4     23  [-0.11789999, 0.16664472, -0.14098477, 0.17120...\n"
     ]
    }
   ],
   "source": [
    "df_val = create_dataframe_from_dataset(val_set)\n",
    "logging.info(\"VALIDATION dataframe created: %s\", df_val.head())\n",
    "X_val, y_val = split_dataframe_in_X_y_arrays(df_val)"
   ]
  },
  {
   "cell_type": "markdown",
   "metadata": {},
   "source": [
    "**Test data generation**"
   ]
  },
  {
   "cell_type": "code",
   "execution_count": 111,
   "metadata": {},
   "outputs": [
    {
     "name": "stderr",
     "output_type": "stream",
     "text": [
      "INFO: TEST dataframe created:    label                                             logits\n",
      "0     42  [0.5131661, 0.18529952, 0.088033006, -0.388032...\n",
      "1     81  [0.30762514, 0.45642924, 0.047871526, -0.38784...\n",
      "2     23  [0.44687918, 0.5359659, 0.106965706, -0.462249...\n",
      "3     56  [0.48474756, 0.2867393, -0.1294407, -0.4771075...\n",
      "4     23  [0.3625356, 0.37951413, 0.32743192, -0.4775924...\n"
     ]
    }
   ],
   "source": [
    "df_test = create_dataframe_from_dataset(test_set)\n",
    "logging.info(\"TEST dataframe created: %s\", df_test.head())\n",
    "X_test, y_test = split_dataframe_in_X_y_arrays(df_test)"
   ]
  },
  {
   "cell_type": "markdown",
   "metadata": {},
   "source": [
    "## Model selection"
   ]
  },
  {
   "cell_type": "markdown",
   "metadata": {},
   "source": [
    "## Basic logistic regression with l2 regularization"
   ]
  },
  {
   "cell_type": "code",
   "execution_count": 144,
   "metadata": {},
   "outputs": [],
   "source": [
    "lr_values = [0.00001 ,0.0001, 0.001, 0.01, 0.1, 1, 10]\n",
    "C_values = [1 / lr for lr in lr_values]"
   ]
  },
  {
   "cell_type": "code",
   "execution_count": 160,
   "metadata": {},
   "outputs": [
    {
     "name": "stdout",
     "output_type": "stream",
     "text": [
      "Best logistic regression model with (C=0.1):\n",
      "Pipeline(steps=[('standardscaler', StandardScaler()),\n",
      "                ('logisticregression',\n",
      "                 LogisticRegression(C=0.1, max_iter=1000))])\n",
      "Macro-f1 score in validation data: 0.006180572097297302\n"
     ]
    }
   ],
   "source": [
    "best_model = None\n",
    "best_f1_score = 0.0\n",
    "\n",
    "for C in C_values:\n",
    "    lr_model = make_pipeline(StandardScaler(), LogisticRegression(penalty='l2', C=C, solver='lbfgs', max_iter=1000))\n",
    "    lr_model.fit(X_train, y_train)\n",
    "\n",
    "    y_val_pred = lr_model.predict(X_val)\n",
    "    \n",
    "    macro_f1 = f1_score(y_val, y_val_pred, average='macro')\n",
    "    \n",
    "    if macro_f1 > best_f1_score:\n",
    "        best_lr_l2_model = lr_model\n",
    "        best_f1_score_lr_l2_model = macro_f1\n",
    "\n",
    "print(\"Best logistic regression model with (C={}):\".format(best_lr_l2_model.named_steps['logisticregression'].C))\n",
    "print(best_lr_l2_model)\n",
    "print(\"Macro-f1 score in validation data:\", best_f1_score_lr_l2_model)"
   ]
  },
  {
   "cell_type": "code",
   "execution_count": 161,
   "metadata": {},
   "outputs": [],
   "source": [
    "def plot_normalized_confusion_matrix(y_true, y_pred, classes, ax):\n",
    "    cm = confusion_matrix(y_true, y_pred, normalize='true')\n",
    "\n",
    "    im = ax.imshow(cm, interpolation='nearest', cmap=plt.cm.Blues)\n",
    "    ax.set_title('Matriz de Confusión Normalizada')\n",
    "    fig.colorbar(im, ax=ax)\n",
    "    tick_marks = np.arange(len(classes))\n",
    "    ax.set_xticks(tick_marks)\n",
    "    ax.set_xticklabels(classes, rotation=45)\n",
    "    ax.set_yticks(tick_marks)\n",
    "    ax.set_yticklabels(classes)\n",
    "    ax.set_xlabel('Etiqueta Predicha')\n",
    "    ax.set_ylabel('Etiqueta Verdadera')\n",
    "\n",
    "    ax.set_ylim(len(classes)-0.5, -0.5)  "
   ]
  },
  {
   "cell_type": "code",
   "execution_count": 162,
   "metadata": {},
   "outputs": [],
   "source": [
    "y_train_pred = best_lr_l2_model.predict(X_train)\n",
    "y_val_pred = best_lr_l2_model.predict(X_val)"
   ]
  },
  {
   "cell_type": "code",
   "execution_count": 163,
   "metadata": {},
   "outputs": [
    {
     "data": {
      "image/png": "[encoded data removed]",
      "text/plain": [
       "<Figure size 1200x600 with 4 Axes>"
      ]
     },
     "metadata": {},
     "output_type": "display_data"
    }
   ],
   "source": [
    "fig, axes = plt.subplots(1, 2, figsize=(12, 6))  \n",
    "\n",
    "classes_train = np.unique(y_train)\n",
    "classes_val = np.unique(y_val)\n",
    "\n",
    "plot_normalized_confusion_matrix(y_train, y_train_pred, classes_train, axes[0])\n",
    "plot_normalized_confusion_matrix(y_val, y_val_pred, classes_val, axes[1])\n",
    "\n",
    "plt.tight_layout()  "
   ]
  },
  {
   "cell_type": "code",
   "execution_count": 165,
   "metadata": {},
   "outputs": [
    {
     "name": "stdout",
     "output_type": "stream",
     "text": [
      "Reporte por Clases en Datos de Entrenamiento:\n",
      "              precision    recall  f1-score   support\n",
      "\n",
      "          11       0.00      0.00      0.00        16\n",
      "          21       0.00      0.00      0.00         9\n",
      "          22       0.00      0.00      0.00        22\n",
      "          23       0.60      0.79      0.68      2077\n",
      "          31       0.25      0.11      0.15       126\n",
      "          32       0.19      0.02      0.04       166\n",
      "          33       0.43      0.29      0.35       481\n",
      "          42       0.40      0.35      0.37       442\n",
      "          44       0.00      0.00      0.00       110\n",
      "          45       0.34      0.16      0.22       157\n",
      "          48       0.45      0.19      0.27       174\n",
      "          49       0.00      0.00      0.00        29\n",
      "          51       0.24      0.03      0.05       278\n",
      "          52       0.79      0.39      0.52       122\n",
      "          53       0.56      0.29      0.38       242\n",
      "          54       0.57      0.81      0.67      2936\n",
      "          55       0.00      0.00      0.00         9\n",
      "          56       0.46      0.35      0.39       813\n",
      "          61       0.54      0.47      0.50       520\n",
      "          62       0.54      0.48      0.51       354\n",
      "          71       0.39      0.25      0.30       233\n",
      "          72       0.57      0.57      0.57       238\n",
      "          81       0.28      0.03      0.06       345\n",
      "          92       0.00      0.00      0.00        23\n",
      "\n",
      "    accuracy                           0.55      9922\n",
      "   macro avg       0.32      0.23      0.25      9922\n",
      "weighted avg       0.50      0.55      0.50      9922\n",
      "\n"
     ]
    },
    {
     "name": "stderr",
     "output_type": "stream",
     "text": [
      "/home/oscar/.cache/pypoetry/virtualenvs/zrive-ds-TXjvcAVs-py3.11/lib/python3.11/site-packages/sklearn/metrics/_classification.py:1509: UndefinedMetricWarning: Precision is ill-defined and being set to 0.0 in labels with no predicted samples. Use `zero_division` parameter to control this behavior.\n",
      "  _warn_prf(average, modifier, f\"{metric.capitalize()} is\", len(result))\n",
      "/home/oscar/.cache/pypoetry/virtualenvs/zrive-ds-TXjvcAVs-py3.11/lib/python3.11/site-packages/sklearn/metrics/_classification.py:1509: UndefinedMetricWarning: Precision is ill-defined and being set to 0.0 in labels with no predicted samples. Use `zero_division` parameter to control this behavior.\n",
      "  _warn_prf(average, modifier, f\"{metric.capitalize()} is\", len(result))\n",
      "/home/oscar/.cache/pypoetry/virtualenvs/zrive-ds-TXjvcAVs-py3.11/lib/python3.11/site-packages/sklearn/metrics/_classification.py:1509: UndefinedMetricWarning: Precision is ill-defined and being set to 0.0 in labels with no predicted samples. Use `zero_division` parameter to control this behavior.\n",
      "  _warn_prf(average, modifier, f\"{metric.capitalize()} is\", len(result))\n"
     ]
    }
   ],
   "source": [
    "# Obtener el reporte por clases para el conjunto de entrenamiento\n",
    "print(\"Reporte por Clases en Datos de Entrenamiento:\")\n",
    "print(classification_report(y_train, y_train_pred))\n"
   ]
  },
  {
   "cell_type": "code",
   "execution_count": 166,
   "metadata": {},
   "outputs": [
    {
     "name": "stdout",
     "output_type": "stream",
     "text": [
      "Reporte por Clases en Datos de Validación:\n",
      "              precision    recall  f1-score   support\n",
      "\n",
      "          11       0.00      0.00      0.00         4\n",
      "          21       0.00      0.00      0.00         1\n",
      "          22       0.00      0.00      0.00         2\n",
      "          23       0.00      0.00      0.00       300\n",
      "          31       0.00      0.00      0.00        25\n",
      "          32       0.00      0.00      0.00        30\n",
      "          33       0.00      0.00      0.00        85\n",
      "          42       0.00      0.00      0.00        61\n",
      "          44       0.00      0.00      0.00        13\n",
      "          45       0.00      0.00      0.00        28\n",
      "          48       0.00      0.00      0.00        26\n",
      "          49       0.00      0.00      0.00         6\n",
      "          51       0.00      0.00      0.00        34\n",
      "          52       0.00      0.00      0.00        20\n",
      "          53       0.00      0.00      0.00        29\n",
      "          54       0.00      0.00      0.00       397\n",
      "          55       0.00      0.00      0.00         3\n",
      "          56       0.06      0.01      0.01       121\n",
      "          61       0.00      0.00      0.00        77\n",
      "          62       0.04      0.96      0.07        55\n",
      "          71       0.00      0.00      0.00        23\n",
      "          72       0.05      0.08      0.06        26\n",
      "          81       0.00      0.00      0.00        51\n",
      "          92       0.00      0.00      0.00         1\n",
      "\n",
      "    accuracy                           0.04      1418\n",
      "   macro avg       0.01      0.04      0.01      1418\n",
      "weighted avg       0.01      0.04      0.01      1418\n",
      "\n"
     ]
    },
    {
     "name": "stderr",
     "output_type": "stream",
     "text": [
      "/home/oscar/.cache/pypoetry/virtualenvs/zrive-ds-TXjvcAVs-py3.11/lib/python3.11/site-packages/sklearn/metrics/_classification.py:1509: UndefinedMetricWarning: Precision is ill-defined and being set to 0.0 in labels with no predicted samples. Use `zero_division` parameter to control this behavior.\n",
      "  _warn_prf(average, modifier, f\"{metric.capitalize()} is\", len(result))\n",
      "/home/oscar/.cache/pypoetry/virtualenvs/zrive-ds-TXjvcAVs-py3.11/lib/python3.11/site-packages/sklearn/metrics/_classification.py:1509: UndefinedMetricWarning: Precision is ill-defined and being set to 0.0 in labels with no predicted samples. Use `zero_division` parameter to control this behavior.\n",
      "  _warn_prf(average, modifier, f\"{metric.capitalize()} is\", len(result))\n",
      "/home/oscar/.cache/pypoetry/virtualenvs/zrive-ds-TXjvcAVs-py3.11/lib/python3.11/site-packages/sklearn/metrics/_classification.py:1509: UndefinedMetricWarning: Precision is ill-defined and being set to 0.0 in labels with no predicted samples. Use `zero_division` parameter to control this behavior.\n",
      "  _warn_prf(average, modifier, f\"{metric.capitalize()} is\", len(result))\n"
     ]
    }
   ],
   "source": [
    "# Obtener el reporte por clases para el conjunto de validación\n",
    "print(\"Reporte por Clases en Datos de Validación:\")\n",
    "print(classification_report(y_val, y_val_pred))"
   ]
  },
  {
   "cell_type": "markdown",
   "metadata": {},
   "source": []
  }
 ],
 "metadata": {
  "kernelspec": {
   "display_name": "zrive-ds-TXjvcAVs-py3.11",
   "language": "python",
   "name": "python3"
  },
  "language_info": {
   "codemirror_mode": {
    "name": "ipython",
    "version": 3
   },
   "file_extension": ".py",
   "mimetype": "text/x-python",
   "name": "python",
   "nbconvert_exporter": "python",
   "pygments_lexer": "ipython3",
   "version": "3.11.0"
  }
 },
 "nbformat": 4,
 "nbformat_minor": 2
}
