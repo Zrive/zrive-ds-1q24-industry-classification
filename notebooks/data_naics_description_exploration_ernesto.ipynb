{
 "cells": [
  {
   "cell_type": "code",
   "execution_count": 5,
   "metadata": {},
   "outputs": [],
   "source": [
    "import pandas as pd\n",
    "import numpy as np\n",
    "import os"
   ]
  },
  {
   "cell_type": "code",
   "execution_count": 6,
   "metadata": {},
   "outputs": [],
   "source": [
    "DATA_DIR = os.path.abspath(os.path.join(os.getcwd(), \"../\", \"data\"))\n",
    "NAICS_DATA = os.path.join(DATA_DIR, \"processed/coverwallet_preprocessed.parquet\")"
   ]
  },
  {
   "cell_type": "code",
   "execution_count": 7,
   "metadata": {},
   "outputs": [],
   "source": [
    "df = pd.read_parquet(NAICS_DATA)"
   ]
  },
  {
   "cell_type": "code",
   "execution_count": 8,
   "metadata": {},
   "outputs": [
    {
     "data": {
      "text/html": [
       "<div>\n",
       "<style scoped>\n",
       "    .dataframe tbody tr th:only-of-type {\n",
       "        vertical-align: middle;\n",
       "    }\n",
       "\n",
       "    .dataframe tbody tr th {\n",
       "        vertical-align: top;\n",
       "    }\n",
       "\n",
       "    .dataframe thead th {\n",
       "        text-align: right;\n",
       "    }\n",
       "</style>\n",
       "<table border=\"1\" class=\"dataframe\">\n",
       "  <thead>\n",
       "    <tr style=\"text-align: right;\">\n",
       "      <th></th>\n",
       "      <th>NAICS</th>\n",
       "      <th>BUSINESS_DESCRIPTION</th>\n",
       "      <th>NAICS_2</th>\n",
       "      <th>PREPROCESSED_DESCRIPTION</th>\n",
       "    </tr>\n",
       "  </thead>\n",
       "  <tbody>\n",
       "    <tr>\n",
       "      <th>0</th>\n",
       "      <td>722511.0</td>\n",
       "      <td>Zenyai Viet Cajun &amp; Pho Restaurant is dedicate...</td>\n",
       "      <td>72</td>\n",
       "      <td>Zenyai Viet Cajun Pho Restaurant dedicate offe...</td>\n",
       "    </tr>\n",
       "    <tr>\n",
       "      <th>1</th>\n",
       "      <td>541330.0</td>\n",
       "      <td>Kilduff Underground Engineering, Inc. (KUE) is...</td>\n",
       "      <td>54</td>\n",
       "      <td>Kilduff Underground Engineering Inc. KUE geote...</td>\n",
       "    </tr>\n",
       "    <tr>\n",
       "      <th>2</th>\n",
       "      <td>453998.0</td>\n",
       "      <td>024™ is a premium home fragrance brand that de...</td>\n",
       "      <td>45</td>\n",
       "      <td>024 ™ premium home fragrance brand design elev...</td>\n",
       "    </tr>\n",
       "    <tr>\n",
       "      <th>3</th>\n",
       "      <td>561720.0</td>\n",
       "      <td>Our Services include Office Cleaning Carpet cl...</td>\n",
       "      <td>56</td>\n",
       "      <td>service include office cleaning carpet cleanin...</td>\n",
       "    </tr>\n",
       "    <tr>\n",
       "      <th>4</th>\n",
       "      <td>621610.0</td>\n",
       "      <td>NYS Licensed Home Health Agency</td>\n",
       "      <td>62</td>\n",
       "      <td>NYS license Home Health Agency</td>\n",
       "    </tr>\n",
       "  </tbody>\n",
       "</table>\n",
       "</div>"
      ],
      "text/plain": [
       "      NAICS                               BUSINESS_DESCRIPTION  NAICS_2  \\\n",
       "0  722511.0  Zenyai Viet Cajun & Pho Restaurant is dedicate...       72   \n",
       "1  541330.0  Kilduff Underground Engineering, Inc. (KUE) is...       54   \n",
       "2  453998.0  024™ is a premium home fragrance brand that de...       45   \n",
       "3  561720.0  Our Services include Office Cleaning Carpet cl...       56   \n",
       "4  621610.0                    NYS Licensed Home Health Agency       62   \n",
       "\n",
       "                            PREPROCESSED_DESCRIPTION  \n",
       "0  Zenyai Viet Cajun Pho Restaurant dedicate offe...  \n",
       "1  Kilduff Underground Engineering Inc. KUE geote...  \n",
       "2  024 ™ premium home fragrance brand design elev...  \n",
       "3  service include office cleaning carpet cleanin...  \n",
       "4                     NYS license Home Health Agency  "
      ]
     },
     "execution_count": 8,
     "metadata": {},
     "output_type": "execute_result"
    }
   ],
   "source": [
    "df.head()"
   ]
  },
  {
   "cell_type": "code",
   "execution_count": 9,
   "metadata": {},
   "outputs": [],
   "source": [
    "# calculate tf-idf for each document\n",
    "from sklearn.feature_extraction.text import TfidfVectorizer\n",
    "\n",
    "vectorizer = TfidfVectorizer()\n",
    "X = vectorizer.fit_transform(df[\"PREPROCESSED_DESCRIPTION\"])"
   ]
  },
  {
   "cell_type": "markdown",
   "metadata": {},
   "source": [
    "Let's calculate the cosine similarity between the texts in naics 11 and the rest of the descriptions.\n"
   ]
  },
  {
   "cell_type": "code",
   "execution_count": 10,
   "metadata": {},
   "outputs": [],
   "source": [
    "X_11 = X[df[\"NAICS_2\"] == 11]"
   ]
  },
  {
   "cell_type": "code",
   "execution_count": 11,
   "metadata": {},
   "outputs": [],
   "source": [
    "from sklearn.metrics.pairwise import cosine_similarity\n",
    "\n",
    "cosine_sim = cosine_similarity(X_11, X)"
   ]
  },
  {
   "cell_type": "code",
   "execution_count": 12,
   "metadata": {},
   "outputs": [
    {
     "data": {
      "text/plain": [
       "(26, 14175)"
      ]
     },
     "execution_count": 12,
     "metadata": {},
     "output_type": "execute_result"
    }
   ],
   "source": [
    "cosine_sim.shape"
   ]
  },
  {
   "cell_type": "code",
   "execution_count": 35,
   "metadata": {},
   "outputs": [],
   "source": [
    "def get_similar_docs(df, cosine_sim, doc_id, top_n=10):\n",
    "    similar_docs = np.argsort(cosine_sim[doc_id])[::-1][1 : top_n + 1]\n",
    "    return df.iloc[similar_docs]"
   ]
  },
  {
   "cell_type": "code",
   "execution_count": 36,
   "metadata": {},
   "outputs": [],
   "source": [
    "similar_11 = []\n",
    "for i in range(len(cosine_sim)):\n",
    "    similar_11.append(get_similar_docs(df, cosine_sim, i, top_n=10))\n",
    "\n",
    "df_similar_11 = pd.concat(similar_11)"
   ]
  },
  {
   "cell_type": "code",
   "execution_count": 37,
   "metadata": {},
   "outputs": [
    {
     "data": {
      "text/plain": [
       "NAICS_2\n",
       "56    64\n",
       "54    54\n",
       "42    35\n",
       "23    29\n",
       "11    13\n",
       "33     8\n",
       "31     8\n",
       "48     7\n",
       "45     6\n",
       "72     5\n",
       "53     5\n",
       "81     5\n",
       "61     5\n",
       "44     3\n",
       "32     3\n",
       "49     3\n",
       "22     2\n",
       "51     2\n",
       "62     1\n",
       "52     1\n",
       "21     1\n",
       "Name: count, dtype: int64"
      ]
     },
     "execution_count": 37,
     "metadata": {},
     "output_type": "execute_result"
    }
   ],
   "source": [
    "df_similar_11[\"NAICS_2\"].value_counts()"
   ]
  },
  {
   "cell_type": "code",
   "execution_count": 25,
   "metadata": {},
   "outputs": [
    {
     "data": {
      "text/html": [
       "<div>\n",
       "<style scoped>\n",
       "    .dataframe tbody tr th:only-of-type {\n",
       "        vertical-align: middle;\n",
       "    }\n",
       "\n",
       "    .dataframe tbody tr th {\n",
       "        vertical-align: top;\n",
       "    }\n",
       "\n",
       "    .dataframe thead th {\n",
       "        text-align: right;\n",
       "    }\n",
       "</style>\n",
       "<table border=\"1\" class=\"dataframe\">\n",
       "  <thead>\n",
       "    <tr style=\"text-align: right;\">\n",
       "      <th></th>\n",
       "      <th>NAICS</th>\n",
       "      <th>BUSINESS_DESCRIPTION</th>\n",
       "      <th>NAICS_2</th>\n",
       "      <th>PREPROCESSED_DESCRIPTION</th>\n",
       "    </tr>\n",
       "  </thead>\n",
       "  <tbody>\n",
       "    <tr>\n",
       "      <th>611</th>\n",
       "      <td>115310.0</td>\n",
       "      <td>Allison Tree Consulting directs and monitors w...</td>\n",
       "      <td>11</td>\n",
       "      <td>Allison Tree Consulting direct monitor work tr...</td>\n",
       "    </tr>\n",
       "    <tr>\n",
       "      <th>9084</th>\n",
       "      <td>541990.0</td>\n",
       "      <td>Samudaworth provides tree services such as tre...</td>\n",
       "      <td>54</td>\n",
       "      <td>Samudaworth provide tree service tree removal ...</td>\n",
       "    </tr>\n",
       "    <tr>\n",
       "      <th>12886</th>\n",
       "      <td>561730.0</td>\n",
       "      <td>Tree planting, tree removal, tree support syst...</td>\n",
       "      <td>56</td>\n",
       "      <td>tree planting tree removal tree support system...</td>\n",
       "    </tr>\n",
       "    <tr>\n",
       "      <th>3709</th>\n",
       "      <td>561730.0</td>\n",
       "      <td>Tree pruning, tree removal, stump grinding and...</td>\n",
       "      <td>56</td>\n",
       "      <td>tree pruning tree removal stump grinding tree ...</td>\n",
       "    </tr>\n",
       "    <tr>\n",
       "      <th>2239</th>\n",
       "      <td>561730.0</td>\n",
       "      <td>Full Service Company specializing in tree serv...</td>\n",
       "      <td>56</td>\n",
       "      <td>Service company specialize tree service landsc...</td>\n",
       "    </tr>\n",
       "    <tr>\n",
       "      <th>7913</th>\n",
       "      <td>561730.0</td>\n",
       "      <td>Tree removal, tree pruning, stump grinding, pl...</td>\n",
       "      <td>56</td>\n",
       "      <td>tree removal tree pruning stump grinding plant...</td>\n",
       "    </tr>\n",
       "    <tr>\n",
       "      <th>7612</th>\n",
       "      <td>238990.0</td>\n",
       "      <td>NYC Tree Pit Services is a social enterprise d...</td>\n",
       "      <td>23</td>\n",
       "      <td>NYC Tree Pit Services social enterprise dedica...</td>\n",
       "    </tr>\n",
       "    <tr>\n",
       "      <th>6426</th>\n",
       "      <td>115310.0</td>\n",
       "      <td>Certified Arborists (Tree Consultants) on-site...</td>\n",
       "      <td>11</td>\n",
       "      <td>Certified Arborists Tree Consultants site dire...</td>\n",
       "    </tr>\n",
       "    <tr>\n",
       "      <th>13249</th>\n",
       "      <td>561730.0</td>\n",
       "      <td>Parshall Tree Service is a full service tree c...</td>\n",
       "      <td>56</td>\n",
       "      <td>Parshall Tree Service service tree company spe...</td>\n",
       "    </tr>\n",
       "    <tr>\n",
       "      <th>12829</th>\n",
       "      <td>561730.0</td>\n",
       "      <td>We are a full-service professional tree servic...</td>\n",
       "      <td>56</td>\n",
       "      <td>service professional tree service company fami...</td>\n",
       "    </tr>\n",
       "    <tr>\n",
       "      <th>13109</th>\n",
       "      <td>561730.0</td>\n",
       "      <td>artistic and natural tree pruning, tree remova...</td>\n",
       "      <td>56</td>\n",
       "      <td>artistic natural tree pruning tree removal stu...</td>\n",
       "    </tr>\n",
       "  </tbody>\n",
       "</table>\n",
       "</div>"
      ],
      "text/plain": [
       "          NAICS                               BUSINESS_DESCRIPTION  NAICS_2  \\\n",
       "611    115310.0  Allison Tree Consulting directs and monitors w...       11   \n",
       "9084   541990.0  Samudaworth provides tree services such as tre...       54   \n",
       "12886  561730.0  Tree planting, tree removal, tree support syst...       56   \n",
       "3709   561730.0  Tree pruning, tree removal, stump grinding and...       56   \n",
       "2239   561730.0  Full Service Company specializing in tree serv...       56   \n",
       "7913   561730.0  Tree removal, tree pruning, stump grinding, pl...       56   \n",
       "7612   238990.0  NYC Tree Pit Services is a social enterprise d...       23   \n",
       "6426   115310.0  Certified Arborists (Tree Consultants) on-site...       11   \n",
       "13249  561730.0  Parshall Tree Service is a full service tree c...       56   \n",
       "12829  561730.0  We are a full-service professional tree servic...       56   \n",
       "13109  561730.0  artistic and natural tree pruning, tree remova...       56   \n",
       "\n",
       "                                PREPROCESSED_DESCRIPTION  \n",
       "611    Allison Tree Consulting direct monitor work tr...  \n",
       "9084   Samudaworth provide tree service tree removal ...  \n",
       "12886  tree planting tree removal tree support system...  \n",
       "3709   tree pruning tree removal stump grinding tree ...  \n",
       "2239   Service company specialize tree service landsc...  \n",
       "7913   tree removal tree pruning stump grinding plant...  \n",
       "7612   NYC Tree Pit Services social enterprise dedica...  \n",
       "6426   Certified Arborists Tree Consultants site dire...  \n",
       "13249  Parshall Tree Service service tree company spe...  \n",
       "12829  service professional tree service company fami...  \n",
       "13109  artistic natural tree pruning tree removal stu...  "
      ]
     },
     "execution_count": 25,
     "metadata": {},
     "output_type": "execute_result"
    }
   ],
   "source": [
    "similar_docs = np.argsort(cosine_sim[1])[::-1][:11]\n",
    "\n",
    "df.iloc[similar_docs]"
   ]
  },
  {
   "cell_type": "markdown",
   "metadata": {},
   "source": [
    "Each document has a pair of keywords that are the most important for the description. For example, for the las document in naics 11, the word \"tree\" appears in all the similar documents.\n",
    "\n",
    "The problem here is that not all businesses that are similar to each other are classified in the same category. For example, the descriptions in naics 11 (Agriculture, Forestry, Fishing and Hunting) are quite similar in general to the descriptions in naics 56 (Administrative and Support and Waste Management and Remediation Services). This shows that the descriptions in naics 56 are not very specific and can be applied to a wide range of businesses or that these businesses are wrongly classified.\n"
   ]
  },
  {
   "cell_type": "markdown",
   "metadata": {},
   "source": [
    "Let's do the same for naics 54.\n"
   ]
  },
  {
   "cell_type": "code",
   "execution_count": 39,
   "metadata": {},
   "outputs": [],
   "source": [
    "X_54 = X[df[\"NAICS_2\"] == 54]"
   ]
  },
  {
   "cell_type": "code",
   "execution_count": 40,
   "metadata": {},
   "outputs": [],
   "source": [
    "cosine_sim_54 = cosine_similarity(X_54, X)"
   ]
  },
  {
   "cell_type": "markdown",
   "metadata": {},
   "source": [
    "Now we are using top 5 instead of top 10 similar because the naics 54 has much more instances.\n"
   ]
  },
  {
   "cell_type": "code",
   "execution_count": 42,
   "metadata": {},
   "outputs": [],
   "source": [
    "similar_54 = []\n",
    "for i in range(len(cosine_sim_54)):\n",
    "    similar_54.append(get_similar_docs(df, cosine_sim_54, i, top_n=5))\n",
    "\n",
    "df_similar_54 = pd.concat(similar_54)"
   ]
  },
  {
   "cell_type": "code",
   "execution_count": 43,
   "metadata": {},
   "outputs": [
    {
     "data": {
      "text/plain": [
       "NAICS_2\n",
       "54    14615\n",
       "23     1522\n",
       "56      880\n",
       "61      790\n",
       "51      545\n",
       "81      396\n",
       "71      384\n",
       "53      375\n",
       "62      327\n",
       "42      238\n",
       "52      195\n",
       "33      151\n",
       "32      124\n",
       "48      114\n",
       "45       75\n",
       "44       68\n",
       "92       60\n",
       "72       47\n",
       "31       42\n",
       "49       28\n",
       "55       13\n",
       "22       12\n",
       "11        5\n",
       "21        4\n",
       "Name: count, dtype: int64"
      ]
     },
     "execution_count": 43,
     "metadata": {},
     "output_type": "execute_result"
    }
   ],
   "source": [
    "df_similar_54[\"NAICS_2\"].value_counts()"
   ]
  },
  {
   "cell_type": "markdown",
   "metadata": {},
   "source": [
    "As a difference from the previous case, the descriptios in naics 54 (Professional, Scientific, and Technical Services) are similar to the descriptions in the same naics in most cases. This shows that the descriptions in naics 54 are more specific and can be applied to a narrower range of businesses.\n",
    "\n",
    "The next most similar to this naics is naics 23 (Construction).\n"
   ]
  },
  {
   "cell_type": "markdown",
   "metadata": {},
   "source": [
    "Now let's try with any naics that was wrongly classified in the baseline model, for example, naics 44.\n"
   ]
  },
  {
   "cell_type": "code",
   "execution_count": 47,
   "metadata": {},
   "outputs": [],
   "source": [
    "X_44 = X[df[\"NAICS_2\"] == 44]"
   ]
  },
  {
   "cell_type": "code",
   "execution_count": 49,
   "metadata": {},
   "outputs": [],
   "source": [
    "cosine_sim_44 = cosine_similarity(X_44, X)"
   ]
  },
  {
   "cell_type": "code",
   "execution_count": 50,
   "metadata": {},
   "outputs": [],
   "source": [
    "similar_44 = []\n",
    "for i in range(len(cosine_sim_44)):\n",
    "    similar_44.append(get_similar_docs(df, cosine_sim_44, i, top_n=10))\n",
    "\n",
    "df_similar_44 = pd.concat(similar_44)"
   ]
  },
  {
   "cell_type": "code",
   "execution_count": 51,
   "metadata": {},
   "outputs": [
    {
     "data": {
      "text/plain": [
       "NAICS_2\n",
       "23    313\n",
       "42    305\n",
       "44    214\n",
       "54    144\n",
       "33    103\n",
       "81     70\n",
       "72     68\n",
       "56     46\n",
       "45     43\n",
       "31     30\n",
       "53     28\n",
       "48     27\n",
       "51     26\n",
       "32     20\n",
       "61     15\n",
       "49     11\n",
       "71      6\n",
       "62      5\n",
       "52      2\n",
       "22      2\n",
       "11      1\n",
       "92      1\n",
       "Name: count, dtype: int64"
      ]
     },
     "execution_count": 51,
     "metadata": {},
     "output_type": "execute_result"
    }
   ],
   "source": [
    "df_similar_44[\"NAICS_2\"].value_counts()"
   ]
  },
  {
   "cell_type": "markdown",
   "metadata": {},
   "source": [
    "In this case, the descriptions in naics 44 (Retail Trade) are similar to the descriptions in naics 23 (Manufacturing) and naics 42 (Wholesale Trade). It is strange that the descriptions in naics 44 are not similar to the descriptions in naics 45 (Retail Trade) which is in the same correct classification for this naics.\n"
   ]
  },
  {
   "cell_type": "markdown",
   "metadata": {},
   "source": [
    "Finaly, let's see what happens with naics 33\n"
   ]
  },
  {
   "cell_type": "code",
   "execution_count": 52,
   "metadata": {},
   "outputs": [],
   "source": [
    "X_33 = X[df[\"NAICS_2\"] == 33]"
   ]
  },
  {
   "cell_type": "code",
   "execution_count": 53,
   "metadata": {},
   "outputs": [],
   "source": [
    "cosine_sim_33 = cosine_similarity(X_33, X)"
   ]
  },
  {
   "cell_type": "code",
   "execution_count": 61,
   "metadata": {},
   "outputs": [],
   "source": [
    "similar_33 = []\n",
    "for i in range(len(cosine_sim_33)):\n",
    "    similar_33.append(get_similar_docs(df, cosine_sim_33, i, top_n=10))\n",
    "\n",
    "df_similar_33 = pd.concat(similar_33)"
   ]
  },
  {
   "cell_type": "code",
   "execution_count": 62,
   "metadata": {},
   "outputs": [
    {
     "data": {
      "text/plain": [
       "NAICS_2\n",
       "33    2297\n",
       "23    1530\n",
       "54     670\n",
       "42     660\n",
       "81     256\n",
       "56     238\n",
       "62     193\n",
       "32     184\n",
       "44     173\n",
       "45     106\n",
       "31      81\n",
       "53      81\n",
       "48      72\n",
       "61      71\n",
       "51      70\n",
       "71      36\n",
       "72      28\n",
       "22      24\n",
       "49      21\n",
       "52      12\n",
       "92       8\n",
       "21       5\n",
       "55       2\n",
       "11       2\n",
       "Name: count, dtype: int64"
      ]
     },
     "execution_count": 62,
     "metadata": {},
     "output_type": "execute_result"
    }
   ],
   "source": [
    "df_similar_33[\"NAICS_2\"].value_counts()"
   ]
  },
  {
   "cell_type": "markdown",
   "metadata": {},
   "source": [
    "For naics 33 (Manufacturing), the descriptions are similar to the descriptions in naics 23 (Construction) primarily. This shows that the descriptions in naics 33 are not very specific and can be applied to a wide range of businesses or that these businesses are wrongly classified.\n",
    "\n",
    "In addition, this naics is classified in the same category as naics 31 and naics 32, but the descriptions seem to be not very similar to each other.\n"
   ]
  },
  {
   "cell_type": "code",
   "execution_count": 60,
   "metadata": {},
   "outputs": [
    {
     "data": {
      "text/plain": [
       "NAICS_2\n",
       "54    4202\n",
       "23    2976\n",
       "56    1159\n",
       "61     751\n",
       "33     682\n",
       "42     650\n",
       "62     517\n",
       "81     488\n",
       "51     380\n",
       "72     333\n",
       "53     331\n",
       "71     300\n",
       "48     270\n",
       "32     241\n",
       "45     240\n",
       "31     184\n",
       "52     162\n",
       "44     148\n",
       "49      45\n",
       "22      32\n",
       "92      30\n",
       "11      26\n",
       "55      15\n",
       "21      13\n",
       "Name: count, dtype: int64"
      ]
     },
     "execution_count": 60,
     "metadata": {},
     "output_type": "execute_result"
    }
   ],
   "source": []
  },
  {
   "cell_type": "markdown",
   "metadata": {},
   "source": []
  }
 ],
 "metadata": {
  "kernelspec": {
   "display_name": "zrive-ds-ZlIsFOKS-py3.11",
   "language": "python",
   "name": "python3"
  },
  "language_info": {
   "codemirror_mode": {
    "name": "ipython",
    "version": 3
   },
   "file_extension": ".py",
   "mimetype": "text/x-python",
   "name": "python",
   "nbconvert_exporter": "python",
   "pygments_lexer": "ipython3",
   "version": "3.11.0"
  }
 },
 "nbformat": 4,
 "nbformat_minor": 2
}
