{
 "cells": [
  {
   "cell_type": "code",
   "execution_count": 38,
   "metadata": {},
   "outputs": [],
   "source": [
    "import pandas as pd\n",
    "import numpy as np\n",
    "import matplotlib.pyplot as plt\n",
    "import os"
   ]
  },
  {
   "cell_type": "code",
   "execution_count": 39,
   "metadata": {},
   "outputs": [],
   "source": [
    "DATA_DIR = os.path.abspath(os.path.join(os.getcwd(), \"../\", \"data\"))\n",
    "NAICS_DATA = os.path.join(DATA_DIR, \"processed/coverwallet_preprocessed.parquet\")"
   ]
  },
  {
   "cell_type": "code",
   "execution_count": 40,
   "metadata": {},
   "outputs": [],
   "source": [
    "df = pd.read_parquet(NAICS_DATA)"
   ]
  },
  {
   "cell_type": "code",
   "execution_count": 41,
   "metadata": {},
   "outputs": [
    {
     "data": {
      "text/html": [
       "<div>\n",
       "<style scoped>\n",
       "    .dataframe tbody tr th:only-of-type {\n",
       "        vertical-align: middle;\n",
       "    }\n",
       "\n",
       "    .dataframe tbody tr th {\n",
       "        vertical-align: top;\n",
       "    }\n",
       "\n",
       "    .dataframe thead th {\n",
       "        text-align: right;\n",
       "    }\n",
       "</style>\n",
       "<table border=\"1\" class=\"dataframe\">\n",
       "  <thead>\n",
       "    <tr style=\"text-align: right;\">\n",
       "      <th></th>\n",
       "      <th>NAICS</th>\n",
       "      <th>BUSINESS_DESCRIPTION</th>\n",
       "      <th>NAICS_2</th>\n",
       "      <th>PREPROCESSED_DESCRIPTION</th>\n",
       "    </tr>\n",
       "  </thead>\n",
       "  <tbody>\n",
       "    <tr>\n",
       "      <th>0</th>\n",
       "      <td>722511.0</td>\n",
       "      <td>Zenyai Viet Cajun &amp; Pho Restaurant is dedicate...</td>\n",
       "      <td>72</td>\n",
       "      <td>Zenyai Viet Cajun Pho Restaurant dedicate offe...</td>\n",
       "    </tr>\n",
       "    <tr>\n",
       "      <th>1</th>\n",
       "      <td>541330.0</td>\n",
       "      <td>Kilduff Underground Engineering, Inc. (KUE) is...</td>\n",
       "      <td>54</td>\n",
       "      <td>Kilduff Underground Engineering Inc. KUE geote...</td>\n",
       "    </tr>\n",
       "    <tr>\n",
       "      <th>2</th>\n",
       "      <td>453998.0</td>\n",
       "      <td>024™ is a premium home fragrance brand that de...</td>\n",
       "      <td>45</td>\n",
       "      <td>024 ™ premium home fragrance brand design elev...</td>\n",
       "    </tr>\n",
       "    <tr>\n",
       "      <th>3</th>\n",
       "      <td>561720.0</td>\n",
       "      <td>Our Services include Office Cleaning Carpet cl...</td>\n",
       "      <td>56</td>\n",
       "      <td>service include office cleaning carpet cleanin...</td>\n",
       "    </tr>\n",
       "    <tr>\n",
       "      <th>4</th>\n",
       "      <td>621610.0</td>\n",
       "      <td>NYS Licensed Home Health Agency</td>\n",
       "      <td>62</td>\n",
       "      <td>NYS license Home Health Agency</td>\n",
       "    </tr>\n",
       "  </tbody>\n",
       "</table>\n",
       "</div>"
      ],
      "text/plain": [
       "      NAICS                               BUSINESS_DESCRIPTION  NAICS_2  \\\n",
       "0  722511.0  Zenyai Viet Cajun & Pho Restaurant is dedicate...       72   \n",
       "1  541330.0  Kilduff Underground Engineering, Inc. (KUE) is...       54   \n",
       "2  453998.0  024™ is a premium home fragrance brand that de...       45   \n",
       "3  561720.0  Our Services include Office Cleaning Carpet cl...       56   \n",
       "4  621610.0                    NYS Licensed Home Health Agency       62   \n",
       "\n",
       "                            PREPROCESSED_DESCRIPTION  \n",
       "0  Zenyai Viet Cajun Pho Restaurant dedicate offe...  \n",
       "1  Kilduff Underground Engineering Inc. KUE geote...  \n",
       "2  024 ™ premium home fragrance brand design elev...  \n",
       "3  service include office cleaning carpet cleanin...  \n",
       "4                     NYS license Home Health Agency  "
      ]
     },
     "execution_count": 41,
     "metadata": {},
     "output_type": "execute_result"
    }
   ],
   "source": [
    "df.head()"
   ]
  },
  {
   "cell_type": "markdown",
   "metadata": {},
   "source": [
    "## Descriptions similarity\n"
   ]
  },
  {
   "cell_type": "code",
   "execution_count": 42,
   "metadata": {},
   "outputs": [],
   "source": [
    "# calculate tf-idf for each document\n",
    "from sklearn.feature_extraction.text import TfidfVectorizer\n",
    "\n",
    "vectorizer = TfidfVectorizer()\n",
    "X = vectorizer.fit_transform(df[\"PREPROCESSED_DESCRIPTION\"])"
   ]
  },
  {
   "cell_type": "markdown",
   "metadata": {},
   "source": [
    "Let's calculate the cosine similarity between the texts in naics 11 and the rest of the descriptions.\n"
   ]
  },
  {
   "cell_type": "code",
   "execution_count": 43,
   "metadata": {},
   "outputs": [],
   "source": [
    "X_11 = X[df[\"NAICS_2\"] == 11]"
   ]
  },
  {
   "cell_type": "code",
   "execution_count": 44,
   "metadata": {},
   "outputs": [],
   "source": [
    "from sklearn.metrics.pairwise import cosine_similarity\n",
    "\n",
    "cosine_sim = cosine_similarity(X_11, X)"
   ]
  },
  {
   "cell_type": "code",
   "execution_count": 45,
   "metadata": {},
   "outputs": [
    {
     "data": {
      "text/plain": [
       "(26, 14175)"
      ]
     },
     "execution_count": 45,
     "metadata": {},
     "output_type": "execute_result"
    }
   ],
   "source": [
    "cosine_sim.shape"
   ]
  },
  {
   "cell_type": "code",
   "execution_count": 46,
   "metadata": {},
   "outputs": [],
   "source": [
    "def get_similar_docs(df, cosine_sim, doc_id, top_n=10):\n",
    "    similar_docs = np.argsort(cosine_sim[doc_id])[::-1][1 : top_n + 1]\n",
    "    return df.iloc[similar_docs]"
   ]
  },
  {
   "cell_type": "code",
   "execution_count": 47,
   "metadata": {},
   "outputs": [],
   "source": [
    "similar_11 = []\n",
    "for i in range(len(cosine_sim)):\n",
    "    similar_11.append(get_similar_docs(df, cosine_sim, i, top_n=10))\n",
    "\n",
    "df_similar_11 = pd.concat(similar_11)"
   ]
  },
  {
   "cell_type": "code",
   "execution_count": 69,
   "metadata": {},
   "outputs": [
    {
     "data": {
      "text/plain": [
       "NAICS_2\n",
       "56    64\n",
       "54    54\n",
       "42    35\n",
       "23    29\n",
       "11    13\n",
       "33     8\n",
       "31     8\n",
       "48     7\n",
       "45     6\n",
       "72     5\n",
       "53     5\n",
       "81     5\n",
       "61     5\n",
       "44     3\n",
       "32     3\n",
       "49     3\n",
       "22     2\n",
       "51     2\n",
       "62     1\n",
       "52     1\n",
       "21     1\n",
       "Name: count, dtype: int64"
      ]
     },
     "execution_count": 69,
     "metadata": {},
     "output_type": "execute_result"
    }
   ],
   "source": [
    "df_similar_11[\"NAICS_2\"].value_counts()"
   ]
  },
  {
   "cell_type": "code",
   "execution_count": 70,
   "metadata": {},
   "outputs": [
    {
     "data": {
      "text/html": [
       "<div>\n",
       "<style scoped>\n",
       "    .dataframe tbody tr th:only-of-type {\n",
       "        vertical-align: middle;\n",
       "    }\n",
       "\n",
       "    .dataframe tbody tr th {\n",
       "        vertical-align: top;\n",
       "    }\n",
       "\n",
       "    .dataframe thead th {\n",
       "        text-align: right;\n",
       "    }\n",
       "</style>\n",
       "<table border=\"1\" class=\"dataframe\">\n",
       "  <thead>\n",
       "    <tr style=\"text-align: right;\">\n",
       "      <th></th>\n",
       "      <th>NAICS</th>\n",
       "      <th>BUSINESS_DESCRIPTION</th>\n",
       "      <th>NAICS_2</th>\n",
       "      <th>PREPROCESSED_DESCRIPTION</th>\n",
       "      <th>DESCRIPTION_LENGTH</th>\n",
       "      <th>PREPROCESSED_DESCRIPTION_LENGTH</th>\n",
       "    </tr>\n",
       "  </thead>\n",
       "  <tbody>\n",
       "    <tr>\n",
       "      <th>611</th>\n",
       "      <td>115310.0</td>\n",
       "      <td>Allison Tree Consulting directs and monitors w...</td>\n",
       "      <td>11</td>\n",
       "      <td>Allison Tree Consulting direct monitor work tr...</td>\n",
       "      <td>42</td>\n",
       "      <td>28</td>\n",
       "    </tr>\n",
       "    <tr>\n",
       "      <th>9084</th>\n",
       "      <td>541990.0</td>\n",
       "      <td>Samudaworth provides tree services such as tre...</td>\n",
       "      <td>54</td>\n",
       "      <td>Samudaworth provide tree service tree removal ...</td>\n",
       "      <td>14</td>\n",
       "      <td>11</td>\n",
       "    </tr>\n",
       "    <tr>\n",
       "      <th>12886</th>\n",
       "      <td>561730.0</td>\n",
       "      <td>Tree planting, tree removal, tree support syst...</td>\n",
       "      <td>56</td>\n",
       "      <td>tree planting tree removal tree support system...</td>\n",
       "      <td>16</td>\n",
       "      <td>15</td>\n",
       "    </tr>\n",
       "    <tr>\n",
       "      <th>3709</th>\n",
       "      <td>561730.0</td>\n",
       "      <td>Tree pruning, tree removal, stump grinding and...</td>\n",
       "      <td>56</td>\n",
       "      <td>tree pruning tree removal stump grinding tree ...</td>\n",
       "      <td>9</td>\n",
       "      <td>8</td>\n",
       "    </tr>\n",
       "    <tr>\n",
       "      <th>2239</th>\n",
       "      <td>561730.0</td>\n",
       "      <td>Full Service Company specializing in tree serv...</td>\n",
       "      <td>56</td>\n",
       "      <td>Service company specialize tree service landsc...</td>\n",
       "      <td>27</td>\n",
       "      <td>21</td>\n",
       "    </tr>\n",
       "    <tr>\n",
       "      <th>7913</th>\n",
       "      <td>561730.0</td>\n",
       "      <td>Tree removal, tree pruning, stump grinding, pl...</td>\n",
       "      <td>56</td>\n",
       "      <td>tree removal tree pruning stump grinding plant...</td>\n",
       "      <td>17</td>\n",
       "      <td>15</td>\n",
       "    </tr>\n",
       "    <tr>\n",
       "      <th>7612</th>\n",
       "      <td>238990.0</td>\n",
       "      <td>NYC Tree Pit Services is a social enterprise d...</td>\n",
       "      <td>23</td>\n",
       "      <td>NYC Tree Pit Services social enterprise dedica...</td>\n",
       "      <td>54</td>\n",
       "      <td>34</td>\n",
       "    </tr>\n",
       "    <tr>\n",
       "      <th>6426</th>\n",
       "      <td>115310.0</td>\n",
       "      <td>Certified Arborists (Tree Consultants) on-site...</td>\n",
       "      <td>11</td>\n",
       "      <td>Certified Arborists Tree Consultants site dire...</td>\n",
       "      <td>33</td>\n",
       "      <td>18</td>\n",
       "    </tr>\n",
       "    <tr>\n",
       "      <th>13249</th>\n",
       "      <td>561730.0</td>\n",
       "      <td>Parshall Tree Service is a full service tree c...</td>\n",
       "      <td>56</td>\n",
       "      <td>Parshall Tree Service service tree company spe...</td>\n",
       "      <td>20</td>\n",
       "      <td>15</td>\n",
       "    </tr>\n",
       "    <tr>\n",
       "      <th>12829</th>\n",
       "      <td>561730.0</td>\n",
       "      <td>We are a full-service professional tree servic...</td>\n",
       "      <td>56</td>\n",
       "      <td>service professional tree service company fami...</td>\n",
       "      <td>18</td>\n",
       "      <td>13</td>\n",
       "    </tr>\n",
       "    <tr>\n",
       "      <th>13109</th>\n",
       "      <td>561730.0</td>\n",
       "      <td>artistic and natural tree pruning, tree remova...</td>\n",
       "      <td>56</td>\n",
       "      <td>artistic natural tree pruning tree removal stu...</td>\n",
       "      <td>24</td>\n",
       "      <td>23</td>\n",
       "    </tr>\n",
       "  </tbody>\n",
       "</table>\n",
       "</div>"
      ],
      "text/plain": [
       "          NAICS                               BUSINESS_DESCRIPTION  NAICS_2  \\\n",
       "611    115310.0  Allison Tree Consulting directs and monitors w...       11   \n",
       "9084   541990.0  Samudaworth provides tree services such as tre...       54   \n",
       "12886  561730.0  Tree planting, tree removal, tree support syst...       56   \n",
       "3709   561730.0  Tree pruning, tree removal, stump grinding and...       56   \n",
       "2239   561730.0  Full Service Company specializing in tree serv...       56   \n",
       "7913   561730.0  Tree removal, tree pruning, stump grinding, pl...       56   \n",
       "7612   238990.0  NYC Tree Pit Services is a social enterprise d...       23   \n",
       "6426   115310.0  Certified Arborists (Tree Consultants) on-site...       11   \n",
       "13249  561730.0  Parshall Tree Service is a full service tree c...       56   \n",
       "12829  561730.0  We are a full-service professional tree servic...       56   \n",
       "13109  561730.0  artistic and natural tree pruning, tree remova...       56   \n",
       "\n",
       "                                PREPROCESSED_DESCRIPTION  DESCRIPTION_LENGTH  \\\n",
       "611    Allison Tree Consulting direct monitor work tr...                  42   \n",
       "9084   Samudaworth provide tree service tree removal ...                  14   \n",
       "12886  tree planting tree removal tree support system...                  16   \n",
       "3709   tree pruning tree removal stump grinding tree ...                   9   \n",
       "2239   Service company specialize tree service landsc...                  27   \n",
       "7913   tree removal tree pruning stump grinding plant...                  17   \n",
       "7612   NYC Tree Pit Services social enterprise dedica...                  54   \n",
       "6426   Certified Arborists Tree Consultants site dire...                  33   \n",
       "13249  Parshall Tree Service service tree company spe...                  20   \n",
       "12829  service professional tree service company fami...                  18   \n",
       "13109  artistic natural tree pruning tree removal stu...                  24   \n",
       "\n",
       "       PREPROCESSED_DESCRIPTION_LENGTH  \n",
       "611                                 28  \n",
       "9084                                11  \n",
       "12886                               15  \n",
       "3709                                 8  \n",
       "2239                                21  \n",
       "7913                                15  \n",
       "7612                                34  \n",
       "6426                                18  \n",
       "13249                               15  \n",
       "12829                               13  \n",
       "13109                               23  "
      ]
     },
     "execution_count": 70,
     "metadata": {},
     "output_type": "execute_result"
    }
   ],
   "source": [
    "similar_docs = np.argsort(cosine_sim[1])[::-1][:11]\n",
    "\n",
    "df.iloc[similar_docs]"
   ]
  },
  {
   "cell_type": "code",
   "execution_count": 73,
   "metadata": {},
   "outputs": [
    {
     "data": {
      "text/plain": [
       "array(['Allison Tree Consulting directs and monitors work around trees during heavy construction activity.  The company supervises planting, pruning and mitigation techniques and acts as a liaison to the NYC Parks Department making sure all requirements are met to protect trees and contractors.',\n",
       "       'Samudaworth provides tree services such as tree removal, tree pruning, tree planting and landscaping.',\n",
       "       'Tree planting, tree removal, tree support systems, tree pruning, tree preservation, arborist consultations, and landscaping services.',\n",
       "       'Tree pruning, tree removal, stump grinding and tree planting.',\n",
       "       'Full Service Company specializing in tree service and landscape services. Our services including tree removal, tree pruning, tree trimming, tree planting, cleaning & grubbing and landscape installations.',\n",
       "       'Tree removal, tree pruning, stump grinding, planting, decompactions, fertilization,firewood, Tree and shrub planting and all landscape work',\n",
       "       'NYC Tree Pit Services is a social enterprise dedicated to planting and care of street trees in NYC as well as the servicing and support of tree pits (planting beds on the sidewalks). We work closely with the Parks Department to plant trees, install tree guards, expand tree pits and plant and maintain gardens.',\n",
       "       'Certified Arborists (Tree Consultants) on-site to direct and monitor work activity on, around, or within fifty feet of NYC trees.  The majority of work we monitor are DDC projects within the five boroughs.',\n",
       "       'Parshall Tree Service is a full service tree company specializing in tree removal, pruning, fertilization, stump grinding and pesticide application.',\n",
       "       'We are a full-service professional tree service company. Family-owned company with over 30 years of tree care experience.',\n",
       "       'artistic and natural tree pruning, tree removal, stump removal, tree diagnosis, root pruning, root barriers, tree appraisals, expert witness, hazardous limb removal, cables, anchors'],\n",
       "      dtype=object)"
      ]
     },
     "execution_count": 73,
     "metadata": {},
     "output_type": "execute_result"
    }
   ],
   "source": [
    "df.iloc[similar_docs][\"BUSINESS_DESCRIPTION\"].values"
   ]
  },
  {
   "cell_type": "markdown",
   "metadata": {},
   "source": [
    "Each document has a pair of keywords that are the most important for the description. For example, for the las document in naics 11, the word \"tree\" appears in all the similar documents.\n",
    "\n",
    "The problem here is that not all businesses that are similar to each other are classified in the same category. For example, the descriptions in naics 11 (Agriculture, Forestry, Fishing and Hunting) are quite similar in general to the descriptions in naics 56 (Administrative and Support and Waste Management and Remediation Services). This shows that the descriptions in naics 56 are not very specific and can be applied to a wide range of businesses or that these businesses are wrongly classified.\n"
   ]
  },
  {
   "cell_type": "markdown",
   "metadata": {},
   "source": [
    "Let's do the same for naics 54.\n"
   ]
  },
  {
   "cell_type": "code",
   "execution_count": 50,
   "metadata": {},
   "outputs": [],
   "source": [
    "X_54 = X[df[\"NAICS_2\"] == 54]"
   ]
  },
  {
   "cell_type": "code",
   "execution_count": 51,
   "metadata": {},
   "outputs": [],
   "source": [
    "cosine_sim_54 = cosine_similarity(X_54, X)"
   ]
  },
  {
   "cell_type": "markdown",
   "metadata": {},
   "source": [
    "Now we are using top 5 instead of top 10 similar because the naics 54 has much more instances.\n"
   ]
  },
  {
   "cell_type": "code",
   "execution_count": 52,
   "metadata": {},
   "outputs": [],
   "source": [
    "similar_54 = []\n",
    "for i in range(len(cosine_sim_54)):\n",
    "    similar_54.append(get_similar_docs(df, cosine_sim_54, i, top_n=5))\n",
    "\n",
    "df_similar_54 = pd.concat(similar_54)"
   ]
  },
  {
   "cell_type": "code",
   "execution_count": 53,
   "metadata": {},
   "outputs": [
    {
     "data": {
      "text/plain": [
       "NAICS_2\n",
       "54    14615\n",
       "23     1522\n",
       "56      880\n",
       "61      790\n",
       "51      545\n",
       "81      396\n",
       "71      384\n",
       "53      375\n",
       "62      327\n",
       "42      238\n",
       "52      195\n",
       "33      151\n",
       "32      124\n",
       "48      114\n",
       "45       75\n",
       "44       68\n",
       "92       60\n",
       "72       47\n",
       "31       42\n",
       "49       28\n",
       "55       13\n",
       "22       12\n",
       "11        5\n",
       "21        4\n",
       "Name: count, dtype: int64"
      ]
     },
     "execution_count": 53,
     "metadata": {},
     "output_type": "execute_result"
    }
   ],
   "source": [
    "df_similar_54[\"NAICS_2\"].value_counts()"
   ]
  },
  {
   "cell_type": "code",
   "execution_count": 54,
   "metadata": {},
   "outputs": [
    {
     "data": {
      "text/html": [
       "<div>\n",
       "<style scoped>\n",
       "    .dataframe tbody tr th:only-of-type {\n",
       "        vertical-align: middle;\n",
       "    }\n",
       "\n",
       "    .dataframe tbody tr th {\n",
       "        vertical-align: top;\n",
       "    }\n",
       "\n",
       "    .dataframe thead th {\n",
       "        text-align: right;\n",
       "    }\n",
       "</style>\n",
       "<table border=\"1\" class=\"dataframe\">\n",
       "  <thead>\n",
       "    <tr style=\"text-align: right;\">\n",
       "      <th></th>\n",
       "      <th>NAICS</th>\n",
       "      <th>BUSINESS_DESCRIPTION</th>\n",
       "      <th>NAICS_2</th>\n",
       "      <th>PREPROCESSED_DESCRIPTION</th>\n",
       "    </tr>\n",
       "  </thead>\n",
       "  <tbody>\n",
       "    <tr>\n",
       "      <th>2770</th>\n",
       "      <td>541330.0</td>\n",
       "      <td>Dawn Underground Engineering is an engineering...</td>\n",
       "      <td>54</td>\n",
       "      <td>Dawn Underground Engineering engineering consu...</td>\n",
       "    </tr>\n",
       "    <tr>\n",
       "      <th>10636</th>\n",
       "      <td>541330.0</td>\n",
       "      <td>Engineering and Construction</td>\n",
       "      <td>54</td>\n",
       "      <td>engineering construction</td>\n",
       "    </tr>\n",
       "    <tr>\n",
       "      <th>12125</th>\n",
       "      <td>237130.0</td>\n",
       "      <td>Powerline construction. Underground and Overhe...</td>\n",
       "      <td>23</td>\n",
       "      <td>powerline construction underground overhead el...</td>\n",
       "    </tr>\n",
       "    <tr>\n",
       "      <th>12203</th>\n",
       "      <td>237110.0</td>\n",
       "      <td>David Lawler Construction is a utility constru...</td>\n",
       "      <td>23</td>\n",
       "      <td>David Lawler Construction utility construction...</td>\n",
       "    </tr>\n",
       "    <tr>\n",
       "      <th>4931</th>\n",
       "      <td>541330.0</td>\n",
       "      <td>Infrastructure Engineering, Inc., provides civ...</td>\n",
       "      <td>54</td>\n",
       "      <td>Infrastructure Engineering Inc. provide civil ...</td>\n",
       "    </tr>\n",
       "    <tr>\n",
       "      <th>...</th>\n",
       "      <td>...</td>\n",
       "      <td>...</td>\n",
       "      <td>...</td>\n",
       "      <td>...</td>\n",
       "    </tr>\n",
       "    <tr>\n",
       "      <th>11813</th>\n",
       "      <td>541611.0</td>\n",
       "      <td>Develop Leaders, often while coaching, solving...</td>\n",
       "      <td>54</td>\n",
       "      <td>develop leader coach solve problem Continuous ...</td>\n",
       "    </tr>\n",
       "    <tr>\n",
       "      <th>5221</th>\n",
       "      <td>541611.0</td>\n",
       "      <td>Change and Transition Management Consulting fo...</td>\n",
       "      <td>54</td>\n",
       "      <td>Change Transition Management Consulting client...</td>\n",
       "    </tr>\n",
       "    <tr>\n",
       "      <th>3497</th>\n",
       "      <td>541618.0</td>\n",
       "      <td>We provide IT Staffing and Consulting for busi...</td>\n",
       "      <td>54</td>\n",
       "      <td>provide Staffing Consulting business transform...</td>\n",
       "    </tr>\n",
       "    <tr>\n",
       "      <th>5634</th>\n",
       "      <td>541618.0</td>\n",
       "      <td>KBD Strategic Consulting is a research consult...</td>\n",
       "      <td>54</td>\n",
       "      <td>KBD Strategic Consulting research consultancy ...</td>\n",
       "    </tr>\n",
       "    <tr>\n",
       "      <th>6718</th>\n",
       "      <td>541612.0</td>\n",
       "      <td>McGriff Coaching and Consulting Services Inc. ...</td>\n",
       "      <td>54</td>\n",
       "      <td>McGriff Coaching Consulting Services Inc. prem...</td>\n",
       "    </tr>\n",
       "  </tbody>\n",
       "</table>\n",
       "<p>21010 rows × 4 columns</p>\n",
       "</div>"
      ],
      "text/plain": [
       "          NAICS                               BUSINESS_DESCRIPTION  NAICS_2  \\\n",
       "2770   541330.0  Dawn Underground Engineering is an engineering...       54   \n",
       "10636  541330.0                       Engineering and Construction       54   \n",
       "12125  237130.0  Powerline construction. Underground and Overhe...       23   \n",
       "12203  237110.0  David Lawler Construction is a utility constru...       23   \n",
       "4931   541330.0  Infrastructure Engineering, Inc., provides civ...       54   \n",
       "...         ...                                                ...      ...   \n",
       "11813  541611.0  Develop Leaders, often while coaching, solving...       54   \n",
       "5221   541611.0  Change and Transition Management Consulting fo...       54   \n",
       "3497   541618.0  We provide IT Staffing and Consulting for busi...       54   \n",
       "5634   541618.0  KBD Strategic Consulting is a research consult...       54   \n",
       "6718   541612.0  McGriff Coaching and Consulting Services Inc. ...       54   \n",
       "\n",
       "                                PREPROCESSED_DESCRIPTION  \n",
       "2770   Dawn Underground Engineering engineering consu...  \n",
       "10636                           engineering construction  \n",
       "12125  powerline construction underground overhead el...  \n",
       "12203  David Lawler Construction utility construction...  \n",
       "4931   Infrastructure Engineering Inc. provide civil ...  \n",
       "...                                                  ...  \n",
       "11813  develop leader coach solve problem Continuous ...  \n",
       "5221   Change Transition Management Consulting client...  \n",
       "3497   provide Staffing Consulting business transform...  \n",
       "5634   KBD Strategic Consulting research consultancy ...  \n",
       "6718   McGriff Coaching Consulting Services Inc. prem...  \n",
       "\n",
       "[21010 rows x 4 columns]"
      ]
     },
     "execution_count": 54,
     "metadata": {},
     "output_type": "execute_result"
    }
   ],
   "source": [
    "df_similar_54"
   ]
  },
  {
   "cell_type": "markdown",
   "metadata": {},
   "source": [
    "As a difference from the previous case, the descriptios in naics 54 (Professional, Scientific, and Technical Services) are similar to the descriptions in the same naics in most cases. This shows that the descriptions in naics 54 are more specific and can be applied to a narrower range of businesses.\n",
    "\n",
    "The next most similar to this naics is naics 23 (Construction).\n"
   ]
  },
  {
   "cell_type": "markdown",
   "metadata": {},
   "source": [
    "Now let's try with any naics that was wrongly classified in the baseline model, for example, naics 44.\n"
   ]
  },
  {
   "cell_type": "code",
   "execution_count": 55,
   "metadata": {},
   "outputs": [],
   "source": [
    "X_44 = X[df[\"NAICS_2\"] == 44]"
   ]
  },
  {
   "cell_type": "code",
   "execution_count": 56,
   "metadata": {},
   "outputs": [],
   "source": [
    "cosine_sim_44 = cosine_similarity(X_44, X)"
   ]
  },
  {
   "cell_type": "code",
   "execution_count": 57,
   "metadata": {},
   "outputs": [],
   "source": [
    "similar_44 = []\n",
    "for i in range(len(cosine_sim_44)):\n",
    "    similar_44.append(get_similar_docs(df, cosine_sim_44, i, top_n=10))\n",
    "\n",
    "df_similar_44 = pd.concat(similar_44)"
   ]
  },
  {
   "cell_type": "code",
   "execution_count": 58,
   "metadata": {},
   "outputs": [
    {
     "data": {
      "text/plain": [
       "NAICS_2\n",
       "23    313\n",
       "42    305\n",
       "44    214\n",
       "54    144\n",
       "33    103\n",
       "81     70\n",
       "72     68\n",
       "56     46\n",
       "45     43\n",
       "31     30\n",
       "53     28\n",
       "48     27\n",
       "51     26\n",
       "32     20\n",
       "61     15\n",
       "49     11\n",
       "71      6\n",
       "62      5\n",
       "52      2\n",
       "22      2\n",
       "11      1\n",
       "92      1\n",
       "Name: count, dtype: int64"
      ]
     },
     "execution_count": 58,
     "metadata": {},
     "output_type": "execute_result"
    }
   ],
   "source": [
    "df_similar_44[\"NAICS_2\"].value_counts()"
   ]
  },
  {
   "cell_type": "code",
   "execution_count": 59,
   "metadata": {},
   "outputs": [
    {
     "data": {
      "text/html": [
       "<div>\n",
       "<style scoped>\n",
       "    .dataframe tbody tr th:only-of-type {\n",
       "        vertical-align: middle;\n",
       "    }\n",
       "\n",
       "    .dataframe tbody tr th {\n",
       "        vertical-align: top;\n",
       "    }\n",
       "\n",
       "    .dataframe thead th {\n",
       "        text-align: right;\n",
       "    }\n",
       "</style>\n",
       "<table border=\"1\" class=\"dataframe\">\n",
       "  <thead>\n",
       "    <tr style=\"text-align: right;\">\n",
       "      <th></th>\n",
       "      <th>NAICS</th>\n",
       "      <th>BUSINESS_DESCRIPTION</th>\n",
       "      <th>NAICS_2</th>\n",
       "      <th>PREPROCESSED_DESCRIPTION</th>\n",
       "    </tr>\n",
       "  </thead>\n",
       "  <tbody>\n",
       "    <tr>\n",
       "      <th>10651</th>\n",
       "      <td>445110.0</td>\n",
       "      <td>TS QUEENSLAND LLC, is a supermarket located in...</td>\n",
       "      <td>44</td>\n",
       "      <td>TS QUEENSLAND LLC supermarket locate Bronx ope...</td>\n",
       "    </tr>\n",
       "    <tr>\n",
       "      <th>4538</th>\n",
       "      <td>424410.0</td>\n",
       "      <td>Heavenly Exports, LLC supplies adequate food p...</td>\n",
       "      <td>42</td>\n",
       "      <td>Heavenly Exports LLC supply adequate food prod...</td>\n",
       "    </tr>\n",
       "    <tr>\n",
       "      <th>1274</th>\n",
       "      <td>424430.0</td>\n",
       "      <td>Distributor of dairy and other food products t...</td>\n",
       "      <td>42</td>\n",
       "      <td>distributor dairy food product bodega restaura...</td>\n",
       "    </tr>\n",
       "    <tr>\n",
       "      <th>567</th>\n",
       "      <td>722511.0</td>\n",
       "      <td>Provider of Food and Groceries both over the c...</td>\n",
       "      <td>72</td>\n",
       "      <td>provider food grocery counter online delivery ...</td>\n",
       "    </tr>\n",
       "    <tr>\n",
       "      <th>8960</th>\n",
       "      <td>424480.0</td>\n",
       "      <td>Russo Produce sells produce i.e. fruits, veget...</td>\n",
       "      <td>42</td>\n",
       "      <td>Russo Produce sell produce i.e. fruit vegetabl...</td>\n",
       "    </tr>\n",
       "    <tr>\n",
       "      <th>...</th>\n",
       "      <td>...</td>\n",
       "      <td>...</td>\n",
       "      <td>...</td>\n",
       "      <td>...</td>\n",
       "    </tr>\n",
       "    <tr>\n",
       "      <th>3615</th>\n",
       "      <td>238330.0</td>\n",
       "      <td>Exceed Flooring supplies and installs commerci...</td>\n",
       "      <td>23</td>\n",
       "      <td>Exceed Flooring supply install commercial floo...</td>\n",
       "    </tr>\n",
       "    <tr>\n",
       "      <th>6899</th>\n",
       "      <td>236220.0</td>\n",
       "      <td>My business is a New York City construction bu...</td>\n",
       "      <td>23</td>\n",
       "      <td>business New York City construction business m...</td>\n",
       "    </tr>\n",
       "    <tr>\n",
       "      <th>1736</th>\n",
       "      <td>238330.0</td>\n",
       "      <td>BT Flooring Solutions furnishes and installs f...</td>\n",
       "      <td>23</td>\n",
       "      <td>BT Flooring Solutions furnish install flooring...</td>\n",
       "    </tr>\n",
       "    <tr>\n",
       "      <th>5549</th>\n",
       "      <td>238330.0</td>\n",
       "      <td>Commercial flooring contractor</td>\n",
       "      <td>23</td>\n",
       "      <td>commercial flooring contractor</td>\n",
       "    </tr>\n",
       "    <tr>\n",
       "      <th>1448</th>\n",
       "      <td>485320.0</td>\n",
       "      <td>Big Apple Car transports its customers/clients...</td>\n",
       "      <td>48</td>\n",
       "      <td>Big Apple Car transport customer client safe c...</td>\n",
       "    </tr>\n",
       "  </tbody>\n",
       "</table>\n",
       "<p>1480 rows × 4 columns</p>\n",
       "</div>"
      ],
      "text/plain": [
       "          NAICS                               BUSINESS_DESCRIPTION  NAICS_2  \\\n",
       "10651  445110.0  TS QUEENSLAND LLC, is a supermarket located in...       44   \n",
       "4538   424410.0  Heavenly Exports, LLC supplies adequate food p...       42   \n",
       "1274   424430.0  Distributor of dairy and other food products t...       42   \n",
       "567    722511.0  Provider of Food and Groceries both over the c...       72   \n",
       "8960   424480.0  Russo Produce sells produce i.e. fruits, veget...       42   \n",
       "...         ...                                                ...      ...   \n",
       "3615   238330.0  Exceed Flooring supplies and installs commerci...       23   \n",
       "6899   236220.0  My business is a New York City construction bu...       23   \n",
       "1736   238330.0  BT Flooring Solutions furnishes and installs f...       23   \n",
       "5549   238330.0                     Commercial flooring contractor       23   \n",
       "1448   485320.0  Big Apple Car transports its customers/clients...       48   \n",
       "\n",
       "                                PREPROCESSED_DESCRIPTION  \n",
       "10651  TS QUEENSLAND LLC supermarket locate Bronx ope...  \n",
       "4538   Heavenly Exports LLC supply adequate food prod...  \n",
       "1274   distributor dairy food product bodega restaura...  \n",
       "567    provider food grocery counter online delivery ...  \n",
       "8960   Russo Produce sell produce i.e. fruit vegetabl...  \n",
       "...                                                  ...  \n",
       "3615   Exceed Flooring supply install commercial floo...  \n",
       "6899   business New York City construction business m...  \n",
       "1736   BT Flooring Solutions furnish install flooring...  \n",
       "5549                      commercial flooring contractor  \n",
       "1448   Big Apple Car transport customer client safe c...  \n",
       "\n",
       "[1480 rows x 4 columns]"
      ]
     },
     "execution_count": 59,
     "metadata": {},
     "output_type": "execute_result"
    }
   ],
   "source": [
    "df_similar_44"
   ]
  },
  {
   "cell_type": "code",
   "execution_count": 93,
   "metadata": {},
   "outputs": [
    {
     "data": {
      "text/plain": [
       "'Asiri Convenience Store sells groceries, food and other items.'"
      ]
     },
     "execution_count": 93,
     "metadata": {},
     "output_type": "execute_result"
    }
   ],
   "source": [
    "df_similar_44[\"BUSINESS_DESCRIPTION\"].values[5]"
   ]
  },
  {
   "cell_type": "markdown",
   "metadata": {},
   "source": [
    "In this case, the descriptions in naics 44 (Retail Trade) are similar to the descriptions in naics 23 (Manufacturing) and naics 42 (Wholesale Trade). It is strange that the descriptions in naics 44 are not similar to the descriptions in naics 45 (Retail Trade) which is in the same correct classification for this naics.\n"
   ]
  },
  {
   "cell_type": "markdown",
   "metadata": {},
   "source": [
    "Finaly, let's see what happens with naics 33\n"
   ]
  },
  {
   "cell_type": "code",
   "execution_count": 60,
   "metadata": {},
   "outputs": [],
   "source": [
    "X_33 = X[df[\"NAICS_2\"] == 33]"
   ]
  },
  {
   "cell_type": "code",
   "execution_count": 61,
   "metadata": {},
   "outputs": [],
   "source": [
    "cosine_sim_33 = cosine_similarity(X_33, X)"
   ]
  },
  {
   "cell_type": "code",
   "execution_count": 62,
   "metadata": {},
   "outputs": [],
   "source": [
    "similar_33 = []\n",
    "for i in range(len(cosine_sim_33)):\n",
    "    similar_33.append(get_similar_docs(df, cosine_sim_33, i, top_n=10))\n",
    "\n",
    "df_similar_33 = pd.concat(similar_33)"
   ]
  },
  {
   "cell_type": "code",
   "execution_count": 63,
   "metadata": {},
   "outputs": [
    {
     "data": {
      "text/plain": [
       "NAICS_2\n",
       "33    2297\n",
       "23    1530\n",
       "54     670\n",
       "42     660\n",
       "81     256\n",
       "56     238\n",
       "62     193\n",
       "32     184\n",
       "44     173\n",
       "45     106\n",
       "31      81\n",
       "53      81\n",
       "48      72\n",
       "61      71\n",
       "51      70\n",
       "71      36\n",
       "72      28\n",
       "22      24\n",
       "49      21\n",
       "52      12\n",
       "92       8\n",
       "21       5\n",
       "55       2\n",
       "11       2\n",
       "Name: count, dtype: int64"
      ]
     },
     "execution_count": 63,
     "metadata": {},
     "output_type": "execute_result"
    }
   ],
   "source": [
    "df_similar_33[\"NAICS_2\"].value_counts()"
   ]
  },
  {
   "cell_type": "markdown",
   "metadata": {},
   "source": [
    "For naics 33 (Manufacturing), the descriptions are similar to the descriptions in naics 23 (Construction) primarily. This shows that the descriptions in naics 33 are not very specific and can be applied to a wide range of businesses or that these businesses are wrongly classified.\n",
    "\n",
    "In addition, this naics is classified in the same category as naics 31 and naics 32, but the descriptions seem to be not very similar to each other.\n"
   ]
  },
  {
   "cell_type": "markdown",
   "metadata": {},
   "source": [
    "## Descriptions length\n"
   ]
  },
  {
   "cell_type": "markdown",
   "metadata": {},
   "source": [
    "In order to see if there are problems related to the length of the descriptions, let's calculate the number of words of all descriptions and analyze the distribution of the lengths.\n"
   ]
  },
  {
   "cell_type": "code",
   "execution_count": 64,
   "metadata": {},
   "outputs": [],
   "source": [
    "df[\"DESCRIPTION_LENGTH\"] = df[\"BUSINESS_DESCRIPTION\"].apply(lambda x: len(x.split()))"
   ]
  },
  {
   "cell_type": "code",
   "execution_count": 65,
   "metadata": {},
   "outputs": [],
   "source": [
    "df[\"PREPROCESSED_DESCRIPTION_LENGTH\"] = df[\"PREPROCESSED_DESCRIPTION\"].apply(\n",
    "    lambda x: len(x.split())\n",
    ")"
   ]
  },
  {
   "cell_type": "code",
   "execution_count": 66,
   "metadata": {},
   "outputs": [
    {
     "data": {
      "text/plain": [
       "count    14175.000000\n",
       "mean        42.998942\n",
       "std         56.405045\n",
       "min          1.000000\n",
       "25%         13.000000\n",
       "50%         26.000000\n",
       "75%         51.000000\n",
       "max        812.000000\n",
       "Name: DESCRIPTION_LENGTH, dtype: float64"
      ]
     },
     "execution_count": 66,
     "metadata": {},
     "output_type": "execute_result"
    }
   ],
   "source": [
    "df[\"DESCRIPTION_LENGTH\"].describe()"
   ]
  },
  {
   "cell_type": "markdown",
   "metadata": {},
   "source": [
    "A fourth part of the descriptions are shorter than 14 words. This could be a problem because the descriptions are too short to be able to classify them correctly.\n"
   ]
  },
  {
   "cell_type": "markdown",
   "metadata": {},
   "source": [
    "A 13 words description looks like this:\n",
    "\n",
    "Multi-faceted, multi media company, providing a wide array of photography and videography services.\n"
   ]
  },
  {
   "cell_type": "markdown",
   "metadata": {},
   "source": [
    "A 26 words description looks like this:\n",
    "\n",
    "We sell electrical equipment such as conduit, cables, panelboards, EV chargers, wires, conduit fittings, junction boxes,\\ntransformers, substation equipment, lighting, etc. to electrical contractors and manufacturers.\n"
   ]
  },
  {
   "cell_type": "markdown",
   "metadata": {},
   "source": [
    "A 51 words description looks like this:\n",
    "\n",
    "Here at 4USIS LLC we provide an elite janitorial experience, including but not limited to construction clean up, commercial business account monthly cleans, event clean ups, bathroom attendants, strip and wax jobs (big and small), window washing, power washing, carpet and upholstery clean and all things in between to satisfy clients.\n"
   ]
  },
  {
   "cell_type": "markdown",
   "metadata": {},
   "source": [
    "Even 26 words seem to be too short to be able to classify the description correctly in a naics code, as there are many different businesses that could have a similar description classified in different naics codes.\n",
    "\n",
    "This quantity represents the 50% of the descriptions, so it is a big problem.\n"
   ]
  },
  {
   "cell_type": "code",
   "execution_count": 67,
   "metadata": {},
   "outputs": [],
   "source": [
    "df_short_length = df[df[\"DESCRIPTION_LENGTH\"] < 250]"
   ]
  },
  {
   "cell_type": "code",
   "execution_count": 68,
   "metadata": {},
   "outputs": [
    {
     "data": {
      "image/png": "[encoded data removed]",
      "text/plain": [
       "<Figure size 640x480 with 1 Axes>"
      ]
     },
     "metadata": {},
     "output_type": "display_data"
    }
   ],
   "source": [
    "# plot histogram for description length\n",
    "import matplotlib.pyplot as plt\n",
    "\n",
    "plt.hist(df_short_length[\"DESCRIPTION_LENGTH\"], bins=100)\n",
    "plt.title(\"Distribution of description length (number of words)\")\n",
    "plt.xlabel(\"Description Length\")\n",
    "plt.ylabel(\"Frequency\")\n",
    "plt.show()"
   ]
  }
 ],
 "metadata": {
  "kernelspec": {
   "display_name": "zrive-ds-ZlIsFOKS-py3.11",
   "language": "python",
   "name": "python3"
  },
  "language_info": {
   "codemirror_mode": {
    "name": "ipython",
    "version": 3
   },
   "file_extension": ".py",
   "mimetype": "text/x-python",
   "name": "python",
   "nbconvert_exporter": "python",
   "pygments_lexer": "ipython3",
   "version": "3.11.0"
  }
 },
 "nbformat": 4,
 "nbformat_minor": 2
}
